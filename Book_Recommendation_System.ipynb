{
  "nbformat": 4,
  "nbformat_minor": 0,
  "metadata": {
    "colab": {
      "provenance": [],
      "authorship_tag": "ABX9TyPcRIy7SmsK22ujsxaR8Fuk",
      "include_colab_link": true
    },
    "kernelspec": {
      "name": "python3",
      "display_name": "Python 3"
    },
    "language_info": {
      "name": "python"
    }
  },
  "cells": [
    {
      "cell_type": "markdown",
      "metadata": {
        "id": "view-in-github",
        "colab_type": "text"
      },
      "source": [
        "<a href=\"https://colab.research.google.com/github/mukteshsingh95/Book-Recommendation-System/blob/main/Book_Recommendation_System.ipynb\" target=\"_parent\"><img src=\"https://colab.research.google.com/assets/colab-badge.svg\" alt=\"Open In Colab\"/></a>"
      ]
    },
    {
      "cell_type": "code",
      "execution_count": 1,
      "metadata": {
        "id": "9nmPGZ24v9Fe",
        "colab": {
          "base_uri": "https://localhost:8080/"
        },
        "outputId": "d2951c46-e2a4-4116-bdd3-ce8837c00c52"
      },
      "outputs": [
        {
          "output_type": "stream",
          "name": "stdout",
          "text": [
            "Looking in indexes: https://pypi.org/simple, https://us-python.pkg.dev/colab-wheels/public/simple/\n",
            "Collecting recmetrics\n",
            "  Downloading recmetrics-0.1.5-py3-none-any.whl (9.3 kB)\n",
            "Collecting plotly<5.0.0,>=4.11.0\n",
            "  Downloading plotly-4.14.3-py2.py3-none-any.whl (13.2 MB)\n",
            "\u001b[2K     \u001b[90m━━━━━━━━━━━━━━━━━━━━━━━━━━━━━━━━━━━━━━━━\u001b[0m \u001b[32m13.2/13.2 MB\u001b[0m \u001b[31m47.4 MB/s\u001b[0m eta \u001b[36m0:00:00\u001b[0m\n",
            "\u001b[?25hRequirement already satisfied: scikit-learn<2.0.0,>=1.0.2 in /usr/local/lib/python3.9/dist-packages (from recmetrics) (1.2.1)\n",
            "Collecting funcsigs<2.0.0,>=1.0.2\n",
            "  Downloading funcsigs-1.0.2-py2.py3-none-any.whl (17 kB)\n",
            "Requirement already satisfied: seaborn<0.12.0,>=0.11.0 in /usr/local/lib/python3.9/dist-packages (from recmetrics) (0.11.2)\n",
            "Requirement already satisfied: pandas<2.0.0,>=1.1.3 in /usr/local/lib/python3.9/dist-packages (from recmetrics) (1.3.5)\n",
            "Collecting twine<5.0.0,>=4.0.0\n",
            "  Downloading twine-4.0.2-py3-none-any.whl (36 kB)\n",
            "Collecting ipython<8.0.0,>=7.18.1\n",
            "  Downloading ipython-7.34.0-py3-none-any.whl (793 kB)\n",
            "\u001b[2K     \u001b[90m━━━━━━━━━━━━━━━━━━━━━━━━━━━━━━━━━━━━━━\u001b[0m \u001b[32m793.8/793.8 KB\u001b[0m \u001b[31m27.2 MB/s\u001b[0m eta \u001b[36m0:00:00\u001b[0m\n",
            "\u001b[?25hRequirement already satisfied: matplotlib<4.0.0,>=3.3.2 in /usr/local/lib/python3.9/dist-packages (from recmetrics) (3.5.3)\n",
            "Collecting pytest-cov<3.0.0,>=2.10.1\n",
            "  Downloading pytest_cov-2.12.1-py2.py3-none-any.whl (20 kB)\n",
            "Requirement already satisfied: scipy<2.0.0,>=1.5.2 in /usr/local/lib/python3.9/dist-packages (from recmetrics) (1.10.1)\n",
            "Collecting jupyter<2.0.0,>=1.0.0\n",
            "  Downloading jupyter-1.0.0-py2.py3-none-any.whl (2.7 kB)\n",
            "Collecting matplotlib-inline\n",
            "  Downloading matplotlib_inline-0.1.6-py3-none-any.whl (9.4 kB)\n",
            "Requirement already satisfied: pexpect>4.3 in /usr/local/lib/python3.9/dist-packages (from ipython<8.0.0,>=7.18.1->recmetrics) (4.8.0)\n",
            "Collecting jedi>=0.16\n",
            "  Downloading jedi-0.18.2-py2.py3-none-any.whl (1.6 MB)\n",
            "\u001b[2K     \u001b[90m━━━━━━━━━━━━━━━━━━━━━━━━━━━━━━━━━━━━━━━━\u001b[0m \u001b[32m1.6/1.6 MB\u001b[0m \u001b[31m34.5 MB/s\u001b[0m eta \u001b[36m0:00:00\u001b[0m\n",
            "\u001b[?25hRequirement already satisfied: prompt-toolkit!=3.0.0,!=3.0.1,<3.1.0,>=2.0.0 in /usr/local/lib/python3.9/dist-packages (from ipython<8.0.0,>=7.18.1->recmetrics) (2.0.10)\n",
            "Requirement already satisfied: backcall in /usr/local/lib/python3.9/dist-packages (from ipython<8.0.0,>=7.18.1->recmetrics) (0.2.0)\n",
            "Requirement already satisfied: pygments in /usr/local/lib/python3.9/dist-packages (from ipython<8.0.0,>=7.18.1->recmetrics) (2.6.1)\n",
            "Requirement already satisfied: decorator in /usr/local/lib/python3.9/dist-packages (from ipython<8.0.0,>=7.18.1->recmetrics) (4.4.2)\n",
            "Requirement already satisfied: traitlets>=4.2 in /usr/local/lib/python3.9/dist-packages (from ipython<8.0.0,>=7.18.1->recmetrics) (5.7.1)\n",
            "Requirement already satisfied: setuptools>=18.5 in /usr/local/lib/python3.9/dist-packages (from ipython<8.0.0,>=7.18.1->recmetrics) (57.4.0)\n",
            "Requirement already satisfied: pickleshare in /usr/local/lib/python3.9/dist-packages (from ipython<8.0.0,>=7.18.1->recmetrics) (0.7.5)\n",
            "Requirement already satisfied: ipywidgets in /usr/local/lib/python3.9/dist-packages (from jupyter<2.0.0,>=1.0.0->recmetrics) (7.7.1)\n",
            "Requirement already satisfied: jupyter-console in /usr/local/lib/python3.9/dist-packages (from jupyter<2.0.0,>=1.0.0->recmetrics) (6.1.0)\n",
            "Collecting qtconsole\n",
            "  Downloading qtconsole-5.4.1-py3-none-any.whl (120 kB)\n",
            "\u001b[2K     \u001b[90m━━━━━━━━━━━━━━━━━━━━━━━━━━━━━━━━━━━━━━━\u001b[0m \u001b[32m120.9/120.9 KB\u001b[0m \u001b[31m8.8 MB/s\u001b[0m eta \u001b[36m0:00:00\u001b[0m\n",
            "\u001b[?25hRequirement already satisfied: notebook in /usr/local/lib/python3.9/dist-packages (from jupyter<2.0.0,>=1.0.0->recmetrics) (6.3.0)\n",
            "Requirement already satisfied: nbconvert in /usr/local/lib/python3.9/dist-packages (from jupyter<2.0.0,>=1.0.0->recmetrics) (6.5.4)\n",
            "Requirement already satisfied: ipykernel in /usr/local/lib/python3.9/dist-packages (from jupyter<2.0.0,>=1.0.0->recmetrics) (5.3.4)\n",
            "Requirement already satisfied: packaging>=20.0 in /usr/local/lib/python3.9/dist-packages (from matplotlib<4.0.0,>=3.3.2->recmetrics) (23.0)\n",
            "Requirement already satisfied: pillow>=6.2.0 in /usr/local/lib/python3.9/dist-packages (from matplotlib<4.0.0,>=3.3.2->recmetrics) (8.4.0)\n",
            "Requirement already satisfied: fonttools>=4.22.0 in /usr/local/lib/python3.9/dist-packages (from matplotlib<4.0.0,>=3.3.2->recmetrics) (4.39.0)\n",
            "Requirement already satisfied: kiwisolver>=1.0.1 in /usr/local/lib/python3.9/dist-packages (from matplotlib<4.0.0,>=3.3.2->recmetrics) (1.4.4)\n",
            "Requirement already satisfied: cycler>=0.10 in /usr/local/lib/python3.9/dist-packages (from matplotlib<4.0.0,>=3.3.2->recmetrics) (0.11.0)\n",
            "Requirement already satisfied: pyparsing>=2.2.1 in /usr/local/lib/python3.9/dist-packages (from matplotlib<4.0.0,>=3.3.2->recmetrics) (3.0.9)\n",
            "Requirement already satisfied: numpy>=1.17 in /usr/local/lib/python3.9/dist-packages (from matplotlib<4.0.0,>=3.3.2->recmetrics) (1.22.4)\n",
            "Requirement already satisfied: python-dateutil>=2.7 in /usr/local/lib/python3.9/dist-packages (from matplotlib<4.0.0,>=3.3.2->recmetrics) (2.8.2)\n",
            "Requirement already satisfied: pytz>=2017.3 in /usr/local/lib/python3.9/dist-packages (from pandas<2.0.0,>=1.1.3->recmetrics) (2022.7.1)\n",
            "Requirement already satisfied: six in /usr/local/lib/python3.9/dist-packages (from plotly<5.0.0,>=4.11.0->recmetrics) (1.15.0)\n",
            "Collecting retrying>=1.3.3\n",
            "  Downloading retrying-1.3.4-py3-none-any.whl (11 kB)\n",
            "Collecting coverage>=5.2.1\n",
            "  Downloading coverage-7.2.1-cp39-cp39-manylinux_2_5_x86_64.manylinux1_x86_64.manylinux_2_17_x86_64.manylinux2014_x86_64.whl (226 kB)\n",
            "\u001b[2K     \u001b[90m━━━━━━━━━━━━━━━━━━━━━━━━━━━━━━━━━━━━━━━\u001b[0m \u001b[32m226.9/226.9 KB\u001b[0m \u001b[31m3.3 MB/s\u001b[0m eta \u001b[36m0:00:00\u001b[0m\n",
            "\u001b[?25hCollecting pytest>=4.6\n",
            "  Downloading pytest-7.2.2-py3-none-any.whl (317 kB)\n",
            "\u001b[2K     \u001b[90m━━━━━━━━━━━━━━━━━━━━━━━━━━━━━━━━━━━━━━\u001b[0m \u001b[32m317.2/317.2 KB\u001b[0m \u001b[31m16.7 MB/s\u001b[0m eta \u001b[36m0:00:00\u001b[0m\n",
            "\u001b[?25hRequirement already satisfied: toml in /usr/local/lib/python3.9/dist-packages (from pytest-cov<3.0.0,>=2.10.1->recmetrics) (0.10.2)\n",
            "Requirement already satisfied: joblib>=1.1.1 in /usr/local/lib/python3.9/dist-packages (from scikit-learn<2.0.0,>=1.0.2->recmetrics) (1.2.0)\n",
            "Requirement already satisfied: threadpoolctl>=2.0.0 in /usr/local/lib/python3.9/dist-packages (from scikit-learn<2.0.0,>=1.0.2->recmetrics) (3.1.0)\n",
            "Collecting pkginfo>=1.8.1\n",
            "  Downloading pkginfo-1.9.6-py3-none-any.whl (30 kB)\n",
            "Collecting requests-toolbelt!=0.9.0,>=0.8.0\n",
            "  Downloading requests_toolbelt-0.10.1-py2.py3-none-any.whl (54 kB)\n",
            "\u001b[2K     \u001b[90m━━━━━━━━━━━━━━━━━━━━━━━━━━━━━━━━━━━━━━━━\u001b[0m \u001b[32m54.5/54.5 KB\u001b[0m \u001b[31m3.5 MB/s\u001b[0m eta \u001b[36m0:00:00\u001b[0m\n",
            "\u001b[?25hCollecting keyring>=15.1\n",
            "  Downloading keyring-23.13.1-py3-none-any.whl (37 kB)\n",
            "Collecting rfc3986>=1.4.0\n",
            "  Downloading rfc3986-2.0.0-py2.py3-none-any.whl (31 kB)\n",
            "Requirement already satisfied: urllib3>=1.26.0 in /usr/local/lib/python3.9/dist-packages (from twine<5.0.0,>=4.0.0->recmetrics) (1.26.14)\n",
            "Requirement already satisfied: requests>=2.20 in /usr/local/lib/python3.9/dist-packages (from twine<5.0.0,>=4.0.0->recmetrics) (2.25.1)\n",
            "Collecting readme-renderer>=35.0\n",
            "  Downloading readme_renderer-37.3-py3-none-any.whl (14 kB)\n",
            "Collecting rich>=12.0.0\n",
            "  Downloading rich-13.3.2-py3-none-any.whl (238 kB)\n",
            "\u001b[2K     \u001b[90m━━━━━━━━━━━━━━━━━━━━━━━━━━━━━━━━━━━━━━\u001b[0m \u001b[32m238.7/238.7 KB\u001b[0m \u001b[31m17.3 MB/s\u001b[0m eta \u001b[36m0:00:00\u001b[0m\n",
            "\u001b[?25hRequirement already satisfied: importlib-metadata>=3.6 in /usr/local/lib/python3.9/dist-packages (from twine<5.0.0,>=4.0.0->recmetrics) (6.0.0)\n",
            "Requirement already satisfied: zipp>=0.5 in /usr/local/lib/python3.9/dist-packages (from importlib-metadata>=3.6->twine<5.0.0,>=4.0.0->recmetrics) (3.15.0)\n",
            "Requirement already satisfied: parso<0.9.0,>=0.8.0 in /usr/local/lib/python3.9/dist-packages (from jedi>=0.16->ipython<8.0.0,>=7.18.1->recmetrics) (0.8.3)\n",
            "Collecting jaraco.classes\n",
            "  Downloading jaraco.classes-3.2.3-py3-none-any.whl (6.0 kB)\n",
            "Collecting jeepney>=0.4.2\n",
            "  Downloading jeepney-0.8.0-py3-none-any.whl (48 kB)\n",
            "\u001b[2K     \u001b[90m━━━━━━━━━━━━━━━━━━━━━━━━━━━━━━━━━━━━━━━━\u001b[0m \u001b[32m48.4/48.4 KB\u001b[0m \u001b[31m2.2 MB/s\u001b[0m eta \u001b[36m0:00:00\u001b[0m\n",
            "\u001b[?25hCollecting SecretStorage>=3.2\n",
            "  Downloading SecretStorage-3.3.3-py3-none-any.whl (15 kB)\n",
            "Requirement already satisfied: ptyprocess>=0.5 in /usr/local/lib/python3.9/dist-packages (from pexpect>4.3->ipython<8.0.0,>=7.18.1->recmetrics) (0.7.0)\n",
            "Requirement already satisfied: wcwidth in /usr/local/lib/python3.9/dist-packages (from prompt-toolkit!=3.0.0,!=3.0.1,<3.1.0,>=2.0.0->ipython<8.0.0,>=7.18.1->recmetrics) (0.2.6)\n",
            "Requirement already satisfied: tomli>=1.0.0 in /usr/local/lib/python3.9/dist-packages (from pytest>=4.6->pytest-cov<3.0.0,>=2.10.1->recmetrics) (2.0.1)\n",
            "Requirement already satisfied: attrs>=19.2.0 in /usr/local/lib/python3.9/dist-packages (from pytest>=4.6->pytest-cov<3.0.0,>=2.10.1->recmetrics) (22.2.0)\n",
            "Collecting pluggy<2.0,>=0.12\n",
            "  Downloading pluggy-1.0.0-py2.py3-none-any.whl (13 kB)\n",
            "Collecting exceptiongroup>=1.0.0rc8\n",
            "  Downloading exceptiongroup-1.1.0-py3-none-any.whl (14 kB)\n",
            "Collecting iniconfig\n",
            "  Downloading iniconfig-2.0.0-py3-none-any.whl (5.9 kB)\n",
            "Requirement already satisfied: bleach>=2.1.0 in /usr/local/lib/python3.9/dist-packages (from readme-renderer>=35.0->twine<5.0.0,>=4.0.0->recmetrics) (6.0.0)\n",
            "Requirement already satisfied: docutils>=0.13.1 in /usr/local/lib/python3.9/dist-packages (from readme-renderer>=35.0->twine<5.0.0,>=4.0.0->recmetrics) (0.16)\n",
            "Requirement already satisfied: certifi>=2017.4.17 in /usr/local/lib/python3.9/dist-packages (from requests>=2.20->twine<5.0.0,>=4.0.0->recmetrics) (2022.12.7)\n",
            "Requirement already satisfied: chardet<5,>=3.0.2 in /usr/local/lib/python3.9/dist-packages (from requests>=2.20->twine<5.0.0,>=4.0.0->recmetrics) (4.0.0)\n",
            "Requirement already satisfied: idna<3,>=2.5 in /usr/local/lib/python3.9/dist-packages (from requests>=2.20->twine<5.0.0,>=4.0.0->recmetrics) (2.10)\n",
            "Collecting pygments\n",
            "  Downloading Pygments-2.14.0-py3-none-any.whl (1.1 MB)\n",
            "\u001b[2K     \u001b[90m━━━━━━━━━━━━━━━━━━━━━━━━━━━━━━━━━━━━━━━━\u001b[0m \u001b[32m1.1/1.1 MB\u001b[0m \u001b[31m25.9 MB/s\u001b[0m eta \u001b[36m0:00:00\u001b[0m\n",
            "\u001b[?25hCollecting markdown-it-py<3.0.0,>=2.2.0\n",
            "  Downloading markdown_it_py-2.2.0-py3-none-any.whl (84 kB)\n",
            "\u001b[2K     \u001b[90m━━━━━━━━━━━━━━━━━━━━━━━━━━━━━━━━━━━━━━━━\u001b[0m \u001b[32m84.5/84.5 KB\u001b[0m \u001b[31m6.6 MB/s\u001b[0m eta \u001b[36m0:00:00\u001b[0m\n",
            "\u001b[?25hRequirement already satisfied: jupyter-client in /usr/local/lib/python3.9/dist-packages (from ipykernel->jupyter<2.0.0,>=1.0.0->recmetrics) (6.1.12)\n",
            "Requirement already satisfied: tornado>=4.2 in /usr/local/lib/python3.9/dist-packages (from ipykernel->jupyter<2.0.0,>=1.0.0->recmetrics) (6.2)\n",
            "Requirement already satisfied: widgetsnbextension~=3.6.0 in /usr/local/lib/python3.9/dist-packages (from ipywidgets->jupyter<2.0.0,>=1.0.0->recmetrics) (3.6.2)\n",
            "Requirement already satisfied: ipython-genutils~=0.2.0 in /usr/local/lib/python3.9/dist-packages (from ipywidgets->jupyter<2.0.0,>=1.0.0->recmetrics) (0.2.0)\n",
            "Requirement already satisfied: jupyterlab-widgets>=1.0.0 in /usr/local/lib/python3.9/dist-packages (from ipywidgets->jupyter<2.0.0,>=1.0.0->recmetrics) (3.0.5)\n",
            "Requirement already satisfied: jinja2>=3.0 in /usr/local/lib/python3.9/dist-packages (from nbconvert->jupyter<2.0.0,>=1.0.0->recmetrics) (3.1.2)\n",
            "Requirement already satisfied: jupyterlab-pygments in /usr/local/lib/python3.9/dist-packages (from nbconvert->jupyter<2.0.0,>=1.0.0->recmetrics) (0.2.2)\n",
            "Requirement already satisfied: beautifulsoup4 in /usr/local/lib/python3.9/dist-packages (from nbconvert->jupyter<2.0.0,>=1.0.0->recmetrics) (4.6.3)\n",
            "Requirement already satisfied: entrypoints>=0.2.2 in /usr/local/lib/python3.9/dist-packages (from nbconvert->jupyter<2.0.0,>=1.0.0->recmetrics) (0.4)\n",
            "Requirement already satisfied: jupyter-core>=4.7 in /usr/local/lib/python3.9/dist-packages (from nbconvert->jupyter<2.0.0,>=1.0.0->recmetrics) (5.2.0)\n",
            "Requirement already satisfied: tinycss2 in /usr/local/lib/python3.9/dist-packages (from nbconvert->jupyter<2.0.0,>=1.0.0->recmetrics) (1.2.1)\n",
            "Requirement already satisfied: MarkupSafe>=2.0 in /usr/local/lib/python3.9/dist-packages (from nbconvert->jupyter<2.0.0,>=1.0.0->recmetrics) (2.1.2)\n",
            "Requirement already satisfied: nbformat>=5.1 in /usr/local/lib/python3.9/dist-packages (from nbconvert->jupyter<2.0.0,>=1.0.0->recmetrics) (5.7.3)\n",
            "Requirement already satisfied: mistune<2,>=0.8.1 in /usr/local/lib/python3.9/dist-packages (from nbconvert->jupyter<2.0.0,>=1.0.0->recmetrics) (0.8.4)\n",
            "Requirement already satisfied: lxml in /usr/local/lib/python3.9/dist-packages (from nbconvert->jupyter<2.0.0,>=1.0.0->recmetrics) (4.9.2)\n",
            "Requirement already satisfied: defusedxml in /usr/local/lib/python3.9/dist-packages (from nbconvert->jupyter<2.0.0,>=1.0.0->recmetrics) (0.7.1)\n",
            "Requirement already satisfied: nbclient>=0.5.0 in /usr/local/lib/python3.9/dist-packages (from nbconvert->jupyter<2.0.0,>=1.0.0->recmetrics) (0.7.2)\n",
            "Requirement already satisfied: pandocfilters>=1.4.1 in /usr/local/lib/python3.9/dist-packages (from nbconvert->jupyter<2.0.0,>=1.0.0->recmetrics) (1.5.0)\n",
            "Requirement already satisfied: pyzmq>=17 in /usr/local/lib/python3.9/dist-packages (from notebook->jupyter<2.0.0,>=1.0.0->recmetrics) (23.2.1)\n",
            "Requirement already satisfied: prometheus-client in /usr/local/lib/python3.9/dist-packages (from notebook->jupyter<2.0.0,>=1.0.0->recmetrics) (0.16.0)\n",
            "Requirement already satisfied: argon2-cffi in /usr/local/lib/python3.9/dist-packages (from notebook->jupyter<2.0.0,>=1.0.0->recmetrics) (21.3.0)\n",
            "Requirement already satisfied: terminado>=0.8.3 in /usr/local/lib/python3.9/dist-packages (from notebook->jupyter<2.0.0,>=1.0.0->recmetrics) (0.17.1)\n",
            "Requirement already satisfied: Send2Trash>=1.5.0 in /usr/local/lib/python3.9/dist-packages (from notebook->jupyter<2.0.0,>=1.0.0->recmetrics) (1.8.0)\n",
            "Collecting qtpy>=2.0.1\n",
            "  Downloading QtPy-2.3.0-py3-none-any.whl (83 kB)\n",
            "\u001b[2K     \u001b[90m━━━━━━━━━━━━━━━━━━━━━━━━━━━━━━━━━━━━━━━━\u001b[0m \u001b[32m83.6/83.6 KB\u001b[0m \u001b[31m4.3 MB/s\u001b[0m eta \u001b[36m0:00:00\u001b[0m\n",
            "\u001b[?25hRequirement already satisfied: webencodings in /usr/local/lib/python3.9/dist-packages (from bleach>=2.1.0->readme-renderer>=35.0->twine<5.0.0,>=4.0.0->recmetrics) (0.5.1)\n",
            "Requirement already satisfied: platformdirs>=2.5 in /usr/local/lib/python3.9/dist-packages (from jupyter-core>=4.7->nbconvert->jupyter<2.0.0,>=1.0.0->recmetrics) (3.1.0)\n",
            "Collecting mdurl~=0.1\n",
            "  Downloading mdurl-0.1.2-py3-none-any.whl (10.0 kB)\n",
            "Requirement already satisfied: jsonschema>=2.6 in /usr/local/lib/python3.9/dist-packages (from nbformat>=5.1->nbconvert->jupyter<2.0.0,>=1.0.0->recmetrics) (4.3.3)\n",
            "Requirement already satisfied: fastjsonschema in /usr/local/lib/python3.9/dist-packages (from nbformat>=5.1->nbconvert->jupyter<2.0.0,>=1.0.0->recmetrics) (2.16.3)\n",
            "Collecting cryptography>=2.0\n",
            "  Downloading cryptography-39.0.2-cp36-abi3-manylinux_2_28_x86_64.whl (4.2 MB)\n",
            "\u001b[2K     \u001b[90m━━━━━━━━━━━━━━━━━━━━━━━━━━━━━━━━━━━━━━━━\u001b[0m \u001b[32m4.2/4.2 MB\u001b[0m \u001b[31m27.5 MB/s\u001b[0m eta \u001b[36m0:00:00\u001b[0m\n",
            "\u001b[?25hRequirement already satisfied: argon2-cffi-bindings in /usr/local/lib/python3.9/dist-packages (from argon2-cffi->notebook->jupyter<2.0.0,>=1.0.0->recmetrics) (21.2.0)\n",
            "Requirement already satisfied: more-itertools in /usr/local/lib/python3.9/dist-packages (from jaraco.classes->keyring>=15.1->twine<5.0.0,>=4.0.0->recmetrics) (9.1.0)\n",
            "Requirement already satisfied: cffi>=1.12 in /usr/local/lib/python3.9/dist-packages (from cryptography>=2.0->SecretStorage>=3.2->keyring>=15.1->twine<5.0.0,>=4.0.0->recmetrics) (1.15.1)\n",
            "Requirement already satisfied: pyrsistent!=0.17.0,!=0.17.1,!=0.17.2,>=0.14.0 in /usr/local/lib/python3.9/dist-packages (from jsonschema>=2.6->nbformat>=5.1->nbconvert->jupyter<2.0.0,>=1.0.0->recmetrics) (0.19.3)\n",
            "Requirement already satisfied: pycparser in /usr/local/lib/python3.9/dist-packages (from cffi>=1.12->cryptography>=2.0->SecretStorage>=3.2->keyring>=15.1->twine<5.0.0,>=4.0.0->recmetrics) (2.21)\n",
            "Installing collected packages: funcsigs, rfc3986, retrying, qtpy, pygments, pluggy, pkginfo, mdurl, matplotlib-inline, jeepney, jedi, jaraco.classes, iniconfig, exceptiongroup, coverage, requests-toolbelt, readme-renderer, pytest, plotly, markdown-it-py, ipython, cryptography, SecretStorage, rich, pytest-cov, qtconsole, keyring, twine, jupyter, recmetrics\n",
            "  Attempting uninstall: pygments\n",
            "    Found existing installation: Pygments 2.6.1\n",
            "    Uninstalling Pygments-2.6.1:\n",
            "      Successfully uninstalled Pygments-2.6.1\n",
            "  Attempting uninstall: pluggy\n",
            "    Found existing installation: pluggy 0.7.1\n",
            "    Uninstalling pluggy-0.7.1:\n",
            "      Successfully uninstalled pluggy-0.7.1\n",
            "  Attempting uninstall: pytest\n",
            "    Found existing installation: pytest 3.6.4\n",
            "    Uninstalling pytest-3.6.4:\n",
            "      Successfully uninstalled pytest-3.6.4\n",
            "  Attempting uninstall: plotly\n",
            "    Found existing installation: plotly 5.5.0\n",
            "    Uninstalling plotly-5.5.0:\n",
            "      Successfully uninstalled plotly-5.5.0\n",
            "  Attempting uninstall: ipython\n",
            "    Found existing installation: ipython 7.9.0\n",
            "    Uninstalling ipython-7.9.0:\n",
            "      Successfully uninstalled ipython-7.9.0\n",
            "\u001b[31mERROR: pip's dependency resolver does not currently take into account all the packages that are installed. This behaviour is the source of the following dependency conflicts.\n",
            "google-colab 1.0.0 requires ipython~=7.9.0, but you have ipython 7.34.0 which is incompatible.\u001b[0m\u001b[31m\n",
            "\u001b[0mSuccessfully installed SecretStorage-3.3.3 coverage-7.2.1 cryptography-39.0.2 exceptiongroup-1.1.0 funcsigs-1.0.2 iniconfig-2.0.0 ipython-7.34.0 jaraco.classes-3.2.3 jedi-0.18.2 jeepney-0.8.0 jupyter-1.0.0 keyring-23.13.1 markdown-it-py-2.2.0 matplotlib-inline-0.1.6 mdurl-0.1.2 pkginfo-1.9.6 plotly-4.14.3 pluggy-1.0.0 pygments-2.14.0 pytest-7.2.2 pytest-cov-2.12.1 qtconsole-5.4.1 qtpy-2.3.0 readme-renderer-37.3 recmetrics-0.1.5 requests-toolbelt-0.10.1 retrying-1.3.4 rfc3986-2.0.0 rich-13.3.2 twine-4.0.2\n"
          ]
        }
      ],
      "source": [
        "# Installing recmetrics package for model evaluation\n",
        "!pip install recmetrics"
      ]
    },
    {
      "cell_type": "code",
      "source": [
        "#import library\n",
        "import pandas as pd #for data manipulation and analysis\n",
        "import matplotlib.pyplot as plt # for data visualization and graphical plotting\n",
        "import seaborn as sns # for data visualization\n",
        "import numpy as np # for manipulation of multi-dimensional arrays and matrices\n",
        "import scipy # For metrics factorisation with svd\n",
        "from scipy.sparse.linalg import svds\n",
        "import re # For string manipulation\n",
        "from IPython.display import display, Image # For displaying image\n",
        "from sklearn.metrics.pairwise import cosine_similarity # For calculating cosine similarity \n",
        "import warnings \n",
        "import recmetrics\n",
        "warnings.filterwarnings(\"ignore\")"
      ],
      "metadata": {
        "id": "HI4IrGZ_CaKz"
      },
      "execution_count": 2,
      "outputs": []
    },
    {
      "cell_type": "code",
      "source": [
        "#mounting Drive\n",
        "from google.colab import drive\n",
        "drive.mount('/content/drive')"
      ],
      "metadata": {
        "colab": {
          "base_uri": "https://localhost:8080/"
        },
        "id": "30u0g9-AwR9u",
        "outputId": "fdff7d48-670e-48e7-eae9-07cc0d0af3d5"
      },
      "execution_count": 3,
      "outputs": [
        {
          "output_type": "stream",
          "name": "stdout",
          "text": [
            "Mounted at /content/drive\n"
          ]
        }
      ]
    },
    {
      "cell_type": "code",
      "source": [
        "#loading dataset\n",
        "Book_df=pd.read_csv(\"/content/drive/MyDrive/DATA/Books.csv\")\n"
      ],
      "metadata": {
        "id": "ltTnfGpcwjAZ"
      },
      "execution_count": 4,
      "outputs": []
    },
    {
      "cell_type": "code",
      "source": [
        "Book_df.head()"
      ],
      "metadata": {
        "colab": {
          "base_uri": "https://localhost:8080/",
          "height": 478
        },
        "id": "sU_dI-QfUMrs",
        "outputId": "c8cc0543-1662-4d87-9c2f-a5d67586bf86"
      },
      "execution_count": 5,
      "outputs": [
        {
          "output_type": "execute_result",
          "data": {
            "text/plain": [
              "         ISBN                                         Book-Title  \\\n",
              "0  0195153448                                Classical Mythology   \n",
              "1  0002005018                                       Clara Callan   \n",
              "2  0060973129                               Decision in Normandy   \n",
              "3  0374157065  Flu: The Story of the Great Influenza Pandemic...   \n",
              "4  0393045218                             The Mummies of Urumchi   \n",
              "\n",
              "            Book-Author Year-Of-Publication                   Publisher  \\\n",
              "0    Mark P. O. Morford                2002     Oxford University Press   \n",
              "1  Richard Bruce Wright                2001       HarperFlamingo Canada   \n",
              "2          Carlo D'Este                1991             HarperPerennial   \n",
              "3      Gina Bari Kolata                1999        Farrar Straus Giroux   \n",
              "4       E. J. W. Barber                1999  W. W. Norton &amp; Company   \n",
              "\n",
              "                                         Image-URL-S  \\\n",
              "0  http://images.amazon.com/images/P/0195153448.0...   \n",
              "1  http://images.amazon.com/images/P/0002005018.0...   \n",
              "2  http://images.amazon.com/images/P/0060973129.0...   \n",
              "3  http://images.amazon.com/images/P/0374157065.0...   \n",
              "4  http://images.amazon.com/images/P/0393045218.0...   \n",
              "\n",
              "                                         Image-URL-M  \\\n",
              "0  http://images.amazon.com/images/P/0195153448.0...   \n",
              "1  http://images.amazon.com/images/P/0002005018.0...   \n",
              "2  http://images.amazon.com/images/P/0060973129.0...   \n",
              "3  http://images.amazon.com/images/P/0374157065.0...   \n",
              "4  http://images.amazon.com/images/P/0393045218.0...   \n",
              "\n",
              "                                         Image-URL-L  \n",
              "0  http://images.amazon.com/images/P/0195153448.0...  \n",
              "1  http://images.amazon.com/images/P/0002005018.0...  \n",
              "2  http://images.amazon.com/images/P/0060973129.0...  \n",
              "3  http://images.amazon.com/images/P/0374157065.0...  \n",
              "4  http://images.amazon.com/images/P/0393045218.0...  "
            ],
            "text/html": [
              "\n",
              "  <div id=\"df-a2c121a5-1fab-4916-9e28-9c0e96868a9d\">\n",
              "    <div class=\"colab-df-container\">\n",
              "      <div>\n",
              "<style scoped>\n",
              "    .dataframe tbody tr th:only-of-type {\n",
              "        vertical-align: middle;\n",
              "    }\n",
              "\n",
              "    .dataframe tbody tr th {\n",
              "        vertical-align: top;\n",
              "    }\n",
              "\n",
              "    .dataframe thead th {\n",
              "        text-align: right;\n",
              "    }\n",
              "</style>\n",
              "<table border=\"1\" class=\"dataframe\">\n",
              "  <thead>\n",
              "    <tr style=\"text-align: right;\">\n",
              "      <th></th>\n",
              "      <th>ISBN</th>\n",
              "      <th>Book-Title</th>\n",
              "      <th>Book-Author</th>\n",
              "      <th>Year-Of-Publication</th>\n",
              "      <th>Publisher</th>\n",
              "      <th>Image-URL-S</th>\n",
              "      <th>Image-URL-M</th>\n",
              "      <th>Image-URL-L</th>\n",
              "    </tr>\n",
              "  </thead>\n",
              "  <tbody>\n",
              "    <tr>\n",
              "      <th>0</th>\n",
              "      <td>0195153448</td>\n",
              "      <td>Classical Mythology</td>\n",
              "      <td>Mark P. O. Morford</td>\n",
              "      <td>2002</td>\n",
              "      <td>Oxford University Press</td>\n",
              "      <td>http://images.amazon.com/images/P/0195153448.0...</td>\n",
              "      <td>http://images.amazon.com/images/P/0195153448.0...</td>\n",
              "      <td>http://images.amazon.com/images/P/0195153448.0...</td>\n",
              "    </tr>\n",
              "    <tr>\n",
              "      <th>1</th>\n",
              "      <td>0002005018</td>\n",
              "      <td>Clara Callan</td>\n",
              "      <td>Richard Bruce Wright</td>\n",
              "      <td>2001</td>\n",
              "      <td>HarperFlamingo Canada</td>\n",
              "      <td>http://images.amazon.com/images/P/0002005018.0...</td>\n",
              "      <td>http://images.amazon.com/images/P/0002005018.0...</td>\n",
              "      <td>http://images.amazon.com/images/P/0002005018.0...</td>\n",
              "    </tr>\n",
              "    <tr>\n",
              "      <th>2</th>\n",
              "      <td>0060973129</td>\n",
              "      <td>Decision in Normandy</td>\n",
              "      <td>Carlo D'Este</td>\n",
              "      <td>1991</td>\n",
              "      <td>HarperPerennial</td>\n",
              "      <td>http://images.amazon.com/images/P/0060973129.0...</td>\n",
              "      <td>http://images.amazon.com/images/P/0060973129.0...</td>\n",
              "      <td>http://images.amazon.com/images/P/0060973129.0...</td>\n",
              "    </tr>\n",
              "    <tr>\n",
              "      <th>3</th>\n",
              "      <td>0374157065</td>\n",
              "      <td>Flu: The Story of the Great Influenza Pandemic...</td>\n",
              "      <td>Gina Bari Kolata</td>\n",
              "      <td>1999</td>\n",
              "      <td>Farrar Straus Giroux</td>\n",
              "      <td>http://images.amazon.com/images/P/0374157065.0...</td>\n",
              "      <td>http://images.amazon.com/images/P/0374157065.0...</td>\n",
              "      <td>http://images.amazon.com/images/P/0374157065.0...</td>\n",
              "    </tr>\n",
              "    <tr>\n",
              "      <th>4</th>\n",
              "      <td>0393045218</td>\n",
              "      <td>The Mummies of Urumchi</td>\n",
              "      <td>E. J. W. Barber</td>\n",
              "      <td>1999</td>\n",
              "      <td>W. W. Norton &amp;amp; Company</td>\n",
              "      <td>http://images.amazon.com/images/P/0393045218.0...</td>\n",
              "      <td>http://images.amazon.com/images/P/0393045218.0...</td>\n",
              "      <td>http://images.amazon.com/images/P/0393045218.0...</td>\n",
              "    </tr>\n",
              "  </tbody>\n",
              "</table>\n",
              "</div>\n",
              "      <button class=\"colab-df-convert\" onclick=\"convertToInteractive('df-a2c121a5-1fab-4916-9e28-9c0e96868a9d')\"\n",
              "              title=\"Convert this dataframe to an interactive table.\"\n",
              "              style=\"display:none;\">\n",
              "        \n",
              "  <svg xmlns=\"http://www.w3.org/2000/svg\" height=\"24px\"viewBox=\"0 0 24 24\"\n",
              "       width=\"24px\">\n",
              "    <path d=\"M0 0h24v24H0V0z\" fill=\"none\"/>\n",
              "    <path d=\"M18.56 5.44l.94 2.06.94-2.06 2.06-.94-2.06-.94-.94-2.06-.94 2.06-2.06.94zm-11 1L8.5 8.5l.94-2.06 2.06-.94-2.06-.94L8.5 2.5l-.94 2.06-2.06.94zm10 10l.94 2.06.94-2.06 2.06-.94-2.06-.94-.94-2.06-.94 2.06-2.06.94z\"/><path d=\"M17.41 7.96l-1.37-1.37c-.4-.4-.92-.59-1.43-.59-.52 0-1.04.2-1.43.59L10.3 9.45l-7.72 7.72c-.78.78-.78 2.05 0 2.83L4 21.41c.39.39.9.59 1.41.59.51 0 1.02-.2 1.41-.59l7.78-7.78 2.81-2.81c.8-.78.8-2.07 0-2.86zM5.41 20L4 18.59l7.72-7.72 1.47 1.35L5.41 20z\"/>\n",
              "  </svg>\n",
              "      </button>\n",
              "      \n",
              "  <style>\n",
              "    .colab-df-container {\n",
              "      display:flex;\n",
              "      flex-wrap:wrap;\n",
              "      gap: 12px;\n",
              "    }\n",
              "\n",
              "    .colab-df-convert {\n",
              "      background-color: #E8F0FE;\n",
              "      border: none;\n",
              "      border-radius: 50%;\n",
              "      cursor: pointer;\n",
              "      display: none;\n",
              "      fill: #1967D2;\n",
              "      height: 32px;\n",
              "      padding: 0 0 0 0;\n",
              "      width: 32px;\n",
              "    }\n",
              "\n",
              "    .colab-df-convert:hover {\n",
              "      background-color: #E2EBFA;\n",
              "      box-shadow: 0px 1px 2px rgba(60, 64, 67, 0.3), 0px 1px 3px 1px rgba(60, 64, 67, 0.15);\n",
              "      fill: #174EA6;\n",
              "    }\n",
              "\n",
              "    [theme=dark] .colab-df-convert {\n",
              "      background-color: #3B4455;\n",
              "      fill: #D2E3FC;\n",
              "    }\n",
              "\n",
              "    [theme=dark] .colab-df-convert:hover {\n",
              "      background-color: #434B5C;\n",
              "      box-shadow: 0px 1px 3px 1px rgba(0, 0, 0, 0.15);\n",
              "      filter: drop-shadow(0px 1px 2px rgba(0, 0, 0, 0.3));\n",
              "      fill: #FFFFFF;\n",
              "    }\n",
              "  </style>\n",
              "\n",
              "      <script>\n",
              "        const buttonEl =\n",
              "          document.querySelector('#df-a2c121a5-1fab-4916-9e28-9c0e96868a9d button.colab-df-convert');\n",
              "        buttonEl.style.display =\n",
              "          google.colab.kernel.accessAllowed ? 'block' : 'none';\n",
              "\n",
              "        async function convertToInteractive(key) {\n",
              "          const element = document.querySelector('#df-a2c121a5-1fab-4916-9e28-9c0e96868a9d');\n",
              "          const dataTable =\n",
              "            await google.colab.kernel.invokeFunction('convertToInteractive',\n",
              "                                                     [key], {});\n",
              "          if (!dataTable) return;\n",
              "\n",
              "          const docLinkHtml = 'Like what you see? Visit the ' +\n",
              "            '<a target=\"_blank\" href=https://colab.research.google.com/notebooks/data_table.ipynb>data table notebook</a>'\n",
              "            + ' to learn more about interactive tables.';\n",
              "          element.innerHTML = '';\n",
              "          dataTable['output_type'] = 'display_data';\n",
              "          await google.colab.output.renderOutput(dataTable, element);\n",
              "          const docLink = document.createElement('div');\n",
              "          docLink.innerHTML = docLinkHtml;\n",
              "          element.appendChild(docLink);\n",
              "        }\n",
              "      </script>\n",
              "    </div>\n",
              "  </div>\n",
              "  "
            ]
          },
          "metadata": {},
          "execution_count": 5
        }
      ]
    },
    {
      "cell_type": "code",
      "source": [
        "rating_df = pd.read_csv(\"/content/drive/MyDrive/DATA/Ratings[1].csv\")\n"
      ],
      "metadata": {
        "id": "OP2aLNUsWnFw"
      },
      "execution_count": 6,
      "outputs": []
    },
    {
      "cell_type": "code",
      "source": [
        "rating_df.head()"
      ],
      "metadata": {
        "colab": {
          "base_uri": "https://localhost:8080/",
          "height": 206
        },
        "id": "wUunrQLzX_Jb",
        "outputId": "81ec8612-eb21-47fe-dedf-d058e1147691"
      },
      "execution_count": null,
      "outputs": [
        {
          "output_type": "execute_result",
          "data": {
            "text/plain": [
              "   User-ID        ISBN  Book-Rating\n",
              "0   276725  034545104X            0\n",
              "1   276726  0155061224            5\n",
              "2   276727  0446520802            0\n",
              "3   276729  052165615X            3\n",
              "4   276729  0521795028            6"
            ],
            "text/html": [
              "\n",
              "  <div id=\"df-f1c015b7-6b2a-4d2c-97d6-82eab0cfdc41\">\n",
              "    <div class=\"colab-df-container\">\n",
              "      <div>\n",
              "<style scoped>\n",
              "    .dataframe tbody tr th:only-of-type {\n",
              "        vertical-align: middle;\n",
              "    }\n",
              "\n",
              "    .dataframe tbody tr th {\n",
              "        vertical-align: top;\n",
              "    }\n",
              "\n",
              "    .dataframe thead th {\n",
              "        text-align: right;\n",
              "    }\n",
              "</style>\n",
              "<table border=\"1\" class=\"dataframe\">\n",
              "  <thead>\n",
              "    <tr style=\"text-align: right;\">\n",
              "      <th></th>\n",
              "      <th>User-ID</th>\n",
              "      <th>ISBN</th>\n",
              "      <th>Book-Rating</th>\n",
              "    </tr>\n",
              "  </thead>\n",
              "  <tbody>\n",
              "    <tr>\n",
              "      <th>0</th>\n",
              "      <td>276725</td>\n",
              "      <td>034545104X</td>\n",
              "      <td>0</td>\n",
              "    </tr>\n",
              "    <tr>\n",
              "      <th>1</th>\n",
              "      <td>276726</td>\n",
              "      <td>0155061224</td>\n",
              "      <td>5</td>\n",
              "    </tr>\n",
              "    <tr>\n",
              "      <th>2</th>\n",
              "      <td>276727</td>\n",
              "      <td>0446520802</td>\n",
              "      <td>0</td>\n",
              "    </tr>\n",
              "    <tr>\n",
              "      <th>3</th>\n",
              "      <td>276729</td>\n",
              "      <td>052165615X</td>\n",
              "      <td>3</td>\n",
              "    </tr>\n",
              "    <tr>\n",
              "      <th>4</th>\n",
              "      <td>276729</td>\n",
              "      <td>0521795028</td>\n",
              "      <td>6</td>\n",
              "    </tr>\n",
              "  </tbody>\n",
              "</table>\n",
              "</div>\n",
              "      <button class=\"colab-df-convert\" onclick=\"convertToInteractive('df-f1c015b7-6b2a-4d2c-97d6-82eab0cfdc41')\"\n",
              "              title=\"Convert this dataframe to an interactive table.\"\n",
              "              style=\"display:none;\">\n",
              "        \n",
              "  <svg xmlns=\"http://www.w3.org/2000/svg\" height=\"24px\"viewBox=\"0 0 24 24\"\n",
              "       width=\"24px\">\n",
              "    <path d=\"M0 0h24v24H0V0z\" fill=\"none\"/>\n",
              "    <path d=\"M18.56 5.44l.94 2.06.94-2.06 2.06-.94-2.06-.94-.94-2.06-.94 2.06-2.06.94zm-11 1L8.5 8.5l.94-2.06 2.06-.94-2.06-.94L8.5 2.5l-.94 2.06-2.06.94zm10 10l.94 2.06.94-2.06 2.06-.94-2.06-.94-.94-2.06-.94 2.06-2.06.94z\"/><path d=\"M17.41 7.96l-1.37-1.37c-.4-.4-.92-.59-1.43-.59-.52 0-1.04.2-1.43.59L10.3 9.45l-7.72 7.72c-.78.78-.78 2.05 0 2.83L4 21.41c.39.39.9.59 1.41.59.51 0 1.02-.2 1.41-.59l7.78-7.78 2.81-2.81c.8-.78.8-2.07 0-2.86zM5.41 20L4 18.59l7.72-7.72 1.47 1.35L5.41 20z\"/>\n",
              "  </svg>\n",
              "      </button>\n",
              "      \n",
              "  <style>\n",
              "    .colab-df-container {\n",
              "      display:flex;\n",
              "      flex-wrap:wrap;\n",
              "      gap: 12px;\n",
              "    }\n",
              "\n",
              "    .colab-df-convert {\n",
              "      background-color: #E8F0FE;\n",
              "      border: none;\n",
              "      border-radius: 50%;\n",
              "      cursor: pointer;\n",
              "      display: none;\n",
              "      fill: #1967D2;\n",
              "      height: 32px;\n",
              "      padding: 0 0 0 0;\n",
              "      width: 32px;\n",
              "    }\n",
              "\n",
              "    .colab-df-convert:hover {\n",
              "      background-color: #E2EBFA;\n",
              "      box-shadow: 0px 1px 2px rgba(60, 64, 67, 0.3), 0px 1px 3px 1px rgba(60, 64, 67, 0.15);\n",
              "      fill: #174EA6;\n",
              "    }\n",
              "\n",
              "    [theme=dark] .colab-df-convert {\n",
              "      background-color: #3B4455;\n",
              "      fill: #D2E3FC;\n",
              "    }\n",
              "\n",
              "    [theme=dark] .colab-df-convert:hover {\n",
              "      background-color: #434B5C;\n",
              "      box-shadow: 0px 1px 3px 1px rgba(0, 0, 0, 0.15);\n",
              "      filter: drop-shadow(0px 1px 2px rgba(0, 0, 0, 0.3));\n",
              "      fill: #FFFFFF;\n",
              "    }\n",
              "  </style>\n",
              "\n",
              "      <script>\n",
              "        const buttonEl =\n",
              "          document.querySelector('#df-f1c015b7-6b2a-4d2c-97d6-82eab0cfdc41 button.colab-df-convert');\n",
              "        buttonEl.style.display =\n",
              "          google.colab.kernel.accessAllowed ? 'block' : 'none';\n",
              "\n",
              "        async function convertToInteractive(key) {\n",
              "          const element = document.querySelector('#df-f1c015b7-6b2a-4d2c-97d6-82eab0cfdc41');\n",
              "          const dataTable =\n",
              "            await google.colab.kernel.invokeFunction('convertToInteractive',\n",
              "                                                     [key], {});\n",
              "          if (!dataTable) return;\n",
              "\n",
              "          const docLinkHtml = 'Like what you see? Visit the ' +\n",
              "            '<a target=\"_blank\" href=https://colab.research.google.com/notebooks/data_table.ipynb>data table notebook</a>'\n",
              "            + ' to learn more about interactive tables.';\n",
              "          element.innerHTML = '';\n",
              "          dataTable['output_type'] = 'display_data';\n",
              "          await google.colab.output.renderOutput(dataTable, element);\n",
              "          const docLink = document.createElement('div');\n",
              "          docLink.innerHTML = docLinkHtml;\n",
              "          element.appendChild(docLink);\n",
              "        }\n",
              "      </script>\n",
              "    </div>\n",
              "  </div>\n",
              "  "
            ]
          },
          "metadata": {},
          "execution_count": 6
        }
      ]
    },
    {
      "cell_type": "code",
      "source": [
        "user_df = pd.read_csv(\"/content/drive/MyDrive/DATA/Users[1].csv\")"
      ],
      "metadata": {
        "id": "vmeCjP-fYWcZ"
      },
      "execution_count": 7,
      "outputs": []
    },
    {
      "cell_type": "code",
      "source": [
        "user_df.head()"
      ],
      "metadata": {
        "colab": {
          "base_uri": "https://localhost:8080/",
          "height": 206
        },
        "id": "cjRUKCAVZQMl",
        "outputId": "269f5e78-7732-469d-b701-f6c283805c4f"
      },
      "execution_count": null,
      "outputs": [
        {
          "output_type": "execute_result",
          "data": {
            "text/plain": [
              "   User-ID                            Location   Age\n",
              "0        1                  nyc, new york, usa   NaN\n",
              "1        2           stockton, california, usa  18.0\n",
              "2        3     moscow, yukon territory, russia   NaN\n",
              "3        4           porto, v.n.gaia, portugal  17.0\n",
              "4        5  farnborough, hants, united kingdom   NaN"
            ],
            "text/html": [
              "\n",
              "  <div id=\"df-8a50406c-4fa6-42bb-a208-5af0b51d20ce\">\n",
              "    <div class=\"colab-df-container\">\n",
              "      <div>\n",
              "<style scoped>\n",
              "    .dataframe tbody tr th:only-of-type {\n",
              "        vertical-align: middle;\n",
              "    }\n",
              "\n",
              "    .dataframe tbody tr th {\n",
              "        vertical-align: top;\n",
              "    }\n",
              "\n",
              "    .dataframe thead th {\n",
              "        text-align: right;\n",
              "    }\n",
              "</style>\n",
              "<table border=\"1\" class=\"dataframe\">\n",
              "  <thead>\n",
              "    <tr style=\"text-align: right;\">\n",
              "      <th></th>\n",
              "      <th>User-ID</th>\n",
              "      <th>Location</th>\n",
              "      <th>Age</th>\n",
              "    </tr>\n",
              "  </thead>\n",
              "  <tbody>\n",
              "    <tr>\n",
              "      <th>0</th>\n",
              "      <td>1</td>\n",
              "      <td>nyc, new york, usa</td>\n",
              "      <td>NaN</td>\n",
              "    </tr>\n",
              "    <tr>\n",
              "      <th>1</th>\n",
              "      <td>2</td>\n",
              "      <td>stockton, california, usa</td>\n",
              "      <td>18.0</td>\n",
              "    </tr>\n",
              "    <tr>\n",
              "      <th>2</th>\n",
              "      <td>3</td>\n",
              "      <td>moscow, yukon territory, russia</td>\n",
              "      <td>NaN</td>\n",
              "    </tr>\n",
              "    <tr>\n",
              "      <th>3</th>\n",
              "      <td>4</td>\n",
              "      <td>porto, v.n.gaia, portugal</td>\n",
              "      <td>17.0</td>\n",
              "    </tr>\n",
              "    <tr>\n",
              "      <th>4</th>\n",
              "      <td>5</td>\n",
              "      <td>farnborough, hants, united kingdom</td>\n",
              "      <td>NaN</td>\n",
              "    </tr>\n",
              "  </tbody>\n",
              "</table>\n",
              "</div>\n",
              "      <button class=\"colab-df-convert\" onclick=\"convertToInteractive('df-8a50406c-4fa6-42bb-a208-5af0b51d20ce')\"\n",
              "              title=\"Convert this dataframe to an interactive table.\"\n",
              "              style=\"display:none;\">\n",
              "        \n",
              "  <svg xmlns=\"http://www.w3.org/2000/svg\" height=\"24px\"viewBox=\"0 0 24 24\"\n",
              "       width=\"24px\">\n",
              "    <path d=\"M0 0h24v24H0V0z\" fill=\"none\"/>\n",
              "    <path d=\"M18.56 5.44l.94 2.06.94-2.06 2.06-.94-2.06-.94-.94-2.06-.94 2.06-2.06.94zm-11 1L8.5 8.5l.94-2.06 2.06-.94-2.06-.94L8.5 2.5l-.94 2.06-2.06.94zm10 10l.94 2.06.94-2.06 2.06-.94-2.06-.94-.94-2.06-.94 2.06-2.06.94z\"/><path d=\"M17.41 7.96l-1.37-1.37c-.4-.4-.92-.59-1.43-.59-.52 0-1.04.2-1.43.59L10.3 9.45l-7.72 7.72c-.78.78-.78 2.05 0 2.83L4 21.41c.39.39.9.59 1.41.59.51 0 1.02-.2 1.41-.59l7.78-7.78 2.81-2.81c.8-.78.8-2.07 0-2.86zM5.41 20L4 18.59l7.72-7.72 1.47 1.35L5.41 20z\"/>\n",
              "  </svg>\n",
              "      </button>\n",
              "      \n",
              "  <style>\n",
              "    .colab-df-container {\n",
              "      display:flex;\n",
              "      flex-wrap:wrap;\n",
              "      gap: 12px;\n",
              "    }\n",
              "\n",
              "    .colab-df-convert {\n",
              "      background-color: #E8F0FE;\n",
              "      border: none;\n",
              "      border-radius: 50%;\n",
              "      cursor: pointer;\n",
              "      display: none;\n",
              "      fill: #1967D2;\n",
              "      height: 32px;\n",
              "      padding: 0 0 0 0;\n",
              "      width: 32px;\n",
              "    }\n",
              "\n",
              "    .colab-df-convert:hover {\n",
              "      background-color: #E2EBFA;\n",
              "      box-shadow: 0px 1px 2px rgba(60, 64, 67, 0.3), 0px 1px 3px 1px rgba(60, 64, 67, 0.15);\n",
              "      fill: #174EA6;\n",
              "    }\n",
              "\n",
              "    [theme=dark] .colab-df-convert {\n",
              "      background-color: #3B4455;\n",
              "      fill: #D2E3FC;\n",
              "    }\n",
              "\n",
              "    [theme=dark] .colab-df-convert:hover {\n",
              "      background-color: #434B5C;\n",
              "      box-shadow: 0px 1px 3px 1px rgba(0, 0, 0, 0.15);\n",
              "      filter: drop-shadow(0px 1px 2px rgba(0, 0, 0, 0.3));\n",
              "      fill: #FFFFFF;\n",
              "    }\n",
              "  </style>\n",
              "\n",
              "      <script>\n",
              "        const buttonEl =\n",
              "          document.querySelector('#df-8a50406c-4fa6-42bb-a208-5af0b51d20ce button.colab-df-convert');\n",
              "        buttonEl.style.display =\n",
              "          google.colab.kernel.accessAllowed ? 'block' : 'none';\n",
              "\n",
              "        async function convertToInteractive(key) {\n",
              "          const element = document.querySelector('#df-8a50406c-4fa6-42bb-a208-5af0b51d20ce');\n",
              "          const dataTable =\n",
              "            await google.colab.kernel.invokeFunction('convertToInteractive',\n",
              "                                                     [key], {});\n",
              "          if (!dataTable) return;\n",
              "\n",
              "          const docLinkHtml = 'Like what you see? Visit the ' +\n",
              "            '<a target=\"_blank\" href=https://colab.research.google.com/notebooks/data_table.ipynb>data table notebook</a>'\n",
              "            + ' to learn more about interactive tables.';\n",
              "          element.innerHTML = '';\n",
              "          dataTable['output_type'] = 'display_data';\n",
              "          await google.colab.output.renderOutput(dataTable, element);\n",
              "          const docLink = document.createElement('div');\n",
              "          docLink.innerHTML = docLinkHtml;\n",
              "          element.appendChild(docLink);\n",
              "        }\n",
              "      </script>\n",
              "    </div>\n",
              "  </div>\n",
              "  "
            ]
          },
          "metadata": {},
          "execution_count": 8
        }
      ]
    },
    {
      "cell_type": "code",
      "source": [
        "Book_df.info()"
      ],
      "metadata": {
        "colab": {
          "base_uri": "https://localhost:8080/"
        },
        "id": "p1UrMEN3ZjUN",
        "outputId": "e4bd7e98-6b87-4ff8-cf9c-3f14e3fef826"
      },
      "execution_count": null,
      "outputs": [
        {
          "output_type": "stream",
          "name": "stdout",
          "text": [
            "<class 'pandas.core.frame.DataFrame'>\n",
            "RangeIndex: 271360 entries, 0 to 271359\n",
            "Data columns (total 8 columns):\n",
            " #   Column               Non-Null Count   Dtype  \n",
            "---  ------               --------------   -----  \n",
            " 0   ISBN                 271360 non-null  object \n",
            " 1   Book-Title           271360 non-null  object \n",
            " 2   Book-Author          271359 non-null  object \n",
            " 3   Year-Of-Publication  271360 non-null  float64\n",
            " 4   Publisher            271358 non-null  object \n",
            " 5   Image-URL-S          271360 non-null  object \n",
            " 6   Image-URL-M          271360 non-null  object \n",
            " 7   Image-URL-L          271357 non-null  object \n",
            "dtypes: float64(1), object(7)\n",
            "memory usage: 16.6+ MB\n"
          ]
        }
      ]
    },
    {
      "cell_type": "code",
      "source": [
        "#Checking duplicate observation\n",
        "Book_df.duplicated().sum()"
      ],
      "metadata": {
        "colab": {
          "base_uri": "https://localhost:8080/"
        },
        "id": "VQcB6LLgZt4q",
        "outputId": "1f40c657-445c-4c20-dbbb-17f7c9c7ffb1"
      },
      "execution_count": null,
      "outputs": [
        {
          "output_type": "execute_result",
          "data": {
            "text/plain": [
              "0"
            ]
          },
          "metadata": {},
          "execution_count": 9
        }
      ]
    },
    {
      "cell_type": "code",
      "source": [
        "# Checking for duplicate ISBN\n",
        "total_rows=Book_df.shape[0]\n",
        "unique_isbn=len(Book_df[\"ISBN\"].unique())\n",
        "repeated_isbn=total_rows-unique_isbn\n",
        "unique_title=len(Book_df[\"Book-Title\"].unique())\n",
        "repeated_title=total_rows-unique_title\n",
        "print(f'number of repeated isbn: {repeated_isbn}')\n",
        "print(f'number of repeated book title: {repeated_title}')"
      ],
      "metadata": {
        "colab": {
          "base_uri": "https://localhost:8080/"
        },
        "id": "-qyRn8wKZ0e4",
        "outputId": "816f5797-8f46-4e9a-c4b5-00facb2a86b1"
      },
      "execution_count": null,
      "outputs": [
        {
          "output_type": "stream",
          "name": "stdout",
          "text": [
            "number of repeated isbn: 0\n",
            "number of repeated book title: 29225\n"
          ]
        }
      ]
    },
    {
      "cell_type": "code",
      "source": [
        "#checking null values\n",
        "Book_df.isnull().sum()"
      ],
      "metadata": {
        "colab": {
          "base_uri": "https://localhost:8080/"
        },
        "id": "50lwNu-AZ9Lq",
        "outputId": "06033844-6ec7-4051-a7d1-ec59cad82bf8"
      },
      "execution_count": null,
      "outputs": [
        {
          "output_type": "execute_result",
          "data": {
            "text/plain": [
              "ISBN                   0\n",
              "Book-Title             0\n",
              "Book-Author            1\n",
              "Year-Of-Publication    0\n",
              "Publisher              2\n",
              "Image-URL-S            0\n",
              "Image-URL-M            0\n",
              "Image-URL-L            3\n",
              "dtype: int64"
            ]
          },
          "metadata": {},
          "execution_count": 11
        }
      ]
    },
    {
      "cell_type": "code",
      "source": [
        "#first 5 rows of rating_df dataset\n",
        "rating_df.head()"
      ],
      "metadata": {
        "colab": {
          "base_uri": "https://localhost:8080/",
          "height": 206
        },
        "id": "1yLuH0BAaCg9",
        "outputId": "6eaffaac-a3a8-487b-82bc-a6806b74dc6a"
      },
      "execution_count": null,
      "outputs": [
        {
          "output_type": "execute_result",
          "data": {
            "text/plain": [
              "   User-ID        ISBN  Book-Rating\n",
              "0   276725  034545104X            0\n",
              "1   276726  0155061224            5\n",
              "2   276727  0446520802            0\n",
              "3   276729  052165615X            3\n",
              "4   276729  0521795028            6"
            ],
            "text/html": [
              "\n",
              "  <div id=\"df-04f227ed-4249-4d9d-8011-19258eef1a26\">\n",
              "    <div class=\"colab-df-container\">\n",
              "      <div>\n",
              "<style scoped>\n",
              "    .dataframe tbody tr th:only-of-type {\n",
              "        vertical-align: middle;\n",
              "    }\n",
              "\n",
              "    .dataframe tbody tr th {\n",
              "        vertical-align: top;\n",
              "    }\n",
              "\n",
              "    .dataframe thead th {\n",
              "        text-align: right;\n",
              "    }\n",
              "</style>\n",
              "<table border=\"1\" class=\"dataframe\">\n",
              "  <thead>\n",
              "    <tr style=\"text-align: right;\">\n",
              "      <th></th>\n",
              "      <th>User-ID</th>\n",
              "      <th>ISBN</th>\n",
              "      <th>Book-Rating</th>\n",
              "    </tr>\n",
              "  </thead>\n",
              "  <tbody>\n",
              "    <tr>\n",
              "      <th>0</th>\n",
              "      <td>276725</td>\n",
              "      <td>034545104X</td>\n",
              "      <td>0</td>\n",
              "    </tr>\n",
              "    <tr>\n",
              "      <th>1</th>\n",
              "      <td>276726</td>\n",
              "      <td>0155061224</td>\n",
              "      <td>5</td>\n",
              "    </tr>\n",
              "    <tr>\n",
              "      <th>2</th>\n",
              "      <td>276727</td>\n",
              "      <td>0446520802</td>\n",
              "      <td>0</td>\n",
              "    </tr>\n",
              "    <tr>\n",
              "      <th>3</th>\n",
              "      <td>276729</td>\n",
              "      <td>052165615X</td>\n",
              "      <td>3</td>\n",
              "    </tr>\n",
              "    <tr>\n",
              "      <th>4</th>\n",
              "      <td>276729</td>\n",
              "      <td>0521795028</td>\n",
              "      <td>6</td>\n",
              "    </tr>\n",
              "  </tbody>\n",
              "</table>\n",
              "</div>\n",
              "      <button class=\"colab-df-convert\" onclick=\"convertToInteractive('df-04f227ed-4249-4d9d-8011-19258eef1a26')\"\n",
              "              title=\"Convert this dataframe to an interactive table.\"\n",
              "              style=\"display:none;\">\n",
              "        \n",
              "  <svg xmlns=\"http://www.w3.org/2000/svg\" height=\"24px\"viewBox=\"0 0 24 24\"\n",
              "       width=\"24px\">\n",
              "    <path d=\"M0 0h24v24H0V0z\" fill=\"none\"/>\n",
              "    <path d=\"M18.56 5.44l.94 2.06.94-2.06 2.06-.94-2.06-.94-.94-2.06-.94 2.06-2.06.94zm-11 1L8.5 8.5l.94-2.06 2.06-.94-2.06-.94L8.5 2.5l-.94 2.06-2.06.94zm10 10l.94 2.06.94-2.06 2.06-.94-2.06-.94-.94-2.06-.94 2.06-2.06.94z\"/><path d=\"M17.41 7.96l-1.37-1.37c-.4-.4-.92-.59-1.43-.59-.52 0-1.04.2-1.43.59L10.3 9.45l-7.72 7.72c-.78.78-.78 2.05 0 2.83L4 21.41c.39.39.9.59 1.41.59.51 0 1.02-.2 1.41-.59l7.78-7.78 2.81-2.81c.8-.78.8-2.07 0-2.86zM5.41 20L4 18.59l7.72-7.72 1.47 1.35L5.41 20z\"/>\n",
              "  </svg>\n",
              "      </button>\n",
              "      \n",
              "  <style>\n",
              "    .colab-df-container {\n",
              "      display:flex;\n",
              "      flex-wrap:wrap;\n",
              "      gap: 12px;\n",
              "    }\n",
              "\n",
              "    .colab-df-convert {\n",
              "      background-color: #E8F0FE;\n",
              "      border: none;\n",
              "      border-radius: 50%;\n",
              "      cursor: pointer;\n",
              "      display: none;\n",
              "      fill: #1967D2;\n",
              "      height: 32px;\n",
              "      padding: 0 0 0 0;\n",
              "      width: 32px;\n",
              "    }\n",
              "\n",
              "    .colab-df-convert:hover {\n",
              "      background-color: #E2EBFA;\n",
              "      box-shadow: 0px 1px 2px rgba(60, 64, 67, 0.3), 0px 1px 3px 1px rgba(60, 64, 67, 0.15);\n",
              "      fill: #174EA6;\n",
              "    }\n",
              "\n",
              "    [theme=dark] .colab-df-convert {\n",
              "      background-color: #3B4455;\n",
              "      fill: #D2E3FC;\n",
              "    }\n",
              "\n",
              "    [theme=dark] .colab-df-convert:hover {\n",
              "      background-color: #434B5C;\n",
              "      box-shadow: 0px 1px 3px 1px rgba(0, 0, 0, 0.15);\n",
              "      filter: drop-shadow(0px 1px 2px rgba(0, 0, 0, 0.3));\n",
              "      fill: #FFFFFF;\n",
              "    }\n",
              "  </style>\n",
              "\n",
              "      <script>\n",
              "        const buttonEl =\n",
              "          document.querySelector('#df-04f227ed-4249-4d9d-8011-19258eef1a26 button.colab-df-convert');\n",
              "        buttonEl.style.display =\n",
              "          google.colab.kernel.accessAllowed ? 'block' : 'none';\n",
              "\n",
              "        async function convertToInteractive(key) {\n",
              "          const element = document.querySelector('#df-04f227ed-4249-4d9d-8011-19258eef1a26');\n",
              "          const dataTable =\n",
              "            await google.colab.kernel.invokeFunction('convertToInteractive',\n",
              "                                                     [key], {});\n",
              "          if (!dataTable) return;\n",
              "\n",
              "          const docLinkHtml = 'Like what you see? Visit the ' +\n",
              "            '<a target=\"_blank\" href=https://colab.research.google.com/notebooks/data_table.ipynb>data table notebook</a>'\n",
              "            + ' to learn more about interactive tables.';\n",
              "          element.innerHTML = '';\n",
              "          dataTable['output_type'] = 'display_data';\n",
              "          await google.colab.output.renderOutput(dataTable, element);\n",
              "          const docLink = document.createElement('div');\n",
              "          docLink.innerHTML = docLinkHtml;\n",
              "          element.appendChild(docLink);\n",
              "        }\n",
              "      </script>\n",
              "    </div>\n",
              "  </div>\n",
              "  "
            ]
          },
          "metadata": {},
          "execution_count": 13
        }
      ]
    },
    {
      "cell_type": "code",
      "source": [
        "#information about rating_df dataset\n",
        "rating_df.info()"
      ],
      "metadata": {
        "colab": {
          "base_uri": "https://localhost:8080/"
        },
        "id": "UU6QTWVOaLiO",
        "outputId": "da2ac59b-17a9-4541-dbee-7d8f50f09946"
      },
      "execution_count": null,
      "outputs": [
        {
          "output_type": "stream",
          "name": "stdout",
          "text": [
            "<class 'pandas.core.frame.DataFrame'>\n",
            "RangeIndex: 1149780 entries, 0 to 1149779\n",
            "Data columns (total 3 columns):\n",
            " #   Column       Non-Null Count    Dtype \n",
            "---  ------       --------------    ----- \n",
            " 0   User-ID      1149780 non-null  int64 \n",
            " 1   ISBN         1149780 non-null  object\n",
            " 2   Book-Rating  1149780 non-null  int64 \n",
            "dtypes: int64(2), object(1)\n",
            "memory usage: 26.3+ MB\n"
          ]
        }
      ]
    },
    {
      "cell_type": "code",
      "source": [
        "#Checking duplicate observation\n",
        "rating_df.duplicated().sum()"
      ],
      "metadata": {
        "colab": {
          "base_uri": "https://localhost:8080/"
        },
        "id": "oq9QsAARaQzm",
        "outputId": "69f9a791-29fb-4305-e5cf-71c821cb094f"
      },
      "execution_count": null,
      "outputs": [
        {
          "output_type": "execute_result",
          "data": {
            "text/plain": [
              "0"
            ]
          },
          "metadata": {},
          "execution_count": 12
        }
      ]
    },
    {
      "cell_type": "code",
      "source": [
        "#checking null values\n",
        "rating_df.isnull().sum()"
      ],
      "metadata": {
        "colab": {
          "base_uri": "https://localhost:8080/"
        },
        "id": "srjTv8GNabLy",
        "outputId": "a1b1efc8-5bd7-4569-da9a-6de5f5663e74"
      },
      "execution_count": null,
      "outputs": [
        {
          "output_type": "execute_result",
          "data": {
            "text/plain": [
              "User-ID        0\n",
              "ISBN           0\n",
              "Book-Rating    0\n",
              "dtype: int64"
            ]
          },
          "metadata": {},
          "execution_count": 16
        }
      ]
    },
    {
      "cell_type": "code",
      "source": [
        "#first 5 rows of user_df dataset\n",
        "user_df.info()"
      ],
      "metadata": {
        "colab": {
          "base_uri": "https://localhost:8080/"
        },
        "id": "SM6P166MafaL",
        "outputId": "f093353b-2a32-440b-de3e-481ef7503af2"
      },
      "execution_count": null,
      "outputs": [
        {
          "output_type": "stream",
          "name": "stdout",
          "text": [
            "<class 'pandas.core.frame.DataFrame'>\n",
            "RangeIndex: 278858 entries, 0 to 278857\n",
            "Data columns (total 3 columns):\n",
            " #   Column    Non-Null Count   Dtype  \n",
            "---  ------    --------------   -----  \n",
            " 0   User-ID   278858 non-null  int64  \n",
            " 1   Location  278858 non-null  object \n",
            " 2   Age       168096 non-null  float64\n",
            "dtypes: float64(1), int64(1), object(1)\n",
            "memory usage: 6.4+ MB\n"
          ]
        }
      ]
    },
    {
      "cell_type": "code",
      "source": [
        "#Checking duplicate observation\n",
        "user_df.duplicated().sum()"
      ],
      "metadata": {
        "colab": {
          "base_uri": "https://localhost:8080/"
        },
        "id": "An5WPqjHa3s3",
        "outputId": "7a43db4e-9041-4544-b645-1e12cfc4c593"
      },
      "execution_count": null,
      "outputs": [
        {
          "output_type": "execute_result",
          "data": {
            "text/plain": [
              "0"
            ]
          },
          "metadata": {},
          "execution_count": 13
        }
      ]
    },
    {
      "cell_type": "code",
      "source": [
        "#checking null values\n",
        "user_df.isnull().sum()"
      ],
      "metadata": {
        "colab": {
          "base_uri": "https://localhost:8080/"
        },
        "id": "5s5VbwJ3bAmc",
        "outputId": "e0800ab1-a2af-4309-acb5-c647cf2c9f57"
      },
      "execution_count": null,
      "outputs": [
        {
          "output_type": "execute_result",
          "data": {
            "text/plain": [
              "User-ID          0\n",
              "Location         0\n",
              "Age         110762\n",
              "dtype: int64"
            ]
          },
          "metadata": {},
          "execution_count": 18
        }
      ]
    },
    {
      "cell_type": "code",
      "source": [
        "# Creating dataframe for top 10 authors with highest number of books\n",
        "top_authors=Book_df.groupby('Book-Author').agg({'Book-Title':'count'}).sort_values(by=\"Book-Title\",ascending=False).head(10).reset_index()\n",
        "top_authors.rename(columns = {'Book-Author':'Author','Book-Title':\"count\"},inplace=True)\n",
        "\n",
        "top_authors\n",
        "     "
      ],
      "metadata": {
        "colab": {
          "base_uri": "https://localhost:8080/",
          "height": 363
        },
        "id": "B3yY6VG5bL6M",
        "outputId": "48cb8bbc-da38-41bd-a166-28720f441b5a"
      },
      "execution_count": 8,
      "outputs": [
        {
          "output_type": "execute_result",
          "data": {
            "text/plain": [
              "                Author  count\n",
              "0      Agatha Christie    632\n",
              "1  William Shakespeare    567\n",
              "2         Stephen King    524\n",
              "3        Ann M. Martin    423\n",
              "4        Carolyn Keene    373\n",
              "5      Francine Pascal    372\n",
              "6         Isaac Asimov    330\n",
              "7         Nora Roberts    315\n",
              "8     Barbara Cartland    307\n",
              "9      Charles Dickens    302"
            ],
            "text/html": [
              "\n",
              "  <div id=\"df-de70fb68-f799-4e95-aaaa-1fdb227e28f4\">\n",
              "    <div class=\"colab-df-container\">\n",
              "      <div>\n",
              "<style scoped>\n",
              "    .dataframe tbody tr th:only-of-type {\n",
              "        vertical-align: middle;\n",
              "    }\n",
              "\n",
              "    .dataframe tbody tr th {\n",
              "        vertical-align: top;\n",
              "    }\n",
              "\n",
              "    .dataframe thead th {\n",
              "        text-align: right;\n",
              "    }\n",
              "</style>\n",
              "<table border=\"1\" class=\"dataframe\">\n",
              "  <thead>\n",
              "    <tr style=\"text-align: right;\">\n",
              "      <th></th>\n",
              "      <th>Author</th>\n",
              "      <th>count</th>\n",
              "    </tr>\n",
              "  </thead>\n",
              "  <tbody>\n",
              "    <tr>\n",
              "      <th>0</th>\n",
              "      <td>Agatha Christie</td>\n",
              "      <td>632</td>\n",
              "    </tr>\n",
              "    <tr>\n",
              "      <th>1</th>\n",
              "      <td>William Shakespeare</td>\n",
              "      <td>567</td>\n",
              "    </tr>\n",
              "    <tr>\n",
              "      <th>2</th>\n",
              "      <td>Stephen King</td>\n",
              "      <td>524</td>\n",
              "    </tr>\n",
              "    <tr>\n",
              "      <th>3</th>\n",
              "      <td>Ann M. Martin</td>\n",
              "      <td>423</td>\n",
              "    </tr>\n",
              "    <tr>\n",
              "      <th>4</th>\n",
              "      <td>Carolyn Keene</td>\n",
              "      <td>373</td>\n",
              "    </tr>\n",
              "    <tr>\n",
              "      <th>5</th>\n",
              "      <td>Francine Pascal</td>\n",
              "      <td>372</td>\n",
              "    </tr>\n",
              "    <tr>\n",
              "      <th>6</th>\n",
              "      <td>Isaac Asimov</td>\n",
              "      <td>330</td>\n",
              "    </tr>\n",
              "    <tr>\n",
              "      <th>7</th>\n",
              "      <td>Nora Roberts</td>\n",
              "      <td>315</td>\n",
              "    </tr>\n",
              "    <tr>\n",
              "      <th>8</th>\n",
              "      <td>Barbara Cartland</td>\n",
              "      <td>307</td>\n",
              "    </tr>\n",
              "    <tr>\n",
              "      <th>9</th>\n",
              "      <td>Charles Dickens</td>\n",
              "      <td>302</td>\n",
              "    </tr>\n",
              "  </tbody>\n",
              "</table>\n",
              "</div>\n",
              "      <button class=\"colab-df-convert\" onclick=\"convertToInteractive('df-de70fb68-f799-4e95-aaaa-1fdb227e28f4')\"\n",
              "              title=\"Convert this dataframe to an interactive table.\"\n",
              "              style=\"display:none;\">\n",
              "        \n",
              "  <svg xmlns=\"http://www.w3.org/2000/svg\" height=\"24px\"viewBox=\"0 0 24 24\"\n",
              "       width=\"24px\">\n",
              "    <path d=\"M0 0h24v24H0V0z\" fill=\"none\"/>\n",
              "    <path d=\"M18.56 5.44l.94 2.06.94-2.06 2.06-.94-2.06-.94-.94-2.06-.94 2.06-2.06.94zm-11 1L8.5 8.5l.94-2.06 2.06-.94-2.06-.94L8.5 2.5l-.94 2.06-2.06.94zm10 10l.94 2.06.94-2.06 2.06-.94-2.06-.94-.94-2.06-.94 2.06-2.06.94z\"/><path d=\"M17.41 7.96l-1.37-1.37c-.4-.4-.92-.59-1.43-.59-.52 0-1.04.2-1.43.59L10.3 9.45l-7.72 7.72c-.78.78-.78 2.05 0 2.83L4 21.41c.39.39.9.59 1.41.59.51 0 1.02-.2 1.41-.59l7.78-7.78 2.81-2.81c.8-.78.8-2.07 0-2.86zM5.41 20L4 18.59l7.72-7.72 1.47 1.35L5.41 20z\"/>\n",
              "  </svg>\n",
              "      </button>\n",
              "      \n",
              "  <style>\n",
              "    .colab-df-container {\n",
              "      display:flex;\n",
              "      flex-wrap:wrap;\n",
              "      gap: 12px;\n",
              "    }\n",
              "\n",
              "    .colab-df-convert {\n",
              "      background-color: #E8F0FE;\n",
              "      border: none;\n",
              "      border-radius: 50%;\n",
              "      cursor: pointer;\n",
              "      display: none;\n",
              "      fill: #1967D2;\n",
              "      height: 32px;\n",
              "      padding: 0 0 0 0;\n",
              "      width: 32px;\n",
              "    }\n",
              "\n",
              "    .colab-df-convert:hover {\n",
              "      background-color: #E2EBFA;\n",
              "      box-shadow: 0px 1px 2px rgba(60, 64, 67, 0.3), 0px 1px 3px 1px rgba(60, 64, 67, 0.15);\n",
              "      fill: #174EA6;\n",
              "    }\n",
              "\n",
              "    [theme=dark] .colab-df-convert {\n",
              "      background-color: #3B4455;\n",
              "      fill: #D2E3FC;\n",
              "    }\n",
              "\n",
              "    [theme=dark] .colab-df-convert:hover {\n",
              "      background-color: #434B5C;\n",
              "      box-shadow: 0px 1px 3px 1px rgba(0, 0, 0, 0.15);\n",
              "      filter: drop-shadow(0px 1px 2px rgba(0, 0, 0, 0.3));\n",
              "      fill: #FFFFFF;\n",
              "    }\n",
              "  </style>\n",
              "\n",
              "      <script>\n",
              "        const buttonEl =\n",
              "          document.querySelector('#df-de70fb68-f799-4e95-aaaa-1fdb227e28f4 button.colab-df-convert');\n",
              "        buttonEl.style.display =\n",
              "          google.colab.kernel.accessAllowed ? 'block' : 'none';\n",
              "\n",
              "        async function convertToInteractive(key) {\n",
              "          const element = document.querySelector('#df-de70fb68-f799-4e95-aaaa-1fdb227e28f4');\n",
              "          const dataTable =\n",
              "            await google.colab.kernel.invokeFunction('convertToInteractive',\n",
              "                                                     [key], {});\n",
              "          if (!dataTable) return;\n",
              "\n",
              "          const docLinkHtml = 'Like what you see? Visit the ' +\n",
              "            '<a target=\"_blank\" href=https://colab.research.google.com/notebooks/data_table.ipynb>data table notebook</a>'\n",
              "            + ' to learn more about interactive tables.';\n",
              "          element.innerHTML = '';\n",
              "          dataTable['output_type'] = 'display_data';\n",
              "          await google.colab.output.renderOutput(dataTable, element);\n",
              "          const docLink = document.createElement('div');\n",
              "          docLink.innerHTML = docLinkHtml;\n",
              "          element.appendChild(docLink);\n",
              "        }\n",
              "      </script>\n",
              "    </div>\n",
              "  </div>\n",
              "  "
            ]
          },
          "metadata": {},
          "execution_count": 8
        }
      ]
    },
    {
      "cell_type": "code",
      "source": [
        "# Plotting bar graph for top 10 authors with highest number of books\n",
        "plt.figure(figsize=(12,5))\n",
        "sns.barplot(data=top_authors, x=\"Author\", y=\"count\")\n",
        "plt.title(\"Top 10 authors with highest numbers of book\",fontsize=20);\n",
        "plt.xticks(rotation=90,fontsize=15)\n",
        "plt.xlabel(\"Authors\",fontsize=20)\n",
        "plt.ylabel(\"Number Of Books\",fontsize=20)"
      ],
      "metadata": {
        "colab": {
          "base_uri": "https://localhost:8080/",
          "height": 528
        },
        "id": "R8dT65wvbdJi",
        "outputId": "1ea38522-8141-450c-fc2a-8364f686dd28"
      },
      "execution_count": 9,
      "outputs": [
        {
          "output_type": "execute_result",
          "data": {
            "text/plain": [
              "Text(0, 0.5, 'Number Of Books')"
            ]
          },
          "metadata": {},
          "execution_count": 9
        },
        {
          "output_type": "display_data",
          "data": {
            "text/plain": [
              "<Figure size 864x360 with 1 Axes>"
            ],
            "image/png": "[encoded data removed]"
          },
          "metadata": {
            "needs_background": "light"
          }
        }
      ]
    },
    {
      "cell_type": "markdown",
      "source": [
        "# **Observation:** \n",
        "Agatha Christie is the Top author with highest numbers of books."
      ],
      "metadata": {
        "id": "XQFjTa49cD9-"
      }
    },
    {
      "cell_type": "markdown",
      "source": [
        "# **Unique** **values** **for** **year** **of** **publication** **column**"
      ],
      "metadata": {
        "id": "HEkdlA_Zc1FO"
      }
    },
    {
      "cell_type": "code",
      "source": [
        "# Unique values of year of publication column\n",
        "Book_df['Year-Of-Publication'].unique()"
      ],
      "metadata": {
        "colab": {
          "base_uri": "https://localhost:8080/"
        },
        "id": "xiX__69BdKQI",
        "outputId": "4e8ea3b8-f612-4da2-c528-1db8fa47b0d6"
      },
      "execution_count": 10,
      "outputs": [
        {
          "output_type": "execute_result",
          "data": {
            "text/plain": [
              "array([2002, 2001, 1991, 1999, 2000, 1993, 1996, 1988, 2004, 1998, 1994,\n",
              "       2003, 1997, 1983, 1979, 1995, 1982, 1985, 1992, 1986, 1978, 1980,\n",
              "       1952, 1987, 1990, 1981, 1989, 1984, 0, 1968, 1961, 1958, 1974,\n",
              "       1976, 1971, 1977, 1975, 1965, 1941, 1970, 1962, 1973, 1972, 1960,\n",
              "       1966, 1920, 1956, 1959, 1953, 1951, 1942, 1963, 1964, 1969, 1954,\n",
              "       1950, 1967, 2005, 1957, 1940, 1937, 1955, 1946, 1936, 1930, 2011,\n",
              "       1925, 1948, 1943, 1947, 1945, 1923, 2020, 1939, 1926, 1938, 2030,\n",
              "       1911, 1904, 1949, 1932, 1928, 1929, 1927, 1931, 1914, 2050, 1934,\n",
              "       1910, 1933, 1902, 1924, 1921, 1900, 2038, 2026, 1944, 1917, 1901,\n",
              "       2010, 1908, 1906, 1935, 1806, 2021, '2000', '1995', '1999', '2004',\n",
              "       '2003', '1990', '1994', '1986', '1989', '2002', '1981', '1993',\n",
              "       '1983', '1982', '1976', '1991', '1977', '1998', '1992', '1996',\n",
              "       '0', '1997', '2001', '1974', '1968', '1987', '1984', '1988',\n",
              "       '1963', '1956', '1970', '1985', '1978', '1973', '1980', '1979',\n",
              "       '1975', '1969', '1961', '1965', '1939', '1958', '1950', '1953',\n",
              "       '1966', '1971', '1959', '1972', '1955', '1957', '1945', '1960',\n",
              "       '1967', '1932', '1924', '1964', '2012', '1911', '1927', '1948',\n",
              "       '1962', '2006', '1952', '1940', '1951', '1931', '1954', '2005',\n",
              "       '1930', '1941', '1944', 'DK Publishing Inc', '1943', '1938',\n",
              "       '1900', '1942', '1923', '1920', '1933', 'Gallimard', '1909',\n",
              "       '1946', '2008', '1378', '2030', '1936', '1947', '2011', '2020',\n",
              "       '1919', '1949', '1922', '1897', '2024', '1376', '1926', '2037'],\n",
              "      dtype=object)"
            ]
          },
          "metadata": {},
          "execution_count": 10
        }
      ]
    },
    {
      "cell_type": "code",
      "source": [
        "#Checking the rows with wrong value\n",
        "Book_df.loc[(Book_df['Year-Of-Publication'] == 'DK Publishing Inc') | (Book_df['Year-Of-Publication'] == 'Gallimard'),:]"
      ],
      "metadata": {
        "colab": {
          "base_uri": "https://localhost:8080/",
          "height": 381
        },
        "id": "lAgUBWmndZ8n",
        "outputId": "c231bff5-6b0e-4cac-8825-73cf1bceaf07"
      },
      "execution_count": 11,
      "outputs": [
        {
          "output_type": "execute_result",
          "data": {
            "text/plain": [
              "              ISBN                                         Book-Title  \\\n",
              "209538  078946697X  DK Readers: Creating the X-Men, How It All Beg...   \n",
              "220731  2070426769  Peuple du ciel, suivi de 'Les Bergers\\\";Jean-M...   \n",
              "221678  0789466953  DK Readers: Creating the X-Men, How Comic Book...   \n",
              "\n",
              "       Book-Author Year-Of-Publication  \\\n",
              "209538        2000   DK Publishing Inc   \n",
              "220731        2003           Gallimard   \n",
              "221678        2000   DK Publishing Inc   \n",
              "\n",
              "                                                Publisher  \\\n",
              "209538  http://images.amazon.com/images/P/078946697X.0...   \n",
              "220731  http://images.amazon.com/images/P/2070426769.0...   \n",
              "221678  http://images.amazon.com/images/P/0789466953.0...   \n",
              "\n",
              "                                              Image-URL-S  \\\n",
              "209538  http://images.amazon.com/images/P/078946697X.0...   \n",
              "220731  http://images.amazon.com/images/P/2070426769.0...   \n",
              "221678  http://images.amazon.com/images/P/0789466953.0...   \n",
              "\n",
              "                                              Image-URL-M Image-URL-L  \n",
              "209538  http://images.amazon.com/images/P/078946697X.0...         NaN  \n",
              "220731  http://images.amazon.com/images/P/2070426769.0...         NaN  \n",
              "221678  http://images.amazon.com/images/P/0789466953.0...         NaN  "
            ],
            "text/html": [
              "\n",
              "  <div id=\"df-4f0d024d-9d75-4bef-9a49-1611ff94ef9a\">\n",
              "    <div class=\"colab-df-container\">\n",
              "      <div>\n",
              "<style scoped>\n",
              "    .dataframe tbody tr th:only-of-type {\n",
              "        vertical-align: middle;\n",
              "    }\n",
              "\n",
              "    .dataframe tbody tr th {\n",
              "        vertical-align: top;\n",
              "    }\n",
              "\n",
              "    .dataframe thead th {\n",
              "        text-align: right;\n",
              "    }\n",
              "</style>\n",
              "<table border=\"1\" class=\"dataframe\">\n",
              "  <thead>\n",
              "    <tr style=\"text-align: right;\">\n",
              "      <th></th>\n",
              "      <th>ISBN</th>\n",
              "      <th>Book-Title</th>\n",
              "      <th>Book-Author</th>\n",
              "      <th>Year-Of-Publication</th>\n",
              "      <th>Publisher</th>\n",
              "      <th>Image-URL-S</th>\n",
              "      <th>Image-URL-M</th>\n",
              "      <th>Image-URL-L</th>\n",
              "    </tr>\n",
              "  </thead>\n",
              "  <tbody>\n",
              "    <tr>\n",
              "      <th>209538</th>\n",
              "      <td>078946697X</td>\n",
              "      <td>DK Readers: Creating the X-Men, How It All Beg...</td>\n",
              "      <td>2000</td>\n",
              "      <td>DK Publishing Inc</td>\n",
              "      <td>http://images.amazon.com/images/P/078946697X.0...</td>\n",
              "      <td>http://images.amazon.com/images/P/078946697X.0...</td>\n",
              "      <td>http://images.amazon.com/images/P/078946697X.0...</td>\n",
              "      <td>NaN</td>\n",
              "    </tr>\n",
              "    <tr>\n",
              "      <th>220731</th>\n",
              "      <td>2070426769</td>\n",
              "      <td>Peuple du ciel, suivi de 'Les Bergers\\\";Jean-M...</td>\n",
              "      <td>2003</td>\n",
              "      <td>Gallimard</td>\n",
              "      <td>http://images.amazon.com/images/P/2070426769.0...</td>\n",
              "      <td>http://images.amazon.com/images/P/2070426769.0...</td>\n",
              "      <td>http://images.amazon.com/images/P/2070426769.0...</td>\n",
              "      <td>NaN</td>\n",
              "    </tr>\n",
              "    <tr>\n",
              "      <th>221678</th>\n",
              "      <td>0789466953</td>\n",
              "      <td>DK Readers: Creating the X-Men, How Comic Book...</td>\n",
              "      <td>2000</td>\n",
              "      <td>DK Publishing Inc</td>\n",
              "      <td>http://images.amazon.com/images/P/0789466953.0...</td>\n",
              "      <td>http://images.amazon.com/images/P/0789466953.0...</td>\n",
              "      <td>http://images.amazon.com/images/P/0789466953.0...</td>\n",
              "      <td>NaN</td>\n",
              "    </tr>\n",
              "  </tbody>\n",
              "</table>\n",
              "</div>\n",
              "      <button class=\"colab-df-convert\" onclick=\"convertToInteractive('df-4f0d024d-9d75-4bef-9a49-1611ff94ef9a')\"\n",
              "              title=\"Convert this dataframe to an interactive table.\"\n",
              "              style=\"display:none;\">\n",
              "        \n",
              "  <svg xmlns=\"http://www.w3.org/2000/svg\" height=\"24px\"viewBox=\"0 0 24 24\"\n",
              "       width=\"24px\">\n",
              "    <path d=\"M0 0h24v24H0V0z\" fill=\"none\"/>\n",
              "    <path d=\"M18.56 5.44l.94 2.06.94-2.06 2.06-.94-2.06-.94-.94-2.06-.94 2.06-2.06.94zm-11 1L8.5 8.5l.94-2.06 2.06-.94-2.06-.94L8.5 2.5l-.94 2.06-2.06.94zm10 10l.94 2.06.94-2.06 2.06-.94-2.06-.94-.94-2.06-.94 2.06-2.06.94z\"/><path d=\"M17.41 7.96l-1.37-1.37c-.4-.4-.92-.59-1.43-.59-.52 0-1.04.2-1.43.59L10.3 9.45l-7.72 7.72c-.78.78-.78 2.05 0 2.83L4 21.41c.39.39.9.59 1.41.59.51 0 1.02-.2 1.41-.59l7.78-7.78 2.81-2.81c.8-.78.8-2.07 0-2.86zM5.41 20L4 18.59l7.72-7.72 1.47 1.35L5.41 20z\"/>\n",
              "  </svg>\n",
              "      </button>\n",
              "      \n",
              "  <style>\n",
              "    .colab-df-container {\n",
              "      display:flex;\n",
              "      flex-wrap:wrap;\n",
              "      gap: 12px;\n",
              "    }\n",
              "\n",
              "    .colab-df-convert {\n",
              "      background-color: #E8F0FE;\n",
              "      border: none;\n",
              "      border-radius: 50%;\n",
              "      cursor: pointer;\n",
              "      display: none;\n",
              "      fill: #1967D2;\n",
              "      height: 32px;\n",
              "      padding: 0 0 0 0;\n",
              "      width: 32px;\n",
              "    }\n",
              "\n",
              "    .colab-df-convert:hover {\n",
              "      background-color: #E2EBFA;\n",
              "      box-shadow: 0px 1px 2px rgba(60, 64, 67, 0.3), 0px 1px 3px 1px rgba(60, 64, 67, 0.15);\n",
              "      fill: #174EA6;\n",
              "    }\n",
              "\n",
              "    [theme=dark] .colab-df-convert {\n",
              "      background-color: #3B4455;\n",
              "      fill: #D2E3FC;\n",
              "    }\n",
              "\n",
              "    [theme=dark] .colab-df-convert:hover {\n",
              "      background-color: #434B5C;\n",
              "      box-shadow: 0px 1px 3px 1px rgba(0, 0, 0, 0.15);\n",
              "      filter: drop-shadow(0px 1px 2px rgba(0, 0, 0, 0.3));\n",
              "      fill: #FFFFFF;\n",
              "    }\n",
              "  </style>\n",
              "\n",
              "      <script>\n",
              "        const buttonEl =\n",
              "          document.querySelector('#df-4f0d024d-9d75-4bef-9a49-1611ff94ef9a button.colab-df-convert');\n",
              "        buttonEl.style.display =\n",
              "          google.colab.kernel.accessAllowed ? 'block' : 'none';\n",
              "\n",
              "        async function convertToInteractive(key) {\n",
              "          const element = document.querySelector('#df-4f0d024d-9d75-4bef-9a49-1611ff94ef9a');\n",
              "          const dataTable =\n",
              "            await google.colab.kernel.invokeFunction('convertToInteractive',\n",
              "                                                     [key], {});\n",
              "          if (!dataTable) return;\n",
              "\n",
              "          const docLinkHtml = 'Like what you see? Visit the ' +\n",
              "            '<a target=\"_blank\" href=https://colab.research.google.com/notebooks/data_table.ipynb>data table notebook</a>'\n",
              "            + ' to learn more about interactive tables.';\n",
              "          element.innerHTML = '';\n",
              "          dataTable['output_type'] = 'display_data';\n",
              "          await google.colab.output.renderOutput(dataTable, element);\n",
              "          const docLink = document.createElement('div');\n",
              "          docLink.innerHTML = docLinkHtml;\n",
              "          element.appendChild(docLink);\n",
              "        }\n",
              "      </script>\n",
              "    </div>\n",
              "  </div>\n",
              "  "
            ]
          },
          "metadata": {},
          "execution_count": 11
        }
      ]
    },
    {
      "cell_type": "code",
      "source": [
        "# correct the 'Year of Publication' column\n",
        "#ISBN = '0789466953'\n",
        "Book_df.loc[Book_df.ISBN == '0789466953','Year-Of-Publication'] = 2000\n",
        "Book_df.loc[Book_df.ISBN == '0789466953','Book-Author'] = \"James Buckley\"\n",
        "Book_df.loc[Book_df.ISBN == '0789466953','Publisher'] = \"DK Publishing Inc\"\n",
        "Book_df.loc[Book_df.ISBN == '0789466953','Book-Title'] = \"DK Readers: Creating the X-Men, How Comic Book_df Come to Life(Level 4: Proficient Readers)\"\n",
        "\n",
        "#ISBN = '078946697X'\n",
        "Book_df.loc[Book_df.ISBN == '078946697X','Year-Of-Publication'] = 2000\n",
        "Book_df.loc[Book_df.ISBN == '078946697X','Book-Author'] = \"Michael Teitelbaum\"\n",
        "Book_df.loc[Book_df.ISBN == '078946697X','Publisher'] = \"DK Publishing Inc\"\n",
        "Book_df.loc[Book_df.ISBN == '078946697X','Book-Title'] = \"DK Readers: Creating the X-Men, How It All Began(Level 4: Proficient Readers)\"\n",
        "\n",
        "#ISBN = '2070426769'\n",
        "Book_df.loc[Book_df.ISBN == '2070426769','Year-Of-Publication'] = 2003\n",
        "Book_df.loc[Book_df.ISBN == '2070426769','Book-Author'] = \"Jean-Marie Gustave Le ClÃƒ?Ã‚Â©zio\"\n",
        "Book_df.loc[Book_df.ISBN == '2070426769','Publisher'] = \"Gallimard\"\n",
        "Book_df.loc[Book_df.ISBN == '2070426769','Book-Title'] = \"Peuple du ciel, suivi de 'Les Bergers'\"\n",
        "\n",
        "\n",
        "Book_df.loc[(Book_df.ISBN == '0789466953') | (Book_df.ISBN == '078946697X') | (Book_df.ISBN == '2070426769'),:]"
      ],
      "metadata": {
        "colab": {
          "base_uri": "https://localhost:8080/",
          "height": 520
        },
        "id": "RKRAkLFVdjls",
        "outputId": "066b23ff-f0f1-4fae-f3d5-408903774ee3"
      },
      "execution_count": 12,
      "outputs": [
        {
          "output_type": "execute_result",
          "data": {
            "text/plain": [
              "              ISBN                                         Book-Title  \\\n",
              "209538  078946697X  DK Readers: Creating the X-Men, How It All Beg...   \n",
              "220731  2070426769             Peuple du ciel, suivi de 'Les Bergers'   \n",
              "221678  0789466953  DK Readers: Creating the X-Men, How Comic Book...   \n",
              "\n",
              "                               Book-Author Year-Of-Publication  \\\n",
              "209538                  Michael Teitelbaum                2000   \n",
              "220731  Jean-Marie Gustave Le ClÃƒ?Ã‚Â©zio                2003   \n",
              "221678                       James Buckley                2000   \n",
              "\n",
              "                Publisher                                        Image-URL-S  \\\n",
              "209538  DK Publishing Inc  http://images.amazon.com/images/P/078946697X.0...   \n",
              "220731          Gallimard  http://images.amazon.com/images/P/2070426769.0...   \n",
              "221678  DK Publishing Inc  http://images.amazon.com/images/P/0789466953.0...   \n",
              "\n",
              "                                              Image-URL-M Image-URL-L  \n",
              "209538  http://images.amazon.com/images/P/078946697X.0...         NaN  \n",
              "220731  http://images.amazon.com/images/P/2070426769.0...         NaN  \n",
              "221678  http://images.amazon.com/images/P/0789466953.0...         NaN  "
            ],
            "text/html": [
              "\n",
              "  <div id=\"df-e108d06d-794d-45fc-8e7a-5fead9282937\">\n",
              "    <div class=\"colab-df-container\">\n",
              "      <div>\n",
              "<style scoped>\n",
              "    .dataframe tbody tr th:only-of-type {\n",
              "        vertical-align: middle;\n",
              "    }\n",
              "\n",
              "    .dataframe tbody tr th {\n",
              "        vertical-align: top;\n",
              "    }\n",
              "\n",
              "    .dataframe thead th {\n",
              "        text-align: right;\n",
              "    }\n",
              "</style>\n",
              "<table border=\"1\" class=\"dataframe\">\n",
              "  <thead>\n",
              "    <tr style=\"text-align: right;\">\n",
              "      <th></th>\n",
              "      <th>ISBN</th>\n",
              "      <th>Book-Title</th>\n",
              "      <th>Book-Author</th>\n",
              "      <th>Year-Of-Publication</th>\n",
              "      <th>Publisher</th>\n",
              "      <th>Image-URL-S</th>\n",
              "      <th>Image-URL-M</th>\n",
              "      <th>Image-URL-L</th>\n",
              "    </tr>\n",
              "  </thead>\n",
              "  <tbody>\n",
              "    <tr>\n",
              "      <th>209538</th>\n",
              "      <td>078946697X</td>\n",
              "      <td>DK Readers: Creating the X-Men, How It All Beg...</td>\n",
              "      <td>Michael Teitelbaum</td>\n",
              "      <td>2000</td>\n",
              "      <td>DK Publishing Inc</td>\n",
              "      <td>http://images.amazon.com/images/P/078946697X.0...</td>\n",
              "      <td>http://images.amazon.com/images/P/078946697X.0...</td>\n",
              "      <td>NaN</td>\n",
              "    </tr>\n",
              "    <tr>\n",
              "      <th>220731</th>\n",
              "      <td>2070426769</td>\n",
              "      <td>Peuple du ciel, suivi de 'Les Bergers'</td>\n",
              "      <td>Jean-Marie Gustave Le ClÃƒ?Ã‚Â©zio</td>\n",
              "      <td>2003</td>\n",
              "      <td>Gallimard</td>\n",
              "      <td>http://images.amazon.com/images/P/2070426769.0...</td>\n",
              "      <td>http://images.amazon.com/images/P/2070426769.0...</td>\n",
              "      <td>NaN</td>\n",
              "    </tr>\n",
              "    <tr>\n",
              "      <th>221678</th>\n",
              "      <td>0789466953</td>\n",
              "      <td>DK Readers: Creating the X-Men, How Comic Book...</td>\n",
              "      <td>James Buckley</td>\n",
              "      <td>2000</td>\n",
              "      <td>DK Publishing Inc</td>\n",
              "      <td>http://images.amazon.com/images/P/0789466953.0...</td>\n",
              "      <td>http://images.amazon.com/images/P/0789466953.0...</td>\n",
              "      <td>NaN</td>\n",
              "    </tr>\n",
              "  </tbody>\n",
              "</table>\n",
              "</div>\n",
              "      <button class=\"colab-df-convert\" onclick=\"convertToInteractive('df-e108d06d-794d-45fc-8e7a-5fead9282937')\"\n",
              "              title=\"Convert this dataframe to an interactive table.\"\n",
              "              style=\"display:none;\">\n",
              "        \n",
              "  <svg xmlns=\"http://www.w3.org/2000/svg\" height=\"24px\"viewBox=\"0 0 24 24\"\n",
              "       width=\"24px\">\n",
              "    <path d=\"M0 0h24v24H0V0z\" fill=\"none\"/>\n",
              "    <path d=\"M18.56 5.44l.94 2.06.94-2.06 2.06-.94-2.06-.94-.94-2.06-.94 2.06-2.06.94zm-11 1L8.5 8.5l.94-2.06 2.06-.94-2.06-.94L8.5 2.5l-.94 2.06-2.06.94zm10 10l.94 2.06.94-2.06 2.06-.94-2.06-.94-.94-2.06-.94 2.06-2.06.94z\"/><path d=\"M17.41 7.96l-1.37-1.37c-.4-.4-.92-.59-1.43-.59-.52 0-1.04.2-1.43.59L10.3 9.45l-7.72 7.72c-.78.78-.78 2.05 0 2.83L4 21.41c.39.39.9.59 1.41.59.51 0 1.02-.2 1.41-.59l7.78-7.78 2.81-2.81c.8-.78.8-2.07 0-2.86zM5.41 20L4 18.59l7.72-7.72 1.47 1.35L5.41 20z\"/>\n",
              "  </svg>\n",
              "      </button>\n",
              "      \n",
              "  <style>\n",
              "    .colab-df-container {\n",
              "      display:flex;\n",
              "      flex-wrap:wrap;\n",
              "      gap: 12px;\n",
              "    }\n",
              "\n",
              "    .colab-df-convert {\n",
              "      background-color: #E8F0FE;\n",
              "      border: none;\n",
              "      border-radius: 50%;\n",
              "      cursor: pointer;\n",
              "      display: none;\n",
              "      fill: #1967D2;\n",
              "      height: 32px;\n",
              "      padding: 0 0 0 0;\n",
              "      width: 32px;\n",
              "    }\n",
              "\n",
              "    .colab-df-convert:hover {\n",
              "      background-color: #E2EBFA;\n",
              "      box-shadow: 0px 1px 2px rgba(60, 64, 67, 0.3), 0px 1px 3px 1px rgba(60, 64, 67, 0.15);\n",
              "      fill: #174EA6;\n",
              "    }\n",
              "\n",
              "    [theme=dark] .colab-df-convert {\n",
              "      background-color: #3B4455;\n",
              "      fill: #D2E3FC;\n",
              "    }\n",
              "\n",
              "    [theme=dark] .colab-df-convert:hover {\n",
              "      background-color: #434B5C;\n",
              "      box-shadow: 0px 1px 3px 1px rgba(0, 0, 0, 0.15);\n",
              "      filter: drop-shadow(0px 1px 2px rgba(0, 0, 0, 0.3));\n",
              "      fill: #FFFFFF;\n",
              "    }\n",
              "  </style>\n",
              "\n",
              "      <script>\n",
              "        const buttonEl =\n",
              "          document.querySelector('#df-e108d06d-794d-45fc-8e7a-5fead9282937 button.colab-df-convert');\n",
              "        buttonEl.style.display =\n",
              "          google.colab.kernel.accessAllowed ? 'block' : 'none';\n",
              "\n",
              "        async function convertToInteractive(key) {\n",
              "          const element = document.querySelector('#df-e108d06d-794d-45fc-8e7a-5fead9282937');\n",
              "          const dataTable =\n",
              "            await google.colab.kernel.invokeFunction('convertToInteractive',\n",
              "                                                     [key], {});\n",
              "          if (!dataTable) return;\n",
              "\n",
              "          const docLinkHtml = 'Like what you see? Visit the ' +\n",
              "            '<a target=\"_blank\" href=https://colab.research.google.com/notebooks/data_table.ipynb>data table notebook</a>'\n",
              "            + ' to learn more about interactive tables.';\n",
              "          element.innerHTML = '';\n",
              "          dataTable['output_type'] = 'display_data';\n",
              "          await google.colab.output.renderOutput(dataTable, element);\n",
              "          const docLink = document.createElement('div');\n",
              "          docLink.innerHTML = docLinkHtml;\n",
              "          element.appendChild(docLink);\n",
              "        }\n",
              "      </script>\n",
              "    </div>\n",
              "  </div>\n",
              "  "
            ]
          },
          "metadata": {},
          "execution_count": 12
        }
      ]
    },
    {
      "cell_type": "code",
      "source": [
        "#Converting Year-Of-Publication column from string to integer\n",
        "Book_df['Year-Of-Publication'] = Book_df['Year-Of-Publication'].apply(lambda x: int(x))"
      ],
      "metadata": {
        "id": "8IdpUCCgduo4"
      },
      "execution_count": 13,
      "outputs": []
    },
    {
      "cell_type": "code",
      "source": [
        "#fill the wrong entries with Nan values.\n",
        "Book_df.loc[(Book_df['Year-Of-Publication'] >= 2006) | (Book_df['Year-Of-Publication'] == 0),'Year-Of-Publication'] = np.NAN\n",
        "\n",
        "\n",
        "#replacing NaN values with median \n",
        "Book_df['Year-Of-Publication'].fillna(round(Book_df['Year-Of-Publication'].median()), inplace=True)"
      ],
      "metadata": {
        "id": "17QJFId_d7Yq"
      },
      "execution_count": 14,
      "outputs": []
    },
    {
      "cell_type": "code",
      "source": [
        "# Distplot for Year of Publication\n",
        "sns.distplot(Book_df['Year-Of-Publication'])"
      ],
      "metadata": {
        "colab": {
          "base_uri": "https://localhost:8080/",
          "height": 296
        },
        "id": "7JMrNah_eBKF",
        "outputId": "d5ea9fcc-44b8-4251-f77d-782663fad08d"
      },
      "execution_count": 15,
      "outputs": [
        {
          "output_type": "execute_result",
          "data": {
            "text/plain": [
              "<AxesSubplot:xlabel='Year-Of-Publication', ylabel='Density'>"
            ]
          },
          "metadata": {},
          "execution_count": 15
        },
        {
          "output_type": "display_data",
          "data": {
            "text/plain": [
              "<Figure size 432x288 with 1 Axes>"
            ],
            "image/png": "[encoded data removed]"
          },
          "metadata": {
            "needs_background": "light"
          }
        }
      ]
    },
    {
      "cell_type": "markdown",
      "source": [
        "# **Observation:**\n",
        "\n",
        "## Most of the books are published between 1970 to 2003.\n",
        "\n",
        "# **Top 10 Publishers with highest numbers of books**"
      ],
      "metadata": {
        "id": "Fs8R9sYqcUe8"
      }
    },
    {
      "cell_type": "code",
      "source": [
        "# Creating dataframe for top 10 publisher with highest number of books\n",
        "top_Publisher=Book_df.groupby('Publisher').agg({'Book-Title':'count'}).sort_values(by=\"Book-Title\",ascending=False).head(10).reset_index()\n",
        "top_Publisher.rename(columns = {'Publisher':'Publisher','Book-Title':\"count\"},inplace=True)"
      ],
      "metadata": {
        "id": "OYoxNrQHdh6N"
      },
      "execution_count": 16,
      "outputs": []
    },
    {
      "cell_type": "code",
      "source": [
        "top_Publisher"
      ],
      "metadata": {
        "colab": {
          "base_uri": "https://localhost:8080/",
          "height": 363
        },
        "id": "U50iAnK6eOA1",
        "outputId": "79a0d6f0-0ac6-4404-9669-8aa7970de7fe"
      },
      "execution_count": 17,
      "outputs": [
        {
          "output_type": "execute_result",
          "data": {
            "text/plain": [
              "                  Publisher  count\n",
              "0                 Harlequin   7535\n",
              "1                Silhouette   4220\n",
              "2                    Pocket   3905\n",
              "3          Ballantine Books   3783\n",
              "4              Bantam Books   3646\n",
              "5                Scholastic   3160\n",
              "6      Simon &amp; Schuster   2971\n",
              "7             Penguin Books   2844\n",
              "8  Berkley Publishing Group   2771\n",
              "9              Warner Books   2727"
            ],
            "text/html": [
              "\n",
              "  <div id=\"df-48890f4a-9aec-426f-ba1e-2dcff2b8d7c8\">\n",
              "    <div class=\"colab-df-container\">\n",
              "      <div>\n",
              "<style scoped>\n",
              "    .dataframe tbody tr th:only-of-type {\n",
              "        vertical-align: middle;\n",
              "    }\n",
              "\n",
              "    .dataframe tbody tr th {\n",
              "        vertical-align: top;\n",
              "    }\n",
              "\n",
              "    .dataframe thead th {\n",
              "        text-align: right;\n",
              "    }\n",
              "</style>\n",
              "<table border=\"1\" class=\"dataframe\">\n",
              "  <thead>\n",
              "    <tr style=\"text-align: right;\">\n",
              "      <th></th>\n",
              "      <th>Publisher</th>\n",
              "      <th>count</th>\n",
              "    </tr>\n",
              "  </thead>\n",
              "  <tbody>\n",
              "    <tr>\n",
              "      <th>0</th>\n",
              "      <td>Harlequin</td>\n",
              "      <td>7535</td>\n",
              "    </tr>\n",
              "    <tr>\n",
              "      <th>1</th>\n",
              "      <td>Silhouette</td>\n",
              "      <td>4220</td>\n",
              "    </tr>\n",
              "    <tr>\n",
              "      <th>2</th>\n",
              "      <td>Pocket</td>\n",
              "      <td>3905</td>\n",
              "    </tr>\n",
              "    <tr>\n",
              "      <th>3</th>\n",
              "      <td>Ballantine Books</td>\n",
              "      <td>3783</td>\n",
              "    </tr>\n",
              "    <tr>\n",
              "      <th>4</th>\n",
              "      <td>Bantam Books</td>\n",
              "      <td>3646</td>\n",
              "    </tr>\n",
              "    <tr>\n",
              "      <th>5</th>\n",
              "      <td>Scholastic</td>\n",
              "      <td>3160</td>\n",
              "    </tr>\n",
              "    <tr>\n",
              "      <th>6</th>\n",
              "      <td>Simon &amp;amp; Schuster</td>\n",
              "      <td>2971</td>\n",
              "    </tr>\n",
              "    <tr>\n",
              "      <th>7</th>\n",
              "      <td>Penguin Books</td>\n",
              "      <td>2844</td>\n",
              "    </tr>\n",
              "    <tr>\n",
              "      <th>8</th>\n",
              "      <td>Berkley Publishing Group</td>\n",
              "      <td>2771</td>\n",
              "    </tr>\n",
              "    <tr>\n",
              "      <th>9</th>\n",
              "      <td>Warner Books</td>\n",
              "      <td>2727</td>\n",
              "    </tr>\n",
              "  </tbody>\n",
              "</table>\n",
              "</div>\n",
              "      <button class=\"colab-df-convert\" onclick=\"convertToInteractive('df-48890f4a-9aec-426f-ba1e-2dcff2b8d7c8')\"\n",
              "              title=\"Convert this dataframe to an interactive table.\"\n",
              "              style=\"display:none;\">\n",
              "        \n",
              "  <svg xmlns=\"http://www.w3.org/2000/svg\" height=\"24px\"viewBox=\"0 0 24 24\"\n",
              "       width=\"24px\">\n",
              "    <path d=\"M0 0h24v24H0V0z\" fill=\"none\"/>\n",
              "    <path d=\"M18.56 5.44l.94 2.06.94-2.06 2.06-.94-2.06-.94-.94-2.06-.94 2.06-2.06.94zm-11 1L8.5 8.5l.94-2.06 2.06-.94-2.06-.94L8.5 2.5l-.94 2.06-2.06.94zm10 10l.94 2.06.94-2.06 2.06-.94-2.06-.94-.94-2.06-.94 2.06-2.06.94z\"/><path d=\"M17.41 7.96l-1.37-1.37c-.4-.4-.92-.59-1.43-.59-.52 0-1.04.2-1.43.59L10.3 9.45l-7.72 7.72c-.78.78-.78 2.05 0 2.83L4 21.41c.39.39.9.59 1.41.59.51 0 1.02-.2 1.41-.59l7.78-7.78 2.81-2.81c.8-.78.8-2.07 0-2.86zM5.41 20L4 18.59l7.72-7.72 1.47 1.35L5.41 20z\"/>\n",
              "  </svg>\n",
              "      </button>\n",
              "      \n",
              "  <style>\n",
              "    .colab-df-container {\n",
              "      display:flex;\n",
              "      flex-wrap:wrap;\n",
              "      gap: 12px;\n",
              "    }\n",
              "\n",
              "    .colab-df-convert {\n",
              "      background-color: #E8F0FE;\n",
              "      border: none;\n",
              "      border-radius: 50%;\n",
              "      cursor: pointer;\n",
              "      display: none;\n",
              "      fill: #1967D2;\n",
              "      height: 32px;\n",
              "      padding: 0 0 0 0;\n",
              "      width: 32px;\n",
              "    }\n",
              "\n",
              "    .colab-df-convert:hover {\n",
              "      background-color: #E2EBFA;\n",
              "      box-shadow: 0px 1px 2px rgba(60, 64, 67, 0.3), 0px 1px 3px 1px rgba(60, 64, 67, 0.15);\n",
              "      fill: #174EA6;\n",
              "    }\n",
              "\n",
              "    [theme=dark] .colab-df-convert {\n",
              "      background-color: #3B4455;\n",
              "      fill: #D2E3FC;\n",
              "    }\n",
              "\n",
              "    [theme=dark] .colab-df-convert:hover {\n",
              "      background-color: #434B5C;\n",
              "      box-shadow: 0px 1px 3px 1px rgba(0, 0, 0, 0.15);\n",
              "      filter: drop-shadow(0px 1px 2px rgba(0, 0, 0, 0.3));\n",
              "      fill: #FFFFFF;\n",
              "    }\n",
              "  </style>\n",
              "\n",
              "      <script>\n",
              "        const buttonEl =\n",
              "          document.querySelector('#df-48890f4a-9aec-426f-ba1e-2dcff2b8d7c8 button.colab-df-convert');\n",
              "        buttonEl.style.display =\n",
              "          google.colab.kernel.accessAllowed ? 'block' : 'none';\n",
              "\n",
              "        async function convertToInteractive(key) {\n",
              "          const element = document.querySelector('#df-48890f4a-9aec-426f-ba1e-2dcff2b8d7c8');\n",
              "          const dataTable =\n",
              "            await google.colab.kernel.invokeFunction('convertToInteractive',\n",
              "                                                     [key], {});\n",
              "          if (!dataTable) return;\n",
              "\n",
              "          const docLinkHtml = 'Like what you see? Visit the ' +\n",
              "            '<a target=\"_blank\" href=https://colab.research.google.com/notebooks/data_table.ipynb>data table notebook</a>'\n",
              "            + ' to learn more about interactive tables.';\n",
              "          element.innerHTML = '';\n",
              "          dataTable['output_type'] = 'display_data';\n",
              "          await google.colab.output.renderOutput(dataTable, element);\n",
              "          const docLink = document.createElement('div');\n",
              "          docLink.innerHTML = docLinkHtml;\n",
              "          element.appendChild(docLink);\n",
              "        }\n",
              "      </script>\n",
              "    </div>\n",
              "  </div>\n",
              "  "
            ]
          },
          "metadata": {},
          "execution_count": 17
        }
      ]
    },
    {
      "cell_type": "code",
      "source": [
        "# Plotting bar graph for top 10 publisher with highest number of books\n",
        "plt.figure(figsize=(12,7))\n",
        "sns.barplot(data=top_Publisher, x=\"Publisher\", y=\"count\")\n",
        "plt.title(\"Top 10 Publisher with highest numbers of book\",fontsize=20);\n",
        "plt.xticks(rotation=90,fontsize=15)\n",
        "plt.xlabel(\"Publisher\",fontsize=20)\n",
        "plt.ylabel(\"Number Of Books\",fontsize=20)"
      ],
      "metadata": {
        "colab": {
          "base_uri": "https://localhost:8080/",
          "height": 669
        },
        "id": "Hp2eFeA0eRNp",
        "outputId": "0ced9393-0585-4bf1-cbb4-6989ba991f18"
      },
      "execution_count": 18,
      "outputs": [
        {
          "output_type": "execute_result",
          "data": {
            "text/plain": [
              "Text(0, 0.5, 'Number Of Books')"
            ]
          },
          "metadata": {},
          "execution_count": 18
        },
        {
          "output_type": "display_data",
          "data": {
            "text/plain": [
              "<Figure size 864x504 with 1 Axes>"
            ],
            "image/png": "[encoded data removed]"
          },
          "metadata": {
            "needs_background": "light"
          }
        }
      ]
    },
    {
      "cell_type": "markdown",
      "source": [
        "# **Observation:**\n",
        "\n",
        "# Harlequin is the Top Publisher with highest numbers of book\n",
        "\n",
        "# **Top Country with highest numbers of users**"
      ],
      "metadata": {
        "id": "qWzNOHQeeheW"
      }
    },
    {
      "cell_type": "code",
      "source": [
        "# Finding countries from location column\n",
        "loction_df=user_df['Location'].apply(lambda x: pd.Series(str(x).split(\",\")))[2]"
      ],
      "metadata": {
        "id": "FyrWzFuye07T"
      },
      "execution_count": 19,
      "outputs": []
    },
    {
      "cell_type": "code",
      "source": [
        "# Creating new column named country\n",
        "user_df['Country']=loction_df"
      ],
      "metadata": {
        "id": "c9G3N59te-0p"
      },
      "execution_count": 20,
      "outputs": []
    },
    {
      "cell_type": "code",
      "source": [
        "# Finding countries with highest number of users\n",
        "user_location=user_df[['User-ID']]\n",
        "user_location['Country']=loction_df"
      ],
      "metadata": {
        "id": "wnK8u2pRfDqk"
      },
      "execution_count": 21,
      "outputs": []
    },
    {
      "cell_type": "code",
      "source": [
        "top_location=user_location.groupby('Country').agg({'User-ID':'count'}).sort_values(by=\"User-ID\",ascending=False).head(16).reset_index()\n",
        "top_location.rename(columns = {'Country':'Country','User-ID':\"count\"},inplace=True)"
      ],
      "metadata": {
        "id": "HDbAa07ffONH"
      },
      "execution_count": 22,
      "outputs": []
    },
    {
      "cell_type": "code",
      "source": [
        "top_location=top_location.drop(7)"
      ],
      "metadata": {
        "id": "BmzdEULufb0E"
      },
      "execution_count": null,
      "outputs": []
    },
    {
      "cell_type": "code",
      "source": [
        "top_location"
      ],
      "metadata": {
        "colab": {
          "base_uri": "https://localhost:8080/",
          "height": 519
        },
        "id": "XlqsXAUMfgMk",
        "outputId": "c1dece25-0469-4302-d496-5ed014238854"
      },
      "execution_count": null,
      "outputs": [
        {
          "output_type": "execute_result",
          "data": {
            "text/plain": [
              "            Country   count\n",
              "0               usa  139187\n",
              "1            canada   21558\n",
              "2    united kingdom   18286\n",
              "3           germany   17022\n",
              "4             spain   13095\n",
              "5         australia   11723\n",
              "6             italy   11242\n",
              "8            france    3442\n",
              "9          portugal    3306\n",
              "10      new zealand    3071\n",
              "11      netherlands    3017\n",
              "12      switzerland    1740\n",
              "13           brazil    1671\n",
              "14            china    1462\n",
              "15           sweden    1402"
            ],
            "text/html": [
              "\n",
              "  <div id=\"df-62c80130-7aef-49f6-9bf4-500d9717109c\">\n",
              "    <div class=\"colab-df-container\">\n",
              "      <div>\n",
              "<style scoped>\n",
              "    .dataframe tbody tr th:only-of-type {\n",
              "        vertical-align: middle;\n",
              "    }\n",
              "\n",
              "    .dataframe tbody tr th {\n",
              "        vertical-align: top;\n",
              "    }\n",
              "\n",
              "    .dataframe thead th {\n",
              "        text-align: right;\n",
              "    }\n",
              "</style>\n",
              "<table border=\"1\" class=\"dataframe\">\n",
              "  <thead>\n",
              "    <tr style=\"text-align: right;\">\n",
              "      <th></th>\n",
              "      <th>Country</th>\n",
              "      <th>count</th>\n",
              "    </tr>\n",
              "  </thead>\n",
              "  <tbody>\n",
              "    <tr>\n",
              "      <th>0</th>\n",
              "      <td>usa</td>\n",
              "      <td>139187</td>\n",
              "    </tr>\n",
              "    <tr>\n",
              "      <th>1</th>\n",
              "      <td>canada</td>\n",
              "      <td>21558</td>\n",
              "    </tr>\n",
              "    <tr>\n",
              "      <th>2</th>\n",
              "      <td>united kingdom</td>\n",
              "      <td>18286</td>\n",
              "    </tr>\n",
              "    <tr>\n",
              "      <th>3</th>\n",
              "      <td>germany</td>\n",
              "      <td>17022</td>\n",
              "    </tr>\n",
              "    <tr>\n",
              "      <th>4</th>\n",
              "      <td>spain</td>\n",
              "      <td>13095</td>\n",
              "    </tr>\n",
              "    <tr>\n",
              "      <th>5</th>\n",
              "      <td>australia</td>\n",
              "      <td>11723</td>\n",
              "    </tr>\n",
              "    <tr>\n",
              "      <th>6</th>\n",
              "      <td>italy</td>\n",
              "      <td>11242</td>\n",
              "    </tr>\n",
              "    <tr>\n",
              "      <th>8</th>\n",
              "      <td>france</td>\n",
              "      <td>3442</td>\n",
              "    </tr>\n",
              "    <tr>\n",
              "      <th>9</th>\n",
              "      <td>portugal</td>\n",
              "      <td>3306</td>\n",
              "    </tr>\n",
              "    <tr>\n",
              "      <th>10</th>\n",
              "      <td>new zealand</td>\n",
              "      <td>3071</td>\n",
              "    </tr>\n",
              "    <tr>\n",
              "      <th>11</th>\n",
              "      <td>netherlands</td>\n",
              "      <td>3017</td>\n",
              "    </tr>\n",
              "    <tr>\n",
              "      <th>12</th>\n",
              "      <td>switzerland</td>\n",
              "      <td>1740</td>\n",
              "    </tr>\n",
              "    <tr>\n",
              "      <th>13</th>\n",
              "      <td>brazil</td>\n",
              "      <td>1671</td>\n",
              "    </tr>\n",
              "    <tr>\n",
              "      <th>14</th>\n",
              "      <td>china</td>\n",
              "      <td>1462</td>\n",
              "    </tr>\n",
              "    <tr>\n",
              "      <th>15</th>\n",
              "      <td>sweden</td>\n",
              "      <td>1402</td>\n",
              "    </tr>\n",
              "  </tbody>\n",
              "</table>\n",
              "</div>\n",
              "      <button class=\"colab-df-convert\" onclick=\"convertToInteractive('df-62c80130-7aef-49f6-9bf4-500d9717109c')\"\n",
              "              title=\"Convert this dataframe to an interactive table.\"\n",
              "              style=\"display:none;\">\n",
              "        \n",
              "  <svg xmlns=\"http://www.w3.org/2000/svg\" height=\"24px\"viewBox=\"0 0 24 24\"\n",
              "       width=\"24px\">\n",
              "    <path d=\"M0 0h24v24H0V0z\" fill=\"none\"/>\n",
              "    <path d=\"M18.56 5.44l.94 2.06.94-2.06 2.06-.94-2.06-.94-.94-2.06-.94 2.06-2.06.94zm-11 1L8.5 8.5l.94-2.06 2.06-.94-2.06-.94L8.5 2.5l-.94 2.06-2.06.94zm10 10l.94 2.06.94-2.06 2.06-.94-2.06-.94-.94-2.06-.94 2.06-2.06.94z\"/><path d=\"M17.41 7.96l-1.37-1.37c-.4-.4-.92-.59-1.43-.59-.52 0-1.04.2-1.43.59L10.3 9.45l-7.72 7.72c-.78.78-.78 2.05 0 2.83L4 21.41c.39.39.9.59 1.41.59.51 0 1.02-.2 1.41-.59l7.78-7.78 2.81-2.81c.8-.78.8-2.07 0-2.86zM5.41 20L4 18.59l7.72-7.72 1.47 1.35L5.41 20z\"/>\n",
              "  </svg>\n",
              "      </button>\n",
              "      \n",
              "  <style>\n",
              "    .colab-df-container {\n",
              "      display:flex;\n",
              "      flex-wrap:wrap;\n",
              "      gap: 12px;\n",
              "    }\n",
              "\n",
              "    .colab-df-convert {\n",
              "      background-color: #E8F0FE;\n",
              "      border: none;\n",
              "      border-radius: 50%;\n",
              "      cursor: pointer;\n",
              "      display: none;\n",
              "      fill: #1967D2;\n",
              "      height: 32px;\n",
              "      padding: 0 0 0 0;\n",
              "      width: 32px;\n",
              "    }\n",
              "\n",
              "    .colab-df-convert:hover {\n",
              "      background-color: #E2EBFA;\n",
              "      box-shadow: 0px 1px 2px rgba(60, 64, 67, 0.3), 0px 1px 3px 1px rgba(60, 64, 67, 0.15);\n",
              "      fill: #174EA6;\n",
              "    }\n",
              "\n",
              "    [theme=dark] .colab-df-convert {\n",
              "      background-color: #3B4455;\n",
              "      fill: #D2E3FC;\n",
              "    }\n",
              "\n",
              "    [theme=dark] .colab-df-convert:hover {\n",
              "      background-color: #434B5C;\n",
              "      box-shadow: 0px 1px 3px 1px rgba(0, 0, 0, 0.15);\n",
              "      filter: drop-shadow(0px 1px 2px rgba(0, 0, 0, 0.3));\n",
              "      fill: #FFFFFF;\n",
              "    }\n",
              "  </style>\n",
              "\n",
              "      <script>\n",
              "        const buttonEl =\n",
              "          document.querySelector('#df-62c80130-7aef-49f6-9bf4-500d9717109c button.colab-df-convert');\n",
              "        buttonEl.style.display =\n",
              "          google.colab.kernel.accessAllowed ? 'block' : 'none';\n",
              "\n",
              "        async function convertToInteractive(key) {\n",
              "          const element = document.querySelector('#df-62c80130-7aef-49f6-9bf4-500d9717109c');\n",
              "          const dataTable =\n",
              "            await google.colab.kernel.invokeFunction('convertToInteractive',\n",
              "                                                     [key], {});\n",
              "          if (!dataTable) return;\n",
              "\n",
              "          const docLinkHtml = 'Like what you see? Visit the ' +\n",
              "            '<a target=\"_blank\" href=https://colab.research.google.com/notebooks/data_table.ipynb>data table notebook</a>'\n",
              "            + ' to learn more about interactive tables.';\n",
              "          element.innerHTML = '';\n",
              "          dataTable['output_type'] = 'display_data';\n",
              "          await google.colab.output.renderOutput(dataTable, element);\n",
              "          const docLink = document.createElement('div');\n",
              "          docLink.innerHTML = docLinkHtml;\n",
              "          element.appendChild(docLink);\n",
              "        }\n",
              "      </script>\n",
              "    </div>\n",
              "  </div>\n",
              "  "
            ]
          },
          "metadata": {},
          "execution_count": 35
        }
      ]
    },
    {
      "cell_type": "code",
      "source": [
        "# Plotting bar graph for top country with highest number of users \n",
        "plt.figure(figsize=(12,7))\n",
        "sns.barplot(data=top_location, x=\"Country\", y=\"count\")\n",
        "plt.title(\"Top Country with highest number of users\",fontsize=20);\n",
        "plt.xticks(rotation=90,fontsize=15)\n",
        "plt.xlabel(\"Country\",fontsize=20)\n",
        "plt.ylabel(\"Number Of users\",fontsize=20);"
      ],
      "metadata": {
        "colab": {
          "base_uri": "https://localhost:8080/",
          "height": 586
        },
        "id": "Xyznf_Gsfm1A",
        "outputId": "2fc7da20-5c9d-49e8-e6a9-85574e3ec68c"
      },
      "execution_count": 23,
      "outputs": [
        {
          "output_type": "display_data",
          "data": {
            "text/plain": [
              "<Figure size 864x504 with 1 Axes>"
            ],
            "image/png": "[encoded data removed]"
          },
          "metadata": {
            "needs_background": "light"
          }
        }
      ]
    },
    {
      "cell_type": "markdown",
      "source": [
        "# **Observation:**\n",
        "\n",
        "## USA is the Top Country with highest numbers of users\n",
        "\n",
        "# **Analyzing the age column**"
      ],
      "metadata": {
        "id": "4EGlqmkWfz3u"
      }
    },
    {
      "cell_type": "code",
      "source": [
        "# Description of age column\n",
        "user_df['Age'].describe()"
      ],
      "metadata": {
        "colab": {
          "base_uri": "https://localhost:8080/"
        },
        "id": "MZk0dLdLgoiB",
        "outputId": "ceed9010-281f-4a92-d989-1f39db68fdb2"
      },
      "execution_count": 24,
      "outputs": [
        {
          "output_type": "execute_result",
          "data": {
            "text/plain": [
              "count    168096.000000\n",
              "mean         34.751434\n",
              "std          14.428097\n",
              "min           0.000000\n",
              "25%          24.000000\n",
              "50%          32.000000\n",
              "75%          44.000000\n",
              "max         244.000000\n",
              "Name: Age, dtype: float64"
            ]
          },
          "metadata": {},
          "execution_count": 24
        }
      ]
    },
    {
      "cell_type": "code",
      "source": [
        "# Checking max age\n",
        "user_df[user_df['Age']==244]"
      ],
      "metadata": {
        "colab": {
          "base_uri": "https://localhost:8080/",
          "height": 81
        },
        "id": "-T0Z-ddnguDN",
        "outputId": "fb73c444-9a40-4caa-f370-42a6b800f938"
      },
      "execution_count": 25,
      "outputs": [
        {
          "output_type": "execute_result",
          "data": {
            "text/plain": [
              "       User-ID                                Location    Age   Country\n",
              "20856    20857  stuttgart, baden-wuerttemberg, germany  244.0   germany"
            ],
            "text/html": [
              "\n",
              "  <div id=\"df-f570df52-2605-46c9-8119-f4673f463ff0\">\n",
              "    <div class=\"colab-df-container\">\n",
              "      <div>\n",
              "<style scoped>\n",
              "    .dataframe tbody tr th:only-of-type {\n",
              "        vertical-align: middle;\n",
              "    }\n",
              "\n",
              "    .dataframe tbody tr th {\n",
              "        vertical-align: top;\n",
              "    }\n",
              "\n",
              "    .dataframe thead th {\n",
              "        text-align: right;\n",
              "    }\n",
              "</style>\n",
              "<table border=\"1\" class=\"dataframe\">\n",
              "  <thead>\n",
              "    <tr style=\"text-align: right;\">\n",
              "      <th></th>\n",
              "      <th>User-ID</th>\n",
              "      <th>Location</th>\n",
              "      <th>Age</th>\n",
              "      <th>Country</th>\n",
              "    </tr>\n",
              "  </thead>\n",
              "  <tbody>\n",
              "    <tr>\n",
              "      <th>20856</th>\n",
              "      <td>20857</td>\n",
              "      <td>stuttgart, baden-wuerttemberg, germany</td>\n",
              "      <td>244.0</td>\n",
              "      <td>germany</td>\n",
              "    </tr>\n",
              "  </tbody>\n",
              "</table>\n",
              "</div>\n",
              "      <button class=\"colab-df-convert\" onclick=\"convertToInteractive('df-f570df52-2605-46c9-8119-f4673f463ff0')\"\n",
              "              title=\"Convert this dataframe to an interactive table.\"\n",
              "              style=\"display:none;\">\n",
              "        \n",
              "  <svg xmlns=\"http://www.w3.org/2000/svg\" height=\"24px\"viewBox=\"0 0 24 24\"\n",
              "       width=\"24px\">\n",
              "    <path d=\"M0 0h24v24H0V0z\" fill=\"none\"/>\n",
              "    <path d=\"M18.56 5.44l.94 2.06.94-2.06 2.06-.94-2.06-.94-.94-2.06-.94 2.06-2.06.94zm-11 1L8.5 8.5l.94-2.06 2.06-.94-2.06-.94L8.5 2.5l-.94 2.06-2.06.94zm10 10l.94 2.06.94-2.06 2.06-.94-2.06-.94-.94-2.06-.94 2.06-2.06.94z\"/><path d=\"M17.41 7.96l-1.37-1.37c-.4-.4-.92-.59-1.43-.59-.52 0-1.04.2-1.43.59L10.3 9.45l-7.72 7.72c-.78.78-.78 2.05 0 2.83L4 21.41c.39.39.9.59 1.41.59.51 0 1.02-.2 1.41-.59l7.78-7.78 2.81-2.81c.8-.78.8-2.07 0-2.86zM5.41 20L4 18.59l7.72-7.72 1.47 1.35L5.41 20z\"/>\n",
              "  </svg>\n",
              "      </button>\n",
              "      \n",
              "  <style>\n",
              "    .colab-df-container {\n",
              "      display:flex;\n",
              "      flex-wrap:wrap;\n",
              "      gap: 12px;\n",
              "    }\n",
              "\n",
              "    .colab-df-convert {\n",
              "      background-color: #E8F0FE;\n",
              "      border: none;\n",
              "      border-radius: 50%;\n",
              "      cursor: pointer;\n",
              "      display: none;\n",
              "      fill: #1967D2;\n",
              "      height: 32px;\n",
              "      padding: 0 0 0 0;\n",
              "      width: 32px;\n",
              "    }\n",
              "\n",
              "    .colab-df-convert:hover {\n",
              "      background-color: #E2EBFA;\n",
              "      box-shadow: 0px 1px 2px rgba(60, 64, 67, 0.3), 0px 1px 3px 1px rgba(60, 64, 67, 0.15);\n",
              "      fill: #174EA6;\n",
              "    }\n",
              "\n",
              "    [theme=dark] .colab-df-convert {\n",
              "      background-color: #3B4455;\n",
              "      fill: #D2E3FC;\n",
              "    }\n",
              "\n",
              "    [theme=dark] .colab-df-convert:hover {\n",
              "      background-color: #434B5C;\n",
              "      box-shadow: 0px 1px 3px 1px rgba(0, 0, 0, 0.15);\n",
              "      filter: drop-shadow(0px 1px 2px rgba(0, 0, 0, 0.3));\n",
              "      fill: #FFFFFF;\n",
              "    }\n",
              "  </style>\n",
              "\n",
              "      <script>\n",
              "        const buttonEl =\n",
              "          document.querySelector('#df-f570df52-2605-46c9-8119-f4673f463ff0 button.colab-df-convert');\n",
              "        buttonEl.style.display =\n",
              "          google.colab.kernel.accessAllowed ? 'block' : 'none';\n",
              "\n",
              "        async function convertToInteractive(key) {\n",
              "          const element = document.querySelector('#df-f570df52-2605-46c9-8119-f4673f463ff0');\n",
              "          const dataTable =\n",
              "            await google.colab.kernel.invokeFunction('convertToInteractive',\n",
              "                                                     [key], {});\n",
              "          if (!dataTable) return;\n",
              "\n",
              "          const docLinkHtml = 'Like what you see? Visit the ' +\n",
              "            '<a target=\"_blank\" href=https://colab.research.google.com/notebooks/data_table.ipynb>data table notebook</a>'\n",
              "            + ' to learn more about interactive tables.';\n",
              "          element.innerHTML = '';\n",
              "          dataTable['output_type'] = 'display_data';\n",
              "          await google.colab.output.renderOutput(dataTable, element);\n",
              "          const docLink = document.createElement('div');\n",
              "          docLink.innerHTML = docLinkHtml;\n",
              "          element.appendChild(docLink);\n",
              "        }\n",
              "      </script>\n",
              "    </div>\n",
              "  </div>\n",
              "  "
            ]
          },
          "metadata": {},
          "execution_count": 25
        }
      ]
    },
    {
      "cell_type": "code",
      "source": [
        "# Box plot for age column\n",
        "sns.boxplot(user_df['Age'])\n"
      ],
      "metadata": {
        "colab": {
          "base_uri": "https://localhost:8080/",
          "height": 296
        },
        "id": "jC80LV4Gg7kc",
        "outputId": "de82df54-9053-4a30-876a-56b6c7683e19"
      },
      "execution_count": 26,
      "outputs": [
        {
          "output_type": "execute_result",
          "data": {
            "text/plain": [
              "<AxesSubplot:xlabel='Age'>"
            ]
          },
          "metadata": {},
          "execution_count": 26
        },
        {
          "output_type": "display_data",
          "data": {
            "text/plain": [
              "<Figure size 432x288 with 1 Axes>"
            ],
            "image/png": "[encoded data removed]"
          },
          "metadata": {
            "needs_background": "light"
          }
        }
      ]
    },
    {
      "cell_type": "markdown",
      "source": [
        "# **Observation:**\n",
        "\n",
        "**There are some outlier in the age column**"
      ],
      "metadata": {
        "id": "YYzDntqKhG-x"
      }
    },
    {
      "cell_type": "code",
      "source": [
        "# Dist plot for age column\n",
        "sns.distplot(user_df['Age'])"
      ],
      "metadata": {
        "colab": {
          "base_uri": "https://localhost:8080/",
          "height": 296
        },
        "id": "kgYAwSrPhUkD",
        "outputId": "dcc3d51a-8759-46e5-e176-37d6155e9dca"
      },
      "execution_count": 27,
      "outputs": [
        {
          "output_type": "execute_result",
          "data": {
            "text/plain": [
              "<AxesSubplot:xlabel='Age', ylabel='Density'>"
            ]
          },
          "metadata": {},
          "execution_count": 27
        },
        {
          "output_type": "display_data",
          "data": {
            "text/plain": [
              "<Figure size 432x288 with 1 Axes>"
            ],
            "image/png": "[encoded data removed]"
          },
          "metadata": {
            "needs_background": "light"
          }
        }
      ]
    },
    {
      "cell_type": "markdown",
      "source": [
        "# **Observation:**\n",
        "\n",
        "## We Can see majority of the users are of age 20-35\n",
        "\n",
        "# Value count of ratings"
      ],
      "metadata": {
        "id": "NofsJgnGhbwt"
      }
    },
    {
      "cell_type": "code",
      "source": [
        "rating_df['Book-Rating'].value_counts().reset_index().rename(columns={'index':'Rating','Book-Rating':'count'})"
      ],
      "metadata": {
        "colab": {
          "base_uri": "https://localhost:8080/",
          "height": 394
        },
        "id": "iHdBBdHRhv9u",
        "outputId": "06095256-08b6-4813-d071-774e4f5d7f5d"
      },
      "execution_count": 28,
      "outputs": [
        {
          "output_type": "execute_result",
          "data": {
            "text/plain": [
              "    Rating   count\n",
              "0        0  716109\n",
              "1        8  103736\n",
              "2       10   78610\n",
              "3        7   76457\n",
              "4        9   67541\n",
              "5        5   50974\n",
              "6        6   36924\n",
              "7        4    8904\n",
              "8        3    5996\n",
              "9        2    2759\n",
              "10       1    1770"
            ],
            "text/html": [
              "\n",
              "  <div id=\"df-21e7448d-5f34-4344-a623-57e710fd2f30\">\n",
              "    <div class=\"colab-df-container\">\n",
              "      <div>\n",
              "<style scoped>\n",
              "    .dataframe tbody tr th:only-of-type {\n",
              "        vertical-align: middle;\n",
              "    }\n",
              "\n",
              "    .dataframe tbody tr th {\n",
              "        vertical-align: top;\n",
              "    }\n",
              "\n",
              "    .dataframe thead th {\n",
              "        text-align: right;\n",
              "    }\n",
              "</style>\n",
              "<table border=\"1\" class=\"dataframe\">\n",
              "  <thead>\n",
              "    <tr style=\"text-align: right;\">\n",
              "      <th></th>\n",
              "      <th>Rating</th>\n",
              "      <th>count</th>\n",
              "    </tr>\n",
              "  </thead>\n",
              "  <tbody>\n",
              "    <tr>\n",
              "      <th>0</th>\n",
              "      <td>0</td>\n",
              "      <td>716109</td>\n",
              "    </tr>\n",
              "    <tr>\n",
              "      <th>1</th>\n",
              "      <td>8</td>\n",
              "      <td>103736</td>\n",
              "    </tr>\n",
              "    <tr>\n",
              "      <th>2</th>\n",
              "      <td>10</td>\n",
              "      <td>78610</td>\n",
              "    </tr>\n",
              "    <tr>\n",
              "      <th>3</th>\n",
              "      <td>7</td>\n",
              "      <td>76457</td>\n",
              "    </tr>\n",
              "    <tr>\n",
              "      <th>4</th>\n",
              "      <td>9</td>\n",
              "      <td>67541</td>\n",
              "    </tr>\n",
              "    <tr>\n",
              "      <th>5</th>\n",
              "      <td>5</td>\n",
              "      <td>50974</td>\n",
              "    </tr>\n",
              "    <tr>\n",
              "      <th>6</th>\n",
              "      <td>6</td>\n",
              "      <td>36924</td>\n",
              "    </tr>\n",
              "    <tr>\n",
              "      <th>7</th>\n",
              "      <td>4</td>\n",
              "      <td>8904</td>\n",
              "    </tr>\n",
              "    <tr>\n",
              "      <th>8</th>\n",
              "      <td>3</td>\n",
              "      <td>5996</td>\n",
              "    </tr>\n",
              "    <tr>\n",
              "      <th>9</th>\n",
              "      <td>2</td>\n",
              "      <td>2759</td>\n",
              "    </tr>\n",
              "    <tr>\n",
              "      <th>10</th>\n",
              "      <td>1</td>\n",
              "      <td>1770</td>\n",
              "    </tr>\n",
              "  </tbody>\n",
              "</table>\n",
              "</div>\n",
              "      <button class=\"colab-df-convert\" onclick=\"convertToInteractive('df-21e7448d-5f34-4344-a623-57e710fd2f30')\"\n",
              "              title=\"Convert this dataframe to an interactive table.\"\n",
              "              style=\"display:none;\">\n",
              "        \n",
              "  <svg xmlns=\"http://www.w3.org/2000/svg\" height=\"24px\"viewBox=\"0 0 24 24\"\n",
              "       width=\"24px\">\n",
              "    <path d=\"M0 0h24v24H0V0z\" fill=\"none\"/>\n",
              "    <path d=\"M18.56 5.44l.94 2.06.94-2.06 2.06-.94-2.06-.94-.94-2.06-.94 2.06-2.06.94zm-11 1L8.5 8.5l.94-2.06 2.06-.94-2.06-.94L8.5 2.5l-.94 2.06-2.06.94zm10 10l.94 2.06.94-2.06 2.06-.94-2.06-.94-.94-2.06-.94 2.06-2.06.94z\"/><path d=\"M17.41 7.96l-1.37-1.37c-.4-.4-.92-.59-1.43-.59-.52 0-1.04.2-1.43.59L10.3 9.45l-7.72 7.72c-.78.78-.78 2.05 0 2.83L4 21.41c.39.39.9.59 1.41.59.51 0 1.02-.2 1.41-.59l7.78-7.78 2.81-2.81c.8-.78.8-2.07 0-2.86zM5.41 20L4 18.59l7.72-7.72 1.47 1.35L5.41 20z\"/>\n",
              "  </svg>\n",
              "      </button>\n",
              "      \n",
              "  <style>\n",
              "    .colab-df-container {\n",
              "      display:flex;\n",
              "      flex-wrap:wrap;\n",
              "      gap: 12px;\n",
              "    }\n",
              "\n",
              "    .colab-df-convert {\n",
              "      background-color: #E8F0FE;\n",
              "      border: none;\n",
              "      border-radius: 50%;\n",
              "      cursor: pointer;\n",
              "      display: none;\n",
              "      fill: #1967D2;\n",
              "      height: 32px;\n",
              "      padding: 0 0 0 0;\n",
              "      width: 32px;\n",
              "    }\n",
              "\n",
              "    .colab-df-convert:hover {\n",
              "      background-color: #E2EBFA;\n",
              "      box-shadow: 0px 1px 2px rgba(60, 64, 67, 0.3), 0px 1px 3px 1px rgba(60, 64, 67, 0.15);\n",
              "      fill: #174EA6;\n",
              "    }\n",
              "\n",
              "    [theme=dark] .colab-df-convert {\n",
              "      background-color: #3B4455;\n",
              "      fill: #D2E3FC;\n",
              "    }\n",
              "\n",
              "    [theme=dark] .colab-df-convert:hover {\n",
              "      background-color: #434B5C;\n",
              "      box-shadow: 0px 1px 3px 1px rgba(0, 0, 0, 0.15);\n",
              "      filter: drop-shadow(0px 1px 2px rgba(0, 0, 0, 0.3));\n",
              "      fill: #FFFFFF;\n",
              "    }\n",
              "  </style>\n",
              "\n",
              "      <script>\n",
              "        const buttonEl =\n",
              "          document.querySelector('#df-21e7448d-5f34-4344-a623-57e710fd2f30 button.colab-df-convert');\n",
              "        buttonEl.style.display =\n",
              "          google.colab.kernel.accessAllowed ? 'block' : 'none';\n",
              "\n",
              "        async function convertToInteractive(key) {\n",
              "          const element = document.querySelector('#df-21e7448d-5f34-4344-a623-57e710fd2f30');\n",
              "          const dataTable =\n",
              "            await google.colab.kernel.invokeFunction('convertToInteractive',\n",
              "                                                     [key], {});\n",
              "          if (!dataTable) return;\n",
              "\n",
              "          const docLinkHtml = 'Like what you see? Visit the ' +\n",
              "            '<a target=\"_blank\" href=https://colab.research.google.com/notebooks/data_table.ipynb>data table notebook</a>'\n",
              "            + ' to learn more about interactive tables.';\n",
              "          element.innerHTML = '';\n",
              "          dataTable['output_type'] = 'display_data';\n",
              "          await google.colab.output.renderOutput(dataTable, element);\n",
              "          const docLink = document.createElement('div');\n",
              "          docLink.innerHTML = docLinkHtml;\n",
              "          element.appendChild(docLink);\n",
              "        }\n",
              "      </script>\n",
              "    </div>\n",
              "  </div>\n",
              "  "
            ]
          },
          "metadata": {},
          "execution_count": 28
        }
      ]
    },
    {
      "cell_type": "code",
      "source": [
        "# Dis plot for book rating column\n",
        "sns.displot(rating_df['Book-Rating'])"
      ],
      "metadata": {
        "colab": {
          "base_uri": "https://localhost:8080/",
          "height": 386
        },
        "id": "mj0oGjx9h8ux",
        "outputId": "44d8ebe4-ab1a-4fd6-ac7d-99cda49aee4c"
      },
      "execution_count": 29,
      "outputs": [
        {
          "output_type": "execute_result",
          "data": {
            "text/plain": [
              "<seaborn.axisgrid.FacetGrid at 0x7f3704de5730>"
            ]
          },
          "metadata": {},
          "execution_count": 29
        },
        {
          "output_type": "display_data",
          "data": {
            "text/plain": [
              "<Figure size 360x360 with 1 Axes>"
            ],
            "image/png": "[encoded data removed]"
          },
          "metadata": {
            "needs_background": "light"
          }
        }
      ]
    },
    {
      "cell_type": "markdown",
      "source": [
        "**rating distribution without considering 0**"
      ],
      "metadata": {
        "id": "-LBZmY2v6eiH"
      }
    },
    {
      "cell_type": "code",
      "source": [
        "rating_without_0=rating_df[rating_df['Book-Rating']!=0]"
      ],
      "metadata": {
        "id": "vKRAIvSI6qMB"
      },
      "execution_count": 30,
      "outputs": []
    },
    {
      "cell_type": "code",
      "source": [
        "# Count of book ratings without rating 0\n",
        "rating_count=rating_without_0.groupby('Book-Rating').agg({'ISBN':'count'}).sort_values(by=\"ISBN\",ascending=False).head(16).reset_index()\n",
        "rating_count.rename(columns = {'Book-Rating':'Book-Rating','ISBN':\"count\"},inplace=True)"
      ],
      "metadata": {
        "id": "ejcq8e3l6v2t"
      },
      "execution_count": 31,
      "outputs": []
    },
    {
      "cell_type": "code",
      "source": [
        "rating_count"
      ],
      "metadata": {
        "colab": {
          "base_uri": "https://localhost:8080/",
          "height": 363
        },
        "id": "SJRLA4q-67qd",
        "outputId": "ac5a6022-2beb-400f-8808-4bddebfd4e53"
      },
      "execution_count": 32,
      "outputs": [
        {
          "output_type": "execute_result",
          "data": {
            "text/plain": [
              "   Book-Rating   count\n",
              "0            8  103736\n",
              "1           10   78610\n",
              "2            7   76457\n",
              "3            9   67541\n",
              "4            5   50974\n",
              "5            6   36924\n",
              "6            4    8904\n",
              "7            3    5996\n",
              "8            2    2759\n",
              "9            1    1770"
            ],
            "text/html": [
              "\n",
              "  <div id=\"df-9aebee89-0562-485e-8973-418746b16b8e\">\n",
              "    <div class=\"colab-df-container\">\n",
              "      <div>\n",
              "<style scoped>\n",
              "    .dataframe tbody tr th:only-of-type {\n",
              "        vertical-align: middle;\n",
              "    }\n",
              "\n",
              "    .dataframe tbody tr th {\n",
              "        vertical-align: top;\n",
              "    }\n",
              "\n",
              "    .dataframe thead th {\n",
              "        text-align: right;\n",
              "    }\n",
              "</style>\n",
              "<table border=\"1\" class=\"dataframe\">\n",
              "  <thead>\n",
              "    <tr style=\"text-align: right;\">\n",
              "      <th></th>\n",
              "      <th>Book-Rating</th>\n",
              "      <th>count</th>\n",
              "    </tr>\n",
              "  </thead>\n",
              "  <tbody>\n",
              "    <tr>\n",
              "      <th>0</th>\n",
              "      <td>8</td>\n",
              "      <td>103736</td>\n",
              "    </tr>\n",
              "    <tr>\n",
              "      <th>1</th>\n",
              "      <td>10</td>\n",
              "      <td>78610</td>\n",
              "    </tr>\n",
              "    <tr>\n",
              "      <th>2</th>\n",
              "      <td>7</td>\n",
              "      <td>76457</td>\n",
              "    </tr>\n",
              "    <tr>\n",
              "      <th>3</th>\n",
              "      <td>9</td>\n",
              "      <td>67541</td>\n",
              "    </tr>\n",
              "    <tr>\n",
              "      <th>4</th>\n",
              "      <td>5</td>\n",
              "      <td>50974</td>\n",
              "    </tr>\n",
              "    <tr>\n",
              "      <th>5</th>\n",
              "      <td>6</td>\n",
              "      <td>36924</td>\n",
              "    </tr>\n",
              "    <tr>\n",
              "      <th>6</th>\n",
              "      <td>4</td>\n",
              "      <td>8904</td>\n",
              "    </tr>\n",
              "    <tr>\n",
              "      <th>7</th>\n",
              "      <td>3</td>\n",
              "      <td>5996</td>\n",
              "    </tr>\n",
              "    <tr>\n",
              "      <th>8</th>\n",
              "      <td>2</td>\n",
              "      <td>2759</td>\n",
              "    </tr>\n",
              "    <tr>\n",
              "      <th>9</th>\n",
              "      <td>1</td>\n",
              "      <td>1770</td>\n",
              "    </tr>\n",
              "  </tbody>\n",
              "</table>\n",
              "</div>\n",
              "      <button class=\"colab-df-convert\" onclick=\"convertToInteractive('df-9aebee89-0562-485e-8973-418746b16b8e')\"\n",
              "              title=\"Convert this dataframe to an interactive table.\"\n",
              "              style=\"display:none;\">\n",
              "        \n",
              "  <svg xmlns=\"http://www.w3.org/2000/svg\" height=\"24px\"viewBox=\"0 0 24 24\"\n",
              "       width=\"24px\">\n",
              "    <path d=\"M0 0h24v24H0V0z\" fill=\"none\"/>\n",
              "    <path d=\"M18.56 5.44l.94 2.06.94-2.06 2.06-.94-2.06-.94-.94-2.06-.94 2.06-2.06.94zm-11 1L8.5 8.5l.94-2.06 2.06-.94-2.06-.94L8.5 2.5l-.94 2.06-2.06.94zm10 10l.94 2.06.94-2.06 2.06-.94-2.06-.94-.94-2.06-.94 2.06-2.06.94z\"/><path d=\"M17.41 7.96l-1.37-1.37c-.4-.4-.92-.59-1.43-.59-.52 0-1.04.2-1.43.59L10.3 9.45l-7.72 7.72c-.78.78-.78 2.05 0 2.83L4 21.41c.39.39.9.59 1.41.59.51 0 1.02-.2 1.41-.59l7.78-7.78 2.81-2.81c.8-.78.8-2.07 0-2.86zM5.41 20L4 18.59l7.72-7.72 1.47 1.35L5.41 20z\"/>\n",
              "  </svg>\n",
              "      </button>\n",
              "      \n",
              "  <style>\n",
              "    .colab-df-container {\n",
              "      display:flex;\n",
              "      flex-wrap:wrap;\n",
              "      gap: 12px;\n",
              "    }\n",
              "\n",
              "    .colab-df-convert {\n",
              "      background-color: #E8F0FE;\n",
              "      border: none;\n",
              "      border-radius: 50%;\n",
              "      cursor: pointer;\n",
              "      display: none;\n",
              "      fill: #1967D2;\n",
              "      height: 32px;\n",
              "      padding: 0 0 0 0;\n",
              "      width: 32px;\n",
              "    }\n",
              "\n",
              "    .colab-df-convert:hover {\n",
              "      background-color: #E2EBFA;\n",
              "      box-shadow: 0px 1px 2px rgba(60, 64, 67, 0.3), 0px 1px 3px 1px rgba(60, 64, 67, 0.15);\n",
              "      fill: #174EA6;\n",
              "    }\n",
              "\n",
              "    [theme=dark] .colab-df-convert {\n",
              "      background-color: #3B4455;\n",
              "      fill: #D2E3FC;\n",
              "    }\n",
              "\n",
              "    [theme=dark] .colab-df-convert:hover {\n",
              "      background-color: #434B5C;\n",
              "      box-shadow: 0px 1px 3px 1px rgba(0, 0, 0, 0.15);\n",
              "      filter: drop-shadow(0px 1px 2px rgba(0, 0, 0, 0.3));\n",
              "      fill: #FFFFFF;\n",
              "    }\n",
              "  </style>\n",
              "\n",
              "      <script>\n",
              "        const buttonEl =\n",
              "          document.querySelector('#df-9aebee89-0562-485e-8973-418746b16b8e button.colab-df-convert');\n",
              "        buttonEl.style.display =\n",
              "          google.colab.kernel.accessAllowed ? 'block' : 'none';\n",
              "\n",
              "        async function convertToInteractive(key) {\n",
              "          const element = document.querySelector('#df-9aebee89-0562-485e-8973-418746b16b8e');\n",
              "          const dataTable =\n",
              "            await google.colab.kernel.invokeFunction('convertToInteractive',\n",
              "                                                     [key], {});\n",
              "          if (!dataTable) return;\n",
              "\n",
              "          const docLinkHtml = 'Like what you see? Visit the ' +\n",
              "            '<a target=\"_blank\" href=https://colab.research.google.com/notebooks/data_table.ipynb>data table notebook</a>'\n",
              "            + ' to learn more about interactive tables.';\n",
              "          element.innerHTML = '';\n",
              "          dataTable['output_type'] = 'display_data';\n",
              "          await google.colab.output.renderOutput(dataTable, element);\n",
              "          const docLink = document.createElement('div');\n",
              "          docLink.innerHTML = docLinkHtml;\n",
              "          element.appendChild(docLink);\n",
              "        }\n",
              "      </script>\n",
              "    </div>\n",
              "  </div>\n",
              "  "
            ]
          },
          "metadata": {},
          "execution_count": 32
        }
      ]
    },
    {
      "cell_type": "code",
      "source": [
        "# Plotting bar graph for rating distribution in terms of count\n",
        "plt.figure(figsize=(12,7))\n",
        "sns.barplot(data=rating_count, x=\"Book-Rating\", y=\"count\")\n",
        "plt.title(\"Rating distribution in terms of count\",fontsize=20);\n",
        "plt.xticks(rotation=90,fontsize=15)\n",
        "plt.xlabel(\"Ratings\",fontsize=20)\n",
        "plt.ylabel(\"Number of ratings\",fontsize=20);"
      ],
      "metadata": {
        "colab": {
          "base_uri": "https://localhost:8080/",
          "height": 481
        },
        "id": "ZoCX5STD6-aT",
        "outputId": "57229796-2bae-49e4-993a-be04f412bde3"
      },
      "execution_count": 33,
      "outputs": [
        {
          "output_type": "display_data",
          "data": {
            "text/plain": [
              "<Figure size 864x504 with 1 Axes>"
            ],
            "image/png": "[encoded data removed]"
          },
          "metadata": {
            "needs_background": "light"
          }
        }
      ]
    },
    {
      "cell_type": "markdown",
      "source": [
        "# **Observation:**\n",
        "\n",
        "## 8 is the most common rating for most number of book"
      ],
      "metadata": {
        "id": "hmBTx5Mi7HjS"
      }
    },
    {
      "cell_type": "markdown",
      "source": [
        "# Top User-ID with highest numbers of rating\n"
      ],
      "metadata": {
        "id": "o78b7E947Q0Q"
      }
    },
    {
      "cell_type": "code",
      "source": [
        "#common book for both rating and book dataset\n",
        "ratings_new = rating_df[rating_df.ISBN.isin(Book_df.ISBN)]"
      ],
      "metadata": {
        "id": "RR92IXBb7gGw"
      },
      "execution_count": 34,
      "outputs": []
    },
    {
      "cell_type": "code",
      "source": [
        "#common user for both rating and user dataset\n",
        "ratings_new = ratings_new[ratings_new['User-ID'].isin(user_df['User-ID'])]"
      ],
      "metadata": {
        "id": "jirs-hip7k7h"
      },
      "execution_count": null,
      "outputs": []
    },
    {
      "cell_type": "code",
      "source": [
        "#checking shape\n",
        "rating_df.shape,ratings_new.shape"
      ],
      "metadata": {
        "colab": {
          "base_uri": "https://localhost:8080/"
        },
        "id": "cB8SVycX7pqd",
        "outputId": "73169106-77a8-4f12-b392-01e163cd7d51"
      },
      "execution_count": null,
      "outputs": [
        {
          "output_type": "execute_result",
          "data": {
            "text/plain": [
              "((1149780, 3), (1031136, 3))"
            ]
          },
          "metadata": {},
          "execution_count": 42
        }
      ]
    },
    {
      "cell_type": "code",
      "source": [
        "#  Creating dataframe to calculate Top userId's who have rated most number of books  \n",
        "top_user_rating=ratings_new.groupby('User-ID').agg({'Book-Rating':'count'}).sort_values(by=\"Book-Rating\",ascending=False).reset_index()\n",
        "top_user_rating.rename(columns = {'User-ID':'User-ID','Book-Rating':\"count\"},inplace=True)\n",
        "top_user_rating['User-ID']=top_user_rating['User-ID'].apply(lambda x:'UserId '+str(x)) "
      ],
      "metadata": {
        "id": "llCDQMws7vAz"
      },
      "execution_count": 35,
      "outputs": []
    },
    {
      "cell_type": "code",
      "source": [
        "top_user_rating=top_user_rating.head(15)\n",
        "top_user_rating"
      ],
      "metadata": {
        "colab": {
          "base_uri": "https://localhost:8080/",
          "height": 519
        },
        "id": "QzjFT9um7y2E",
        "outputId": "fb64ca83-ef66-44b5-f190-868c486ac185"
      },
      "execution_count": 36,
      "outputs": [
        {
          "output_type": "execute_result",
          "data": {
            "text/plain": [
              "          User-ID  count\n",
              "0    UserId 11676  11144\n",
              "1   UserId 198711   6456\n",
              "2   UserId 153662   5814\n",
              "3    UserId 98391   5779\n",
              "4    UserId 35859   5646\n",
              "5   UserId 212898   4289\n",
              "6   UserId 278418   3996\n",
              "7    UserId 76352   3329\n",
              "8   UserId 110973   2971\n",
              "9   UserId 235105   2943\n",
              "10   UserId 16795   2920\n",
              "11  UserId 230522   2857\n",
              "12  UserId 234623   2594\n",
              "13  UserId 204864   2461\n",
              "14   UserId 36836   2458"
            ],
            "text/html": [
              "\n",
              "  <div id=\"df-9a4bf3bf-0c42-4a8b-8cfd-4029f1eb7546\">\n",
              "    <div class=\"colab-df-container\">\n",
              "      <div>\n",
              "<style scoped>\n",
              "    .dataframe tbody tr th:only-of-type {\n",
              "        vertical-align: middle;\n",
              "    }\n",
              "\n",
              "    .dataframe tbody tr th {\n",
              "        vertical-align: top;\n",
              "    }\n",
              "\n",
              "    .dataframe thead th {\n",
              "        text-align: right;\n",
              "    }\n",
              "</style>\n",
              "<table border=\"1\" class=\"dataframe\">\n",
              "  <thead>\n",
              "    <tr style=\"text-align: right;\">\n",
              "      <th></th>\n",
              "      <th>User-ID</th>\n",
              "      <th>count</th>\n",
              "    </tr>\n",
              "  </thead>\n",
              "  <tbody>\n",
              "    <tr>\n",
              "      <th>0</th>\n",
              "      <td>UserId 11676</td>\n",
              "      <td>11144</td>\n",
              "    </tr>\n",
              "    <tr>\n",
              "      <th>1</th>\n",
              "      <td>UserId 198711</td>\n",
              "      <td>6456</td>\n",
              "    </tr>\n",
              "    <tr>\n",
              "      <th>2</th>\n",
              "      <td>UserId 153662</td>\n",
              "      <td>5814</td>\n",
              "    </tr>\n",
              "    <tr>\n",
              "      <th>3</th>\n",
              "      <td>UserId 98391</td>\n",
              "      <td>5779</td>\n",
              "    </tr>\n",
              "    <tr>\n",
              "      <th>4</th>\n",
              "      <td>UserId 35859</td>\n",
              "      <td>5646</td>\n",
              "    </tr>\n",
              "    <tr>\n",
              "      <th>5</th>\n",
              "      <td>UserId 212898</td>\n",
              "      <td>4289</td>\n",
              "    </tr>\n",
              "    <tr>\n",
              "      <th>6</th>\n",
              "      <td>UserId 278418</td>\n",
              "      <td>3996</td>\n",
              "    </tr>\n",
              "    <tr>\n",
              "      <th>7</th>\n",
              "      <td>UserId 76352</td>\n",
              "      <td>3329</td>\n",
              "    </tr>\n",
              "    <tr>\n",
              "      <th>8</th>\n",
              "      <td>UserId 110973</td>\n",
              "      <td>2971</td>\n",
              "    </tr>\n",
              "    <tr>\n",
              "      <th>9</th>\n",
              "      <td>UserId 235105</td>\n",
              "      <td>2943</td>\n",
              "    </tr>\n",
              "    <tr>\n",
              "      <th>10</th>\n",
              "      <td>UserId 16795</td>\n",
              "      <td>2920</td>\n",
              "    </tr>\n",
              "    <tr>\n",
              "      <th>11</th>\n",
              "      <td>UserId 230522</td>\n",
              "      <td>2857</td>\n",
              "    </tr>\n",
              "    <tr>\n",
              "      <th>12</th>\n",
              "      <td>UserId 234623</td>\n",
              "      <td>2594</td>\n",
              "    </tr>\n",
              "    <tr>\n",
              "      <th>13</th>\n",
              "      <td>UserId 204864</td>\n",
              "      <td>2461</td>\n",
              "    </tr>\n",
              "    <tr>\n",
              "      <th>14</th>\n",
              "      <td>UserId 36836</td>\n",
              "      <td>2458</td>\n",
              "    </tr>\n",
              "  </tbody>\n",
              "</table>\n",
              "</div>\n",
              "      <button class=\"colab-df-convert\" onclick=\"convertToInteractive('df-9a4bf3bf-0c42-4a8b-8cfd-4029f1eb7546')\"\n",
              "              title=\"Convert this dataframe to an interactive table.\"\n",
              "              style=\"display:none;\">\n",
              "        \n",
              "  <svg xmlns=\"http://www.w3.org/2000/svg\" height=\"24px\"viewBox=\"0 0 24 24\"\n",
              "       width=\"24px\">\n",
              "    <path d=\"M0 0h24v24H0V0z\" fill=\"none\"/>\n",
              "    <path d=\"M18.56 5.44l.94 2.06.94-2.06 2.06-.94-2.06-.94-.94-2.06-.94 2.06-2.06.94zm-11 1L8.5 8.5l.94-2.06 2.06-.94-2.06-.94L8.5 2.5l-.94 2.06-2.06.94zm10 10l.94 2.06.94-2.06 2.06-.94-2.06-.94-.94-2.06-.94 2.06-2.06.94z\"/><path d=\"M17.41 7.96l-1.37-1.37c-.4-.4-.92-.59-1.43-.59-.52 0-1.04.2-1.43.59L10.3 9.45l-7.72 7.72c-.78.78-.78 2.05 0 2.83L4 21.41c.39.39.9.59 1.41.59.51 0 1.02-.2 1.41-.59l7.78-7.78 2.81-2.81c.8-.78.8-2.07 0-2.86zM5.41 20L4 18.59l7.72-7.72 1.47 1.35L5.41 20z\"/>\n",
              "  </svg>\n",
              "      </button>\n",
              "      \n",
              "  <style>\n",
              "    .colab-df-container {\n",
              "      display:flex;\n",
              "      flex-wrap:wrap;\n",
              "      gap: 12px;\n",
              "    }\n",
              "\n",
              "    .colab-df-convert {\n",
              "      background-color: #E8F0FE;\n",
              "      border: none;\n",
              "      border-radius: 50%;\n",
              "      cursor: pointer;\n",
              "      display: none;\n",
              "      fill: #1967D2;\n",
              "      height: 32px;\n",
              "      padding: 0 0 0 0;\n",
              "      width: 32px;\n",
              "    }\n",
              "\n",
              "    .colab-df-convert:hover {\n",
              "      background-color: #E2EBFA;\n",
              "      box-shadow: 0px 1px 2px rgba(60, 64, 67, 0.3), 0px 1px 3px 1px rgba(60, 64, 67, 0.15);\n",
              "      fill: #174EA6;\n",
              "    }\n",
              "\n",
              "    [theme=dark] .colab-df-convert {\n",
              "      background-color: #3B4455;\n",
              "      fill: #D2E3FC;\n",
              "    }\n",
              "\n",
              "    [theme=dark] .colab-df-convert:hover {\n",
              "      background-color: #434B5C;\n",
              "      box-shadow: 0px 1px 3px 1px rgba(0, 0, 0, 0.15);\n",
              "      filter: drop-shadow(0px 1px 2px rgba(0, 0, 0, 0.3));\n",
              "      fill: #FFFFFF;\n",
              "    }\n",
              "  </style>\n",
              "\n",
              "      <script>\n",
              "        const buttonEl =\n",
              "          document.querySelector('#df-9a4bf3bf-0c42-4a8b-8cfd-4029f1eb7546 button.colab-df-convert');\n",
              "        buttonEl.style.display =\n",
              "          google.colab.kernel.accessAllowed ? 'block' : 'none';\n",
              "\n",
              "        async function convertToInteractive(key) {\n",
              "          const element = document.querySelector('#df-9a4bf3bf-0c42-4a8b-8cfd-4029f1eb7546');\n",
              "          const dataTable =\n",
              "            await google.colab.kernel.invokeFunction('convertToInteractive',\n",
              "                                                     [key], {});\n",
              "          if (!dataTable) return;\n",
              "\n",
              "          const docLinkHtml = 'Like what you see? Visit the ' +\n",
              "            '<a target=\"_blank\" href=https://colab.research.google.com/notebooks/data_table.ipynb>data table notebook</a>'\n",
              "            + ' to learn more about interactive tables.';\n",
              "          element.innerHTML = '';\n",
              "          dataTable['output_type'] = 'display_data';\n",
              "          await google.colab.output.renderOutput(dataTable, element);\n",
              "          const docLink = document.createElement('div');\n",
              "          docLink.innerHTML = docLinkHtml;\n",
              "          element.appendChild(docLink);\n",
              "        }\n",
              "      </script>\n",
              "    </div>\n",
              "  </div>\n",
              "  "
            ]
          },
          "metadata": {},
          "execution_count": 36
        }
      ]
    },
    {
      "cell_type": "code",
      "source": [
        "# PLotting bar graph for Top userId's who have rated most number of books\n",
        "plt.figure(figsize=(12,7))\n",
        "sns.barplot(data=top_user_rating, x=\"User-ID\", y=\"count\")\n",
        "plt.title(\"Top userId's who have rated most number of books\",fontsize=20);\n",
        "plt.xticks(rotation=90,fontsize=15)\n",
        "plt.xlabel(\"User-ID\",fontsize=20)\n",
        "plt.ylabel(\"Number of ratings\",fontsize=20);"
      ],
      "metadata": {
        "colab": {
          "base_uri": "https://localhost:8080/",
          "height": 573
        },
        "id": "8wUnJJEU7410",
        "outputId": "296c9538-9228-4b9c-9660-fdce228e5085"
      },
      "execution_count": 37,
      "outputs": [
        {
          "output_type": "display_data",
          "data": {
            "text/plain": [
              "<Figure size 864x504 with 1 Axes>"
            ],
            "image/png": "[encoded data removed]"
          },
          "metadata": {
            "needs_background": "light"
          }
        }
      ]
    },
    {
      "cell_type": "markdown",
      "source": [
        "# **Observation:**\n",
        "\n",
        "UserId 11676 has rated most number of books"
      ],
      "metadata": {
        "id": "3J7FSlz_8DRz"
      }
    },
    {
      "cell_type": "markdown",
      "source": [
        "# Data pre-processing and feature engineering\n"
      ],
      "metadata": {
        "id": "lFqaSfka8Mii"
      }
    },
    {
      "cell_type": "code",
      "source": [
        "#Rating ranges from 1 to 10 with no 0\n",
        "rating_without_0=ratings_new[ratings_new['Book-Rating']!=0]"
      ],
      "metadata": {
        "id": "unF-OREV8YWz"
      },
      "execution_count": 38,
      "outputs": []
    },
    {
      "cell_type": "code",
      "source": [
        "#merge dataset\n",
        "Final_df_=user_df.copy()\n",
        "Final_df_=pd.merge(Final_df_,rating_without_0,on='User-ID')\n",
        "Final_df_=pd.merge(Final_df_,Book_df,on='ISBN')"
      ],
      "metadata": {
        "id": "PPnSpJam8cFo"
      },
      "execution_count": 39,
      "outputs": []
    },
    {
      "cell_type": "code",
      "source": [
        "Final_df=Final_df_[['User-ID','Age','ISBN','Book-Rating','Book-Title','Book-Author','Year-Of-Publication','Publisher','Image-URL-S']]"
      ],
      "metadata": {
        "id": "QClBbSta8flN"
      },
      "execution_count": 40,
      "outputs": []
    },
    {
      "cell_type": "code",
      "source": [
        "#checking shape\n",
        "Final_df.shape"
      ],
      "metadata": {
        "colab": {
          "base_uri": "https://localhost:8080/"
        },
        "id": "un5AzksQ8mBz",
        "outputId": "a8173ecd-84b0-4852-b287-96a90e584b12"
      },
      "execution_count": null,
      "outputs": [
        {
          "output_type": "execute_result",
          "data": {
            "text/plain": [
              "(383842, 9)"
            ]
          },
          "metadata": {},
          "execution_count": 57
        }
      ]
    },
    {
      "cell_type": "code",
      "source": [
        "# First 5 rows of Final_df dataset\n",
        "Final_df.head()\n"
      ],
      "metadata": {
        "colab": {
          "base_uri": "https://localhost:8080/",
          "height": 441
        },
        "id": "E1M6hieX8pck",
        "outputId": "f114bd3c-2c0b-4c77-dd3c-66d1c83decc1"
      },
      "execution_count": null,
      "outputs": [
        {
          "output_type": "execute_result",
          "data": {
            "text/plain": [
              "   User-ID   Age        ISBN  Book-Rating    Book-Title           Book-Author  \\\n",
              "0        8   NaN  0002005018            5  Clara Callan  Richard Bruce Wright   \n",
              "1    11676   NaN  0002005018            8  Clara Callan  Richard Bruce Wright   \n",
              "2    67544  30.0  0002005018            8  Clara Callan  Richard Bruce Wright   \n",
              "3   116866   NaN  0002005018            9  Clara Callan  Richard Bruce Wright   \n",
              "4   123629   NaN  0002005018            9  Clara Callan  Richard Bruce Wright   \n",
              "\n",
              "   Year-Of-Publication              Publisher  \\\n",
              "0               2001.0  HarperFlamingo Canada   \n",
              "1               2001.0  HarperFlamingo Canada   \n",
              "2               2001.0  HarperFlamingo Canada   \n",
              "3               2001.0  HarperFlamingo Canada   \n",
              "4               2001.0  HarperFlamingo Canada   \n",
              "\n",
              "                                         Image-URL-S  \n",
              "0  http://images.amazon.com/images/P/0002005018.0...  \n",
              "1  http://images.amazon.com/images/P/0002005018.0...  \n",
              "2  http://images.amazon.com/images/P/0002005018.0...  \n",
              "3  http://images.amazon.com/images/P/0002005018.0...  \n",
              "4  http://images.amazon.com/images/P/0002005018.0...  "
            ],
            "text/html": [
              "\n",
              "  <div id=\"df-7b8ad559-21d4-419c-bbd8-2098fcdbd6d7\">\n",
              "    <div class=\"colab-df-container\">\n",
              "      <div>\n",
              "<style scoped>\n",
              "    .dataframe tbody tr th:only-of-type {\n",
              "        vertical-align: middle;\n",
              "    }\n",
              "\n",
              "    .dataframe tbody tr th {\n",
              "        vertical-align: top;\n",
              "    }\n",
              "\n",
              "    .dataframe thead th {\n",
              "        text-align: right;\n",
              "    }\n",
              "</style>\n",
              "<table border=\"1\" class=\"dataframe\">\n",
              "  <thead>\n",
              "    <tr style=\"text-align: right;\">\n",
              "      <th></th>\n",
              "      <th>User-ID</th>\n",
              "      <th>Age</th>\n",
              "      <th>ISBN</th>\n",
              "      <th>Book-Rating</th>\n",
              "      <th>Book-Title</th>\n",
              "      <th>Book-Author</th>\n",
              "      <th>Year-Of-Publication</th>\n",
              "      <th>Publisher</th>\n",
              "      <th>Image-URL-S</th>\n",
              "    </tr>\n",
              "  </thead>\n",
              "  <tbody>\n",
              "    <tr>\n",
              "      <th>0</th>\n",
              "      <td>8</td>\n",
              "      <td>NaN</td>\n",
              "      <td>0002005018</td>\n",
              "      <td>5</td>\n",
              "      <td>Clara Callan</td>\n",
              "      <td>Richard Bruce Wright</td>\n",
              "      <td>2001.0</td>\n",
              "      <td>HarperFlamingo Canada</td>\n",
              "      <td>http://images.amazon.com/images/P/0002005018.0...</td>\n",
              "    </tr>\n",
              "    <tr>\n",
              "      <th>1</th>\n",
              "      <td>11676</td>\n",
              "      <td>NaN</td>\n",
              "      <td>0002005018</td>\n",
              "      <td>8</td>\n",
              "      <td>Clara Callan</td>\n",
              "      <td>Richard Bruce Wright</td>\n",
              "      <td>2001.0</td>\n",
              "      <td>HarperFlamingo Canada</td>\n",
              "      <td>http://images.amazon.com/images/P/0002005018.0...</td>\n",
              "    </tr>\n",
              "    <tr>\n",
              "      <th>2</th>\n",
              "      <td>67544</td>\n",
              "      <td>30.0</td>\n",
              "      <td>0002005018</td>\n",
              "      <td>8</td>\n",
              "      <td>Clara Callan</td>\n",
              "      <td>Richard Bruce Wright</td>\n",
              "      <td>2001.0</td>\n",
              "      <td>HarperFlamingo Canada</td>\n",
              "      <td>http://images.amazon.com/images/P/0002005018.0...</td>\n",
              "    </tr>\n",
              "    <tr>\n",
              "      <th>3</th>\n",
              "      <td>116866</td>\n",
              "      <td>NaN</td>\n",
              "      <td>0002005018</td>\n",
              "      <td>9</td>\n",
              "      <td>Clara Callan</td>\n",
              "      <td>Richard Bruce Wright</td>\n",
              "      <td>2001.0</td>\n",
              "      <td>HarperFlamingo Canada</td>\n",
              "      <td>http://images.amazon.com/images/P/0002005018.0...</td>\n",
              "    </tr>\n",
              "    <tr>\n",
              "      <th>4</th>\n",
              "      <td>123629</td>\n",
              "      <td>NaN</td>\n",
              "      <td>0002005018</td>\n",
              "      <td>9</td>\n",
              "      <td>Clara Callan</td>\n",
              "      <td>Richard Bruce Wright</td>\n",
              "      <td>2001.0</td>\n",
              "      <td>HarperFlamingo Canada</td>\n",
              "      <td>http://images.amazon.com/images/P/0002005018.0...</td>\n",
              "    </tr>\n",
              "  </tbody>\n",
              "</table>\n",
              "</div>\n",
              "      <button class=\"colab-df-convert\" onclick=\"convertToInteractive('df-7b8ad559-21d4-419c-bbd8-2098fcdbd6d7')\"\n",
              "              title=\"Convert this dataframe to an interactive table.\"\n",
              "              style=\"display:none;\">\n",
              "        \n",
              "  <svg xmlns=\"http://www.w3.org/2000/svg\" height=\"24px\"viewBox=\"0 0 24 24\"\n",
              "       width=\"24px\">\n",
              "    <path d=\"M0 0h24v24H0V0z\" fill=\"none\"/>\n",
              "    <path d=\"M18.56 5.44l.94 2.06.94-2.06 2.06-.94-2.06-.94-.94-2.06-.94 2.06-2.06.94zm-11 1L8.5 8.5l.94-2.06 2.06-.94-2.06-.94L8.5 2.5l-.94 2.06-2.06.94zm10 10l.94 2.06.94-2.06 2.06-.94-2.06-.94-.94-2.06-.94 2.06-2.06.94z\"/><path d=\"M17.41 7.96l-1.37-1.37c-.4-.4-.92-.59-1.43-.59-.52 0-1.04.2-1.43.59L10.3 9.45l-7.72 7.72c-.78.78-.78 2.05 0 2.83L4 21.41c.39.39.9.59 1.41.59.51 0 1.02-.2 1.41-.59l7.78-7.78 2.81-2.81c.8-.78.8-2.07 0-2.86zM5.41 20L4 18.59l7.72-7.72 1.47 1.35L5.41 20z\"/>\n",
              "  </svg>\n",
              "      </button>\n",
              "      \n",
              "  <style>\n",
              "    .colab-df-container {\n",
              "      display:flex;\n",
              "      flex-wrap:wrap;\n",
              "      gap: 12px;\n",
              "    }\n",
              "\n",
              "    .colab-df-convert {\n",
              "      background-color: #E8F0FE;\n",
              "      border: none;\n",
              "      border-radius: 50%;\n",
              "      cursor: pointer;\n",
              "      display: none;\n",
              "      fill: #1967D2;\n",
              "      height: 32px;\n",
              "      padding: 0 0 0 0;\n",
              "      width: 32px;\n",
              "    }\n",
              "\n",
              "    .colab-df-convert:hover {\n",
              "      background-color: #E2EBFA;\n",
              "      box-shadow: 0px 1px 2px rgba(60, 64, 67, 0.3), 0px 1px 3px 1px rgba(60, 64, 67, 0.15);\n",
              "      fill: #174EA6;\n",
              "    }\n",
              "\n",
              "    [theme=dark] .colab-df-convert {\n",
              "      background-color: #3B4455;\n",
              "      fill: #D2E3FC;\n",
              "    }\n",
              "\n",
              "    [theme=dark] .colab-df-convert:hover {\n",
              "      background-color: #434B5C;\n",
              "      box-shadow: 0px 1px 3px 1px rgba(0, 0, 0, 0.15);\n",
              "      filter: drop-shadow(0px 1px 2px rgba(0, 0, 0, 0.3));\n",
              "      fill: #FFFFFF;\n",
              "    }\n",
              "  </style>\n",
              "\n",
              "      <script>\n",
              "        const buttonEl =\n",
              "          document.querySelector('#df-7b8ad559-21d4-419c-bbd8-2098fcdbd6d7 button.colab-df-convert');\n",
              "        buttonEl.style.display =\n",
              "          google.colab.kernel.accessAllowed ? 'block' : 'none';\n",
              "\n",
              "        async function convertToInteractive(key) {\n",
              "          const element = document.querySelector('#df-7b8ad559-21d4-419c-bbd8-2098fcdbd6d7');\n",
              "          const dataTable =\n",
              "            await google.colab.kernel.invokeFunction('convertToInteractive',\n",
              "                                                     [key], {});\n",
              "          if (!dataTable) return;\n",
              "\n",
              "          const docLinkHtml = 'Like what you see? Visit the ' +\n",
              "            '<a target=\"_blank\" href=https://colab.research.google.com/notebooks/data_table.ipynb>data table notebook</a>'\n",
              "            + ' to learn more about interactive tables.';\n",
              "          element.innerHTML = '';\n",
              "          dataTable['output_type'] = 'display_data';\n",
              "          await google.colab.output.renderOutput(dataTable, element);\n",
              "          const docLink = document.createElement('div');\n",
              "          docLink.innerHTML = docLinkHtml;\n",
              "          element.appendChild(docLink);\n",
              "        }\n",
              "      </script>\n",
              "    </div>\n",
              "  </div>\n",
              "  "
            ]
          },
          "metadata": {},
          "execution_count": 58
        }
      ]
    },
    {
      "cell_type": "code",
      "source": [
        "# Checking null values\n",
        "Final_df.isnull().sum()"
      ],
      "metadata": {
        "colab": {
          "base_uri": "https://localhost:8080/"
        },
        "id": "rC3ZsFRM8xnB",
        "outputId": "9867be4a-d231-4b28-9690-abf665fa28e7"
      },
      "execution_count": 41,
      "outputs": [
        {
          "output_type": "execute_result",
          "data": {
            "text/plain": [
              "User-ID                     0\n",
              "Age                    114221\n",
              "ISBN                        0\n",
              "Book-Rating                 0\n",
              "Book-Title                  0\n",
              "Book-Author                 1\n",
              "Year-Of-Publication         0\n",
              "Publisher                   2\n",
              "Image-URL-S                 0\n",
              "dtype: int64"
            ]
          },
          "metadata": {},
          "execution_count": 41
        }
      ]
    },
    {
      "cell_type": "markdown",
      "source": [
        "# Handling null values"
      ],
      "metadata": {
        "id": "WAqUChsp82TX"
      }
    },
    {
      "cell_type": "code",
      "source": [
        "# Dist plot for age column\n",
        "sns.distplot(Final_df['Age'])"
      ],
      "metadata": {
        "colab": {
          "base_uri": "https://localhost:8080/",
          "height": 296
        },
        "id": "6waubnui8_Eq",
        "outputId": "e9c14d5a-23cf-4ec4-fd7f-c979d28c0978"
      },
      "execution_count": 42,
      "outputs": [
        {
          "output_type": "execute_result",
          "data": {
            "text/plain": [
              "<AxesSubplot:xlabel='Age', ylabel='Density'>"
            ]
          },
          "metadata": {},
          "execution_count": 42
        },
        {
          "output_type": "display_data",
          "data": {
            "text/plain": [
              "<Figure size 432x288 with 1 Axes>"
            ],
            "image/png": "[encoded data removed]"
          },
          "metadata": {
            "needs_background": "light"
          }
        }
      ]
    },
    {
      "cell_type": "code",
      "source": [
        "# Replacing all the ages more than 100 and less than 5 with np.nan \n",
        "Final_df.loc[(Final_df.Age > 100) | (Final_df.Age < 5), 'Age'] = np.nan"
      ],
      "metadata": {
        "id": "1fBqCKBa9D-4"
      },
      "execution_count": 43,
      "outputs": []
    },
    {
      "cell_type": "code",
      "source": [
        "# Checking null values of age column\n",
        "Final_df['Age'].isnull().sum()"
      ],
      "metadata": {
        "colab": {
          "base_uri": "https://localhost:8080/"
        },
        "id": "Y9Qsr9b19JNV",
        "outputId": "551f3bf9-060a-4d71-a0b1-249688c5c325"
      },
      "execution_count": null,
      "outputs": [
        {
          "output_type": "execute_result",
          "data": {
            "text/plain": [
              "115824"
            ]
          },
          "metadata": {},
          "execution_count": 62
        }
      ]
    },
    {
      "cell_type": "code",
      "source": [
        "# finding median of age column\n",
        "median_age=Final_df['Age'].median()"
      ],
      "metadata": {
        "id": "HOi6papH9Oae"
      },
      "execution_count": 44,
      "outputs": []
    },
    {
      "cell_type": "code",
      "source": [
        "# Replacing null values with median of age\n",
        "Final_df['Age'] = Final_df['Age'].fillna(median_age)"
      ],
      "metadata": {
        "id": "0-388W_b9Uwi"
      },
      "execution_count": null,
      "outputs": []
    },
    {
      "cell_type": "code",
      "source": [
        "#Filling Nan value of Publisher with unknown\n",
        "Final_df.Publisher.fillna('unknown',inplace=True)"
      ],
      "metadata": {
        "id": "XQs3lLvI9Z_4"
      },
      "execution_count": 45,
      "outputs": []
    },
    {
      "cell_type": "code",
      "source": [
        "#Filling Nan value of Book-Author with others\n",
        "Final_df['Book-Author'].fillna('unknown',inplace=True)"
      ],
      "metadata": {
        "id": "a1pTkf6d9ckc"
      },
      "execution_count": null,
      "outputs": []
    },
    {
      "cell_type": "code",
      "source": [
        "# Checking null values\n",
        "Final_df.isnull().sum()"
      ],
      "metadata": {
        "colab": {
          "base_uri": "https://localhost:8080/"
        },
        "id": "LJkQNoWT9hpi",
        "outputId": "559e4e8d-2e4c-417b-e80f-99aa5a20a382"
      },
      "execution_count": null,
      "outputs": [
        {
          "output_type": "execute_result",
          "data": {
            "text/plain": [
              "User-ID                0\n",
              "Age                    0\n",
              "ISBN                   0\n",
              "Book-Rating            0\n",
              "Book-Title             0\n",
              "Book-Author            0\n",
              "Year-Of-Publication    0\n",
              "Publisher              2\n",
              "Image-URL-S            0\n",
              "dtype: int64"
            ]
          },
          "metadata": {},
          "execution_count": 55
        }
      ]
    },
    {
      "cell_type": "code",
      "source": [
        "# Finding duplicates\n",
        "Final_df.duplicated().sum()"
      ],
      "metadata": {
        "colab": {
          "base_uri": "https://localhost:8080/"
        },
        "id": "wyOUWbpY9qEb",
        "outputId": "9b5a2d36-2ae6-4b6c-8751-65a0e06ee326"
      },
      "execution_count": null,
      "outputs": [
        {
          "output_type": "execute_result",
          "data": {
            "text/plain": [
              "0"
            ]
          },
          "metadata": {},
          "execution_count": 56
        }
      ]
    },
    {
      "cell_type": "markdown",
      "source": [
        "# Popularity Based Recommender System"
      ],
      "metadata": {
        "id": "j4b1Oyli9xBC"
      }
    },
    {
      "cell_type": "code",
      "source": [
        "# Extracting 'User-ID','Book-Title','Book-Rating' from final_df dataset\n",
        "Final_df[['User-ID','Book-Title','Book-Rating']]"
      ],
      "metadata": {
        "colab": {
          "base_uri": "https://localhost:8080/",
          "height": 423
        },
        "id": "nOgXtKab919T",
        "outputId": "04d8b3aa-9b43-4848-afb7-82f5147bdd3e"
      },
      "execution_count": null,
      "outputs": [
        {
          "output_type": "execute_result",
          "data": {
            "text/plain": [
              "        User-ID                                         Book-Title  \\\n",
              "0             8                                       Clara Callan   \n",
              "1         11676                                       Clara Callan   \n",
              "2         67544                                       Clara Callan   \n",
              "3        116866                                       Clara Callan   \n",
              "4        123629                                       Clara Callan   \n",
              "...         ...                                                ...   \n",
              "383837   278851  All Elevations Unknown: An Adventure in the He...   \n",
              "383838   278851                            WebClasses From Scratch   \n",
              "383839   278851  Why stop?: A guide to Texas historical roadsid...   \n",
              "383840   278851  The Are You Being Served? Stories: 'Camping In...   \n",
              "383841   278851  Dallas Street Map Guide and Directory, 2000 Ed...   \n",
              "\n",
              "        Book-Rating  \n",
              "0                 5  \n",
              "1                 8  \n",
              "2                 8  \n",
              "3                 9  \n",
              "4                 9  \n",
              "...             ...  \n",
              "383837            5  \n",
              "383838            5  \n",
              "383839            7  \n",
              "383840            7  \n",
              "383841           10  \n",
              "\n",
              "[383842 rows x 3 columns]"
            ],
            "text/html": [
              "\n",
              "  <div id=\"df-2aa79909-c3d1-4864-a263-68799ee6ca5d\">\n",
              "    <div class=\"colab-df-container\">\n",
              "      <div>\n",
              "<style scoped>\n",
              "    .dataframe tbody tr th:only-of-type {\n",
              "        vertical-align: middle;\n",
              "    }\n",
              "\n",
              "    .dataframe tbody tr th {\n",
              "        vertical-align: top;\n",
              "    }\n",
              "\n",
              "    .dataframe thead th {\n",
              "        text-align: right;\n",
              "    }\n",
              "</style>\n",
              "<table border=\"1\" class=\"dataframe\">\n",
              "  <thead>\n",
              "    <tr style=\"text-align: right;\">\n",
              "      <th></th>\n",
              "      <th>User-ID</th>\n",
              "      <th>Book-Title</th>\n",
              "      <th>Book-Rating</th>\n",
              "    </tr>\n",
              "  </thead>\n",
              "  <tbody>\n",
              "    <tr>\n",
              "      <th>0</th>\n",
              "      <td>8</td>\n",
              "      <td>Clara Callan</td>\n",
              "      <td>5</td>\n",
              "    </tr>\n",
              "    <tr>\n",
              "      <th>1</th>\n",
              "      <td>11676</td>\n",
              "      <td>Clara Callan</td>\n",
              "      <td>8</td>\n",
              "    </tr>\n",
              "    <tr>\n",
              "      <th>2</th>\n",
              "      <td>67544</td>\n",
              "      <td>Clara Callan</td>\n",
              "      <td>8</td>\n",
              "    </tr>\n",
              "    <tr>\n",
              "      <th>3</th>\n",
              "      <td>116866</td>\n",
              "      <td>Clara Callan</td>\n",
              "      <td>9</td>\n",
              "    </tr>\n",
              "    <tr>\n",
              "      <th>4</th>\n",
              "      <td>123629</td>\n",
              "      <td>Clara Callan</td>\n",
              "      <td>9</td>\n",
              "    </tr>\n",
              "    <tr>\n",
              "      <th>...</th>\n",
              "      <td>...</td>\n",
              "      <td>...</td>\n",
              "      <td>...</td>\n",
              "    </tr>\n",
              "    <tr>\n",
              "      <th>383837</th>\n",
              "      <td>278851</td>\n",
              "      <td>All Elevations Unknown: An Adventure in the He...</td>\n",
              "      <td>5</td>\n",
              "    </tr>\n",
              "    <tr>\n",
              "      <th>383838</th>\n",
              "      <td>278851</td>\n",
              "      <td>WebClasses From Scratch</td>\n",
              "      <td>5</td>\n",
              "    </tr>\n",
              "    <tr>\n",
              "      <th>383839</th>\n",
              "      <td>278851</td>\n",
              "      <td>Why stop?: A guide to Texas historical roadsid...</td>\n",
              "      <td>7</td>\n",
              "    </tr>\n",
              "    <tr>\n",
              "      <th>383840</th>\n",
              "      <td>278851</td>\n",
              "      <td>The Are You Being Served? Stories: 'Camping In...</td>\n",
              "      <td>7</td>\n",
              "    </tr>\n",
              "    <tr>\n",
              "      <th>383841</th>\n",
              "      <td>278851</td>\n",
              "      <td>Dallas Street Map Guide and Directory, 2000 Ed...</td>\n",
              "      <td>10</td>\n",
              "    </tr>\n",
              "  </tbody>\n",
              "</table>\n",
              "<p>383842 rows × 3 columns</p>\n",
              "</div>\n",
              "      <button class=\"colab-df-convert\" onclick=\"convertToInteractive('df-2aa79909-c3d1-4864-a263-68799ee6ca5d')\"\n",
              "              title=\"Convert this dataframe to an interactive table.\"\n",
              "              style=\"display:none;\">\n",
              "        \n",
              "  <svg xmlns=\"http://www.w3.org/2000/svg\" height=\"24px\"viewBox=\"0 0 24 24\"\n",
              "       width=\"24px\">\n",
              "    <path d=\"M0 0h24v24H0V0z\" fill=\"none\"/>\n",
              "    <path d=\"M18.56 5.44l.94 2.06.94-2.06 2.06-.94-2.06-.94-.94-2.06-.94 2.06-2.06.94zm-11 1L8.5 8.5l.94-2.06 2.06-.94-2.06-.94L8.5 2.5l-.94 2.06-2.06.94zm10 10l.94 2.06.94-2.06 2.06-.94-2.06-.94-.94-2.06-.94 2.06-2.06.94z\"/><path d=\"M17.41 7.96l-1.37-1.37c-.4-.4-.92-.59-1.43-.59-.52 0-1.04.2-1.43.59L10.3 9.45l-7.72 7.72c-.78.78-.78 2.05 0 2.83L4 21.41c.39.39.9.59 1.41.59.51 0 1.02-.2 1.41-.59l7.78-7.78 2.81-2.81c.8-.78.8-2.07 0-2.86zM5.41 20L4 18.59l7.72-7.72 1.47 1.35L5.41 20z\"/>\n",
              "  </svg>\n",
              "      </button>\n",
              "      \n",
              "  <style>\n",
              "    .colab-df-container {\n",
              "      display:flex;\n",
              "      flex-wrap:wrap;\n",
              "      gap: 12px;\n",
              "    }\n",
              "\n",
              "    .colab-df-convert {\n",
              "      background-color: #E8F0FE;\n",
              "      border: none;\n",
              "      border-radius: 50%;\n",
              "      cursor: pointer;\n",
              "      display: none;\n",
              "      fill: #1967D2;\n",
              "      height: 32px;\n",
              "      padding: 0 0 0 0;\n",
              "      width: 32px;\n",
              "    }\n",
              "\n",
              "    .colab-df-convert:hover {\n",
              "      background-color: #E2EBFA;\n",
              "      box-shadow: 0px 1px 2px rgba(60, 64, 67, 0.3), 0px 1px 3px 1px rgba(60, 64, 67, 0.15);\n",
              "      fill: #174EA6;\n",
              "    }\n",
              "\n",
              "    [theme=dark] .colab-df-convert {\n",
              "      background-color: #3B4455;\n",
              "      fill: #D2E3FC;\n",
              "    }\n",
              "\n",
              "    [theme=dark] .colab-df-convert:hover {\n",
              "      background-color: #434B5C;\n",
              "      box-shadow: 0px 1px 3px 1px rgba(0, 0, 0, 0.15);\n",
              "      filter: drop-shadow(0px 1px 2px rgba(0, 0, 0, 0.3));\n",
              "      fill: #FFFFFF;\n",
              "    }\n",
              "  </style>\n",
              "\n",
              "      <script>\n",
              "        const buttonEl =\n",
              "          document.querySelector('#df-2aa79909-c3d1-4864-a263-68799ee6ca5d button.colab-df-convert');\n",
              "        buttonEl.style.display =\n",
              "          google.colab.kernel.accessAllowed ? 'block' : 'none';\n",
              "\n",
              "        async function convertToInteractive(key) {\n",
              "          const element = document.querySelector('#df-2aa79909-c3d1-4864-a263-68799ee6ca5d');\n",
              "          const dataTable =\n",
              "            await google.colab.kernel.invokeFunction('convertToInteractive',\n",
              "                                                     [key], {});\n",
              "          if (!dataTable) return;\n",
              "\n",
              "          const docLinkHtml = 'Like what you see? Visit the ' +\n",
              "            '<a target=\"_blank\" href=https://colab.research.google.com/notebooks/data_table.ipynb>data table notebook</a>'\n",
              "            + ' to learn more about interactive tables.';\n",
              "          element.innerHTML = '';\n",
              "          dataTable['output_type'] = 'display_data';\n",
              "          await google.colab.output.renderOutput(dataTable, element);\n",
              "          const docLink = document.createElement('div');\n",
              "          docLink.innerHTML = docLinkHtml;\n",
              "          element.appendChild(docLink);\n",
              "        }\n",
              "      </script>\n",
              "    </div>\n",
              "  </div>\n",
              "  "
            ]
          },
          "metadata": {},
          "execution_count": 57
        }
      ]
    },
    {
      "cell_type": "code",
      "source": [
        "# Checking how many number of boooks are rated with respect to the total number of books \n",
        "fig = plt.figure(figsize=(15, 7))\n",
        "recmetrics.long_tail_plot(df=Final_df[['User-ID','Book-Title','Book-Rating']], \n",
        "             item_id_column=\"Book-Title\", \n",
        "             interaction_type=\"Book-Rating\", \n",
        "             percentage=0.5,\n",
        "             x_labels=False)"
      ],
      "metadata": {
        "colab": {
          "base_uri": "https://localhost:8080/",
          "height": 445
        },
        "id": "sjnX78d097Nb",
        "outputId": "6d752975-8fc7-4c6a-aa4d-974c8d9815fd"
      },
      "execution_count": 46,
      "outputs": [
        {
          "output_type": "display_data",
          "data": {
            "text/plain": [
              "<Figure size 1080x504 with 1 Axes>"
            ],
            "image/png": "[encoded data removed]"
          },
          "metadata": {
            "needs_background": "light"
          }
        }
      ]
    },
    {
      "cell_type": "markdown",
      "source": [
        "# **Observation**\n",
        "Very less number of books are rated with respect to total number of books that means number of popular books are fewer in terms of total books."
      ],
      "metadata": {
        "id": "ldyJn_FUIdux"
      }
    },
    {
      "cell_type": "code",
      "source": [
        "#count of rating for each book\n",
        "num_rating=Final_df.groupby('Book-Title').agg({'Book-Rating':'count'}).reset_index()\n",
        "num_rating.rename(columns = {'Book-Title':'Book-Title','Book-Rating':\"Rating_count\"},inplace=True)\n",
        "num_rating"
      ],
      "metadata": {
        "colab": {
          "base_uri": "https://localhost:8080/",
          "height": 423
        },
        "id": "iU511ED9Il7z",
        "outputId": "373486d9-9801-488b-ec3a-2bf6629a5615"
      },
      "execution_count": 47,
      "outputs": [
        {
          "output_type": "execute_result",
          "data": {
            "text/plain": [
              "                                               Book-Title  Rating_count\n",
              "0        A Light in the Storm: The Civil War Diary of ...             1\n",
              "1        Ask Lily (Young Women of Faith: Lily Series, ...             1\n",
              "2                                            Dark Justice             1\n",
              "3        Earth Prayers From around the World: 365 Pray...             7\n",
              "4        Final Fantasy Anthology: Official Strategy Gu...             2\n",
              "...                                                   ...           ...\n",
              "135562  Ã?Â?bernachten mit Stil. Die schÃ?Â¶nsten Coun...             1\n",
              "135563                     Ã?Â?rger mit Produkt X. Roman.             3\n",
              "135564                                Ã?Â?sterlich leben.             1\n",
              "135565                              Ã?Â?stlich der Berge.             1\n",
              "135566                                  Ã?Â?thique en toc             1\n",
              "\n",
              "[135567 rows x 2 columns]"
            ],
            "text/html": [
              "\n",
              "  <div id=\"df-da54ea68-13f5-48db-94b4-f061684383d0\">\n",
              "    <div class=\"colab-df-container\">\n",
              "      <div>\n",
              "<style scoped>\n",
              "    .dataframe tbody tr th:only-of-type {\n",
              "        vertical-align: middle;\n",
              "    }\n",
              "\n",
              "    .dataframe tbody tr th {\n",
              "        vertical-align: top;\n",
              "    }\n",
              "\n",
              "    .dataframe thead th {\n",
              "        text-align: right;\n",
              "    }\n",
              "</style>\n",
              "<table border=\"1\" class=\"dataframe\">\n",
              "  <thead>\n",
              "    <tr style=\"text-align: right;\">\n",
              "      <th></th>\n",
              "      <th>Book-Title</th>\n",
              "      <th>Rating_count</th>\n",
              "    </tr>\n",
              "  </thead>\n",
              "  <tbody>\n",
              "    <tr>\n",
              "      <th>0</th>\n",
              "      <td>A Light in the Storm: The Civil War Diary of ...</td>\n",
              "      <td>1</td>\n",
              "    </tr>\n",
              "    <tr>\n",
              "      <th>1</th>\n",
              "      <td>Ask Lily (Young Women of Faith: Lily Series, ...</td>\n",
              "      <td>1</td>\n",
              "    </tr>\n",
              "    <tr>\n",
              "      <th>2</th>\n",
              "      <td>Dark Justice</td>\n",
              "      <td>1</td>\n",
              "    </tr>\n",
              "    <tr>\n",
              "      <th>3</th>\n",
              "      <td>Earth Prayers From around the World: 365 Pray...</td>\n",
              "      <td>7</td>\n",
              "    </tr>\n",
              "    <tr>\n",
              "      <th>4</th>\n",
              "      <td>Final Fantasy Anthology: Official Strategy Gu...</td>\n",
              "      <td>2</td>\n",
              "    </tr>\n",
              "    <tr>\n",
              "      <th>...</th>\n",
              "      <td>...</td>\n",
              "      <td>...</td>\n",
              "    </tr>\n",
              "    <tr>\n",
              "      <th>135562</th>\n",
              "      <td>Ã?Â?bernachten mit Stil. Die schÃ?Â¶nsten Coun...</td>\n",
              "      <td>1</td>\n",
              "    </tr>\n",
              "    <tr>\n",
              "      <th>135563</th>\n",
              "      <td>Ã?Â?rger mit Produkt X. Roman.</td>\n",
              "      <td>3</td>\n",
              "    </tr>\n",
              "    <tr>\n",
              "      <th>135564</th>\n",
              "      <td>Ã?Â?sterlich leben.</td>\n",
              "      <td>1</td>\n",
              "    </tr>\n",
              "    <tr>\n",
              "      <th>135565</th>\n",
              "      <td>Ã?Â?stlich der Berge.</td>\n",
              "      <td>1</td>\n",
              "    </tr>\n",
              "    <tr>\n",
              "      <th>135566</th>\n",
              "      <td>Ã?Â?thique en toc</td>\n",
              "      <td>1</td>\n",
              "    </tr>\n",
              "  </tbody>\n",
              "</table>\n",
              "<p>135567 rows × 2 columns</p>\n",
              "</div>\n",
              "      <button class=\"colab-df-convert\" onclick=\"convertToInteractive('df-da54ea68-13f5-48db-94b4-f061684383d0')\"\n",
              "              title=\"Convert this dataframe to an interactive table.\"\n",
              "              style=\"display:none;\">\n",
              "        \n",
              "  <svg xmlns=\"http://www.w3.org/2000/svg\" height=\"24px\"viewBox=\"0 0 24 24\"\n",
              "       width=\"24px\">\n",
              "    <path d=\"M0 0h24v24H0V0z\" fill=\"none\"/>\n",
              "    <path d=\"M18.56 5.44l.94 2.06.94-2.06 2.06-.94-2.06-.94-.94-2.06-.94 2.06-2.06.94zm-11 1L8.5 8.5l.94-2.06 2.06-.94-2.06-.94L8.5 2.5l-.94 2.06-2.06.94zm10 10l.94 2.06.94-2.06 2.06-.94-2.06-.94-.94-2.06-.94 2.06-2.06.94z\"/><path d=\"M17.41 7.96l-1.37-1.37c-.4-.4-.92-.59-1.43-.59-.52 0-1.04.2-1.43.59L10.3 9.45l-7.72 7.72c-.78.78-.78 2.05 0 2.83L4 21.41c.39.39.9.59 1.41.59.51 0 1.02-.2 1.41-.59l7.78-7.78 2.81-2.81c.8-.78.8-2.07 0-2.86zM5.41 20L4 18.59l7.72-7.72 1.47 1.35L5.41 20z\"/>\n",
              "  </svg>\n",
              "      </button>\n",
              "      \n",
              "  <style>\n",
              "    .colab-df-container {\n",
              "      display:flex;\n",
              "      flex-wrap:wrap;\n",
              "      gap: 12px;\n",
              "    }\n",
              "\n",
              "    .colab-df-convert {\n",
              "      background-color: #E8F0FE;\n",
              "      border: none;\n",
              "      border-radius: 50%;\n",
              "      cursor: pointer;\n",
              "      display: none;\n",
              "      fill: #1967D2;\n",
              "      height: 32px;\n",
              "      padding: 0 0 0 0;\n",
              "      width: 32px;\n",
              "    }\n",
              "\n",
              "    .colab-df-convert:hover {\n",
              "      background-color: #E2EBFA;\n",
              "      box-shadow: 0px 1px 2px rgba(60, 64, 67, 0.3), 0px 1px 3px 1px rgba(60, 64, 67, 0.15);\n",
              "      fill: #174EA6;\n",
              "    }\n",
              "\n",
              "    [theme=dark] .colab-df-convert {\n",
              "      background-color: #3B4455;\n",
              "      fill: #D2E3FC;\n",
              "    }\n",
              "\n",
              "    [theme=dark] .colab-df-convert:hover {\n",
              "      background-color: #434B5C;\n",
              "      box-shadow: 0px 1px 3px 1px rgba(0, 0, 0, 0.15);\n",
              "      filter: drop-shadow(0px 1px 2px rgba(0, 0, 0, 0.3));\n",
              "      fill: #FFFFFF;\n",
              "    }\n",
              "  </style>\n",
              "\n",
              "      <script>\n",
              "        const buttonEl =\n",
              "          document.querySelector('#df-da54ea68-13f5-48db-94b4-f061684383d0 button.colab-df-convert');\n",
              "        buttonEl.style.display =\n",
              "          google.colab.kernel.accessAllowed ? 'block' : 'none';\n",
              "\n",
              "        async function convertToInteractive(key) {\n",
              "          const element = document.querySelector('#df-da54ea68-13f5-48db-94b4-f061684383d0');\n",
              "          const dataTable =\n",
              "            await google.colab.kernel.invokeFunction('convertToInteractive',\n",
              "                                                     [key], {});\n",
              "          if (!dataTable) return;\n",
              "\n",
              "          const docLinkHtml = 'Like what you see? Visit the ' +\n",
              "            '<a target=\"_blank\" href=https://colab.research.google.com/notebooks/data_table.ipynb>data table notebook</a>'\n",
              "            + ' to learn more about interactive tables.';\n",
              "          element.innerHTML = '';\n",
              "          dataTable['output_type'] = 'display_data';\n",
              "          await google.colab.output.renderOutput(dataTable, element);\n",
              "          const docLink = document.createElement('div');\n",
              "          docLink.innerHTML = docLinkHtml;\n",
              "          element.appendChild(docLink);\n",
              "        }\n",
              "      </script>\n",
              "    </div>\n",
              "  </div>\n",
              "  "
            ]
          },
          "metadata": {},
          "execution_count": 47
        }
      ]
    },
    {
      "cell_type": "code",
      "source": [
        "#average rating for each book\n",
        "avg_rating=Final_df.groupby('Book-Title').agg({'Book-Rating':'mean'}).reset_index()\n",
        "avg_rating.rename(columns = {'Book-Title':'Book-Title','Book-Rating':\"Avg_rating\"},inplace=True)\n",
        "avg_rating"
      ],
      "metadata": {
        "colab": {
          "base_uri": "https://localhost:8080/",
          "height": 423
        },
        "id": "q9wB3JLZIsnm",
        "outputId": "15cf8f32-19fe-4897-b370-9e250a2faca3"
      },
      "execution_count": 48,
      "outputs": [
        {
          "output_type": "execute_result",
          "data": {
            "text/plain": [
              "                                               Book-Title  Avg_rating\n",
              "0        A Light in the Storm: The Civil War Diary of ...    9.000000\n",
              "1        Ask Lily (Young Women of Faith: Lily Series, ...    8.000000\n",
              "2                                            Dark Justice   10.000000\n",
              "3        Earth Prayers From around the World: 365 Pray...    7.142857\n",
              "4        Final Fantasy Anthology: Official Strategy Gu...   10.000000\n",
              "...                                                   ...         ...\n",
              "135562  Ã?Â?bernachten mit Stil. Die schÃ?Â¶nsten Coun...    8.000000\n",
              "135563                     Ã?Â?rger mit Produkt X. Roman.    7.000000\n",
              "135564                                Ã?Â?sterlich leben.    7.000000\n",
              "135565                              Ã?Â?stlich der Berge.    8.000000\n",
              "135566                                  Ã?Â?thique en toc    8.000000\n",
              "\n",
              "[135567 rows x 2 columns]"
            ],
            "text/html": [
              "\n",
              "  <div id=\"df-314ff890-25cc-40ef-812f-3051c9c6656e\">\n",
              "    <div class=\"colab-df-container\">\n",
              "      <div>\n",
              "<style scoped>\n",
              "    .dataframe tbody tr th:only-of-type {\n",
              "        vertical-align: middle;\n",
              "    }\n",
              "\n",
              "    .dataframe tbody tr th {\n",
              "        vertical-align: top;\n",
              "    }\n",
              "\n",
              "    .dataframe thead th {\n",
              "        text-align: right;\n",
              "    }\n",
              "</style>\n",
              "<table border=\"1\" class=\"dataframe\">\n",
              "  <thead>\n",
              "    <tr style=\"text-align: right;\">\n",
              "      <th></th>\n",
              "      <th>Book-Title</th>\n",
              "      <th>Avg_rating</th>\n",
              "    </tr>\n",
              "  </thead>\n",
              "  <tbody>\n",
              "    <tr>\n",
              "      <th>0</th>\n",
              "      <td>A Light in the Storm: The Civil War Diary of ...</td>\n",
              "      <td>9.000000</td>\n",
              "    </tr>\n",
              "    <tr>\n",
              "      <th>1</th>\n",
              "      <td>Ask Lily (Young Women of Faith: Lily Series, ...</td>\n",
              "      <td>8.000000</td>\n",
              "    </tr>\n",
              "    <tr>\n",
              "      <th>2</th>\n",
              "      <td>Dark Justice</td>\n",
              "      <td>10.000000</td>\n",
              "    </tr>\n",
              "    <tr>\n",
              "      <th>3</th>\n",
              "      <td>Earth Prayers From around the World: 365 Pray...</td>\n",
              "      <td>7.142857</td>\n",
              "    </tr>\n",
              "    <tr>\n",
              "      <th>4</th>\n",
              "      <td>Final Fantasy Anthology: Official Strategy Gu...</td>\n",
              "      <td>10.000000</td>\n",
              "    </tr>\n",
              "    <tr>\n",
              "      <th>...</th>\n",
              "      <td>...</td>\n",
              "      <td>...</td>\n",
              "    </tr>\n",
              "    <tr>\n",
              "      <th>135562</th>\n",
              "      <td>Ã?Â?bernachten mit Stil. Die schÃ?Â¶nsten Coun...</td>\n",
              "      <td>8.000000</td>\n",
              "    </tr>\n",
              "    <tr>\n",
              "      <th>135563</th>\n",
              "      <td>Ã?Â?rger mit Produkt X. Roman.</td>\n",
              "      <td>7.000000</td>\n",
              "    </tr>\n",
              "    <tr>\n",
              "      <th>135564</th>\n",
              "      <td>Ã?Â?sterlich leben.</td>\n",
              "      <td>7.000000</td>\n",
              "    </tr>\n",
              "    <tr>\n",
              "      <th>135565</th>\n",
              "      <td>Ã?Â?stlich der Berge.</td>\n",
              "      <td>8.000000</td>\n",
              "    </tr>\n",
              "    <tr>\n",
              "      <th>135566</th>\n",
              "      <td>Ã?Â?thique en toc</td>\n",
              "      <td>8.000000</td>\n",
              "    </tr>\n",
              "  </tbody>\n",
              "</table>\n",
              "<p>135567 rows × 2 columns</p>\n",
              "</div>\n",
              "      <button class=\"colab-df-convert\" onclick=\"convertToInteractive('df-314ff890-25cc-40ef-812f-3051c9c6656e')\"\n",
              "              title=\"Convert this dataframe to an interactive table.\"\n",
              "              style=\"display:none;\">\n",
              "        \n",
              "  <svg xmlns=\"http://www.w3.org/2000/svg\" height=\"24px\"viewBox=\"0 0 24 24\"\n",
              "       width=\"24px\">\n",
              "    <path d=\"M0 0h24v24H0V0z\" fill=\"none\"/>\n",
              "    <path d=\"M18.56 5.44l.94 2.06.94-2.06 2.06-.94-2.06-.94-.94-2.06-.94 2.06-2.06.94zm-11 1L8.5 8.5l.94-2.06 2.06-.94-2.06-.94L8.5 2.5l-.94 2.06-2.06.94zm10 10l.94 2.06.94-2.06 2.06-.94-2.06-.94-.94-2.06-.94 2.06-2.06.94z\"/><path d=\"M17.41 7.96l-1.37-1.37c-.4-.4-.92-.59-1.43-.59-.52 0-1.04.2-1.43.59L10.3 9.45l-7.72 7.72c-.78.78-.78 2.05 0 2.83L4 21.41c.39.39.9.59 1.41.59.51 0 1.02-.2 1.41-.59l7.78-7.78 2.81-2.81c.8-.78.8-2.07 0-2.86zM5.41 20L4 18.59l7.72-7.72 1.47 1.35L5.41 20z\"/>\n",
              "  </svg>\n",
              "      </button>\n",
              "      \n",
              "  <style>\n",
              "    .colab-df-container {\n",
              "      display:flex;\n",
              "      flex-wrap:wrap;\n",
              "      gap: 12px;\n",
              "    }\n",
              "\n",
              "    .colab-df-convert {\n",
              "      background-color: #E8F0FE;\n",
              "      border: none;\n",
              "      border-radius: 50%;\n",
              "      cursor: pointer;\n",
              "      display: none;\n",
              "      fill: #1967D2;\n",
              "      height: 32px;\n",
              "      padding: 0 0 0 0;\n",
              "      width: 32px;\n",
              "    }\n",
              "\n",
              "    .colab-df-convert:hover {\n",
              "      background-color: #E2EBFA;\n",
              "      box-shadow: 0px 1px 2px rgba(60, 64, 67, 0.3), 0px 1px 3px 1px rgba(60, 64, 67, 0.15);\n",
              "      fill: #174EA6;\n",
              "    }\n",
              "\n",
              "    [theme=dark] .colab-df-convert {\n",
              "      background-color: #3B4455;\n",
              "      fill: #D2E3FC;\n",
              "    }\n",
              "\n",
              "    [theme=dark] .colab-df-convert:hover {\n",
              "      background-color: #434B5C;\n",
              "      box-shadow: 0px 1px 3px 1px rgba(0, 0, 0, 0.15);\n",
              "      filter: drop-shadow(0px 1px 2px rgba(0, 0, 0, 0.3));\n",
              "      fill: #FFFFFF;\n",
              "    }\n",
              "  </style>\n",
              "\n",
              "      <script>\n",
              "        const buttonEl =\n",
              "          document.querySelector('#df-314ff890-25cc-40ef-812f-3051c9c6656e button.colab-df-convert');\n",
              "        buttonEl.style.display =\n",
              "          google.colab.kernel.accessAllowed ? 'block' : 'none';\n",
              "\n",
              "        async function convertToInteractive(key) {\n",
              "          const element = document.querySelector('#df-314ff890-25cc-40ef-812f-3051c9c6656e');\n",
              "          const dataTable =\n",
              "            await google.colab.kernel.invokeFunction('convertToInteractive',\n",
              "                                                     [key], {});\n",
              "          if (!dataTable) return;\n",
              "\n",
              "          const docLinkHtml = 'Like what you see? Visit the ' +\n",
              "            '<a target=\"_blank\" href=https://colab.research.google.com/notebooks/data_table.ipynb>data table notebook</a>'\n",
              "            + ' to learn more about interactive tables.';\n",
              "          element.innerHTML = '';\n",
              "          dataTable['output_type'] = 'display_data';\n",
              "          await google.colab.output.renderOutput(dataTable, element);\n",
              "          const docLink = document.createElement('div');\n",
              "          docLink.innerHTML = docLinkHtml;\n",
              "          element.appendChild(docLink);\n",
              "        }\n",
              "      </script>\n",
              "    </div>\n",
              "  </div>\n",
              "  "
            ]
          },
          "metadata": {},
          "execution_count": 48
        }
      ]
    },
    {
      "cell_type": "code",
      "source": [
        "#Merging num_rating and avg_rating dataframes on Book-Title column\n",
        "popular_book_df = num_rating.merge(avg_rating,on='Book-Title')\n",
        "popular_book_df"
      ],
      "metadata": {
        "colab": {
          "base_uri": "https://localhost:8080/",
          "height": 423
        },
        "id": "ON9GQZP6Iy0Q",
        "outputId": "1e9cdf86-5168-47ec-d5be-ec17e7b2c946"
      },
      "execution_count": 49,
      "outputs": [
        {
          "output_type": "execute_result",
          "data": {
            "text/plain": [
              "                                               Book-Title  Rating_count  \\\n",
              "0        A Light in the Storm: The Civil War Diary of ...             1   \n",
              "1        Ask Lily (Young Women of Faith: Lily Series, ...             1   \n",
              "2                                            Dark Justice             1   \n",
              "3        Earth Prayers From around the World: 365 Pray...             7   \n",
              "4        Final Fantasy Anthology: Official Strategy Gu...             2   \n",
              "...                                                   ...           ...   \n",
              "135562  Ã?Â?bernachten mit Stil. Die schÃ?Â¶nsten Coun...             1   \n",
              "135563                     Ã?Â?rger mit Produkt X. Roman.             3   \n",
              "135564                                Ã?Â?sterlich leben.             1   \n",
              "135565                              Ã?Â?stlich der Berge.             1   \n",
              "135566                                  Ã?Â?thique en toc             1   \n",
              "\n",
              "        Avg_rating  \n",
              "0         9.000000  \n",
              "1         8.000000  \n",
              "2        10.000000  \n",
              "3         7.142857  \n",
              "4        10.000000  \n",
              "...            ...  \n",
              "135562    8.000000  \n",
              "135563    7.000000  \n",
              "135564    7.000000  \n",
              "135565    8.000000  \n",
              "135566    8.000000  \n",
              "\n",
              "[135567 rows x 3 columns]"
            ],
            "text/html": [
              "\n",
              "  <div id=\"df-7628ebc7-77e2-4fac-bb77-b94541bfe1fc\">\n",
              "    <div class=\"colab-df-container\">\n",
              "      <div>\n",
              "<style scoped>\n",
              "    .dataframe tbody tr th:only-of-type {\n",
              "        vertical-align: middle;\n",
              "    }\n",
              "\n",
              "    .dataframe tbody tr th {\n",
              "        vertical-align: top;\n",
              "    }\n",
              "\n",
              "    .dataframe thead th {\n",
              "        text-align: right;\n",
              "    }\n",
              "</style>\n",
              "<table border=\"1\" class=\"dataframe\">\n",
              "  <thead>\n",
              "    <tr style=\"text-align: right;\">\n",
              "      <th></th>\n",
              "      <th>Book-Title</th>\n",
              "      <th>Rating_count</th>\n",
              "      <th>Avg_rating</th>\n",
              "    </tr>\n",
              "  </thead>\n",
              "  <tbody>\n",
              "    <tr>\n",
              "      <th>0</th>\n",
              "      <td>A Light in the Storm: The Civil War Diary of ...</td>\n",
              "      <td>1</td>\n",
              "      <td>9.000000</td>\n",
              "    </tr>\n",
              "    <tr>\n",
              "      <th>1</th>\n",
              "      <td>Ask Lily (Young Women of Faith: Lily Series, ...</td>\n",
              "      <td>1</td>\n",
              "      <td>8.000000</td>\n",
              "    </tr>\n",
              "    <tr>\n",
              "      <th>2</th>\n",
              "      <td>Dark Justice</td>\n",
              "      <td>1</td>\n",
              "      <td>10.000000</td>\n",
              "    </tr>\n",
              "    <tr>\n",
              "      <th>3</th>\n",
              "      <td>Earth Prayers From around the World: 365 Pray...</td>\n",
              "      <td>7</td>\n",
              "      <td>7.142857</td>\n",
              "    </tr>\n",
              "    <tr>\n",
              "      <th>4</th>\n",
              "      <td>Final Fantasy Anthology: Official Strategy Gu...</td>\n",
              "      <td>2</td>\n",
              "      <td>10.000000</td>\n",
              "    </tr>\n",
              "    <tr>\n",
              "      <th>...</th>\n",
              "      <td>...</td>\n",
              "      <td>...</td>\n",
              "      <td>...</td>\n",
              "    </tr>\n",
              "    <tr>\n",
              "      <th>135562</th>\n",
              "      <td>Ã?Â?bernachten mit Stil. Die schÃ?Â¶nsten Coun...</td>\n",
              "      <td>1</td>\n",
              "      <td>8.000000</td>\n",
              "    </tr>\n",
              "    <tr>\n",
              "      <th>135563</th>\n",
              "      <td>Ã?Â?rger mit Produkt X. Roman.</td>\n",
              "      <td>3</td>\n",
              "      <td>7.000000</td>\n",
              "    </tr>\n",
              "    <tr>\n",
              "      <th>135564</th>\n",
              "      <td>Ã?Â?sterlich leben.</td>\n",
              "      <td>1</td>\n",
              "      <td>7.000000</td>\n",
              "    </tr>\n",
              "    <tr>\n",
              "      <th>135565</th>\n",
              "      <td>Ã?Â?stlich der Berge.</td>\n",
              "      <td>1</td>\n",
              "      <td>8.000000</td>\n",
              "    </tr>\n",
              "    <tr>\n",
              "      <th>135566</th>\n",
              "      <td>Ã?Â?thique en toc</td>\n",
              "      <td>1</td>\n",
              "      <td>8.000000</td>\n",
              "    </tr>\n",
              "  </tbody>\n",
              "</table>\n",
              "<p>135567 rows × 3 columns</p>\n",
              "</div>\n",
              "      <button class=\"colab-df-convert\" onclick=\"convertToInteractive('df-7628ebc7-77e2-4fac-bb77-b94541bfe1fc')\"\n",
              "              title=\"Convert this dataframe to an interactive table.\"\n",
              "              style=\"display:none;\">\n",
              "        \n",
              "  <svg xmlns=\"http://www.w3.org/2000/svg\" height=\"24px\"viewBox=\"0 0 24 24\"\n",
              "       width=\"24px\">\n",
              "    <path d=\"M0 0h24v24H0V0z\" fill=\"none\"/>\n",
              "    <path d=\"M18.56 5.44l.94 2.06.94-2.06 2.06-.94-2.06-.94-.94-2.06-.94 2.06-2.06.94zm-11 1L8.5 8.5l.94-2.06 2.06-.94-2.06-.94L8.5 2.5l-.94 2.06-2.06.94zm10 10l.94 2.06.94-2.06 2.06-.94-2.06-.94-.94-2.06-.94 2.06-2.06.94z\"/><path d=\"M17.41 7.96l-1.37-1.37c-.4-.4-.92-.59-1.43-.59-.52 0-1.04.2-1.43.59L10.3 9.45l-7.72 7.72c-.78.78-.78 2.05 0 2.83L4 21.41c.39.39.9.59 1.41.59.51 0 1.02-.2 1.41-.59l7.78-7.78 2.81-2.81c.8-.78.8-2.07 0-2.86zM5.41 20L4 18.59l7.72-7.72 1.47 1.35L5.41 20z\"/>\n",
              "  </svg>\n",
              "      </button>\n",
              "      \n",
              "  <style>\n",
              "    .colab-df-container {\n",
              "      display:flex;\n",
              "      flex-wrap:wrap;\n",
              "      gap: 12px;\n",
              "    }\n",
              "\n",
              "    .colab-df-convert {\n",
              "      background-color: #E8F0FE;\n",
              "      border: none;\n",
              "      border-radius: 50%;\n",
              "      cursor: pointer;\n",
              "      display: none;\n",
              "      fill: #1967D2;\n",
              "      height: 32px;\n",
              "      padding: 0 0 0 0;\n",
              "      width: 32px;\n",
              "    }\n",
              "\n",
              "    .colab-df-convert:hover {\n",
              "      background-color: #E2EBFA;\n",
              "      box-shadow: 0px 1px 2px rgba(60, 64, 67, 0.3), 0px 1px 3px 1px rgba(60, 64, 67, 0.15);\n",
              "      fill: #174EA6;\n",
              "    }\n",
              "\n",
              "    [theme=dark] .colab-df-convert {\n",
              "      background-color: #3B4455;\n",
              "      fill: #D2E3FC;\n",
              "    }\n",
              "\n",
              "    [theme=dark] .colab-df-convert:hover {\n",
              "      background-color: #434B5C;\n",
              "      box-shadow: 0px 1px 3px 1px rgba(0, 0, 0, 0.15);\n",
              "      filter: drop-shadow(0px 1px 2px rgba(0, 0, 0, 0.3));\n",
              "      fill: #FFFFFF;\n",
              "    }\n",
              "  </style>\n",
              "\n",
              "      <script>\n",
              "        const buttonEl =\n",
              "          document.querySelector('#df-7628ebc7-77e2-4fac-bb77-b94541bfe1fc button.colab-df-convert');\n",
              "        buttonEl.style.display =\n",
              "          google.colab.kernel.accessAllowed ? 'block' : 'none';\n",
              "\n",
              "        async function convertToInteractive(key) {\n",
              "          const element = document.querySelector('#df-7628ebc7-77e2-4fac-bb77-b94541bfe1fc');\n",
              "          const dataTable =\n",
              "            await google.colab.kernel.invokeFunction('convertToInteractive',\n",
              "                                                     [key], {});\n",
              "          if (!dataTable) return;\n",
              "\n",
              "          const docLinkHtml = 'Like what you see? Visit the ' +\n",
              "            '<a target=\"_blank\" href=https://colab.research.google.com/notebooks/data_table.ipynb>data table notebook</a>'\n",
              "            + ' to learn more about interactive tables.';\n",
              "          element.innerHTML = '';\n",
              "          dataTable['output_type'] = 'display_data';\n",
              "          await google.colab.output.renderOutput(dataTable, element);\n",
              "          const docLink = document.createElement('div');\n",
              "          docLink.innerHTML = docLinkHtml;\n",
              "          element.appendChild(docLink);\n",
              "        }\n",
              "      </script>\n",
              "    </div>\n",
              "  </div>\n",
              "  "
            ]
          },
          "metadata": {},
          "execution_count": 49
        }
      ]
    },
    {
      "cell_type": "code",
      "source": [
        "#book with more than 200 review\n",
        "popular_book_df = popular_book_df[popular_book_df['Rating_count']>=200]\n",
        "popular_book_df"
      ],
      "metadata": {
        "colab": {
          "base_uri": "https://localhost:8080/",
          "height": 1000
        },
        "id": "B9IZDtr0I4Dv",
        "outputId": "4d33fe9a-d51e-4848-d06c-fc2a8e5676a9"
      },
      "execution_count": null,
      "outputs": [
        {
          "output_type": "execute_result",
          "data": {
            "text/plain": [
              "                                               Book-Title  Rating_count  \\\n",
              "471                                   1st to Die: A Novel           236   \n",
              "3064                                      A Painted House           366   \n",
              "4046                                       A Time to Kill           214   \n",
              "8134                                  Angels &amp; Demons           310   \n",
              "15761                               Bridget Jones's Diary           377   \n",
              "29942     Divine Secrets of the Ya-Ya Sisterhood: A Novel           323   \n",
              "31316                                        Dreamcatcher           214   \n",
              "36288                                      Fahrenheit 451           204   \n",
              "42293                           Girl with a Pearl Earring           278   \n",
              "43138                                         Good in Bed           247   \n",
              "45374    Harry Potter and the Chamber of Secrets (Book 2)           326   \n",
              "45381        Harry Potter and the Goblet of Fire (Book 4)           247   \n",
              "45385   Harry Potter and the Order of the Phoenix (Boo...           211   \n",
              "45393   Harry Potter and the Prisoner of Azkaban (Book 3)           277   \n",
              "45403   Harry Potter and the Sorcerer's Stone (Harry P...           315   \n",
              "48354                               House of Sand and Fog           242   \n",
              "52382                          Interview with the Vampire           232   \n",
              "54874                                       Jurassic Park           212   \n",
              "60688                                          Life of Pi           336   \n",
              "66318                              Me Talk Pretty One Day           218   \n",
              "89011   She's Come Undone (Oprah's Book Club (Paperback))           207   \n",
              "89012               She's Come Undone (Oprah's Book Club)           217   \n",
              "90906                              Snow Falling on Cedars           275   \n",
              "94535                                      Summer Sisters           257   \n",
              "95029                        Suzanne's Diary for Nicholas           228   \n",
              "100130                                       The Brethren           213   \n",
              "100877                             The Catcher in the Rye           265   \n",
              "100988                                        The Chamber           207   \n",
              "102703                                  The Da Vinci Code           494   \n",
              "104949  The Fellowship of the Ring (The Lord of the Ri...           205   \n",
              "105133                                           The Firm           224   \n",
              "105252                 The Five People You Meet in Heaven           244   \n",
              "106035            The Girls' Guide to Hunting and Fishing           259   \n",
              "108493                                  The Joy Luck Club           208   \n",
              "110229                          The Lovely Bones: A Novel           707   \n",
              "111950                         The Nanny Diaries: A Novel           393   \n",
              "112557                                       The Notebook           293   \n",
              "113260                                        The Partner           205   \n",
              "113728                         The Pilot's Wife : A Novel           272   \n",
              "113907                      The Poisonwood Bible: A Novel           218   \n",
              "114960                The Red Tent (Bestselling Backlist)           383   \n",
              "116196                            The Secret Life of Bees           406   \n",
              "117734                                  The Street Lawyer           206   \n",
              "117832                                        The Summons           309   \n",
              "118292                                      The Testament           261   \n",
              "123444                                           Timeline           263   \n",
              "123681                              To Kill a Mockingbird           267   \n",
              "125564  Tuesdays with Morrie: An Old Man, a Young Man,...           250   \n",
              "131339  Where the Heart Is (Oprah's Book Club (Paperba...           295   \n",
              "132241                                        Wild Animus           581   \n",
              "\n",
              "        Avg_rating  \n",
              "471       7.711864  \n",
              "3064      7.398907  \n",
              "4046      8.009346  \n",
              "8134      8.016129  \n",
              "15761     7.625995  \n",
              "29942     7.876161  \n",
              "31316     7.219626  \n",
              "36288     8.549020  \n",
              "42293     7.982014  \n",
              "43138     8.044534  \n",
              "45374     8.840491  \n",
              "45381     9.125506  \n",
              "45385     9.047393  \n",
              "45393     9.043321  \n",
              "45403     8.936508  \n",
              "48354     7.363636  \n",
              "52382     7.775862  \n",
              "54874     7.891509  \n",
              "60688     8.080357  \n",
              "66318     7.866972  \n",
              "89011     7.531401  \n",
              "89012     7.700461  \n",
              "90906     7.829091  \n",
              "94535     7.494163  \n",
              "95029     7.657895  \n",
              "100130    7.441315  \n",
              "100877    7.701887  \n",
              "100988    7.415459  \n",
              "102703    8.439271  \n",
              "104949    8.882927  \n",
              "105133    7.825893  \n",
              "105252    8.020492  \n",
              "106035    6.945946  \n",
              "108493    8.153846  \n",
              "110229    8.185290  \n",
              "111950    7.437659  \n",
              "112557    7.897611  \n",
              "113260    7.673171  \n",
              "113728    7.503676  \n",
              "113907    8.178899  \n",
              "114960    8.182768  \n",
              "116196    8.477833  \n",
              "117734    7.543689  \n",
              "117832    7.275081  \n",
              "118292    7.517241  \n",
              "123444    7.870722  \n",
              "123681    8.977528  \n",
              "125564    8.588000  \n",
              "131339    8.142373  \n",
              "132241    4.390706  "
            ],
            "text/html": [
              "\n",
              "  <div id=\"df-bf48dd37-c124-4d11-8e42-96ec623a62a1\">\n",
              "    <div class=\"colab-df-container\">\n",
              "      <div>\n",
              "<style scoped>\n",
              "    .dataframe tbody tr th:only-of-type {\n",
              "        vertical-align: middle;\n",
              "    }\n",
              "\n",
              "    .dataframe tbody tr th {\n",
              "        vertical-align: top;\n",
              "    }\n",
              "\n",
              "    .dataframe thead th {\n",
              "        text-align: right;\n",
              "    }\n",
              "</style>\n",
              "<table border=\"1\" class=\"dataframe\">\n",
              "  <thead>\n",
              "    <tr style=\"text-align: right;\">\n",
              "      <th></th>\n",
              "      <th>Book-Title</th>\n",
              "      <th>Rating_count</th>\n",
              "      <th>Avg_rating</th>\n",
              "    </tr>\n",
              "  </thead>\n",
              "  <tbody>\n",
              "    <tr>\n",
              "      <th>471</th>\n",
              "      <td>1st to Die: A Novel</td>\n",
              "      <td>236</td>\n",
              "      <td>7.711864</td>\n",
              "    </tr>\n",
              "    <tr>\n",
              "      <th>3064</th>\n",
              "      <td>A Painted House</td>\n",
              "      <td>366</td>\n",
              "      <td>7.398907</td>\n",
              "    </tr>\n",
              "    <tr>\n",
              "      <th>4046</th>\n",
              "      <td>A Time to Kill</td>\n",
              "      <td>214</td>\n",
              "      <td>8.009346</td>\n",
              "    </tr>\n",
              "    <tr>\n",
              "      <th>8134</th>\n",
              "      <td>Angels &amp;amp; Demons</td>\n",
              "      <td>310</td>\n",
              "      <td>8.016129</td>\n",
              "    </tr>\n",
              "    <tr>\n",
              "      <th>15761</th>\n",
              "      <td>Bridget Jones's Diary</td>\n",
              "      <td>377</td>\n",
              "      <td>7.625995</td>\n",
              "    </tr>\n",
              "    <tr>\n",
              "      <th>29942</th>\n",
              "      <td>Divine Secrets of the Ya-Ya Sisterhood: A Novel</td>\n",
              "      <td>323</td>\n",
              "      <td>7.876161</td>\n",
              "    </tr>\n",
              "    <tr>\n",
              "      <th>31316</th>\n",
              "      <td>Dreamcatcher</td>\n",
              "      <td>214</td>\n",
              "      <td>7.219626</td>\n",
              "    </tr>\n",
              "    <tr>\n",
              "      <th>36288</th>\n",
              "      <td>Fahrenheit 451</td>\n",
              "      <td>204</td>\n",
              "      <td>8.549020</td>\n",
              "    </tr>\n",
              "    <tr>\n",
              "      <th>42293</th>\n",
              "      <td>Girl with a Pearl Earring</td>\n",
              "      <td>278</td>\n",
              "      <td>7.982014</td>\n",
              "    </tr>\n",
              "    <tr>\n",
              "      <th>43138</th>\n",
              "      <td>Good in Bed</td>\n",
              "      <td>247</td>\n",
              "      <td>8.044534</td>\n",
              "    </tr>\n",
              "    <tr>\n",
              "      <th>45374</th>\n",
              "      <td>Harry Potter and the Chamber of Secrets (Book 2)</td>\n",
              "      <td>326</td>\n",
              "      <td>8.840491</td>\n",
              "    </tr>\n",
              "    <tr>\n",
              "      <th>45381</th>\n",
              "      <td>Harry Potter and the Goblet of Fire (Book 4)</td>\n",
              "      <td>247</td>\n",
              "      <td>9.125506</td>\n",
              "    </tr>\n",
              "    <tr>\n",
              "      <th>45385</th>\n",
              "      <td>Harry Potter and the Order of the Phoenix (Boo...</td>\n",
              "      <td>211</td>\n",
              "      <td>9.047393</td>\n",
              "    </tr>\n",
              "    <tr>\n",
              "      <th>45393</th>\n",
              "      <td>Harry Potter and the Prisoner of Azkaban (Book 3)</td>\n",
              "      <td>277</td>\n",
              "      <td>9.043321</td>\n",
              "    </tr>\n",
              "    <tr>\n",
              "      <th>45403</th>\n",
              "      <td>Harry Potter and the Sorcerer's Stone (Harry P...</td>\n",
              "      <td>315</td>\n",
              "      <td>8.936508</td>\n",
              "    </tr>\n",
              "    <tr>\n",
              "      <th>48354</th>\n",
              "      <td>House of Sand and Fog</td>\n",
              "      <td>242</td>\n",
              "      <td>7.363636</td>\n",
              "    </tr>\n",
              "    <tr>\n",
              "      <th>52382</th>\n",
              "      <td>Interview with the Vampire</td>\n",
              "      <td>232</td>\n",
              "      <td>7.775862</td>\n",
              "    </tr>\n",
              "    <tr>\n",
              "      <th>54874</th>\n",
              "      <td>Jurassic Park</td>\n",
              "      <td>212</td>\n",
              "      <td>7.891509</td>\n",
              "    </tr>\n",
              "    <tr>\n",
              "      <th>60688</th>\n",
              "      <td>Life of Pi</td>\n",
              "      <td>336</td>\n",
              "      <td>8.080357</td>\n",
              "    </tr>\n",
              "    <tr>\n",
              "      <th>66318</th>\n",
              "      <td>Me Talk Pretty One Day</td>\n",
              "      <td>218</td>\n",
              "      <td>7.866972</td>\n",
              "    </tr>\n",
              "    <tr>\n",
              "      <th>89011</th>\n",
              "      <td>She's Come Undone (Oprah's Book Club (Paperback))</td>\n",
              "      <td>207</td>\n",
              "      <td>7.531401</td>\n",
              "    </tr>\n",
              "    <tr>\n",
              "      <th>89012</th>\n",
              "      <td>She's Come Undone (Oprah's Book Club)</td>\n",
              "      <td>217</td>\n",
              "      <td>7.700461</td>\n",
              "    </tr>\n",
              "    <tr>\n",
              "      <th>90906</th>\n",
              "      <td>Snow Falling on Cedars</td>\n",
              "      <td>275</td>\n",
              "      <td>7.829091</td>\n",
              "    </tr>\n",
              "    <tr>\n",
              "      <th>94535</th>\n",
              "      <td>Summer Sisters</td>\n",
              "      <td>257</td>\n",
              "      <td>7.494163</td>\n",
              "    </tr>\n",
              "    <tr>\n",
              "      <th>95029</th>\n",
              "      <td>Suzanne's Diary for Nicholas</td>\n",
              "      <td>228</td>\n",
              "      <td>7.657895</td>\n",
              "    </tr>\n",
              "    <tr>\n",
              "      <th>100130</th>\n",
              "      <td>The Brethren</td>\n",
              "      <td>213</td>\n",
              "      <td>7.441315</td>\n",
              "    </tr>\n",
              "    <tr>\n",
              "      <th>100877</th>\n",
              "      <td>The Catcher in the Rye</td>\n",
              "      <td>265</td>\n",
              "      <td>7.701887</td>\n",
              "    </tr>\n",
              "    <tr>\n",
              "      <th>100988</th>\n",
              "      <td>The Chamber</td>\n",
              "      <td>207</td>\n",
              "      <td>7.415459</td>\n",
              "    </tr>\n",
              "    <tr>\n",
              "      <th>102703</th>\n",
              "      <td>The Da Vinci Code</td>\n",
              "      <td>494</td>\n",
              "      <td>8.439271</td>\n",
              "    </tr>\n",
              "    <tr>\n",
              "      <th>104949</th>\n",
              "      <td>The Fellowship of the Ring (The Lord of the Ri...</td>\n",
              "      <td>205</td>\n",
              "      <td>8.882927</td>\n",
              "    </tr>\n",
              "    <tr>\n",
              "      <th>105133</th>\n",
              "      <td>The Firm</td>\n",
              "      <td>224</td>\n",
              "      <td>7.825893</td>\n",
              "    </tr>\n",
              "    <tr>\n",
              "      <th>105252</th>\n",
              "      <td>The Five People You Meet in Heaven</td>\n",
              "      <td>244</td>\n",
              "      <td>8.020492</td>\n",
              "    </tr>\n",
              "    <tr>\n",
              "      <th>106035</th>\n",
              "      <td>The Girls' Guide to Hunting and Fishing</td>\n",
              "      <td>259</td>\n",
              "      <td>6.945946</td>\n",
              "    </tr>\n",
              "    <tr>\n",
              "      <th>108493</th>\n",
              "      <td>The Joy Luck Club</td>\n",
              "      <td>208</td>\n",
              "      <td>8.153846</td>\n",
              "    </tr>\n",
              "    <tr>\n",
              "      <th>110229</th>\n",
              "      <td>The Lovely Bones: A Novel</td>\n",
              "      <td>707</td>\n",
              "      <td>8.185290</td>\n",
              "    </tr>\n",
              "    <tr>\n",
              "      <th>111950</th>\n",
              "      <td>The Nanny Diaries: A Novel</td>\n",
              "      <td>393</td>\n",
              "      <td>7.437659</td>\n",
              "    </tr>\n",
              "    <tr>\n",
              "      <th>112557</th>\n",
              "      <td>The Notebook</td>\n",
              "      <td>293</td>\n",
              "      <td>7.897611</td>\n",
              "    </tr>\n",
              "    <tr>\n",
              "      <th>113260</th>\n",
              "      <td>The Partner</td>\n",
              "      <td>205</td>\n",
              "      <td>7.673171</td>\n",
              "    </tr>\n",
              "    <tr>\n",
              "      <th>113728</th>\n",
              "      <td>The Pilot's Wife : A Novel</td>\n",
              "      <td>272</td>\n",
              "      <td>7.503676</td>\n",
              "    </tr>\n",
              "    <tr>\n",
              "      <th>113907</th>\n",
              "      <td>The Poisonwood Bible: A Novel</td>\n",
              "      <td>218</td>\n",
              "      <td>8.178899</td>\n",
              "    </tr>\n",
              "    <tr>\n",
              "      <th>114960</th>\n",
              "      <td>The Red Tent (Bestselling Backlist)</td>\n",
              "      <td>383</td>\n",
              "      <td>8.182768</td>\n",
              "    </tr>\n",
              "    <tr>\n",
              "      <th>116196</th>\n",
              "      <td>The Secret Life of Bees</td>\n",
              "      <td>406</td>\n",
              "      <td>8.477833</td>\n",
              "    </tr>\n",
              "    <tr>\n",
              "      <th>117734</th>\n",
              "      <td>The Street Lawyer</td>\n",
              "      <td>206</td>\n",
              "      <td>7.543689</td>\n",
              "    </tr>\n",
              "    <tr>\n",
              "      <th>117832</th>\n",
              "      <td>The Summons</td>\n",
              "      <td>309</td>\n",
              "      <td>7.275081</td>\n",
              "    </tr>\n",
              "    <tr>\n",
              "      <th>118292</th>\n",
              "      <td>The Testament</td>\n",
              "      <td>261</td>\n",
              "      <td>7.517241</td>\n",
              "    </tr>\n",
              "    <tr>\n",
              "      <th>123444</th>\n",
              "      <td>Timeline</td>\n",
              "      <td>263</td>\n",
              "      <td>7.870722</td>\n",
              "    </tr>\n",
              "    <tr>\n",
              "      <th>123681</th>\n",
              "      <td>To Kill a Mockingbird</td>\n",
              "      <td>267</td>\n",
              "      <td>8.977528</td>\n",
              "    </tr>\n",
              "    <tr>\n",
              "      <th>125564</th>\n",
              "      <td>Tuesdays with Morrie: An Old Man, a Young Man,...</td>\n",
              "      <td>250</td>\n",
              "      <td>8.588000</td>\n",
              "    </tr>\n",
              "    <tr>\n",
              "      <th>131339</th>\n",
              "      <td>Where the Heart Is (Oprah's Book Club (Paperba...</td>\n",
              "      <td>295</td>\n",
              "      <td>8.142373</td>\n",
              "    </tr>\n",
              "    <tr>\n",
              "      <th>132241</th>\n",
              "      <td>Wild Animus</td>\n",
              "      <td>581</td>\n",
              "      <td>4.390706</td>\n",
              "    </tr>\n",
              "  </tbody>\n",
              "</table>\n",
              "</div>\n",
              "      <button class=\"colab-df-convert\" onclick=\"convertToInteractive('df-bf48dd37-c124-4d11-8e42-96ec623a62a1')\"\n",
              "              title=\"Convert this dataframe to an interactive table.\"\n",
              "              style=\"display:none;\">\n",
              "        \n",
              "  <svg xmlns=\"http://www.w3.org/2000/svg\" height=\"24px\"viewBox=\"0 0 24 24\"\n",
              "       width=\"24px\">\n",
              "    <path d=\"M0 0h24v24H0V0z\" fill=\"none\"/>\n",
              "    <path d=\"M18.56 5.44l.94 2.06.94-2.06 2.06-.94-2.06-.94-.94-2.06-.94 2.06-2.06.94zm-11 1L8.5 8.5l.94-2.06 2.06-.94-2.06-.94L8.5 2.5l-.94 2.06-2.06.94zm10 10l.94 2.06.94-2.06 2.06-.94-2.06-.94-.94-2.06-.94 2.06-2.06.94z\"/><path d=\"M17.41 7.96l-1.37-1.37c-.4-.4-.92-.59-1.43-.59-.52 0-1.04.2-1.43.59L10.3 9.45l-7.72 7.72c-.78.78-.78 2.05 0 2.83L4 21.41c.39.39.9.59 1.41.59.51 0 1.02-.2 1.41-.59l7.78-7.78 2.81-2.81c.8-.78.8-2.07 0-2.86zM5.41 20L4 18.59l7.72-7.72 1.47 1.35L5.41 20z\"/>\n",
              "  </svg>\n",
              "      </button>\n",
              "      \n",
              "  <style>\n",
              "    .colab-df-container {\n",
              "      display:flex;\n",
              "      flex-wrap:wrap;\n",
              "      gap: 12px;\n",
              "    }\n",
              "\n",
              "    .colab-df-convert {\n",
              "      background-color: #E8F0FE;\n",
              "      border: none;\n",
              "      border-radius: 50%;\n",
              "      cursor: pointer;\n",
              "      display: none;\n",
              "      fill: #1967D2;\n",
              "      height: 32px;\n",
              "      padding: 0 0 0 0;\n",
              "      width: 32px;\n",
              "    }\n",
              "\n",
              "    .colab-df-convert:hover {\n",
              "      background-color: #E2EBFA;\n",
              "      box-shadow: 0px 1px 2px rgba(60, 64, 67, 0.3), 0px 1px 3px 1px rgba(60, 64, 67, 0.15);\n",
              "      fill: #174EA6;\n",
              "    }\n",
              "\n",
              "    [theme=dark] .colab-df-convert {\n",
              "      background-color: #3B4455;\n",
              "      fill: #D2E3FC;\n",
              "    }\n",
              "\n",
              "    [theme=dark] .colab-df-convert:hover {\n",
              "      background-color: #434B5C;\n",
              "      box-shadow: 0px 1px 3px 1px rgba(0, 0, 0, 0.15);\n",
              "      filter: drop-shadow(0px 1px 2px rgba(0, 0, 0, 0.3));\n",
              "      fill: #FFFFFF;\n",
              "    }\n",
              "  </style>\n",
              "\n",
              "      <script>\n",
              "        const buttonEl =\n",
              "          document.querySelector('#df-bf48dd37-c124-4d11-8e42-96ec623a62a1 button.colab-df-convert');\n",
              "        buttonEl.style.display =\n",
              "          google.colab.kernel.accessAllowed ? 'block' : 'none';\n",
              "\n",
              "        async function convertToInteractive(key) {\n",
              "          const element = document.querySelector('#df-bf48dd37-c124-4d11-8e42-96ec623a62a1');\n",
              "          const dataTable =\n",
              "            await google.colab.kernel.invokeFunction('convertToInteractive',\n",
              "                                                     [key], {});\n",
              "          if (!dataTable) return;\n",
              "\n",
              "          const docLinkHtml = 'Like what you see? Visit the ' +\n",
              "            '<a target=\"_blank\" href=https://colab.research.google.com/notebooks/data_table.ipynb>data table notebook</a>'\n",
              "            + ' to learn more about interactive tables.';\n",
              "          element.innerHTML = '';\n",
              "          dataTable['output_type'] = 'display_data';\n",
              "          await google.colab.output.renderOutput(dataTable, element);\n",
              "          const docLink = document.createElement('div');\n",
              "          docLink.innerHTML = docLinkHtml;\n",
              "          element.appendChild(docLink);\n",
              "        }\n",
              "      </script>\n",
              "    </div>\n",
              "  </div>\n",
              "  "
            ]
          },
          "metadata": {},
          "execution_count": 88
        }
      ]
    },
    {
      "cell_type": "code",
      "source": [
        "#popularity_score=0.7*Avg_rating+0.3*Rating_count\n",
        "def popularity_score(df):\n",
        "  ''' Function to give a popularity score to each observation\n",
        "      using the formula popularity_score=0.7*Avg_rating+0.3*Rating_count'''\n",
        "  df['popularity_score']=0.6*df['Avg_rating']+0.4*df['Rating_count']\n",
        "  return df"
      ],
      "metadata": {
        "id": "1vVFt-plI-sD"
      },
      "execution_count": 50,
      "outputs": []
    },
    {
      "cell_type": "code",
      "source": [
        "popular_book=popularity_score(popular_book_df)\n",
        "popular_book"
      ],
      "metadata": {
        "colab": {
          "base_uri": "https://localhost:8080/",
          "height": 423
        },
        "id": "0DXPk8EPJDJo",
        "outputId": "706249aa-14ab-4f4b-be3e-d204081d6859"
      },
      "execution_count": 51,
      "outputs": [
        {
          "output_type": "execute_result",
          "data": {
            "text/plain": [
              "                                               Book-Title  Rating_count  \\\n",
              "0        A Light in the Storm: The Civil War Diary of ...             1   \n",
              "1        Ask Lily (Young Women of Faith: Lily Series, ...             1   \n",
              "2                                            Dark Justice             1   \n",
              "3        Earth Prayers From around the World: 365 Pray...             7   \n",
              "4        Final Fantasy Anthology: Official Strategy Gu...             2   \n",
              "...                                                   ...           ...   \n",
              "135562  Ã?Â?bernachten mit Stil. Die schÃ?Â¶nsten Coun...             1   \n",
              "135563                     Ã?Â?rger mit Produkt X. Roman.             3   \n",
              "135564                                Ã?Â?sterlich leben.             1   \n",
              "135565                              Ã?Â?stlich der Berge.             1   \n",
              "135566                                  Ã?Â?thique en toc             1   \n",
              "\n",
              "        Avg_rating  popularity_score  \n",
              "0         9.000000          5.800000  \n",
              "1         8.000000          5.200000  \n",
              "2        10.000000          6.400000  \n",
              "3         7.142857          7.085714  \n",
              "4        10.000000          6.800000  \n",
              "...            ...               ...  \n",
              "135562    8.000000          5.200000  \n",
              "135563    7.000000          5.400000  \n",
              "135564    7.000000          4.600000  \n",
              "135565    8.000000          5.200000  \n",
              "135566    8.000000          5.200000  \n",
              "\n",
              "[135567 rows x 4 columns]"
            ],
            "text/html": [
              "\n",
              "  <div id=\"df-cb13c705-3f36-4fd7-a03a-22098ffa8a6b\">\n",
              "    <div class=\"colab-df-container\">\n",
              "      <div>\n",
              "<style scoped>\n",
              "    .dataframe tbody tr th:only-of-type {\n",
              "        vertical-align: middle;\n",
              "    }\n",
              "\n",
              "    .dataframe tbody tr th {\n",
              "        vertical-align: top;\n",
              "    }\n",
              "\n",
              "    .dataframe thead th {\n",
              "        text-align: right;\n",
              "    }\n",
              "</style>\n",
              "<table border=\"1\" class=\"dataframe\">\n",
              "  <thead>\n",
              "    <tr style=\"text-align: right;\">\n",
              "      <th></th>\n",
              "      <th>Book-Title</th>\n",
              "      <th>Rating_count</th>\n",
              "      <th>Avg_rating</th>\n",
              "      <th>popularity_score</th>\n",
              "    </tr>\n",
              "  </thead>\n",
              "  <tbody>\n",
              "    <tr>\n",
              "      <th>0</th>\n",
              "      <td>A Light in the Storm: The Civil War Diary of ...</td>\n",
              "      <td>1</td>\n",
              "      <td>9.000000</td>\n",
              "      <td>5.800000</td>\n",
              "    </tr>\n",
              "    <tr>\n",
              "      <th>1</th>\n",
              "      <td>Ask Lily (Young Women of Faith: Lily Series, ...</td>\n",
              "      <td>1</td>\n",
              "      <td>8.000000</td>\n",
              "      <td>5.200000</td>\n",
              "    </tr>\n",
              "    <tr>\n",
              "      <th>2</th>\n",
              "      <td>Dark Justice</td>\n",
              "      <td>1</td>\n",
              "      <td>10.000000</td>\n",
              "      <td>6.400000</td>\n",
              "    </tr>\n",
              "    <tr>\n",
              "      <th>3</th>\n",
              "      <td>Earth Prayers From around the World: 365 Pray...</td>\n",
              "      <td>7</td>\n",
              "      <td>7.142857</td>\n",
              "      <td>7.085714</td>\n",
              "    </tr>\n",
              "    <tr>\n",
              "      <th>4</th>\n",
              "      <td>Final Fantasy Anthology: Official Strategy Gu...</td>\n",
              "      <td>2</td>\n",
              "      <td>10.000000</td>\n",
              "      <td>6.800000</td>\n",
              "    </tr>\n",
              "    <tr>\n",
              "      <th>...</th>\n",
              "      <td>...</td>\n",
              "      <td>...</td>\n",
              "      <td>...</td>\n",
              "      <td>...</td>\n",
              "    </tr>\n",
              "    <tr>\n",
              "      <th>135562</th>\n",
              "      <td>Ã?Â?bernachten mit Stil. Die schÃ?Â¶nsten Coun...</td>\n",
              "      <td>1</td>\n",
              "      <td>8.000000</td>\n",
              "      <td>5.200000</td>\n",
              "    </tr>\n",
              "    <tr>\n",
              "      <th>135563</th>\n",
              "      <td>Ã?Â?rger mit Produkt X. Roman.</td>\n",
              "      <td>3</td>\n",
              "      <td>7.000000</td>\n",
              "      <td>5.400000</td>\n",
              "    </tr>\n",
              "    <tr>\n",
              "      <th>135564</th>\n",
              "      <td>Ã?Â?sterlich leben.</td>\n",
              "      <td>1</td>\n",
              "      <td>7.000000</td>\n",
              "      <td>4.600000</td>\n",
              "    </tr>\n",
              "    <tr>\n",
              "      <th>135565</th>\n",
              "      <td>Ã?Â?stlich der Berge.</td>\n",
              "      <td>1</td>\n",
              "      <td>8.000000</td>\n",
              "      <td>5.200000</td>\n",
              "    </tr>\n",
              "    <tr>\n",
              "      <th>135566</th>\n",
              "      <td>Ã?Â?thique en toc</td>\n",
              "      <td>1</td>\n",
              "      <td>8.000000</td>\n",
              "      <td>5.200000</td>\n",
              "    </tr>\n",
              "  </tbody>\n",
              "</table>\n",
              "<p>135567 rows × 4 columns</p>\n",
              "</div>\n",
              "      <button class=\"colab-df-convert\" onclick=\"convertToInteractive('df-cb13c705-3f36-4fd7-a03a-22098ffa8a6b')\"\n",
              "              title=\"Convert this dataframe to an interactive table.\"\n",
              "              style=\"display:none;\">\n",
              "        \n",
              "  <svg xmlns=\"http://www.w3.org/2000/svg\" height=\"24px\"viewBox=\"0 0 24 24\"\n",
              "       width=\"24px\">\n",
              "    <path d=\"M0 0h24v24H0V0z\" fill=\"none\"/>\n",
              "    <path d=\"M18.56 5.44l.94 2.06.94-2.06 2.06-.94-2.06-.94-.94-2.06-.94 2.06-2.06.94zm-11 1L8.5 8.5l.94-2.06 2.06-.94-2.06-.94L8.5 2.5l-.94 2.06-2.06.94zm10 10l.94 2.06.94-2.06 2.06-.94-2.06-.94-.94-2.06-.94 2.06-2.06.94z\"/><path d=\"M17.41 7.96l-1.37-1.37c-.4-.4-.92-.59-1.43-.59-.52 0-1.04.2-1.43.59L10.3 9.45l-7.72 7.72c-.78.78-.78 2.05 0 2.83L4 21.41c.39.39.9.59 1.41.59.51 0 1.02-.2 1.41-.59l7.78-7.78 2.81-2.81c.8-.78.8-2.07 0-2.86zM5.41 20L4 18.59l7.72-7.72 1.47 1.35L5.41 20z\"/>\n",
              "  </svg>\n",
              "      </button>\n",
              "      \n",
              "  <style>\n",
              "    .colab-df-container {\n",
              "      display:flex;\n",
              "      flex-wrap:wrap;\n",
              "      gap: 12px;\n",
              "    }\n",
              "\n",
              "    .colab-df-convert {\n",
              "      background-color: #E8F0FE;\n",
              "      border: none;\n",
              "      border-radius: 50%;\n",
              "      cursor: pointer;\n",
              "      display: none;\n",
              "      fill: #1967D2;\n",
              "      height: 32px;\n",
              "      padding: 0 0 0 0;\n",
              "      width: 32px;\n",
              "    }\n",
              "\n",
              "    .colab-df-convert:hover {\n",
              "      background-color: #E2EBFA;\n",
              "      box-shadow: 0px 1px 2px rgba(60, 64, 67, 0.3), 0px 1px 3px 1px rgba(60, 64, 67, 0.15);\n",
              "      fill: #174EA6;\n",
              "    }\n",
              "\n",
              "    [theme=dark] .colab-df-convert {\n",
              "      background-color: #3B4455;\n",
              "      fill: #D2E3FC;\n",
              "    }\n",
              "\n",
              "    [theme=dark] .colab-df-convert:hover {\n",
              "      background-color: #434B5C;\n",
              "      box-shadow: 0px 1px 3px 1px rgba(0, 0, 0, 0.15);\n",
              "      filter: drop-shadow(0px 1px 2px rgba(0, 0, 0, 0.3));\n",
              "      fill: #FFFFFF;\n",
              "    }\n",
              "  </style>\n",
              "\n",
              "      <script>\n",
              "        const buttonEl =\n",
              "          document.querySelector('#df-cb13c705-3f36-4fd7-a03a-22098ffa8a6b button.colab-df-convert');\n",
              "        buttonEl.style.display =\n",
              "          google.colab.kernel.accessAllowed ? 'block' : 'none';\n",
              "\n",
              "        async function convertToInteractive(key) {\n",
              "          const element = document.querySelector('#df-cb13c705-3f36-4fd7-a03a-22098ffa8a6b');\n",
              "          const dataTable =\n",
              "            await google.colab.kernel.invokeFunction('convertToInteractive',\n",
              "                                                     [key], {});\n",
              "          if (!dataTable) return;\n",
              "\n",
              "          const docLinkHtml = 'Like what you see? Visit the ' +\n",
              "            '<a target=\"_blank\" href=https://colab.research.google.com/notebooks/data_table.ipynb>data table notebook</a>'\n",
              "            + ' to learn more about interactive tables.';\n",
              "          element.innerHTML = '';\n",
              "          dataTable['output_type'] = 'display_data';\n",
              "          await google.colab.output.renderOutput(dataTable, element);\n",
              "          const docLink = document.createElement('div');\n",
              "          docLink.innerHTML = docLinkHtml;\n",
              "          element.appendChild(docLink);\n",
              "        }\n",
              "      </script>\n",
              "    </div>\n",
              "  </div>\n",
              "  "
            ]
          },
          "metadata": {},
          "execution_count": 51
        }
      ]
    },
    {
      "cell_type": "code",
      "source": [
        "#top 20 recommended book in terms of popularity\n",
        "Most_popular_book=popular_book.sort_values(by='popularity_score',ascending=False).head(20).reset_index()\n",
        "Most_popular_book"
      ],
      "metadata": {
        "colab": {
          "base_uri": "https://localhost:8080/",
          "height": 676
        },
        "id": "NXmq6uu2JIYz",
        "outputId": "bac49e2c-aa09-4f38-fd87-2f000a081af0"
      },
      "execution_count": 52,
      "outputs": [
        {
          "output_type": "execute_result",
          "data": {
            "text/plain": [
              "     index                                         Book-Title  Rating_count  \\\n",
              "0   110229                          The Lovely Bones: A Novel           707   \n",
              "1   132241                                        Wild Animus           581   \n",
              "2   102703                                  The Da Vinci Code           494   \n",
              "3   116196                            The Secret Life of Bees           406   \n",
              "4   111950                         The Nanny Diaries: A Novel           393   \n",
              "5   114960                The Red Tent (Bestselling Backlist)           383   \n",
              "6    15761                              Bridget Jones's Diary           377   \n",
              "7     3064                                    A Painted House           366   \n",
              "8    60688                                         Life of Pi           336   \n",
              "9    45374   Harry Potter and the Chamber of Secrets (Book 2)           326   \n",
              "10   29942    Divine Secrets of the Ya-Ya Sisterhood: A Novel           323   \n",
              "11   45403  Harry Potter and the Sorcerer's Stone (Harry P...           315   \n",
              "12    8134                                Angels &amp; Demons           310   \n",
              "13  117832                                        The Summons           309   \n",
              "14  131339  Where the Heart Is (Oprah's Book Club (Paperba...           295   \n",
              "15  112557                                       The Notebook           293   \n",
              "16   45393  Harry Potter and the Prisoner of Azkaban (Book 3)           277   \n",
              "17   42293                          Girl with a Pearl Earring           278   \n",
              "18   90906                             Snow Falling on Cedars           275   \n",
              "19  113728                         The Pilot's Wife : A Novel           272   \n",
              "\n",
              "    Avg_rating  popularity_score  \n",
              "0     8.185290        287.711174  \n",
              "1     4.390706        235.034423  \n",
              "2     8.439271        202.663563  \n",
              "3     8.477833        167.486700  \n",
              "4     7.437659        161.662595  \n",
              "5     8.182768        158.109661  \n",
              "6     7.625995        155.375597  \n",
              "7     7.398907        150.839344  \n",
              "8     8.080357        139.248214  \n",
              "9     8.840491        135.704294  \n",
              "10    7.876161        133.925697  \n",
              "11    8.936508        131.361905  \n",
              "12    8.016129        128.809677  \n",
              "13    7.275081        127.965049  \n",
              "14    8.142373        122.885424  \n",
              "15    7.897611        121.938567  \n",
              "16    9.043321        116.225993  \n",
              "17    7.982014        115.989209  \n",
              "18    7.829091        114.697455  \n",
              "19    7.503676        113.302206  "
            ],
            "text/html": [
              "\n",
              "  <div id=\"df-fac546e4-4ac5-41e6-a669-5d994795b708\">\n",
              "    <div class=\"colab-df-container\">\n",
              "      <div>\n",
              "<style scoped>\n",
              "    .dataframe tbody tr th:only-of-type {\n",
              "        vertical-align: middle;\n",
              "    }\n",
              "\n",
              "    .dataframe tbody tr th {\n",
              "        vertical-align: top;\n",
              "    }\n",
              "\n",
              "    .dataframe thead th {\n",
              "        text-align: right;\n",
              "    }\n",
              "</style>\n",
              "<table border=\"1\" class=\"dataframe\">\n",
              "  <thead>\n",
              "    <tr style=\"text-align: right;\">\n",
              "      <th></th>\n",
              "      <th>index</th>\n",
              "      <th>Book-Title</th>\n",
              "      <th>Rating_count</th>\n",
              "      <th>Avg_rating</th>\n",
              "      <th>popularity_score</th>\n",
              "    </tr>\n",
              "  </thead>\n",
              "  <tbody>\n",
              "    <tr>\n",
              "      <th>0</th>\n",
              "      <td>110229</td>\n",
              "      <td>The Lovely Bones: A Novel</td>\n",
              "      <td>707</td>\n",
              "      <td>8.185290</td>\n",
              "      <td>287.711174</td>\n",
              "    </tr>\n",
              "    <tr>\n",
              "      <th>1</th>\n",
              "      <td>132241</td>\n",
              "      <td>Wild Animus</td>\n",
              "      <td>581</td>\n",
              "      <td>4.390706</td>\n",
              "      <td>235.034423</td>\n",
              "    </tr>\n",
              "    <tr>\n",
              "      <th>2</th>\n",
              "      <td>102703</td>\n",
              "      <td>The Da Vinci Code</td>\n",
              "      <td>494</td>\n",
              "      <td>8.439271</td>\n",
              "      <td>202.663563</td>\n",
              "    </tr>\n",
              "    <tr>\n",
              "      <th>3</th>\n",
              "      <td>116196</td>\n",
              "      <td>The Secret Life of Bees</td>\n",
              "      <td>406</td>\n",
              "      <td>8.477833</td>\n",
              "      <td>167.486700</td>\n",
              "    </tr>\n",
              "    <tr>\n",
              "      <th>4</th>\n",
              "      <td>111950</td>\n",
              "      <td>The Nanny Diaries: A Novel</td>\n",
              "      <td>393</td>\n",
              "      <td>7.437659</td>\n",
              "      <td>161.662595</td>\n",
              "    </tr>\n",
              "    <tr>\n",
              "      <th>5</th>\n",
              "      <td>114960</td>\n",
              "      <td>The Red Tent (Bestselling Backlist)</td>\n",
              "      <td>383</td>\n",
              "      <td>8.182768</td>\n",
              "      <td>158.109661</td>\n",
              "    </tr>\n",
              "    <tr>\n",
              "      <th>6</th>\n",
              "      <td>15761</td>\n",
              "      <td>Bridget Jones's Diary</td>\n",
              "      <td>377</td>\n",
              "      <td>7.625995</td>\n",
              "      <td>155.375597</td>\n",
              "    </tr>\n",
              "    <tr>\n",
              "      <th>7</th>\n",
              "      <td>3064</td>\n",
              "      <td>A Painted House</td>\n",
              "      <td>366</td>\n",
              "      <td>7.398907</td>\n",
              "      <td>150.839344</td>\n",
              "    </tr>\n",
              "    <tr>\n",
              "      <th>8</th>\n",
              "      <td>60688</td>\n",
              "      <td>Life of Pi</td>\n",
              "      <td>336</td>\n",
              "      <td>8.080357</td>\n",
              "      <td>139.248214</td>\n",
              "    </tr>\n",
              "    <tr>\n",
              "      <th>9</th>\n",
              "      <td>45374</td>\n",
              "      <td>Harry Potter and the Chamber of Secrets (Book 2)</td>\n",
              "      <td>326</td>\n",
              "      <td>8.840491</td>\n",
              "      <td>135.704294</td>\n",
              "    </tr>\n",
              "    <tr>\n",
              "      <th>10</th>\n",
              "      <td>29942</td>\n",
              "      <td>Divine Secrets of the Ya-Ya Sisterhood: A Novel</td>\n",
              "      <td>323</td>\n",
              "      <td>7.876161</td>\n",
              "      <td>133.925697</td>\n",
              "    </tr>\n",
              "    <tr>\n",
              "      <th>11</th>\n",
              "      <td>45403</td>\n",
              "      <td>Harry Potter and the Sorcerer's Stone (Harry P...</td>\n",
              "      <td>315</td>\n",
              "      <td>8.936508</td>\n",
              "      <td>131.361905</td>\n",
              "    </tr>\n",
              "    <tr>\n",
              "      <th>12</th>\n",
              "      <td>8134</td>\n",
              "      <td>Angels &amp;amp; Demons</td>\n",
              "      <td>310</td>\n",
              "      <td>8.016129</td>\n",
              "      <td>128.809677</td>\n",
              "    </tr>\n",
              "    <tr>\n",
              "      <th>13</th>\n",
              "      <td>117832</td>\n",
              "      <td>The Summons</td>\n",
              "      <td>309</td>\n",
              "      <td>7.275081</td>\n",
              "      <td>127.965049</td>\n",
              "    </tr>\n",
              "    <tr>\n",
              "      <th>14</th>\n",
              "      <td>131339</td>\n",
              "      <td>Where the Heart Is (Oprah's Book Club (Paperba...</td>\n",
              "      <td>295</td>\n",
              "      <td>8.142373</td>\n",
              "      <td>122.885424</td>\n",
              "    </tr>\n",
              "    <tr>\n",
              "      <th>15</th>\n",
              "      <td>112557</td>\n",
              "      <td>The Notebook</td>\n",
              "      <td>293</td>\n",
              "      <td>7.897611</td>\n",
              "      <td>121.938567</td>\n",
              "    </tr>\n",
              "    <tr>\n",
              "      <th>16</th>\n",
              "      <td>45393</td>\n",
              "      <td>Harry Potter and the Prisoner of Azkaban (Book 3)</td>\n",
              "      <td>277</td>\n",
              "      <td>9.043321</td>\n",
              "      <td>116.225993</td>\n",
              "    </tr>\n",
              "    <tr>\n",
              "      <th>17</th>\n",
              "      <td>42293</td>\n",
              "      <td>Girl with a Pearl Earring</td>\n",
              "      <td>278</td>\n",
              "      <td>7.982014</td>\n",
              "      <td>115.989209</td>\n",
              "    </tr>\n",
              "    <tr>\n",
              "      <th>18</th>\n",
              "      <td>90906</td>\n",
              "      <td>Snow Falling on Cedars</td>\n",
              "      <td>275</td>\n",
              "      <td>7.829091</td>\n",
              "      <td>114.697455</td>\n",
              "    </tr>\n",
              "    <tr>\n",
              "      <th>19</th>\n",
              "      <td>113728</td>\n",
              "      <td>The Pilot's Wife : A Novel</td>\n",
              "      <td>272</td>\n",
              "      <td>7.503676</td>\n",
              "      <td>113.302206</td>\n",
              "    </tr>\n",
              "  </tbody>\n",
              "</table>\n",
              "</div>\n",
              "      <button class=\"colab-df-convert\" onclick=\"convertToInteractive('df-fac546e4-4ac5-41e6-a669-5d994795b708')\"\n",
              "              title=\"Convert this dataframe to an interactive table.\"\n",
              "              style=\"display:none;\">\n",
              "        \n",
              "  <svg xmlns=\"http://www.w3.org/2000/svg\" height=\"24px\"viewBox=\"0 0 24 24\"\n",
              "       width=\"24px\">\n",
              "    <path d=\"M0 0h24v24H0V0z\" fill=\"none\"/>\n",
              "    <path d=\"M18.56 5.44l.94 2.06.94-2.06 2.06-.94-2.06-.94-.94-2.06-.94 2.06-2.06.94zm-11 1L8.5 8.5l.94-2.06 2.06-.94-2.06-.94L8.5 2.5l-.94 2.06-2.06.94zm10 10l.94 2.06.94-2.06 2.06-.94-2.06-.94-.94-2.06-.94 2.06-2.06.94z\"/><path d=\"M17.41 7.96l-1.37-1.37c-.4-.4-.92-.59-1.43-.59-.52 0-1.04.2-1.43.59L10.3 9.45l-7.72 7.72c-.78.78-.78 2.05 0 2.83L4 21.41c.39.39.9.59 1.41.59.51 0 1.02-.2 1.41-.59l7.78-7.78 2.81-2.81c.8-.78.8-2.07 0-2.86zM5.41 20L4 18.59l7.72-7.72 1.47 1.35L5.41 20z\"/>\n",
              "  </svg>\n",
              "      </button>\n",
              "      \n",
              "  <style>\n",
              "    .colab-df-container {\n",
              "      display:flex;\n",
              "      flex-wrap:wrap;\n",
              "      gap: 12px;\n",
              "    }\n",
              "\n",
              "    .colab-df-convert {\n",
              "      background-color: #E8F0FE;\n",
              "      border: none;\n",
              "      border-radius: 50%;\n",
              "      cursor: pointer;\n",
              "      display: none;\n",
              "      fill: #1967D2;\n",
              "      height: 32px;\n",
              "      padding: 0 0 0 0;\n",
              "      width: 32px;\n",
              "    }\n",
              "\n",
              "    .colab-df-convert:hover {\n",
              "      background-color: #E2EBFA;\n",
              "      box-shadow: 0px 1px 2px rgba(60, 64, 67, 0.3), 0px 1px 3px 1px rgba(60, 64, 67, 0.15);\n",
              "      fill: #174EA6;\n",
              "    }\n",
              "\n",
              "    [theme=dark] .colab-df-convert {\n",
              "      background-color: #3B4455;\n",
              "      fill: #D2E3FC;\n",
              "    }\n",
              "\n",
              "    [theme=dark] .colab-df-convert:hover {\n",
              "      background-color: #434B5C;\n",
              "      box-shadow: 0px 1px 3px 1px rgba(0, 0, 0, 0.15);\n",
              "      filter: drop-shadow(0px 1px 2px rgba(0, 0, 0, 0.3));\n",
              "      fill: #FFFFFF;\n",
              "    }\n",
              "  </style>\n",
              "\n",
              "      <script>\n",
              "        const buttonEl =\n",
              "          document.querySelector('#df-fac546e4-4ac5-41e6-a669-5d994795b708 button.colab-df-convert');\n",
              "        buttonEl.style.display =\n",
              "          google.colab.kernel.accessAllowed ? 'block' : 'none';\n",
              "\n",
              "        async function convertToInteractive(key) {\n",
              "          const element = document.querySelector('#df-fac546e4-4ac5-41e6-a669-5d994795b708');\n",
              "          const dataTable =\n",
              "            await google.colab.kernel.invokeFunction('convertToInteractive',\n",
              "                                                     [key], {});\n",
              "          if (!dataTable) return;\n",
              "\n",
              "          const docLinkHtml = 'Like what you see? Visit the ' +\n",
              "            '<a target=\"_blank\" href=https://colab.research.google.com/notebooks/data_table.ipynb>data table notebook</a>'\n",
              "            + ' to learn more about interactive tables.';\n",
              "          element.innerHTML = '';\n",
              "          dataTable['output_type'] = 'display_data';\n",
              "          await google.colab.output.renderOutput(dataTable, element);\n",
              "          const docLink = document.createElement('div');\n",
              "          docLink.innerHTML = docLinkHtml;\n",
              "          element.appendChild(docLink);\n",
              "        }\n",
              "      </script>\n",
              "    </div>\n",
              "  </div>\n",
              "  "
            ]
          },
          "metadata": {},
          "execution_count": 52
        }
      ]
    },
    {
      "cell_type": "code",
      "source": [
        "# Extracting the image of most popular books in terms of popularity score\n",
        "image_list=[]\n",
        "for title in Most_popular_book['Book-Title']:\n",
        "  \n",
        "  url=str(Final_df[Final_df['Book-Title']==title]['Image-URL-S'].head(1))[8:57]\n",
        "  image_list.append(url)"
      ],
      "metadata": {
        "id": "lUp9_zb1JM3A"
      },
      "execution_count": 53,
      "outputs": []
    },
    {
      "cell_type": "code",
      "source": [
        "# Displaying the image of most popular books\n",
        "for path in image_list:\n",
        "    img = Image(url=path,height=300,width=300)\n",
        "    display(img)"
      ],
      "metadata": {
        "colab": {
          "base_uri": "https://localhost:8080/",
          "height": 1000
        },
        "id": "EJnyWIZvJQdH",
        "outputId": "73b0213d-9dfe-46c1-d0d4-de4ad32bcfcb"
      },
      "execution_count": 54,
      "outputs": [
        {
          "output_type": "display_data",
          "data": {
            "text/html": [
              "<img src=\" http://images.amazon.com/images/P/0316666343.0..\" width=\"300\" height=\"300\"/>"
            ],
            "text/plain": [
              "<IPython.core.display.Image object>"
            ]
          },
          "metadata": {}
        },
        {
          "output_type": "display_data",
          "data": {
            "text/html": [
              "<img src=\" http://images.amazon.com/images/P/0971880107.0..\" width=\"300\" height=\"300\"/>"
            ],
            "text/plain": [
              "<IPython.core.display.Image object>"
            ]
          },
          "metadata": {}
        },
        {
          "output_type": "display_data",
          "data": {
            "text/html": [
              "<img src=\" http://images.amazon.com/images/P/0385504209.0..\" width=\"300\" height=\"300\"/>"
            ],
            "text/plain": [
              "<IPython.core.display.Image object>"
            ]
          },
          "metadata": {}
        },
        {
          "output_type": "display_data",
          "data": {
            "text/html": [
              "<img src=\"http://images.amazon.com/images/P/0142001740.0...\" width=\"300\" height=\"300\"/>"
            ],
            "text/plain": [
              "<IPython.core.display.Image object>"
            ]
          },
          "metadata": {}
        },
        {
          "output_type": "display_data",
          "data": {
            "text/html": [
              "<img src=\"http://images.amazon.com/images/P/0312278586.0...\" width=\"300\" height=\"300\"/>"
            ],
            "text/plain": [
              "<IPython.core.display.Image object>"
            ]
          },
          "metadata": {}
        },
        {
          "output_type": "display_data",
          "data": {
            "text/html": [
              "<img src=\" http://images.amazon.com/images/P/0312195516.0..\" width=\"300\" height=\"300\"/>"
            ],
            "text/plain": [
              "<IPython.core.display.Image object>"
            ]
          },
          "metadata": {}
        },
        {
          "output_type": "display_data",
          "data": {
            "text/html": [
              "<img src=\" http://images.amazon.com/images/P/014028009X.0..\" width=\"300\" height=\"300\"/>"
            ],
            "text/plain": [
              "<IPython.core.display.Image object>"
            ]
          },
          "metadata": {}
        },
        {
          "output_type": "display_data",
          "data": {
            "text/html": [
              "<img src=\"http://images.amazon.com/images/P/044023722X.0...\" width=\"300\" height=\"300\"/>"
            ],
            "text/plain": [
              "<IPython.core.display.Image object>"
            ]
          },
          "metadata": {}
        },
        {
          "output_type": "display_data",
          "data": {
            "text/html": [
              "<img src=\"http://images.amazon.com/images/P/0151008116.0...\" width=\"300\" height=\"300\"/>"
            ],
            "text/plain": [
              "<IPython.core.display.Image object>"
            ]
          },
          "metadata": {}
        },
        {
          "output_type": "display_data",
          "data": {
            "text/html": [
              "<img src=\"http://images.amazon.com/images/P/0439064864.0...\" width=\"300\" height=\"300\"/>"
            ],
            "text/plain": [
              "<IPython.core.display.Image object>"
            ]
          },
          "metadata": {}
        },
        {
          "output_type": "display_data",
          "data": {
            "text/html": [
              "<img src=\" http://images.amazon.com/images/P/0060928336.0..\" width=\"300\" height=\"300\"/>"
            ],
            "text/plain": [
              "<IPython.core.display.Image object>"
            ]
          },
          "metadata": {}
        },
        {
          "output_type": "display_data",
          "data": {
            "text/html": [
              "<img src=\" http://images.amazon.com/images/P/059035342X.0..\" width=\"300\" height=\"300\"/>"
            ],
            "text/plain": [
              "<IPython.core.display.Image object>"
            ]
          },
          "metadata": {}
        },
        {
          "output_type": "display_data",
          "data": {
            "text/html": [
              "<img src=\"http://images.amazon.com/images/P/0671027360.0...\" width=\"300\" height=\"300\"/>"
            ],
            "text/plain": [
              "<IPython.core.display.Image object>"
            ]
          },
          "metadata": {}
        },
        {
          "output_type": "display_data",
          "data": {
            "text/html": [
              "<img src=\" http://images.amazon.com/images/P/0440241073.0..\" width=\"300\" height=\"300\"/>"
            ],
            "text/plain": [
              "<IPython.core.display.Image object>"
            ]
          },
          "metadata": {}
        },
        {
          "output_type": "display_data",
          "data": {
            "text/html": [
              "<img src=\" http://images.amazon.com/images/P/0446672211.0..\" width=\"300\" height=\"300\"/>"
            ],
            "text/plain": [
              "<IPython.core.display.Image object>"
            ]
          },
          "metadata": {}
        },
        {
          "output_type": "display_data",
          "data": {
            "text/html": [
              "<img src=\" http://images.amazon.com/images/P/0446605239.0..\" width=\"300\" height=\"300\"/>"
            ],
            "text/plain": [
              "<IPython.core.display.Image object>"
            ]
          },
          "metadata": {}
        },
        {
          "output_type": "display_data",
          "data": {
            "text/html": [
              "<img src=\"http://images.amazon.com/images/P/0439136350.0...\" width=\"300\" height=\"300\"/>"
            ],
            "text/plain": [
              "<IPython.core.display.Image object>"
            ]
          },
          "metadata": {}
        },
        {
          "output_type": "display_data",
          "data": {
            "text/html": [
              "<img src=\" http://images.amazon.com/images/P/0452282152.0..\" width=\"300\" height=\"300\"/>"
            ],
            "text/plain": [
              "<IPython.core.display.Image object>"
            ]
          },
          "metadata": {}
        },
        {
          "output_type": "display_data",
          "data": {
            "text/html": [
              "<img src=\" http://images.amazon.com/images/P/0151001006.0..\" width=\"300\" height=\"300\"/>"
            ],
            "text/plain": [
              "<IPython.core.display.Image object>"
            ]
          },
          "metadata": {}
        },
        {
          "output_type": "display_data",
          "data": {
            "text/html": [
              "<img src=\"http://images.amazon.com/images/P/0316601950.0...\" width=\"300\" height=\"300\"/>"
            ],
            "text/plain": [
              "<IPython.core.display.Image object>"
            ]
          },
          "metadata": {}
        }
      ]
    },
    {
      "cell_type": "markdown",
      "source": [
        "# Collaborative Filtering Based Recommender System"
      ],
      "metadata": {
        "id": "QNMTDbauLIK9"
      }
    },
    {
      "cell_type": "code",
      "source": [
        "# Information about Final_df dataframe\n",
        "Final_df.info()\n"
      ],
      "metadata": {
        "colab": {
          "base_uri": "https://localhost:8080/"
        },
        "id": "5dcNqkFxLNkG",
        "outputId": "872ed443-f63d-48aa-aff7-29821ba92c73"
      },
      "execution_count": 55,
      "outputs": [
        {
          "output_type": "stream",
          "name": "stdout",
          "text": [
            "<class 'pandas.core.frame.DataFrame'>\n",
            "Int64Index: 383842 entries, 0 to 383841\n",
            "Data columns (total 9 columns):\n",
            " #   Column               Non-Null Count   Dtype  \n",
            "---  ------               --------------   -----  \n",
            " 0   User-ID              383842 non-null  int64  \n",
            " 1   Age                  268018 non-null  float64\n",
            " 2   ISBN                 383842 non-null  object \n",
            " 3   Book-Rating          383842 non-null  int64  \n",
            " 4   Book-Title           383842 non-null  object \n",
            " 5   Book-Author          383841 non-null  object \n",
            " 6   Year-Of-Publication  383842 non-null  float64\n",
            " 7   Publisher            383842 non-null  object \n",
            " 8   Image-URL-S          383842 non-null  object \n",
            "dtypes: float64(2), int64(2), object(5)\n",
            "memory usage: 29.3+ MB\n"
          ]
        }
      ]
    },
    {
      "cell_type": "code",
      "source": [
        "#user with at least 3 rating\n",
        "rating_user_df=Final_df.groupby('User-ID').agg({'Book-Rating':'count'}).reset_index()\n",
        "relible_user=rating_user_df[rating_user_df['Book-Rating']>=3]['User-ID'].tolist()\n",
        "final_relible_user_df = Final_df[Final_df['User-ID'].isin(relible_user)]"
      ],
      "metadata": {
        "id": "R7plwXu3LUfB"
      },
      "execution_count": 56,
      "outputs": []
    },
    {
      "cell_type": "code",
      "source": [
        "#top 1 percent of most reviewed book\n",
        "threshold = len(final_relible_user_df ['ISBN'].unique()) * 0.01\n",
        "\n",
        "filter_books_list = final_relible_user_df ['ISBN'].value_counts().head(int(threshold)).index.to_list()\n",
        "final_relible_user_df  = final_relible_user_df [final_relible_user_df ['ISBN'].isin(filter_books_list)]"
      ],
      "metadata": {
        "id": "kqZus5dcLYWb"
      },
      "execution_count": 57,
      "outputs": []
    },
    {
      "cell_type": "code",
      "source": [
        "# Checking shape of final_relible_user_df \n",
        "final_relible_user_df.shape\n"
      ],
      "metadata": {
        "colab": {
          "base_uri": "https://localhost:8080/"
        },
        "id": "KIhHlo0gLcf0",
        "outputId": "9e8d9957-205a-4da6-8dfd-ecbac9dd6427"
      },
      "execution_count": 58,
      "outputs": [
        {
          "output_type": "execute_result",
          "data": {
            "text/plain": [
              "(64086, 9)"
            ]
          },
          "metadata": {},
          "execution_count": 58
        }
      ]
    },
    {
      "cell_type": "code",
      "source": [
        "# Applying Pivot table to final_relible_user_df \n",
        "user_item_df=final_relible_user_df.pivot_table(index='User-ID',columns='Book-Title',values='Book-Rating').fillna(0)\n",
        "user_item_df.head()\n"
      ],
      "metadata": {
        "colab": {
          "base_uri": "https://localhost:8080/",
          "height": 521
        },
        "id": "x6WxE05MLgAl",
        "outputId": "8499887e-e23a-47b0-b6ef-9d4056d333cf"
      },
      "execution_count": 59,
      "outputs": [
        {
          "output_type": "execute_result",
          "data": {
            "text/plain": [
              "Book-Title  1984  1st to Die: A Novel  2010: Odyssey Two  2nd Chance  \\\n",
              "User-ID                                                                \n",
              "99           0.0                  0.0                0.0         0.0   \n",
              "114          0.0                  0.0                0.0         0.0   \n",
              "165          0.0                  0.0                0.0         0.0   \n",
              "242          0.0                  0.0                0.0         0.0   \n",
              "243          0.0                  0.0                0.0         0.0   \n",
              "\n",
              "Book-Title  3rd Degree  4 Blondes  84 Charing Cross Road  \\\n",
              "User-ID                                                    \n",
              "99                 0.0        0.0                    0.0   \n",
              "114                0.0        0.0                    0.0   \n",
              "165                0.0        0.0                    0.0   \n",
              "242                0.0        0.0                    0.0   \n",
              "243                0.0        0.0                    0.0   \n",
              "\n",
              "Book-Title  A 2nd Helping of Chicken Soup for the Soul (Chicken Soup for the Soul Series (Paper))  \\\n",
              "User-ID                                                                                             \n",
              "99                                                        0.0                                       \n",
              "114                                                       0.0                                       \n",
              "165                                                       0.0                                       \n",
              "242                                                       0.0                                       \n",
              "243                                                       0.0                                       \n",
              "\n",
              "Book-Title  A Beautiful Mind: The Life of Mathematical Genius and Nobel Laureate John Nash  \\\n",
              "User-ID                                                                                      \n",
              "99                                                        0.0                                \n",
              "114                                                       0.0                                \n",
              "165                                                       0.0                                \n",
              "242                                                       0.0                                \n",
              "243                                                       0.0                                \n",
              "\n",
              "Book-Title  A Bend in the Road  ...  \\\n",
              "User-ID                         ...   \n",
              "99                         0.0  ...   \n",
              "114                        0.0  ...   \n",
              "165                        0.0  ...   \n",
              "242                        0.0  ...   \n",
              "243                        0.0  ...   \n",
              "\n",
              "Book-Title  Word Freak: Heartbreak, Triumph, Genius, and Obsession in the World of Competitive Scrabble Players  \\\n",
              "User-ID                                                                                                           \n",
              "99                                                        0.0                                                     \n",
              "114                                                       0.0                                                     \n",
              "165                                                       0.0                                                     \n",
              "242                                                       0.0                                                     \n",
              "243                                                       0.0                                                     \n",
              "\n",
              "Book-Title  Writ of Execution  Writing Down the Bones  Wuthering Heights  \\\n",
              "User-ID                                                                    \n",
              "99                        0.0                     0.0                0.0   \n",
              "114                       0.0                     0.0                0.0   \n",
              "165                       0.0                     0.0                0.0   \n",
              "242                       0.0                     0.0                0.0   \n",
              "243                       0.0                     0.0                0.0   \n",
              "\n",
              "Book-Title  Xenocide (Ender Wiggins Saga (Paperback))  Year of Wonders  \\\n",
              "User-ID                                                                  \n",
              "99                                                0.0              0.0   \n",
              "114                                               0.0              0.0   \n",
              "165                                               0.0              0.0   \n",
              "242                                               0.0              0.0   \n",
              "243                                               0.0              0.0   \n",
              "\n",
              "Book-Title  You Belong To Me  \\\n",
              "User-ID                        \n",
              "99                       0.0   \n",
              "114                      0.0   \n",
              "165                      0.0   \n",
              "242                      0.0   \n",
              "243                      0.0   \n",
              "\n",
              "Book-Title  Zen and the Art of Motorcycle Maintenance: An Inquiry into Values  \\\n",
              "User-ID                                                                         \n",
              "99                                                        0.0                   \n",
              "114                                                       0.0                   \n",
              "165                                                       0.0                   \n",
              "242                                                       0.0                   \n",
              "243                                                       0.0                   \n",
              "\n",
              "Book-Title  \\O\\\" Is for Outlaw\"  stardust  \n",
              "User-ID                                    \n",
              "99                          0.0       0.0  \n",
              "114                         0.0       0.0  \n",
              "165                         0.0       0.0  \n",
              "242                         0.0       0.0  \n",
              "243                         0.0       0.0  \n",
              "\n",
              "[5 rows x 1250 columns]"
            ],
            "text/html": [
              "\n",
              "  <div id=\"df-43edf806-675a-4b34-aa80-3e5f51cbfd71\">\n",
              "    <div class=\"colab-df-container\">\n",
              "      <div>\n",
              "<style scoped>\n",
              "    .dataframe tbody tr th:only-of-type {\n",
              "        vertical-align: middle;\n",
              "    }\n",
              "\n",
              "    .dataframe tbody tr th {\n",
              "        vertical-align: top;\n",
              "    }\n",
              "\n",
              "    .dataframe thead th {\n",
              "        text-align: right;\n",
              "    }\n",
              "</style>\n",
              "<table border=\"1\" class=\"dataframe\">\n",
              "  <thead>\n",
              "    <tr style=\"text-align: right;\">\n",
              "      <th>Book-Title</th>\n",
              "      <th>1984</th>\n",
              "      <th>1st to Die: A Novel</th>\n",
              "      <th>2010: Odyssey Two</th>\n",
              "      <th>2nd Chance</th>\n",
              "      <th>3rd Degree</th>\n",
              "      <th>4 Blondes</th>\n",
              "      <th>84 Charing Cross Road</th>\n",
              "      <th>A 2nd Helping of Chicken Soup for the Soul (Chicken Soup for the Soul Series (Paper))</th>\n",
              "      <th>A Beautiful Mind: The Life of Mathematical Genius and Nobel Laureate John Nash</th>\n",
              "      <th>A Bend in the Road</th>\n",
              "      <th>...</th>\n",
              "      <th>Word Freak: Heartbreak, Triumph, Genius, and Obsession in the World of Competitive Scrabble Players</th>\n",
              "      <th>Writ of Execution</th>\n",
              "      <th>Writing Down the Bones</th>\n",
              "      <th>Wuthering Heights</th>\n",
              "      <th>Xenocide (Ender Wiggins Saga (Paperback))</th>\n",
              "      <th>Year of Wonders</th>\n",
              "      <th>You Belong To Me</th>\n",
              "      <th>Zen and the Art of Motorcycle Maintenance: An Inquiry into Values</th>\n",
              "      <th>\\O\\\" Is for Outlaw\"</th>\n",
              "      <th>stardust</th>\n",
              "    </tr>\n",
              "    <tr>\n",
              "      <th>User-ID</th>\n",
              "      <th></th>\n",
              "      <th></th>\n",
              "      <th></th>\n",
              "      <th></th>\n",
              "      <th></th>\n",
              "      <th></th>\n",
              "      <th></th>\n",
              "      <th></th>\n",
              "      <th></th>\n",
              "      <th></th>\n",
              "      <th></th>\n",
              "      <th></th>\n",
              "      <th></th>\n",
              "      <th></th>\n",
              "      <th></th>\n",
              "      <th></th>\n",
              "      <th></th>\n",
              "      <th></th>\n",
              "      <th></th>\n",
              "      <th></th>\n",
              "      <th></th>\n",
              "    </tr>\n",
              "  </thead>\n",
              "  <tbody>\n",
              "    <tr>\n",
              "      <th>99</th>\n",
              "      <td>0.0</td>\n",
              "      <td>0.0</td>\n",
              "      <td>0.0</td>\n",
              "      <td>0.0</td>\n",
              "      <td>0.0</td>\n",
              "      <td>0.0</td>\n",
              "      <td>0.0</td>\n",
              "      <td>0.0</td>\n",
              "      <td>0.0</td>\n",
              "      <td>0.0</td>\n",
              "      <td>...</td>\n",
              "      <td>0.0</td>\n",
              "      <td>0.0</td>\n",
              "      <td>0.0</td>\n",
              "      <td>0.0</td>\n",
              "      <td>0.0</td>\n",
              "      <td>0.0</td>\n",
              "      <td>0.0</td>\n",
              "      <td>0.0</td>\n",
              "      <td>0.0</td>\n",
              "      <td>0.0</td>\n",
              "    </tr>\n",
              "    <tr>\n",
              "      <th>114</th>\n",
              "      <td>0.0</td>\n",
              "      <td>0.0</td>\n",
              "      <td>0.0</td>\n",
              "      <td>0.0</td>\n",
              "      <td>0.0</td>\n",
              "      <td>0.0</td>\n",
              "      <td>0.0</td>\n",
              "      <td>0.0</td>\n",
              "      <td>0.0</td>\n",
              "      <td>0.0</td>\n",
              "      <td>...</td>\n",
              "      <td>0.0</td>\n",
              "      <td>0.0</td>\n",
              "      <td>0.0</td>\n",
              "      <td>0.0</td>\n",
              "      <td>0.0</td>\n",
              "      <td>0.0</td>\n",
              "      <td>0.0</td>\n",
              "      <td>0.0</td>\n",
              "      <td>0.0</td>\n",
              "      <td>0.0</td>\n",
              "    </tr>\n",
              "    <tr>\n",
              "      <th>165</th>\n",
              "      <td>0.0</td>\n",
              "      <td>0.0</td>\n",
              "      <td>0.0</td>\n",
              "      <td>0.0</td>\n",
              "      <td>0.0</td>\n",
              "      <td>0.0</td>\n",
              "      <td>0.0</td>\n",
              "      <td>0.0</td>\n",
              "      <td>0.0</td>\n",
              "      <td>0.0</td>\n",
              "      <td>...</td>\n",
              "      <td>0.0</td>\n",
              "      <td>0.0</td>\n",
              "      <td>0.0</td>\n",
              "      <td>0.0</td>\n",
              "      <td>0.0</td>\n",
              "      <td>0.0</td>\n",
              "      <td>0.0</td>\n",
              "      <td>0.0</td>\n",
              "      <td>0.0</td>\n",
              "      <td>0.0</td>\n",
              "    </tr>\n",
              "    <tr>\n",
              "      <th>242</th>\n",
              "      <td>0.0</td>\n",
              "      <td>0.0</td>\n",
              "      <td>0.0</td>\n",
              "      <td>0.0</td>\n",
              "      <td>0.0</td>\n",
              "      <td>0.0</td>\n",
              "      <td>0.0</td>\n",
              "      <td>0.0</td>\n",
              "      <td>0.0</td>\n",
              "      <td>0.0</td>\n",
              "      <td>...</td>\n",
              "      <td>0.0</td>\n",
              "      <td>0.0</td>\n",
              "      <td>0.0</td>\n",
              "      <td>0.0</td>\n",
              "      <td>0.0</td>\n",
              "      <td>0.0</td>\n",
              "      <td>0.0</td>\n",
              "      <td>0.0</td>\n",
              "      <td>0.0</td>\n",
              "      <td>0.0</td>\n",
              "    </tr>\n",
              "    <tr>\n",
              "      <th>243</th>\n",
              "      <td>0.0</td>\n",
              "      <td>0.0</td>\n",
              "      <td>0.0</td>\n",
              "      <td>0.0</td>\n",
              "      <td>0.0</td>\n",
              "      <td>0.0</td>\n",
              "      <td>0.0</td>\n",
              "      <td>0.0</td>\n",
              "      <td>0.0</td>\n",
              "      <td>0.0</td>\n",
              "      <td>...</td>\n",
              "      <td>0.0</td>\n",
              "      <td>0.0</td>\n",
              "      <td>0.0</td>\n",
              "      <td>0.0</td>\n",
              "      <td>0.0</td>\n",
              "      <td>0.0</td>\n",
              "      <td>0.0</td>\n",
              "      <td>0.0</td>\n",
              "      <td>0.0</td>\n",
              "      <td>0.0</td>\n",
              "    </tr>\n",
              "  </tbody>\n",
              "</table>\n",
              "<p>5 rows × 1250 columns</p>\n",
              "</div>\n",
              "      <button class=\"colab-df-convert\" onclick=\"convertToInteractive('df-43edf806-675a-4b34-aa80-3e5f51cbfd71')\"\n",
              "              title=\"Convert this dataframe to an interactive table.\"\n",
              "              style=\"display:none;\">\n",
              "        \n",
              "  <svg xmlns=\"http://www.w3.org/2000/svg\" height=\"24px\"viewBox=\"0 0 24 24\"\n",
              "       width=\"24px\">\n",
              "    <path d=\"M0 0h24v24H0V0z\" fill=\"none\"/>\n",
              "    <path d=\"M18.56 5.44l.94 2.06.94-2.06 2.06-.94-2.06-.94-.94-2.06-.94 2.06-2.06.94zm-11 1L8.5 8.5l.94-2.06 2.06-.94-2.06-.94L8.5 2.5l-.94 2.06-2.06.94zm10 10l.94 2.06.94-2.06 2.06-.94-2.06-.94-.94-2.06-.94 2.06-2.06.94z\"/><path d=\"M17.41 7.96l-1.37-1.37c-.4-.4-.92-.59-1.43-.59-.52 0-1.04.2-1.43.59L10.3 9.45l-7.72 7.72c-.78.78-.78 2.05 0 2.83L4 21.41c.39.39.9.59 1.41.59.51 0 1.02-.2 1.41-.59l7.78-7.78 2.81-2.81c.8-.78.8-2.07 0-2.86zM5.41 20L4 18.59l7.72-7.72 1.47 1.35L5.41 20z\"/>\n",
              "  </svg>\n",
              "      </button>\n",
              "      \n",
              "  <style>\n",
              "    .colab-df-container {\n",
              "      display:flex;\n",
              "      flex-wrap:wrap;\n",
              "      gap: 12px;\n",
              "    }\n",
              "\n",
              "    .colab-df-convert {\n",
              "      background-color: #E8F0FE;\n",
              "      border: none;\n",
              "      border-radius: 50%;\n",
              "      cursor: pointer;\n",
              "      display: none;\n",
              "      fill: #1967D2;\n",
              "      height: 32px;\n",
              "      padding: 0 0 0 0;\n",
              "      width: 32px;\n",
              "    }\n",
              "\n",
              "    .colab-df-convert:hover {\n",
              "      background-color: #E2EBFA;\n",
              "      box-shadow: 0px 1px 2px rgba(60, 64, 67, 0.3), 0px 1px 3px 1px rgba(60, 64, 67, 0.15);\n",
              "      fill: #174EA6;\n",
              "    }\n",
              "\n",
              "    [theme=dark] .colab-df-convert {\n",
              "      background-color: #3B4455;\n",
              "      fill: #D2E3FC;\n",
              "    }\n",
              "\n",
              "    [theme=dark] .colab-df-convert:hover {\n",
              "      background-color: #434B5C;\n",
              "      box-shadow: 0px 1px 3px 1px rgba(0, 0, 0, 0.15);\n",
              "      filter: drop-shadow(0px 1px 2px rgba(0, 0, 0, 0.3));\n",
              "      fill: #FFFFFF;\n",
              "    }\n",
              "  </style>\n",
              "\n",
              "      <script>\n",
              "        const buttonEl =\n",
              "          document.querySelector('#df-43edf806-675a-4b34-aa80-3e5f51cbfd71 button.colab-df-convert');\n",
              "        buttonEl.style.display =\n",
              "          google.colab.kernel.accessAllowed ? 'block' : 'none';\n",
              "\n",
              "        async function convertToInteractive(key) {\n",
              "          const element = document.querySelector('#df-43edf806-675a-4b34-aa80-3e5f51cbfd71');\n",
              "          const dataTable =\n",
              "            await google.colab.kernel.invokeFunction('convertToInteractive',\n",
              "                                                     [key], {});\n",
              "          if (!dataTable) return;\n",
              "\n",
              "          const docLinkHtml = 'Like what you see? Visit the ' +\n",
              "            '<a target=\"_blank\" href=https://colab.research.google.com/notebooks/data_table.ipynb>data table notebook</a>'\n",
              "            + ' to learn more about interactive tables.';\n",
              "          element.innerHTML = '';\n",
              "          dataTable['output_type'] = 'display_data';\n",
              "          await google.colab.output.renderOutput(dataTable, element);\n",
              "          const docLink = document.createElement('div');\n",
              "          docLink.innerHTML = docLinkHtml;\n",
              "          element.appendChild(docLink);\n",
              "        }\n",
              "      </script>\n",
              "    </div>\n",
              "  </div>\n",
              "  "
            ]
          },
          "metadata": {},
          "execution_count": 59
        }
      ]
    },
    {
      "cell_type": "markdown",
      "source": [
        "# Collaborative Filtering Based Recommender System using cosine_similarity"
      ],
      "metadata": {
        "id": "8XKB3d8wLmxv"
      }
    },
    {
      "cell_type": "code",
      "source": [
        "# Transposing the user_item_df dataframe\n",
        "user_item_df_transposed=user_item_df.transpose()\n"
      ],
      "metadata": {
        "id": "74UE6LaULsXL"
      },
      "execution_count": 60,
      "outputs": []
    },
    {
      "cell_type": "code",
      "source": [
        "#Applying cosine_similarity to pivot table\n",
        "similarity_scores = cosine_similarity(user_item_df_transposed)\n",
        "similarity_scores.shape\n"
      ],
      "metadata": {
        "colab": {
          "base_uri": "https://localhost:8080/"
        },
        "id": "Ca9j1sUjLvV3",
        "outputId": "3d6b1920-7397-4ffc-ed83-d4d5bc146c07"
      },
      "execution_count": 61,
      "outputs": [
        {
          "output_type": "execute_result",
          "data": {
            "text/plain": [
              "(1250, 1250)"
            ]
          },
          "metadata": {},
          "execution_count": 61
        }
      ]
    },
    {
      "cell_type": "code",
      "source": [
        "def recommend_similer(book_name):\n",
        "    ''' Function for recommending 10 books with respect to\n",
        "    the input books'''\n",
        "    index = np.where(user_item_df_transposed.index==book_name)[0][0]\n",
        "    similar_items = sorted(list(enumerate(similarity_scores[index])),key=lambda x:x[1],reverse=True)[1:10]\n",
        "    \n",
        "    data = []\n",
        "    for i in similar_items:\n",
        "        item = []\n",
        "        temp_df = final_relible_user_df[final_relible_user_df['Book-Title'] == user_item_df_transposed.index[i[0]]]\n",
        "        item.extend(list(temp_df.drop_duplicates('Book-Title')['Book-Title'].values))\n",
        "        item.extend(list(temp_df.drop_duplicates('Book-Title')['Book-Author'].values))\n",
        "        \n",
        "        \n",
        "        data.append(item)\n",
        "    \n",
        "    return data\n"
      ],
      "metadata": {
        "id": "QrsXKM9ELzxW"
      },
      "execution_count": 62,
      "outputs": []
    },
    {
      "cell_type": "code",
      "source": [
        "# Showing 10 recommended book for the book 1984 using cosine similarity\n",
        "recommend_similer('1984')\n"
      ],
      "metadata": {
        "colab": {
          "base_uri": "https://localhost:8080/"
        },
        "id": "F655HYaBL3UD",
        "outputId": "7305f757-f111-4e79-d390-f7f4846263f5"
      },
      "execution_count": 63,
      "outputs": [
        {
          "output_type": "execute_result",
          "data": {
            "text/plain": [
              "[['Brave New World', 'Aldous Huxley'],\n",
              " ['Animal Farm', 'George Orwell'],\n",
              " [\"The Hitchhiker's Guide to the Galaxy\", 'Douglas Adams'],\n",
              " ['The Drawing of the Three (The Dark Tower, Book 2)', 'Stephen King'],\n",
              " ['The Gunslinger (The Dark Tower, Book 1)', 'Stephen King'],\n",
              " [\"Slaughterhouse Five or the Children's Crusade: A Duty Dance With Death\",\n",
              "  'Kurt Vonnegut'],\n",
              " [\"The Restaurant at the End of the Universe (Hitchhiker's Trilogy (Paperback))\",\n",
              "  'Douglas Adams'],\n",
              " ['The Catcher in the Rye', 'J.D. Salinger'],\n",
              " ['The Vampire Lestat (Vampire Chronicles, Book II)', 'ANNE RICE']]"
            ]
          },
          "metadata": {},
          "execution_count": 63
        }
      ]
    },
    {
      "cell_type": "markdown",
      "source": [
        "# Collaborative Filtering Based Recommender System using Singular Value Decomposition Method"
      ],
      "metadata": {
        "id": "HoFXegojL9Zr"
      }
    },
    {
      "cell_type": "code",
      "source": [
        "# Checking shape of user_item_df dataframe \n",
        "user_item_df.shape"
      ],
      "metadata": {
        "colab": {
          "base_uri": "https://localhost:8080/"
        },
        "id": "EQCMMXJNL8D2",
        "outputId": "e19587cd-a7cd-4ce2-8cb7-2fce86c10528"
      },
      "execution_count": 64,
      "outputs": [
        {
          "output_type": "execute_result",
          "data": {
            "text/plain": [
              "(13811, 1250)"
            ]
          },
          "metadata": {},
          "execution_count": 64
        }
      ]
    },
    {
      "cell_type": "code",
      "source": [
        "#converting to numpy array\n",
        "user_item_matrix=user_item_df.values"
      ],
      "metadata": {
        "id": "h7n8_a1CMHCH"
      },
      "execution_count": 65,
      "outputs": []
    },
    {
      "cell_type": "code",
      "source": [
        "# Checking the shape\n",
        "user_item_matrix.shape\n"
      ],
      "metadata": {
        "colab": {
          "base_uri": "https://localhost:8080/"
        },
        "id": "nLs9oXedMKw0",
        "outputId": "19efc94f-a3f6-4ca3-cbbd-4fe33f00fee1"
      },
      "execution_count": 66,
      "outputs": [
        {
          "output_type": "execute_result",
          "data": {
            "text/plain": [
              "(13811, 1250)"
            ]
          },
          "metadata": {},
          "execution_count": 66
        }
      ]
    },
    {
      "cell_type": "code",
      "source": [
        "#factorising matrix using svd\n",
        "U, sigma, Vt = svds(user_item_matrix, k = 16)"
      ],
      "metadata": {
        "id": "A8Kh1rr_MP7e"
      },
      "execution_count": 67,
      "outputs": []
    },
    {
      "cell_type": "code",
      "source": [
        "sigma=np.diag(sigma)"
      ],
      "metadata": {
        "id": "AB-66Q-qMTfu"
      },
      "execution_count": 68,
      "outputs": []
    },
    {
      "cell_type": "code",
      "source": [
        "# Checking shapes for U, Sigma, Vt matrix\n",
        "U.shape,sigma.shape,Vt.shape"
      ],
      "metadata": {
        "colab": {
          "base_uri": "https://localhost:8080/"
        },
        "id": "EQaLC72UMWxN",
        "outputId": "bdcacf68-e6e3-4897-aea4-9b6bdd7e57aa"
      },
      "execution_count": 69,
      "outputs": [
        {
          "output_type": "execute_result",
          "data": {
            "text/plain": [
              "((13811, 16), (16, 16), (16, 1250))"
            ]
          },
          "metadata": {},
          "execution_count": 69
        }
      ]
    },
    {
      "cell_type": "code",
      "source": [
        "#reconstructing the matrix\n",
        "user_item_matrix_new = np.dot(np.dot(U, sigma), Vt) \n",
        "user_item_matrix_new"
      ],
      "metadata": {
        "colab": {
          "base_uri": "https://localhost:8080/"
        },
        "id": "f-88Y5xaMdUm",
        "outputId": "3da6b6dc-6c44-4c10-fdca-cedd5d59ade3"
      },
      "execution_count": 70,
      "outputs": [
        {
          "output_type": "execute_result",
          "data": {
            "text/plain": [
              "array([[ 1.15198887e-02,  1.76138526e-02,  5.10332845e-03, ...,\n",
              "         6.29353586e-04,  5.55032329e-03,  1.81166065e-03],\n",
              "       [-1.64984890e-02,  4.75876175e-01, -5.35392943e-02, ...,\n",
              "        -9.12689217e-02, -3.69186994e-02,  2.04459761e-02],\n",
              "       [ 1.06865203e-03,  7.08212163e-02, -1.00160754e-02, ...,\n",
              "        -2.66859119e-02, -1.40928226e-03, -2.37210790e-02],\n",
              "       ...,\n",
              "       [ 7.64889581e-02, -2.93419633e-01,  4.90063544e-02, ...,\n",
              "         8.22652777e-02, -1.31610855e-02, -1.48963424e-02],\n",
              "       [-1.66342464e-04,  1.57218395e-02,  5.31666619e-04, ...,\n",
              "         1.87087648e-02,  2.50349657e-02,  1.71479040e-02],\n",
              "       [-1.74346498e-02,  9.44221099e-02, -2.34936815e-03, ...,\n",
              "         4.94379602e-03,  5.86847345e-02,  6.21423719e-03]])"
            ]
          },
          "metadata": {},
          "execution_count": 70
        }
      ]
    },
    {
      "cell_type": "code",
      "source": [
        "# Checking shape of reconstructed matrix\n",
        "user_item_matrix_new .shape"
      ],
      "metadata": {
        "colab": {
          "base_uri": "https://localhost:8080/"
        },
        "id": "vsRYpGl9Mhvq",
        "outputId": "673fbd10-9ae7-43f4-a510-f12dcca2f86e"
      },
      "execution_count": 71,
      "outputs": [
        {
          "output_type": "execute_result",
          "data": {
            "text/plain": [
              "(13811, 1250)"
            ]
          },
          "metadata": {},
          "execution_count": 71
        }
      ]
    },
    {
      "cell_type": "code",
      "source": [
        "#Converting the reconstructed matrix back to a Pandas dataframe\n",
        "final_svd_df = pd.DataFrame(user_item_matrix_new, columns = user_item_df.columns, index=list(user_item_df.index)).transpose()\n",
        "final_svd_df.head()"
      ],
      "metadata": {
        "colab": {
          "base_uri": "https://localhost:8080/",
          "height": 452
        },
        "id": "7f42ff-EMlXG",
        "outputId": "fbcb9a43-5428-4f98-f120-b4b6652d43d4"
      },
      "execution_count": 72,
      "outputs": [
        {
          "output_type": "execute_result",
          "data": {
            "text/plain": [
              "                       99        114       165       242       243     \\\n",
              "Book-Title                                                              \n",
              "1984                 0.011520 -0.016498  0.001069  0.051223 -0.049149   \n",
              "1st to Die: A Novel  0.017614  0.475876  0.070821 -0.016669  0.426457   \n",
              "2010: Odyssey Two    0.005103 -0.053539 -0.010016  0.012692 -0.031243   \n",
              "2nd Chance          -0.001404  0.467756  0.054473 -0.020312  0.125163   \n",
              "3rd Degree          -0.003839  0.132261  0.001822 -0.008487 -0.067965   \n",
              "\n",
              "                       244       254       388       424       440     ...  \\\n",
              "Book-Title                                                             ...   \n",
              "1984                 0.231309  0.409780  0.017890  0.076655  0.030008  ...   \n",
              "1st to Die: A Novel  0.063179  0.207734  0.000127 -0.009998 -0.006438  ...   \n",
              "2010: Odyssey Two    0.067341  0.102214  0.008987  0.010508  0.006284  ...   \n",
              "2nd Chance           0.234761 -0.107231 -0.017580 -0.053329 -0.004954  ...   \n",
              "3rd Degree           0.093682  0.041233 -0.013323 -0.025678 -0.001015  ...   \n",
              "\n",
              "                       278582    278586    278633    278663    278694  \\\n",
              "Book-Title                                                              \n",
              "1984                 0.106294 -0.018893 -0.031124  0.013804 -0.016070   \n",
              "1st to Die: A Novel  0.639242  0.019273 -0.001869 -0.004224  0.068642   \n",
              "2010: Odyssey Two   -0.004688  0.003132  0.066965  0.003801 -0.006515   \n",
              "2nd Chance           0.499641  0.018961  0.049365 -0.036172  0.046446   \n",
              "3rd Degree           0.170987  0.008126  0.013661 -0.020453  0.009602   \n",
              "\n",
              "                       278773    278832    278843    278851    278854  \n",
              "Book-Title                                                             \n",
              "1984                -0.027506 -0.030409  0.076489 -0.000166 -0.017435  \n",
              "1st to Die: A Novel  0.072258  0.041441 -0.293420  0.015722  0.094422  \n",
              "2010: Odyssey Two   -0.008609  0.001744  0.049006  0.000532 -0.002349  \n",
              "2nd Chance           0.062039  0.031647 -0.423054 -0.005002  0.064031  \n",
              "3rd Degree           0.021996  0.012408 -0.127397 -0.000047  0.006275  \n",
              "\n",
              "[5 rows x 13811 columns]"
            ],
            "text/html": [
              "\n",
              "  <div id=\"df-52c60135-ac2b-47c6-a7f9-32b179b63cab\">\n",
              "    <div class=\"colab-df-container\">\n",
              "      <div>\n",
              "<style scoped>\n",
              "    .dataframe tbody tr th:only-of-type {\n",
              "        vertical-align: middle;\n",
              "    }\n",
              "\n",
              "    .dataframe tbody tr th {\n",
              "        vertical-align: top;\n",
              "    }\n",
              "\n",
              "    .dataframe thead th {\n",
              "        text-align: right;\n",
              "    }\n",
              "</style>\n",
              "<table border=\"1\" class=\"dataframe\">\n",
              "  <thead>\n",
              "    <tr style=\"text-align: right;\">\n",
              "      <th></th>\n",
              "      <th>99</th>\n",
              "      <th>114</th>\n",
              "      <th>165</th>\n",
              "      <th>242</th>\n",
              "      <th>243</th>\n",
              "      <th>244</th>\n",
              "      <th>254</th>\n",
              "      <th>388</th>\n",
              "      <th>424</th>\n",
              "      <th>440</th>\n",
              "      <th>...</th>\n",
              "      <th>278582</th>\n",
              "      <th>278586</th>\n",
              "      <th>278633</th>\n",
              "      <th>278663</th>\n",
              "      <th>278694</th>\n",
              "      <th>278773</th>\n",
              "      <th>278832</th>\n",
              "      <th>278843</th>\n",
              "      <th>278851</th>\n",
              "      <th>278854</th>\n",
              "    </tr>\n",
              "    <tr>\n",
              "      <th>Book-Title</th>\n",
              "      <th></th>\n",
              "      <th></th>\n",
              "      <th></th>\n",
              "      <th></th>\n",
              "      <th></th>\n",
              "      <th></th>\n",
              "      <th></th>\n",
              "      <th></th>\n",
              "      <th></th>\n",
              "      <th></th>\n",
              "      <th></th>\n",
              "      <th></th>\n",
              "      <th></th>\n",
              "      <th></th>\n",
              "      <th></th>\n",
              "      <th></th>\n",
              "      <th></th>\n",
              "      <th></th>\n",
              "      <th></th>\n",
              "      <th></th>\n",
              "      <th></th>\n",
              "    </tr>\n",
              "  </thead>\n",
              "  <tbody>\n",
              "    <tr>\n",
              "      <th>1984</th>\n",
              "      <td>0.011520</td>\n",
              "      <td>-0.016498</td>\n",
              "      <td>0.001069</td>\n",
              "      <td>0.051223</td>\n",
              "      <td>-0.049149</td>\n",
              "      <td>0.231309</td>\n",
              "      <td>0.409780</td>\n",
              "      <td>0.017890</td>\n",
              "      <td>0.076655</td>\n",
              "      <td>0.030008</td>\n",
              "      <td>...</td>\n",
              "      <td>0.106294</td>\n",
              "      <td>-0.018893</td>\n",
              "      <td>-0.031124</td>\n",
              "      <td>0.013804</td>\n",
              "      <td>-0.016070</td>\n",
              "      <td>-0.027506</td>\n",
              "      <td>-0.030409</td>\n",
              "      <td>0.076489</td>\n",
              "      <td>-0.000166</td>\n",
              "      <td>-0.017435</td>\n",
              "    </tr>\n",
              "    <tr>\n",
              "      <th>1st to Die: A Novel</th>\n",
              "      <td>0.017614</td>\n",
              "      <td>0.475876</td>\n",
              "      <td>0.070821</td>\n",
              "      <td>-0.016669</td>\n",
              "      <td>0.426457</td>\n",
              "      <td>0.063179</td>\n",
              "      <td>0.207734</td>\n",
              "      <td>0.000127</td>\n",
              "      <td>-0.009998</td>\n",
              "      <td>-0.006438</td>\n",
              "      <td>...</td>\n",
              "      <td>0.639242</td>\n",
              "      <td>0.019273</td>\n",
              "      <td>-0.001869</td>\n",
              "      <td>-0.004224</td>\n",
              "      <td>0.068642</td>\n",
              "      <td>0.072258</td>\n",
              "      <td>0.041441</td>\n",
              "      <td>-0.293420</td>\n",
              "      <td>0.015722</td>\n",
              "      <td>0.094422</td>\n",
              "    </tr>\n",
              "    <tr>\n",
              "      <th>2010: Odyssey Two</th>\n",
              "      <td>0.005103</td>\n",
              "      <td>-0.053539</td>\n",
              "      <td>-0.010016</td>\n",
              "      <td>0.012692</td>\n",
              "      <td>-0.031243</td>\n",
              "      <td>0.067341</td>\n",
              "      <td>0.102214</td>\n",
              "      <td>0.008987</td>\n",
              "      <td>0.010508</td>\n",
              "      <td>0.006284</td>\n",
              "      <td>...</td>\n",
              "      <td>-0.004688</td>\n",
              "      <td>0.003132</td>\n",
              "      <td>0.066965</td>\n",
              "      <td>0.003801</td>\n",
              "      <td>-0.006515</td>\n",
              "      <td>-0.008609</td>\n",
              "      <td>0.001744</td>\n",
              "      <td>0.049006</td>\n",
              "      <td>0.000532</td>\n",
              "      <td>-0.002349</td>\n",
              "    </tr>\n",
              "    <tr>\n",
              "      <th>2nd Chance</th>\n",
              "      <td>-0.001404</td>\n",
              "      <td>0.467756</td>\n",
              "      <td>0.054473</td>\n",
              "      <td>-0.020312</td>\n",
              "      <td>0.125163</td>\n",
              "      <td>0.234761</td>\n",
              "      <td>-0.107231</td>\n",
              "      <td>-0.017580</td>\n",
              "      <td>-0.053329</td>\n",
              "      <td>-0.004954</td>\n",
              "      <td>...</td>\n",
              "      <td>0.499641</td>\n",
              "      <td>0.018961</td>\n",
              "      <td>0.049365</td>\n",
              "      <td>-0.036172</td>\n",
              "      <td>0.046446</td>\n",
              "      <td>0.062039</td>\n",
              "      <td>0.031647</td>\n",
              "      <td>-0.423054</td>\n",
              "      <td>-0.005002</td>\n",
              "      <td>0.064031</td>\n",
              "    </tr>\n",
              "    <tr>\n",
              "      <th>3rd Degree</th>\n",
              "      <td>-0.003839</td>\n",
              "      <td>0.132261</td>\n",
              "      <td>0.001822</td>\n",
              "      <td>-0.008487</td>\n",
              "      <td>-0.067965</td>\n",
              "      <td>0.093682</td>\n",
              "      <td>0.041233</td>\n",
              "      <td>-0.013323</td>\n",
              "      <td>-0.025678</td>\n",
              "      <td>-0.001015</td>\n",
              "      <td>...</td>\n",
              "      <td>0.170987</td>\n",
              "      <td>0.008126</td>\n",
              "      <td>0.013661</td>\n",
              "      <td>-0.020453</td>\n",
              "      <td>0.009602</td>\n",
              "      <td>0.021996</td>\n",
              "      <td>0.012408</td>\n",
              "      <td>-0.127397</td>\n",
              "      <td>-0.000047</td>\n",
              "      <td>0.006275</td>\n",
              "    </tr>\n",
              "  </tbody>\n",
              "</table>\n",
              "<p>5 rows × 13811 columns</p>\n",
              "</div>\n",
              "      <button class=\"colab-df-convert\" onclick=\"convertToInteractive('df-52c60135-ac2b-47c6-a7f9-32b179b63cab')\"\n",
              "              title=\"Convert this dataframe to an interactive table.\"\n",
              "              style=\"display:none;\">\n",
              "        \n",
              "  <svg xmlns=\"http://www.w3.org/2000/svg\" height=\"24px\"viewBox=\"0 0 24 24\"\n",
              "       width=\"24px\">\n",
              "    <path d=\"M0 0h24v24H0V0z\" fill=\"none\"/>\n",
              "    <path d=\"M18.56 5.44l.94 2.06.94-2.06 2.06-.94-2.06-.94-.94-2.06-.94 2.06-2.06.94zm-11 1L8.5 8.5l.94-2.06 2.06-.94-2.06-.94L8.5 2.5l-.94 2.06-2.06.94zm10 10l.94 2.06.94-2.06 2.06-.94-2.06-.94-.94-2.06-.94 2.06-2.06.94z\"/><path d=\"M17.41 7.96l-1.37-1.37c-.4-.4-.92-.59-1.43-.59-.52 0-1.04.2-1.43.59L10.3 9.45l-7.72 7.72c-.78.78-.78 2.05 0 2.83L4 21.41c.39.39.9.59 1.41.59.51 0 1.02-.2 1.41-.59l7.78-7.78 2.81-2.81c.8-.78.8-2.07 0-2.86zM5.41 20L4 18.59l7.72-7.72 1.47 1.35L5.41 20z\"/>\n",
              "  </svg>\n",
              "      </button>\n",
              "      \n",
              "  <style>\n",
              "    .colab-df-container {\n",
              "      display:flex;\n",
              "      flex-wrap:wrap;\n",
              "      gap: 12px;\n",
              "    }\n",
              "\n",
              "    .colab-df-convert {\n",
              "      background-color: #E8F0FE;\n",
              "      border: none;\n",
              "      border-radius: 50%;\n",
              "      cursor: pointer;\n",
              "      display: none;\n",
              "      fill: #1967D2;\n",
              "      height: 32px;\n",
              "      padding: 0 0 0 0;\n",
              "      width: 32px;\n",
              "    }\n",
              "\n",
              "    .colab-df-convert:hover {\n",
              "      background-color: #E2EBFA;\n",
              "      box-shadow: 0px 1px 2px rgba(60, 64, 67, 0.3), 0px 1px 3px 1px rgba(60, 64, 67, 0.15);\n",
              "      fill: #174EA6;\n",
              "    }\n",
              "\n",
              "    [theme=dark] .colab-df-convert {\n",
              "      background-color: #3B4455;\n",
              "      fill: #D2E3FC;\n",
              "    }\n",
              "\n",
              "    [theme=dark] .colab-df-convert:hover {\n",
              "      background-color: #434B5C;\n",
              "      box-shadow: 0px 1px 3px 1px rgba(0, 0, 0, 0.15);\n",
              "      filter: drop-shadow(0px 1px 2px rgba(0, 0, 0, 0.3));\n",
              "      fill: #FFFFFF;\n",
              "    }\n",
              "  </style>\n",
              "\n",
              "      <script>\n",
              "        const buttonEl =\n",
              "          document.querySelector('#df-52c60135-ac2b-47c6-a7f9-32b179b63cab button.colab-df-convert');\n",
              "        buttonEl.style.display =\n",
              "          google.colab.kernel.accessAllowed ? 'block' : 'none';\n",
              "\n",
              "        async function convertToInteractive(key) {\n",
              "          const element = document.querySelector('#df-52c60135-ac2b-47c6-a7f9-32b179b63cab');\n",
              "          const dataTable =\n",
              "            await google.colab.kernel.invokeFunction('convertToInteractive',\n",
              "                                                     [key], {});\n",
              "          if (!dataTable) return;\n",
              "\n",
              "          const docLinkHtml = 'Like what you see? Visit the ' +\n",
              "            '<a target=\"_blank\" href=https://colab.research.google.com/notebooks/data_table.ipynb>data table notebook</a>'\n",
              "            + ' to learn more about interactive tables.';\n",
              "          element.innerHTML = '';\n",
              "          dataTable['output_type'] = 'display_data';\n",
              "          await google.colab.output.renderOutput(dataTable, element);\n",
              "          const docLink = document.createElement('div');\n",
              "          docLink.innerHTML = docLinkHtml;\n",
              "          element.appendChild(docLink);\n",
              "        }\n",
              "      </script>\n",
              "    </div>\n",
              "  </div>\n",
              "  "
            ]
          },
          "metadata": {},
          "execution_count": 72
        }
      ]
    },
    {
      "cell_type": "code",
      "source": [
        "# Checking shape for final_svd_df dataframe\n",
        "final_svd_df.shape\n"
      ],
      "metadata": {
        "colab": {
          "base_uri": "https://localhost:8080/"
        },
        "id": "cl8zCQLTMqHE",
        "outputId": "d7c3179e-72e2-4a84-c50d-1b23c96f35fe"
      },
      "execution_count": 73,
      "outputs": [
        {
          "output_type": "execute_result",
          "data": {
            "text/plain": [
              "(1250, 13811)"
            ]
          },
          "metadata": {},
          "execution_count": 73
        }
      ]
    },
    {
      "cell_type": "markdown",
      "source": [
        "# Prediction of svd recommendar"
      ],
      "metadata": {
        "id": "VpmAnejtMv5k"
      }
    },
    {
      "cell_type": "code",
      "source": [
        "#function to recommend 10 books for a particular user id\n",
        "def recommender(svd_df,user_id, items_to_ignore=[], topn=10):\n",
        "  '''function to recommend 10 books \n",
        "      for a particuler user id  using \n",
        "      reconstructed matrix through svd method'''\n",
        "  sorted_recomanded_predictions = svd_df[user_id].sort_values(ascending=False).reset_index().rename(columns={user_id: 'recomandStrength'})\n",
        "  top_recomand_book=sorted_recomanded_predictions[~sorted_recomanded_predictions['Book-Title'].isin(items_to_ignore)].sort_values('recomandStrength', ascending = False).head(topn)\n",
        "  return top_recomand_book "
      ],
      "metadata": {
        "id": "PaaFmDW0Mu23"
      },
      "execution_count": 74,
      "outputs": []
    },
    {
      "cell_type": "code",
      "source": [
        "#Recommending 10 books for user id 114 using svd recommendar\n",
        "recommender(final_svd_df,114, items_to_ignore=[], topn=10)"
      ],
      "metadata": {
        "colab": {
          "base_uri": "https://localhost:8080/",
          "height": 363
        },
        "id": "s9cJ9aeoNIW6",
        "outputId": "18742a70-404d-4bce-895d-e9a0f5361820"
      },
      "execution_count": 75,
      "outputs": [
        {
          "output_type": "execute_result",
          "data": {
            "text/plain": [
              "                                          Book-Title  recomandStrength\n",
              "0                                  The Da Vinci Code          2.248182\n",
              "1                                Angels &amp; Demons          2.182762\n",
              "2                The Red Tent (Bestselling Backlist)          1.050664\n",
              "3                         The Nanny Diaries: A Novel          0.923243\n",
              "4                                        The Summons          0.900350\n",
              "5                                    A Painted House          0.685134\n",
              "6  The Fellowship of the Ring (The Lord of the Ri...          0.684829\n",
              "7                                           Timeline          0.562416\n",
              "8  The Hobbit : The Enchanting Prelude to The Lor...          0.555354\n",
              "9                      Digital Fortress : A Thriller          0.533706"
            ],
            "text/html": [
              "\n",
              "  <div id=\"df-e659d652-8d1d-4a16-9a62-b7596b651433\">\n",
              "    <div class=\"colab-df-container\">\n",
              "      <div>\n",
              "<style scoped>\n",
              "    .dataframe tbody tr th:only-of-type {\n",
              "        vertical-align: middle;\n",
              "    }\n",
              "\n",
              "    .dataframe tbody tr th {\n",
              "        vertical-align: top;\n",
              "    }\n",
              "\n",
              "    .dataframe thead th {\n",
              "        text-align: right;\n",
              "    }\n",
              "</style>\n",
              "<table border=\"1\" class=\"dataframe\">\n",
              "  <thead>\n",
              "    <tr style=\"text-align: right;\">\n",
              "      <th></th>\n",
              "      <th>Book-Title</th>\n",
              "      <th>recomandStrength</th>\n",
              "    </tr>\n",
              "  </thead>\n",
              "  <tbody>\n",
              "    <tr>\n",
              "      <th>0</th>\n",
              "      <td>The Da Vinci Code</td>\n",
              "      <td>2.248182</td>\n",
              "    </tr>\n",
              "    <tr>\n",
              "      <th>1</th>\n",
              "      <td>Angels &amp;amp; Demons</td>\n",
              "      <td>2.182762</td>\n",
              "    </tr>\n",
              "    <tr>\n",
              "      <th>2</th>\n",
              "      <td>The Red Tent (Bestselling Backlist)</td>\n",
              "      <td>1.050664</td>\n",
              "    </tr>\n",
              "    <tr>\n",
              "      <th>3</th>\n",
              "      <td>The Nanny Diaries: A Novel</td>\n",
              "      <td>0.923243</td>\n",
              "    </tr>\n",
              "    <tr>\n",
              "      <th>4</th>\n",
              "      <td>The Summons</td>\n",
              "      <td>0.900350</td>\n",
              "    </tr>\n",
              "    <tr>\n",
              "      <th>5</th>\n",
              "      <td>A Painted House</td>\n",
              "      <td>0.685134</td>\n",
              "    </tr>\n",
              "    <tr>\n",
              "      <th>6</th>\n",
              "      <td>The Fellowship of the Ring (The Lord of the Ri...</td>\n",
              "      <td>0.684829</td>\n",
              "    </tr>\n",
              "    <tr>\n",
              "      <th>7</th>\n",
              "      <td>Timeline</td>\n",
              "      <td>0.562416</td>\n",
              "    </tr>\n",
              "    <tr>\n",
              "      <th>8</th>\n",
              "      <td>The Hobbit : The Enchanting Prelude to The Lor...</td>\n",
              "      <td>0.555354</td>\n",
              "    </tr>\n",
              "    <tr>\n",
              "      <th>9</th>\n",
              "      <td>Digital Fortress : A Thriller</td>\n",
              "      <td>0.533706</td>\n",
              "    </tr>\n",
              "  </tbody>\n",
              "</table>\n",
              "</div>\n",
              "      <button class=\"colab-df-convert\" onclick=\"convertToInteractive('df-e659d652-8d1d-4a16-9a62-b7596b651433')\"\n",
              "              title=\"Convert this dataframe to an interactive table.\"\n",
              "              style=\"display:none;\">\n",
              "        \n",
              "  <svg xmlns=\"http://www.w3.org/2000/svg\" height=\"24px\"viewBox=\"0 0 24 24\"\n",
              "       width=\"24px\">\n",
              "    <path d=\"M0 0h24v24H0V0z\" fill=\"none\"/>\n",
              "    <path d=\"M18.56 5.44l.94 2.06.94-2.06 2.06-.94-2.06-.94-.94-2.06-.94 2.06-2.06.94zm-11 1L8.5 8.5l.94-2.06 2.06-.94-2.06-.94L8.5 2.5l-.94 2.06-2.06.94zm10 10l.94 2.06.94-2.06 2.06-.94-2.06-.94-.94-2.06-.94 2.06-2.06.94z\"/><path d=\"M17.41 7.96l-1.37-1.37c-.4-.4-.92-.59-1.43-.59-.52 0-1.04.2-1.43.59L10.3 9.45l-7.72 7.72c-.78.78-.78 2.05 0 2.83L4 21.41c.39.39.9.59 1.41.59.51 0 1.02-.2 1.41-.59l7.78-7.78 2.81-2.81c.8-.78.8-2.07 0-2.86zM5.41 20L4 18.59l7.72-7.72 1.47 1.35L5.41 20z\"/>\n",
              "  </svg>\n",
              "      </button>\n",
              "      \n",
              "  <style>\n",
              "    .colab-df-container {\n",
              "      display:flex;\n",
              "      flex-wrap:wrap;\n",
              "      gap: 12px;\n",
              "    }\n",
              "\n",
              "    .colab-df-convert {\n",
              "      background-color: #E8F0FE;\n",
              "      border: none;\n",
              "      border-radius: 50%;\n",
              "      cursor: pointer;\n",
              "      display: none;\n",
              "      fill: #1967D2;\n",
              "      height: 32px;\n",
              "      padding: 0 0 0 0;\n",
              "      width: 32px;\n",
              "    }\n",
              "\n",
              "    .colab-df-convert:hover {\n",
              "      background-color: #E2EBFA;\n",
              "      box-shadow: 0px 1px 2px rgba(60, 64, 67, 0.3), 0px 1px 3px 1px rgba(60, 64, 67, 0.15);\n",
              "      fill: #174EA6;\n",
              "    }\n",
              "\n",
              "    [theme=dark] .colab-df-convert {\n",
              "      background-color: #3B4455;\n",
              "      fill: #D2E3FC;\n",
              "    }\n",
              "\n",
              "    [theme=dark] .colab-df-convert:hover {\n",
              "      background-color: #434B5C;\n",
              "      box-shadow: 0px 1px 3px 1px rgba(0, 0, 0, 0.15);\n",
              "      filter: drop-shadow(0px 1px 2px rgba(0, 0, 0, 0.3));\n",
              "      fill: #FFFFFF;\n",
              "    }\n",
              "  </style>\n",
              "\n",
              "      <script>\n",
              "        const buttonEl =\n",
              "          document.querySelector('#df-e659d652-8d1d-4a16-9a62-b7596b651433 button.colab-df-convert');\n",
              "        buttonEl.style.display =\n",
              "          google.colab.kernel.accessAllowed ? 'block' : 'none';\n",
              "\n",
              "        async function convertToInteractive(key) {\n",
              "          const element = document.querySelector('#df-e659d652-8d1d-4a16-9a62-b7596b651433');\n",
              "          const dataTable =\n",
              "            await google.colab.kernel.invokeFunction('convertToInteractive',\n",
              "                                                     [key], {});\n",
              "          if (!dataTable) return;\n",
              "\n",
              "          const docLinkHtml = 'Like what you see? Visit the ' +\n",
              "            '<a target=\"_blank\" href=https://colab.research.google.com/notebooks/data_table.ipynb>data table notebook</a>'\n",
              "            + ' to learn more about interactive tables.';\n",
              "          element.innerHTML = '';\n",
              "          dataTable['output_type'] = 'display_data';\n",
              "          await google.colab.output.renderOutput(dataTable, element);\n",
              "          const docLink = document.createElement('div');\n",
              "          docLink.innerHTML = docLinkHtml;\n",
              "          element.appendChild(docLink);\n",
              "        }\n",
              "      </script>\n",
              "    </div>\n",
              "  </div>\n",
              "  "
            ]
          },
          "metadata": {},
          "execution_count": 75
        }
      ]
    },
    {
      "cell_type": "code",
      "source": [
        "#extracting the user id list from user_item_df.index dataframe\n",
        "user_id_list=user_item_df.index.tolist()\n"
      ],
      "metadata": {
        "id": "qJk6jSQhNM0C"
      },
      "execution_count": 76,
      "outputs": []
    },
    {
      "cell_type": "code",
      "source": [
        "#function to recommend 10 books for all the users\n",
        "def recommend_for_all(recommender,user_id_list,svd_df):\n",
        "  '''function to recommend 10 books \n",
        "      for all the users  using \n",
        "      reconstructed matrix through svd method'''\n",
        "  user_item_dict={}\n",
        "  \n",
        "  for user_id in user_id_list:\n",
        "    rec=recommender(svd_df,user_id, items_to_ignore=[], topn=15)\n",
        "    user_item_dict[user_id]=rec['Book-Title'].tolist()\n",
        "  return user_item_dict "
      ],
      "metadata": {
        "id": "YvC9FtTONVLM"
      },
      "execution_count": 77,
      "outputs": []
    },
    {
      "cell_type": "code",
      "source": [
        "#List of recommended book for all the users\n",
        "svd_pred=recommend_for_all(recommender,user_id_list,final_svd_df)"
      ],
      "metadata": {
        "id": "bGjlDsT9RiQK"
      },
      "execution_count": 78,
      "outputs": []
    },
    {
      "cell_type": "code",
      "source": [
        "#creating dataframe of recommended book for all the users\n",
        "user_id_recomanded_book=pd.DataFrame(list(svd_pred.items())).rename(columns={0:\"User_id\",1:\"svd_recomanded_book\"})"
      ],
      "metadata": {
        "id": "x5APZ4bZRnY-"
      },
      "execution_count": 79,
      "outputs": []
    },
    {
      "cell_type": "code",
      "source": [
        "#chacking shape of user_id_recomanded_book dataframe\n",
        "user_id_recomanded_book.shape"
      ],
      "metadata": {
        "colab": {
          "base_uri": "https://localhost:8080/"
        },
        "id": "4cG4u7rKR9ng",
        "outputId": "9c254b41-afaf-4ab1-8ea9-1c4026c41bf0"
      },
      "execution_count": null,
      "outputs": [
        {
          "output_type": "execute_result",
          "data": {
            "text/plain": [
              "(13811, 2)"
            ]
          },
          "metadata": {},
          "execution_count": 92
        }
      ]
    },
    {
      "cell_type": "markdown",
      "source": [
        "## **Actual Rating**"
      ],
      "metadata": {
        "id": "X15viW4WSNLb"
      }
    },
    {
      "cell_type": "code",
      "source": [
        "#function to find the top 10 rated book by a particular user\n",
        "def actual_rateing(user_item_df,user_id, items_to_ignore=[], topn=10):\n",
        "  ''' function to find the top 10 rated book by a particular user.\n",
        "        It takes user item dataframe and gives top 10 rated \n",
        "               item by a particuler user'''\n",
        "  sorted_actual_rateing = user_item_df.transpose()[user_id].sort_values(ascending=False).reset_index().rename(columns={user_id: 'Rating'})\n",
        "  top_rating_book=sorted_actual_rateing[~sorted_actual_rateing['Book-Title'].isin(items_to_ignore)].sort_values('Rating', ascending = False).head(topn)\n",
        "  return top_rating_book"
      ],
      "metadata": {
        "id": "phAORnjkSXbm"
      },
      "execution_count": 80,
      "outputs": []
    },
    {
      "cell_type": "code",
      "source": [
        "#function to find the top 10 rated book for all user\n",
        "def rateing_for_all(actual_rateing,user_id_list,user_item_df):\n",
        "  user_item_dict={}\n",
        "  '''function to find the top 10 rated book for all user'''\n",
        "  for user_id in user_id_list:\n",
        "    rec=actual_rateing(user_item_df,user_id, items_to_ignore=[], topn=10)\n",
        "    user_item_dict[user_id]=rec['Book-Title'].tolist()\n",
        "  return user_item_dict"
      ],
      "metadata": {
        "id": "csaUj-66SbnT"
      },
      "execution_count": 82,
      "outputs": []
    },
    {
      "cell_type": "code",
      "source": [
        "#List of top 10 rated book for all the users\n",
        "actual_rating=rateing_for_all(actual_rateing,user_id_list,user_item_df)"
      ],
      "metadata": {
        "id": "EW4_HifLSfhy"
      },
      "execution_count": 83,
      "outputs": []
    },
    {
      "cell_type": "code",
      "source": [
        "#creating dataframe of top 10 rated book for all the users\n",
        "user_id_top_rated_book=pd.DataFrame(list(actual_rating.items())).rename(columns={0:\"User_id\",1:\"Actual_top_rated_book\"})"
      ],
      "metadata": {
        "id": "9rRwV1wuSle7"
      },
      "execution_count": 84,
      "outputs": []
    },
    {
      "cell_type": "code",
      "source": [
        "#chacking shape of user_id_top_rated_book dataframe\n",
        "user_id_top_rated_book.shape"
      ],
      "metadata": {
        "colab": {
          "base_uri": "https://localhost:8080/"
        },
        "id": "zAIZvXYuSq9P",
        "outputId": "691e4db7-c7e3-4a50-c069-efefec97187a"
      },
      "execution_count": 85,
      "outputs": [
        {
          "output_type": "execute_result",
          "data": {
            "text/plain": [
              "(13811, 2)"
            ]
          },
          "metadata": {},
          "execution_count": 85
        }
      ]
    },
    {
      "cell_type": "code",
      "source": [
        "#merging user_id_top_rated_book and user_id_recomanded_book dataframe\n",
        "result_from_svd=user_id_top_rated_book.merge(user_id_recomanded_book,on=\"User_id\")"
      ],
      "metadata": {
        "id": "f9398_ErSt22"
      },
      "execution_count": 86,
      "outputs": []
    },
    {
      "cell_type": "markdown",
      "source": [
        "## **Chart of top 10 actual rated book and top 10 recommended book by svd recommendar for each user**"
      ],
      "metadata": {
        "id": "MyHw79v-SyOB"
      }
    },
    {
      "cell_type": "code",
      "source": [
        "#Showing top 10 actual rated book and top 10 recommended book by svd recommendar for each user\n",
        "pd.set_option('display.max_colwidth', None)\n",
        "\n",
        "result_from_svd"
      ],
      "metadata": {
        "colab": {
          "base_uri": "https://localhost:8080/",
          "height": 1000
        },
        "id": "6AzpIbfIS6Zg",
        "outputId": "7608312e-acd8-4a21-cec9-b160d0c7cdc2"
      },
      "execution_count": 87,
      "outputs": [
        {
          "output_type": "execute_result",
          "data": {
            "text/plain": [
              "       User_id  \\\n",
              "0           99   \n",
              "1          114   \n",
              "2          165   \n",
              "3          242   \n",
              "4          243   \n",
              "...        ...   \n",
              "13806   278773   \n",
              "13807   278832   \n",
              "13808   278843   \n",
              "13809   278851   \n",
              "13810   278854   \n",
              "\n",
              "                                                                                                                                                                                                                                                                                                                                                                                                                              Actual_top_rated_book  \\\n",
              "0                                                                                                     [Rich Dad, Poor Dad: What the Rich Teach Their Kids About Money--That the Poor and Middle Class Do Not!, The Pillars of the Earth, Code to Zero, A Prayer for Owen Meany, 2010: Odyssey Two, 2nd Chance, 3rd Degree, 4 Blondes, 84 Charing Cross Road, A 2nd Helping of Chicken Soup for the Soul (Chicken Soup for the Soul Series (Paper))]   \n",
              "1                                                                                               [Angels &amp; Demons, Dead Aim, The Beach House, House of Sand and Fog, A Child Called \\It\\\": One Child's Courage to Survive\", 3rd Degree, 4 Blondes, 84 Charing Cross Road, A 2nd Helping of Chicken Soup for the Soul (Chicken Soup for the Soul Series (Paper)), A Beautiful Mind: The Life of Mathematical Genius and Nobel Laureate John Nash]   \n",
              "2                                                                                                                                                                                   [Little Altars Everywhere: A Novel, The Beach House, Code to Zero, A Prayer for Owen Meany, 2010: Odyssey Two, 2nd Chance, 3rd Degree, 4 Blondes, 84 Charing Cross Road, A 2nd Helping of Chicken Soup for the Soul (Chicken Soup for the Soul Series (Paper))]   \n",
              "3                                                                                 [The Martian Chronicles, A Child Called \\It\\\": One Child's Courage to Survive\", 3rd Degree, 4 Blondes, 84 Charing Cross Road, A 2nd Helping of Chicken Soup for the Soul (Chicken Soup for the Soul Series (Paper)), A Beautiful Mind: The Life of Mathematical Genius and Nobel Laureate John Nash, A Prayer for Owen Meany, A Bend in the Road, A Civil Action]   \n",
              "4                                                                                                                                                                                                                        [Memoirs of a Geisha, The Bean Trees, The General's Daughter, Me Talk Pretty One Day, Unnatural Exposure, The Pilot's Wife : A Novel, A Map of the World, The God of Small Things, River, Cross My Heart, A Painted House]   \n",
              "...                                                                                                                                                                                                                                                                                                                                                                                                                                             ...   \n",
              "13806        [Mystic River, A New Song (Mitford Years (Paperback)), Sticks &amp; Scones, A Child Called \\It\\\": One Child's Courage to Survive\", 3rd Degree, 4 Blondes, 84 Charing Cross Road, A 2nd Helping of Chicken Soup for the Soul (Chicken Soup for the Soul Series (Paper)), A Beautiful Mind: The Life of Mathematical Genius and Nobel Laureate John Nash, A Second Chicken Soup for the Woman's Soul (Chicken Soup for the Soul Series)]   \n",
              "13807                                                                                                  [Chicken Soup for the Soul (Chicken Soup for the Soul), Chicken Soup for the Pet Lover's Soul (Chicken Soup for the Soul), 1st to Die: A Novel, A Prayer for Owen Meany, 2010: Odyssey Two, 2nd Chance, 3rd Degree, 4 Blondes, 84 Charing Cross Road, A 2nd Helping of Chicken Soup for the Soul (Chicken Soup for the Soul Series (Paper))]   \n",
              "13808  [The Bonesetter's Daughter, Icy Sparks, Divine Secrets of the Ya-Ya Sisterhood : A Novel, Flowers for Algernon (Bantam Classic), Bridget Jones's Diary, Harry Potter and the Sorcerer's Stone (Harry Potter (Paperback)), Lasher, Don't Sweat the Small Stuff and It's All Small Stuff : Simple Ways to Keep the Little Things from Taking Over Your Life (Don't Sweat the Small Stuff Series), Little Altars Everywhere, Circle of Friends]   \n",
              "13809                       [Life's Little Instruction Book (Life's Little Instruction Books (Paperback)), A Child Called \\It\\\": One Child's Courage to Survive\", 3rd Degree, 4 Blondes, 84 Charing Cross Road, A 2nd Helping of Chicken Soup for the Soul (Chicken Soup for the Soul Series (Paper)), A Beautiful Mind: The Life of Mathematical Genius and Nobel Laureate John Nash, A Prayer for Owen Meany, A Bend in the Road, A Civil Action]   \n",
              "13810                                                 [Ashes to Ashes, Hornet's Nest, A Virtuous Woman (Oprah's Book Club (Paperback)), How Stella Got Her Groove Back, A Child Called \\It\\\": One Child's Courage to Survive\", 3rd Degree, 4 Blondes, 84 Charing Cross Road, A 2nd Helping of Chicken Soup for the Soul (Chicken Soup for the Soul Series (Paper)), A Beautiful Mind: The Life of Mathematical Genius and Nobel Laureate John Nash]   \n",
              "\n",
              "                                                                                                                                                                                                                                                                                                                                                                                                                                                                                                                                  svd_recomanded_book  \n",
              "0                                                                                                          [The Da Vinci Code, The Lovely Bones: A Novel, The Fellowship of the Ring (The Lord of the Rings, Part 1), The Firm, To Kill a Mockingbird, The Hobbit : The Enchanting Prelude to The Lord of the Rings, The Client, The Chamber, The Return of the King (The Lord of the Rings, Part 3), Angels &amp; Demons, The Two Towers (The Lord of the Rings, Part 2), The Secret Life of Bees, A Time to Kill, The Pelican Brief, The Rainmaker]  \n",
              "1                                                             [The Da Vinci Code, Angels &amp; Demons, The Red Tent (Bestselling Backlist), The Nanny Diaries: A Novel, The Summons, A Painted House, The Fellowship of the Ring (The Lord of the Rings, Part 1), Timeline, The Hobbit : The Enchanting Prelude to The Lord of the Rings, Digital Fortress : A Thriller, The Two Towers (The Lord of the Rings, Part 2), The Return of the King (The Lord of the Rings, Part 3), The Five People You Meet in Heaven, 1st to Die: A Novel, 2nd Chance]  \n",
              "2                                                            [The Red Tent (Bestselling Backlist), The Nanny Diaries: A Novel, Divine Secrets of the Ya-Ya Sisterhood: A Novel, Where the Heart Is (Oprah's Book Club (Paperback)), The Pilot's Wife : A Novel, The Notebook, A Painted House, The Poisonwood Bible: A Novel, The Five People You Meet in Heaven, Good in Bed, Little Altars Everywhere: A Novel, Angels &amp; Demons, Bridget Jones's Diary, The Summons, Tuesdays with Morrie: An Old Man, a Young Man, and Life's Greatest Lesson]  \n",
              "3                                      [The Fellowship of the Ring (The Lord of the Rings, Part 1), Life of Pi, To Kill a Mockingbird, The Hobbit : The Enchanting Prelude to The Lord of the Rings, The Return of the King (The Lord of the Rings, Part 3), The Two Towers (The Lord of the Rings, Part 2), The Catcher in the Rye, Jurassic Park, Fahrenheit 451, Silence of the Lambs, 1984, The Firm, Lord of the Flies, Ender's Game (Ender Wiggins Saga (Paperback)), Stupid White Men ...and Other Sorry Excuses for the State of the Nation!]  \n",
              "4                                                                                                                                  [Where the Heart Is (Oprah's Book Club (Paperback)), The Red Tent (Bestselling Backlist), The Secret Life of Bees, A Painted House, Divine Secrets of the Ya-Ya Sisterhood: A Novel, The Pilot's Wife : A Novel, The Poisonwood Bible: A Novel, Snow Falling on Cedars, The Firm, Summer Sisters, House of Sand and Fog, Little Altars Everywhere: A Novel, The Bean Trees, The Reader, Girl with a Pearl Earring]  \n",
              "...                                                                                                                                                                                                                                                                                                                                                                                                                                                                                                                                               ...  \n",
              "13806                                                                                                                                                                                    [The Da Vinci Code, Angels &amp; Demons, The Red Tent (Bestselling Backlist), 1st to Die: A Novel, A Painted House, 2nd Chance, The Summons, The Secret Life of Bees, Timeline, The Five People You Meet in Heaven, Digital Fortress : A Thriller, Four Blind Mice, The King of Torts, Violets Are Blue, Where the Heart Is (Oprah's Book Club (Paperback))]  \n",
              "13807                               [Where the Heart Is (Oprah's Book Club (Paperback)), The Notebook, A Walk to Remember, The Rescue, Insomnia, The Pilot's Wife : A Novel, Summer Sisters, Left Behind: A Novel of the Earth's Last Days (Left Behind No. 1), White Oleander : A Novel, Message in a Bottle, Tribulation Force: The Continuing Drama of Those Left Behind (Left Behind No. 2), A Bend in the Road, Harry Potter and the Chamber of Secrets (Book 2), Suzanne's Diary for Nicholas, Divine Secrets of the Ya-Ya Sisterhood: A Novel]  \n",
              "13808                                           [Harry Potter and the Sorcerer's Stone (Harry Potter (Paperback)), The Nanny Diaries: A Novel, Harry Potter and the Chamber of Secrets (Book 2), Bridget Jones's Diary, Divine Secrets of the Ya-Ya Sisterhood: A Novel, Good in Bed, The Firm, The Joy Luck Club, She's Come Undone (Oprah's Book Club (Paperback)), Fahrenheit 451, A Time to Kill, The Client, Harry Potter and the Prisoner of Azkaban (Book 3), Confessions of a Shopaholic (Summer Display Opportunity), To Kill a Mockingbird]  \n",
              "13809  [Harry Potter and the Sorcerer's Stone (Harry Potter (Paperback)), Snow Falling on Cedars, The God of Small Things, Fast Food Nation: The Dark Side of the All-American Meal, B Is for Burglar (Kinsey Millhone Mysteries (Paperback)), Cruel &amp; Unusual (Kay Scarpetta Mysteries (Paperback)), A Prayer for Owen Meany, The Hot Zone, G Is for Gumshoe (Kinsey Millhone Mysteries (Paperback)), From Potter's Field, Unnatural Exposure, Night, J Is for Judgment, C Is for Corpse (Kinsey Millhone Mysteries (Paperback)), SHIPPING NEWS]  \n",
              "13810                                                                                                                                                                                                                                                                                            [The Lovely Bones: A Novel, The Partner, Life of Pi, The Testament, 1st to Die: A Novel, The Firm, The Client, The Pelican Brief, A Painted House, The Street Lawyer, The Runaway Jury, The Chamber, Unnatural Exposure, The Rainmaker, The Summons]  \n",
              "\n",
              "[13811 rows x 3 columns]"
            ],
            "text/html": [
              "\n",
              "  <div id=\"df-3c968989-b1d2-4a44-81bc-677c2377a600\">\n",
              "    <div class=\"colab-df-container\">\n",
              "      <div>\n",
              "<style scoped>\n",
              "    .dataframe tbody tr th:only-of-type {\n",
              "        vertical-align: middle;\n",
              "    }\n",
              "\n",
              "    .dataframe tbody tr th {\n",
              "        vertical-align: top;\n",
              "    }\n",
              "\n",
              "    .dataframe thead th {\n",
              "        text-align: right;\n",
              "    }\n",
              "</style>\n",
              "<table border=\"1\" class=\"dataframe\">\n",
              "  <thead>\n",
              "    <tr style=\"text-align: right;\">\n",
              "      <th></th>\n",
              "      <th>User_id</th>\n",
              "      <th>Actual_top_rated_book</th>\n",
              "      <th>svd_recomanded_book</th>\n",
              "    </tr>\n",
              "  </thead>\n",
              "  <tbody>\n",
              "    <tr>\n",
              "      <th>0</th>\n",
              "      <td>99</td>\n",
              "      <td>[Rich Dad, Poor Dad: What the Rich Teach Their Kids About Money--That the Poor and Middle Class Do Not!, The Pillars of the Earth, Code to Zero, A Prayer for Owen Meany, 2010: Odyssey Two, 2nd Chance, 3rd Degree, 4 Blondes, 84 Charing Cross Road, A 2nd Helping of Chicken Soup for the Soul (Chicken Soup for the Soul Series (Paper))]</td>\n",
              "      <td>[The Da Vinci Code, The Lovely Bones: A Novel, The Fellowship of the Ring (The Lord of the Rings, Part 1), The Firm, To Kill a Mockingbird, The Hobbit : The Enchanting Prelude to The Lord of the Rings, The Client, The Chamber, The Return of the King (The Lord of the Rings, Part 3), Angels &amp;amp; Demons, The Two Towers (The Lord of the Rings, Part 2), The Secret Life of Bees, A Time to Kill, The Pelican Brief, The Rainmaker]</td>\n",
              "    </tr>\n",
              "    <tr>\n",
              "      <th>1</th>\n",
              "      <td>114</td>\n",
              "      <td>[Angels &amp;amp; Demons, Dead Aim, The Beach House, House of Sand and Fog, A Child Called \\It\\\": One Child's Courage to Survive\", 3rd Degree, 4 Blondes, 84 Charing Cross Road, A 2nd Helping of Chicken Soup for the Soul (Chicken Soup for the Soul Series (Paper)), A Beautiful Mind: The Life of Mathematical Genius and Nobel Laureate John Nash]</td>\n",
              "      <td>[The Da Vinci Code, Angels &amp;amp; Demons, The Red Tent (Bestselling Backlist), The Nanny Diaries: A Novel, The Summons, A Painted House, The Fellowship of the Ring (The Lord of the Rings, Part 1), Timeline, The Hobbit : The Enchanting Prelude to The Lord of the Rings, Digital Fortress : A Thriller, The Two Towers (The Lord of the Rings, Part 2), The Return of the King (The Lord of the Rings, Part 3), The Five People You Meet in Heaven, 1st to Die: A Novel, 2nd Chance]</td>\n",
              "    </tr>\n",
              "    <tr>\n",
              "      <th>2</th>\n",
              "      <td>165</td>\n",
              "      <td>[Little Altars Everywhere: A Novel, The Beach House, Code to Zero, A Prayer for Owen Meany, 2010: Odyssey Two, 2nd Chance, 3rd Degree, 4 Blondes, 84 Charing Cross Road, A 2nd Helping of Chicken Soup for the Soul (Chicken Soup for the Soul Series (Paper))]</td>\n",
              "      <td>[The Red Tent (Bestselling Backlist), The Nanny Diaries: A Novel, Divine Secrets of the Ya-Ya Sisterhood: A Novel, Where the Heart Is (Oprah's Book Club (Paperback)), The Pilot's Wife : A Novel, The Notebook, A Painted House, The Poisonwood Bible: A Novel, The Five People You Meet in Heaven, Good in Bed, Little Altars Everywhere: A Novel, Angels &amp;amp; Demons, Bridget Jones's Diary, The Summons, Tuesdays with Morrie: An Old Man, a Young Man, and Life's Greatest Lesson]</td>\n",
              "    </tr>\n",
              "    <tr>\n",
              "      <th>3</th>\n",
              "      <td>242</td>\n",
              "      <td>[The Martian Chronicles, A Child Called \\It\\\": One Child's Courage to Survive\", 3rd Degree, 4 Blondes, 84 Charing Cross Road, A 2nd Helping of Chicken Soup for the Soul (Chicken Soup for the Soul Series (Paper)), A Beautiful Mind: The Life of Mathematical Genius and Nobel Laureate John Nash, A Prayer for Owen Meany, A Bend in the Road, A Civil Action]</td>\n",
              "      <td>[The Fellowship of the Ring (The Lord of the Rings, Part 1), Life of Pi, To Kill a Mockingbird, The Hobbit : The Enchanting Prelude to The Lord of the Rings, The Return of the King (The Lord of the Rings, Part 3), The Two Towers (The Lord of the Rings, Part 2), The Catcher in the Rye, Jurassic Park, Fahrenheit 451, Silence of the Lambs, 1984, The Firm, Lord of the Flies, Ender's Game (Ender Wiggins Saga (Paperback)), Stupid White Men ...and Other Sorry Excuses for the State of the Nation!]</td>\n",
              "    </tr>\n",
              "    <tr>\n",
              "      <th>4</th>\n",
              "      <td>243</td>\n",
              "      <td>[Memoirs of a Geisha, The Bean Trees, The General's Daughter, Me Talk Pretty One Day, Unnatural Exposure, The Pilot's Wife : A Novel, A Map of the World, The God of Small Things, River, Cross My Heart, A Painted House]</td>\n",
              "      <td>[Where the Heart Is (Oprah's Book Club (Paperback)), The Red Tent (Bestselling Backlist), The Secret Life of Bees, A Painted House, Divine Secrets of the Ya-Ya Sisterhood: A Novel, The Pilot's Wife : A Novel, The Poisonwood Bible: A Novel, Snow Falling on Cedars, The Firm, Summer Sisters, House of Sand and Fog, Little Altars Everywhere: A Novel, The Bean Trees, The Reader, Girl with a Pearl Earring]</td>\n",
              "    </tr>\n",
              "    <tr>\n",
              "      <th>...</th>\n",
              "      <td>...</td>\n",
              "      <td>...</td>\n",
              "      <td>...</td>\n",
              "    </tr>\n",
              "    <tr>\n",
              "      <th>13806</th>\n",
              "      <td>278773</td>\n",
              "      <td>[Mystic River, A New Song (Mitford Years (Paperback)), Sticks &amp;amp; Scones, A Child Called \\It\\\": One Child's Courage to Survive\", 3rd Degree, 4 Blondes, 84 Charing Cross Road, A 2nd Helping of Chicken Soup for the Soul (Chicken Soup for the Soul Series (Paper)), A Beautiful Mind: The Life of Mathematical Genius and Nobel Laureate John Nash, A Second Chicken Soup for the Woman's Soul (Chicken Soup for the Soul Series)]</td>\n",
              "      <td>[The Da Vinci Code, Angels &amp;amp; Demons, The Red Tent (Bestselling Backlist), 1st to Die: A Novel, A Painted House, 2nd Chance, The Summons, The Secret Life of Bees, Timeline, The Five People You Meet in Heaven, Digital Fortress : A Thriller, Four Blind Mice, The King of Torts, Violets Are Blue, Where the Heart Is (Oprah's Book Club (Paperback))]</td>\n",
              "    </tr>\n",
              "    <tr>\n",
              "      <th>13807</th>\n",
              "      <td>278832</td>\n",
              "      <td>[Chicken Soup for the Soul (Chicken Soup for the Soul), Chicken Soup for the Pet Lover's Soul (Chicken Soup for the Soul), 1st to Die: A Novel, A Prayer for Owen Meany, 2010: Odyssey Two, 2nd Chance, 3rd Degree, 4 Blondes, 84 Charing Cross Road, A 2nd Helping of Chicken Soup for the Soul (Chicken Soup for the Soul Series (Paper))]</td>\n",
              "      <td>[Where the Heart Is (Oprah's Book Club (Paperback)), The Notebook, A Walk to Remember, The Rescue, Insomnia, The Pilot's Wife : A Novel, Summer Sisters, Left Behind: A Novel of the Earth's Last Days (Left Behind No. 1), White Oleander : A Novel, Message in a Bottle, Tribulation Force: The Continuing Drama of Those Left Behind (Left Behind No. 2), A Bend in the Road, Harry Potter and the Chamber of Secrets (Book 2), Suzanne's Diary for Nicholas, Divine Secrets of the Ya-Ya Sisterhood: A Novel]</td>\n",
              "    </tr>\n",
              "    <tr>\n",
              "      <th>13808</th>\n",
              "      <td>278843</td>\n",
              "      <td>[The Bonesetter's Daughter, Icy Sparks, Divine Secrets of the Ya-Ya Sisterhood : A Novel, Flowers for Algernon (Bantam Classic), Bridget Jones's Diary, Harry Potter and the Sorcerer's Stone (Harry Potter (Paperback)), Lasher, Don't Sweat the Small Stuff and It's All Small Stuff : Simple Ways to Keep the Little Things from Taking Over Your Life (Don't Sweat the Small Stuff Series), Little Altars Everywhere, Circle of Friends]</td>\n",
              "      <td>[Harry Potter and the Sorcerer's Stone (Harry Potter (Paperback)), The Nanny Diaries: A Novel, Harry Potter and the Chamber of Secrets (Book 2), Bridget Jones's Diary, Divine Secrets of the Ya-Ya Sisterhood: A Novel, Good in Bed, The Firm, The Joy Luck Club, She's Come Undone (Oprah's Book Club (Paperback)), Fahrenheit 451, A Time to Kill, The Client, Harry Potter and the Prisoner of Azkaban (Book 3), Confessions of a Shopaholic (Summer Display Opportunity), To Kill a Mockingbird]</td>\n",
              "    </tr>\n",
              "    <tr>\n",
              "      <th>13809</th>\n",
              "      <td>278851</td>\n",
              "      <td>[Life's Little Instruction Book (Life's Little Instruction Books (Paperback)), A Child Called \\It\\\": One Child's Courage to Survive\", 3rd Degree, 4 Blondes, 84 Charing Cross Road, A 2nd Helping of Chicken Soup for the Soul (Chicken Soup for the Soul Series (Paper)), A Beautiful Mind: The Life of Mathematical Genius and Nobel Laureate John Nash, A Prayer for Owen Meany, A Bend in the Road, A Civil Action]</td>\n",
              "      <td>[Harry Potter and the Sorcerer's Stone (Harry Potter (Paperback)), Snow Falling on Cedars, The God of Small Things, Fast Food Nation: The Dark Side of the All-American Meal, B Is for Burglar (Kinsey Millhone Mysteries (Paperback)), Cruel &amp;amp; Unusual (Kay Scarpetta Mysteries (Paperback)), A Prayer for Owen Meany, The Hot Zone, G Is for Gumshoe (Kinsey Millhone Mysteries (Paperback)), From Potter's Field, Unnatural Exposure, Night, J Is for Judgment, C Is for Corpse (Kinsey Millhone Mysteries (Paperback)), SHIPPING NEWS]</td>\n",
              "    </tr>\n",
              "    <tr>\n",
              "      <th>13810</th>\n",
              "      <td>278854</td>\n",
              "      <td>[Ashes to Ashes, Hornet's Nest, A Virtuous Woman (Oprah's Book Club (Paperback)), How Stella Got Her Groove Back, A Child Called \\It\\\": One Child's Courage to Survive\", 3rd Degree, 4 Blondes, 84 Charing Cross Road, A 2nd Helping of Chicken Soup for the Soul (Chicken Soup for the Soul Series (Paper)), A Beautiful Mind: The Life of Mathematical Genius and Nobel Laureate John Nash]</td>\n",
              "      <td>[The Lovely Bones: A Novel, The Partner, Life of Pi, The Testament, 1st to Die: A Novel, The Firm, The Client, The Pelican Brief, A Painted House, The Street Lawyer, The Runaway Jury, The Chamber, Unnatural Exposure, The Rainmaker, The Summons]</td>\n",
              "    </tr>\n",
              "  </tbody>\n",
              "</table>\n",
              "<p>13811 rows × 3 columns</p>\n",
              "</div>\n",
              "      <button class=\"colab-df-convert\" onclick=\"convertToInteractive('df-3c968989-b1d2-4a44-81bc-677c2377a600')\"\n",
              "              title=\"Convert this dataframe to an interactive table.\"\n",
              "              style=\"display:none;\">\n",
              "        \n",
              "  <svg xmlns=\"http://www.w3.org/2000/svg\" height=\"24px\"viewBox=\"0 0 24 24\"\n",
              "       width=\"24px\">\n",
              "    <path d=\"M0 0h24v24H0V0z\" fill=\"none\"/>\n",
              "    <path d=\"M18.56 5.44l.94 2.06.94-2.06 2.06-.94-2.06-.94-.94-2.06-.94 2.06-2.06.94zm-11 1L8.5 8.5l.94-2.06 2.06-.94-2.06-.94L8.5 2.5l-.94 2.06-2.06.94zm10 10l.94 2.06.94-2.06 2.06-.94-2.06-.94-.94-2.06-.94 2.06-2.06.94z\"/><path d=\"M17.41 7.96l-1.37-1.37c-.4-.4-.92-.59-1.43-.59-.52 0-1.04.2-1.43.59L10.3 9.45l-7.72 7.72c-.78.78-.78 2.05 0 2.83L4 21.41c.39.39.9.59 1.41.59.51 0 1.02-.2 1.41-.59l7.78-7.78 2.81-2.81c.8-.78.8-2.07 0-2.86zM5.41 20L4 18.59l7.72-7.72 1.47 1.35L5.41 20z\"/>\n",
              "  </svg>\n",
              "      </button>\n",
              "      \n",
              "  <style>\n",
              "    .colab-df-container {\n",
              "      display:flex;\n",
              "      flex-wrap:wrap;\n",
              "      gap: 12px;\n",
              "    }\n",
              "\n",
              "    .colab-df-convert {\n",
              "      background-color: #E8F0FE;\n",
              "      border: none;\n",
              "      border-radius: 50%;\n",
              "      cursor: pointer;\n",
              "      display: none;\n",
              "      fill: #1967D2;\n",
              "      height: 32px;\n",
              "      padding: 0 0 0 0;\n",
              "      width: 32px;\n",
              "    }\n",
              "\n",
              "    .colab-df-convert:hover {\n",
              "      background-color: #E2EBFA;\n",
              "      box-shadow: 0px 1px 2px rgba(60, 64, 67, 0.3), 0px 1px 3px 1px rgba(60, 64, 67, 0.15);\n",
              "      fill: #174EA6;\n",
              "    }\n",
              "\n",
              "    [theme=dark] .colab-df-convert {\n",
              "      background-color: #3B4455;\n",
              "      fill: #D2E3FC;\n",
              "    }\n",
              "\n",
              "    [theme=dark] .colab-df-convert:hover {\n",
              "      background-color: #434B5C;\n",
              "      box-shadow: 0px 1px 3px 1px rgba(0, 0, 0, 0.15);\n",
              "      filter: drop-shadow(0px 1px 2px rgba(0, 0, 0, 0.3));\n",
              "      fill: #FFFFFF;\n",
              "    }\n",
              "  </style>\n",
              "\n",
              "      <script>\n",
              "        const buttonEl =\n",
              "          document.querySelector('#df-3c968989-b1d2-4a44-81bc-677c2377a600 button.colab-df-convert');\n",
              "        buttonEl.style.display =\n",
              "          google.colab.kernel.accessAllowed ? 'block' : 'none';\n",
              "\n",
              "        async function convertToInteractive(key) {\n",
              "          const element = document.querySelector('#df-3c968989-b1d2-4a44-81bc-677c2377a600');\n",
              "          const dataTable =\n",
              "            await google.colab.kernel.invokeFunction('convertToInteractive',\n",
              "                                                     [key], {});\n",
              "          if (!dataTable) return;\n",
              "\n",
              "          const docLinkHtml = 'Like what you see? Visit the ' +\n",
              "            '<a target=\"_blank\" href=https://colab.research.google.com/notebooks/data_table.ipynb>data table notebook</a>'\n",
              "            + ' to learn more about interactive tables.';\n",
              "          element.innerHTML = '';\n",
              "          dataTable['output_type'] = 'display_data';\n",
              "          await google.colab.output.renderOutput(dataTable, element);\n",
              "          const docLink = document.createElement('div');\n",
              "          docLink.innerHTML = docLinkHtml;\n",
              "          element.appendChild(docLink);\n",
              "        }\n",
              "      </script>\n",
              "    </div>\n",
              "  </div>\n",
              "  "
            ]
          },
          "metadata": {},
          "execution_count": 87
        }
      ]
    },
    {
      "cell_type": "markdown",
      "source": [
        "# Random Recomender"
      ],
      "metadata": {
        "id": "9f-ZHCvzTGtT"
      }
    },
    {
      "cell_type": "code",
      "source": [
        "#Creating a random recommendar for evaluation of SVD recommendar\n",
        "\n",
        "ran_recs = []\n",
        "for user in result_from_svd.index:\n",
        "    random_predictions = Final_df['Book-Title'].sample(10).values.tolist()\n",
        "    ran_recs.append(random_predictions)\n",
        "        \n",
        "result_from_svd['random_predictions'] = ran_recs\n"
      ],
      "metadata": {
        "id": "_vXfvwPzTNL6"
      },
      "execution_count": 88,
      "outputs": []
    },
    {
      "cell_type": "markdown",
      "source": [
        "## **Chart of top 10 actual rated book and top 10 recommended book by svd recommendar as well as random recommendar for each user**"
      ],
      "metadata": {
        "id": "KRa0hbTSTSpf"
      }
    },
    {
      "cell_type": "code",
      "source": [
        "result_from_svd"
      ],
      "metadata": {
        "colab": {
          "base_uri": "https://localhost:8080/",
          "height": 1000
        },
        "id": "pk0xq6UjTdP1",
        "outputId": "65e395a5-3bd1-4dcd-f45a-3ef8e07e5509"
      },
      "execution_count": null,
      "outputs": [
        {
          "output_type": "execute_result",
          "data": {
            "text/plain": [
              "       User_id  \\\n",
              "0           99   \n",
              "1          114   \n",
              "2          165   \n",
              "3          242   \n",
              "4          243   \n",
              "...        ...   \n",
              "13806   278773   \n",
              "13807   278832   \n",
              "13808   278843   \n",
              "13809   278851   \n",
              "13810   278854   \n",
              "\n",
              "                                                                                                                                                                                                                                                                                                                                                                                                                              Actual_top_rated_book  \\\n",
              "0                                                                                                     [Rich Dad, Poor Dad: What the Rich Teach Their Kids About Money--That the Poor and Middle Class Do Not!, The Pillars of the Earth, Code to Zero, A Prayer for Owen Meany, 2010: Odyssey Two, 2nd Chance, 3rd Degree, 4 Blondes, 84 Charing Cross Road, A 2nd Helping of Chicken Soup for the Soul (Chicken Soup for the Soul Series (Paper))]   \n",
              "1                                                                                               [Angels &amp; Demons, Dead Aim, The Beach House, House of Sand and Fog, A Child Called \\It\\\": One Child's Courage to Survive\", 3rd Degree, 4 Blondes, 84 Charing Cross Road, A 2nd Helping of Chicken Soup for the Soul (Chicken Soup for the Soul Series (Paper)), A Beautiful Mind: The Life of Mathematical Genius and Nobel Laureate John Nash]   \n",
              "2                                                                                                                                                                                   [Little Altars Everywhere: A Novel, The Beach House, Code to Zero, A Prayer for Owen Meany, 2010: Odyssey Two, 2nd Chance, 3rd Degree, 4 Blondes, 84 Charing Cross Road, A 2nd Helping of Chicken Soup for the Soul (Chicken Soup for the Soul Series (Paper))]   \n",
              "3                                                                                 [The Martian Chronicles, A Child Called \\It\\\": One Child's Courage to Survive\", 3rd Degree, 4 Blondes, 84 Charing Cross Road, A 2nd Helping of Chicken Soup for the Soul (Chicken Soup for the Soul Series (Paper)), A Beautiful Mind: The Life of Mathematical Genius and Nobel Laureate John Nash, A Prayer for Owen Meany, A Bend in the Road, A Civil Action]   \n",
              "4                                                                                                                                                                                                                        [Memoirs of a Geisha, The Bean Trees, The General's Daughter, Me Talk Pretty One Day, Unnatural Exposure, The Pilot's Wife : A Novel, A Map of the World, The God of Small Things, River, Cross My Heart, A Painted House]   \n",
              "...                                                                                                                                                                                                                                                                                                                                                                                                                                             ...   \n",
              "13806        [Mystic River, A New Song (Mitford Years (Paperback)), Sticks &amp; Scones, A Child Called \\It\\\": One Child's Courage to Survive\", 3rd Degree, 4 Blondes, 84 Charing Cross Road, A 2nd Helping of Chicken Soup for the Soul (Chicken Soup for the Soul Series (Paper)), A Beautiful Mind: The Life of Mathematical Genius and Nobel Laureate John Nash, A Second Chicken Soup for the Woman's Soul (Chicken Soup for the Soul Series)]   \n",
              "13807                                                                                                  [Chicken Soup for the Soul (Chicken Soup for the Soul), Chicken Soup for the Pet Lover's Soul (Chicken Soup for the Soul), 1st to Die: A Novel, A Prayer for Owen Meany, 2010: Odyssey Two, 2nd Chance, 3rd Degree, 4 Blondes, 84 Charing Cross Road, A 2nd Helping of Chicken Soup for the Soul (Chicken Soup for the Soul Series (Paper))]   \n",
              "13808  [The Bonesetter's Daughter, Icy Sparks, Divine Secrets of the Ya-Ya Sisterhood : A Novel, Flowers for Algernon (Bantam Classic), Bridget Jones's Diary, Harry Potter and the Sorcerer's Stone (Harry Potter (Paperback)), Lasher, Don't Sweat the Small Stuff and It's All Small Stuff : Simple Ways to Keep the Little Things from Taking Over Your Life (Don't Sweat the Small Stuff Series), Little Altars Everywhere, Circle of Friends]   \n",
              "13809                       [Life's Little Instruction Book (Life's Little Instruction Books (Paperback)), A Child Called \\It\\\": One Child's Courage to Survive\", 3rd Degree, 4 Blondes, 84 Charing Cross Road, A 2nd Helping of Chicken Soup for the Soul (Chicken Soup for the Soul Series (Paper)), A Beautiful Mind: The Life of Mathematical Genius and Nobel Laureate John Nash, A Prayer for Owen Meany, A Bend in the Road, A Civil Action]   \n",
              "13810                                                 [Ashes to Ashes, Hornet's Nest, A Virtuous Woman (Oprah's Book Club (Paperback)), How Stella Got Her Groove Back, A Child Called \\It\\\": One Child's Courage to Survive\", 3rd Degree, 4 Blondes, 84 Charing Cross Road, A 2nd Helping of Chicken Soup for the Soul (Chicken Soup for the Soul Series (Paper)), A Beautiful Mind: The Life of Mathematical Genius and Nobel Laureate John Nash]   \n",
              "\n",
              "                                                                                                                                                                                                                                                                                                                                                                                                                                                                                                                                  svd_recomanded_book  \\\n",
              "0                                                                                                          [The Da Vinci Code, The Lovely Bones: A Novel, The Fellowship of the Ring (The Lord of the Rings, Part 1), The Firm, To Kill a Mockingbird, The Hobbit : The Enchanting Prelude to The Lord of the Rings, The Client, The Chamber, The Return of the King (The Lord of the Rings, Part 3), Angels &amp; Demons, The Two Towers (The Lord of the Rings, Part 2), The Secret Life of Bees, A Time to Kill, The Pelican Brief, The Rainmaker]   \n",
              "1                                                             [The Da Vinci Code, Angels &amp; Demons, The Red Tent (Bestselling Backlist), The Nanny Diaries: A Novel, The Summons, A Painted House, The Fellowship of the Ring (The Lord of the Rings, Part 1), Timeline, The Hobbit : The Enchanting Prelude to The Lord of the Rings, Digital Fortress : A Thriller, The Two Towers (The Lord of the Rings, Part 2), The Return of the King (The Lord of the Rings, Part 3), The Five People You Meet in Heaven, 1st to Die: A Novel, 2nd Chance]   \n",
              "2                                                            [The Red Tent (Bestselling Backlist), The Nanny Diaries: A Novel, Divine Secrets of the Ya-Ya Sisterhood: A Novel, Where the Heart Is (Oprah's Book Club (Paperback)), The Pilot's Wife : A Novel, The Notebook, A Painted House, The Poisonwood Bible: A Novel, The Five People You Meet in Heaven, Good in Bed, Little Altars Everywhere: A Novel, Angels &amp; Demons, Bridget Jones's Diary, The Summons, Tuesdays with Morrie: An Old Man, a Young Man, and Life's Greatest Lesson]   \n",
              "3                                      [The Fellowship of the Ring (The Lord of the Rings, Part 1), Life of Pi, To Kill a Mockingbird, The Hobbit : The Enchanting Prelude to The Lord of the Rings, The Return of the King (The Lord of the Rings, Part 3), The Two Towers (The Lord of the Rings, Part 2), The Catcher in the Rye, Jurassic Park, Fahrenheit 451, Silence of the Lambs, 1984, The Firm, Lord of the Flies, Ender's Game (Ender Wiggins Saga (Paperback)), Stupid White Men ...and Other Sorry Excuses for the State of the Nation!]   \n",
              "4                                                                                                                                  [Where the Heart Is (Oprah's Book Club (Paperback)), The Red Tent (Bestselling Backlist), The Secret Life of Bees, A Painted House, Divine Secrets of the Ya-Ya Sisterhood: A Novel, The Pilot's Wife : A Novel, The Poisonwood Bible: A Novel, Snow Falling on Cedars, The Firm, Summer Sisters, House of Sand and Fog, Little Altars Everywhere: A Novel, The Bean Trees, The Reader, Girl with a Pearl Earring]   \n",
              "...                                                                                                                                                                                                                                                                                                                                                                                                                                                                                                                                               ...   \n",
              "13806                                                                                                                                                                                    [The Da Vinci Code, Angels &amp; Demons, The Red Tent (Bestselling Backlist), 1st to Die: A Novel, A Painted House, 2nd Chance, The Summons, The Secret Life of Bees, Timeline, The Five People You Meet in Heaven, Digital Fortress : A Thriller, Four Blind Mice, The King of Torts, Violets Are Blue, Where the Heart Is (Oprah's Book Club (Paperback))]   \n",
              "13807                               [Where the Heart Is (Oprah's Book Club (Paperback)), The Notebook, A Walk to Remember, The Rescue, Insomnia, The Pilot's Wife : A Novel, Summer Sisters, Left Behind: A Novel of the Earth's Last Days (Left Behind No. 1), White Oleander : A Novel, Message in a Bottle, Tribulation Force: The Continuing Drama of Those Left Behind (Left Behind No. 2), A Bend in the Road, Harry Potter and the Chamber of Secrets (Book 2), Suzanne's Diary for Nicholas, Divine Secrets of the Ya-Ya Sisterhood: A Novel]   \n",
              "13808                                           [Harry Potter and the Sorcerer's Stone (Harry Potter (Paperback)), The Nanny Diaries: A Novel, Harry Potter and the Chamber of Secrets (Book 2), Bridget Jones's Diary, Divine Secrets of the Ya-Ya Sisterhood: A Novel, Good in Bed, The Firm, The Joy Luck Club, She's Come Undone (Oprah's Book Club (Paperback)), Fahrenheit 451, A Time to Kill, The Client, Harry Potter and the Prisoner of Azkaban (Book 3), Confessions of a Shopaholic (Summer Display Opportunity), To Kill a Mockingbird]   \n",
              "13809  [Harry Potter and the Sorcerer's Stone (Harry Potter (Paperback)), Snow Falling on Cedars, The God of Small Things, Fast Food Nation: The Dark Side of the All-American Meal, B Is for Burglar (Kinsey Millhone Mysteries (Paperback)), Cruel &amp; Unusual (Kay Scarpetta Mysteries (Paperback)), A Prayer for Owen Meany, The Hot Zone, G Is for Gumshoe (Kinsey Millhone Mysteries (Paperback)), From Potter's Field, Unnatural Exposure, Night, J Is for Judgment, C Is for Corpse (Kinsey Millhone Mysteries (Paperback)), SHIPPING NEWS]   \n",
              "13810                                                                                                                                                                                                                                                                                            [The Lovely Bones: A Novel, The Partner, Life of Pi, The Testament, 1st to Die: A Novel, The Firm, The Client, The Pelican Brief, A Painted House, The Street Lawyer, The Runaway Jury, The Chamber, Unnatural Exposure, The Rainmaker, The Summons]   \n",
              "\n",
              "                                                                                                                                                                                                                                                                                                                                                                                                                                                      random_predictions  \n",
              "0                                                                                            [The Final Prophecy (Star Wars: The New Jedi Order, Book 18), Neverwhere, Pigs in Heaven, UT, Nr.99, Der FluÃ?Â? dazwischen, Interview with the Vampire, Man Behind The Badge (Count On A Cop) (Superromance, 947), Sandbox Wisdom:  Revolutionize Your Brand with the Genius of Childhood, Framed (Silhouette Intimate Moments, No 772), APOLOGIZING TO DOGS, Tommy's Mom]  \n",
              "1                                                                                               [Star Trek Memories, The Awakening (Vampire Diaries), Il Giro Di Boa, Your Oasis on Flame Lake (Ballantine Reader's Circle), Sea Swept (Quinn Brothers (Paperback)), The Difference Engine, Wir Kinder Von Bahnhof Zoo, Cabin, The Idiot (Oxford World's Classics), The Instinct to Heal: Curing Stress, Anxiety, and Depression Without Drugs and Without Talk Therapy]  \n",
              "2                                                                                                                                                   [Das Lacheln der Fortuna: Historischer Roman, Brave Cowboy, The Hunt for Red October, The Destinies of Darcy Dancer, Gentleman, On the Street Where You Live : A Novel, Dark Heart (Dragonlance: The Meetings Sextet, Vol. 3), Innocent Victims, 1984, Harry Potter and the Sorcerer's Stone (Book 1), Go Ask Alice]  \n",
              "3          [Visions of Sugar Plums: A Stephanie Plum Holiday Novel, Good in Bed, Catflexing: The Catlover's Guide to Weightlifting, Aerobics &amp; Stretching, The Jungle (Bantam Classics), Oona: Living in the Shadows : A Biography of Oona O'Neill Chaplin, Celebrity Murders, In the Meantime : Finding Yourself and the Love You Want, Teranesia, The City &amp; the Stars, Who Moved My Cheese? An Amazing Way to Deal with Change in Your Work and in Your Life]  \n",
              "4      [Yak Butter &amp; Black Tea: A Journey into Tibet, The Cat Who Robbed a Bank (Cat Who... (Paperback)), Earth, Air, Fire, and Water: More Techniques of Natural Magic (Llewellyn's Practical Magick Series), Black Beauty (Wordsworth Collection), The Little Friend, Songs of the Gorilla Nation : My Journey Through Autism, The Challenge, Aquamarine, YOU BELONG TO ME, The House of Seven Mabels : A Jane Jeffry Mystery (Jane Jeffry Mysteries (Paperback))]  \n",
              "...                                                                                                                                                                                                                                                                                                                                                                                                                                                                  ...  \n",
              "13806               [Angela's Ashes (MMP) : A Memoir, The Light Bearer, The Bingo Palace, The Dubliners (Penguin Popular Classics), Chosen Prey, ROAD LESS TRAVELED : A New Psychology of Love, Traditional Values, and Spritual Growth (Touchstone Books (Paperback)), Falling Free (Nebula Award Stories), The Year's Best Fantasy and Horror (11th Annual Collection) (Paper), Beatriz et les corps cÃ?Â©lestes, 40 Watts from Nowhere : A Journey into Pirate Radio]  \n",
              "13807                              [German Step by Step, El Diario De Bridget Jones (Los Jet De Plaza &amp; Janes, 397), LA Clan De L'Ours Des Cavernes, Nine for California, Wild Man's Journey: Reflections on Male Spirituality, The Dewey Decimal System of Love, Well-Schooled in Murder, Big Pictures: Wild Animals, Chicken Soup for the Christian Family Soul : Stories to Open the Heart and Rekindle the Spirit (Chicken Soup for the Soul Series), LADY BOSS]  \n",
              "13808                                               [Lady Sophia's Lover, Love Me Tender, GURPS Discworld, Febre alta (El BalancÃ­), The View from Saturday (Jean Karl Books (Paperback)), RAISE YR KIDS RGHT, Lone Wolf &amp; Cub, Volume 11: Talisman of Hades, Shelter for the Spirit: Create Your Own Haven in a Hectic World, Tuesdays with Morrie: An Old Man, a Young Man, and Life's Greatest Lesson, Lion'S Lady (The Sutherland Series) (Historical , No 411)]  \n",
              "13809                                                                                                                                                                                                                            [The Lottery Winner : Alvirah And Willy Stories, In the Blood, Elementary Statistics, Die Insel des vorigen Tages., An Exchange of Gifts, Love That Dog, The General, Dreamcatcher, The Cultural Politics of Fur, Cooking With Friends]  \n",
              "13810                                            [Final Arrangements, The Professor and the Madman, Noble House: A Novel of Contemporary Hong Kong, Writ of Execution, Exit to Eden, Duets 2 Romantic Comedies : Mr. Predictable / Too Many Cooks (Duets, 62), The Cherry Blossom Corpse, DK Eyewitness Travel Guides: Brussels: Bruges, Ghent and Antwerp (Eyewitness Travel Guides), The Alchemist: A Fable About Following Your Dream, The Rough Guide to California]  \n",
              "\n",
              "[13811 rows x 4 columns]"
            ],
            "text/html": [
              "\n",
              "  <div id=\"df-26f23c81-59ec-448c-a0dd-f4d9e7b032ea\">\n",
              "    <div class=\"colab-df-container\">\n",
              "      <div>\n",
              "<style scoped>\n",
              "    .dataframe tbody tr th:only-of-type {\n",
              "        vertical-align: middle;\n",
              "    }\n",
              "\n",
              "    .dataframe tbody tr th {\n",
              "        vertical-align: top;\n",
              "    }\n",
              "\n",
              "    .dataframe thead th {\n",
              "        text-align: right;\n",
              "    }\n",
              "</style>\n",
              "<table border=\"1\" class=\"dataframe\">\n",
              "  <thead>\n",
              "    <tr style=\"text-align: right;\">\n",
              "      <th></th>\n",
              "      <th>User_id</th>\n",
              "      <th>Actual_top_rated_book</th>\n",
              "      <th>svd_recomanded_book</th>\n",
              "      <th>random_predictions</th>\n",
              "    </tr>\n",
              "  </thead>\n",
              "  <tbody>\n",
              "    <tr>\n",
              "      <th>0</th>\n",
              "      <td>99</td>\n",
              "      <td>[Rich Dad, Poor Dad: What the Rich Teach Their Kids About Money--That the Poor and Middle Class Do Not!, The Pillars of the Earth, Code to Zero, A Prayer for Owen Meany, 2010: Odyssey Two, 2nd Chance, 3rd Degree, 4 Blondes, 84 Charing Cross Road, A 2nd Helping of Chicken Soup for the Soul (Chicken Soup for the Soul Series (Paper))]</td>\n",
              "      <td>[The Da Vinci Code, The Lovely Bones: A Novel, The Fellowship of the Ring (The Lord of the Rings, Part 1), The Firm, To Kill a Mockingbird, The Hobbit : The Enchanting Prelude to The Lord of the Rings, The Client, The Chamber, The Return of the King (The Lord of the Rings, Part 3), Angels &amp;amp; Demons, The Two Towers (The Lord of the Rings, Part 2), The Secret Life of Bees, A Time to Kill, The Pelican Brief, The Rainmaker]</td>\n",
              "      <td>[The Final Prophecy (Star Wars: The New Jedi Order, Book 18), Neverwhere, Pigs in Heaven, UT, Nr.99, Der FluÃ?Â? dazwischen, Interview with the Vampire, Man Behind The Badge (Count On A Cop) (Superromance, 947), Sandbox Wisdom:  Revolutionize Your Brand with the Genius of Childhood, Framed (Silhouette Intimate Moments, No 772), APOLOGIZING TO DOGS, Tommy's Mom]</td>\n",
              "    </tr>\n",
              "    <tr>\n",
              "      <th>1</th>\n",
              "      <td>114</td>\n",
              "      <td>[Angels &amp;amp; Demons, Dead Aim, The Beach House, House of Sand and Fog, A Child Called \\It\\\": One Child's Courage to Survive\", 3rd Degree, 4 Blondes, 84 Charing Cross Road, A 2nd Helping of Chicken Soup for the Soul (Chicken Soup for the Soul Series (Paper)), A Beautiful Mind: The Life of Mathematical Genius and Nobel Laureate John Nash]</td>\n",
              "      <td>[The Da Vinci Code, Angels &amp;amp; Demons, The Red Tent (Bestselling Backlist), The Nanny Diaries: A Novel, The Summons, A Painted House, The Fellowship of the Ring (The Lord of the Rings, Part 1), Timeline, The Hobbit : The Enchanting Prelude to The Lord of the Rings, Digital Fortress : A Thriller, The Two Towers (The Lord of the Rings, Part 2), The Return of the King (The Lord of the Rings, Part 3), The Five People You Meet in Heaven, 1st to Die: A Novel, 2nd Chance]</td>\n",
              "      <td>[Star Trek Memories, The Awakening (Vampire Diaries), Il Giro Di Boa, Your Oasis on Flame Lake (Ballantine Reader's Circle), Sea Swept (Quinn Brothers (Paperback)), The Difference Engine, Wir Kinder Von Bahnhof Zoo, Cabin, The Idiot (Oxford World's Classics), The Instinct to Heal: Curing Stress, Anxiety, and Depression Without Drugs and Without Talk Therapy]</td>\n",
              "    </tr>\n",
              "    <tr>\n",
              "      <th>2</th>\n",
              "      <td>165</td>\n",
              "      <td>[Little Altars Everywhere: A Novel, The Beach House, Code to Zero, A Prayer for Owen Meany, 2010: Odyssey Two, 2nd Chance, 3rd Degree, 4 Blondes, 84 Charing Cross Road, A 2nd Helping of Chicken Soup for the Soul (Chicken Soup for the Soul Series (Paper))]</td>\n",
              "      <td>[The Red Tent (Bestselling Backlist), The Nanny Diaries: A Novel, Divine Secrets of the Ya-Ya Sisterhood: A Novel, Where the Heart Is (Oprah's Book Club (Paperback)), The Pilot's Wife : A Novel, The Notebook, A Painted House, The Poisonwood Bible: A Novel, The Five People You Meet in Heaven, Good in Bed, Little Altars Everywhere: A Novel, Angels &amp;amp; Demons, Bridget Jones's Diary, The Summons, Tuesdays with Morrie: An Old Man, a Young Man, and Life's Greatest Lesson]</td>\n",
              "      <td>[Das Lacheln der Fortuna: Historischer Roman, Brave Cowboy, The Hunt for Red October, The Destinies of Darcy Dancer, Gentleman, On the Street Where You Live : A Novel, Dark Heart (Dragonlance: The Meetings Sextet, Vol. 3), Innocent Victims, 1984, Harry Potter and the Sorcerer's Stone (Book 1), Go Ask Alice]</td>\n",
              "    </tr>\n",
              "    <tr>\n",
              "      <th>3</th>\n",
              "      <td>242</td>\n",
              "      <td>[The Martian Chronicles, A Child Called \\It\\\": One Child's Courage to Survive\", 3rd Degree, 4 Blondes, 84 Charing Cross Road, A 2nd Helping of Chicken Soup for the Soul (Chicken Soup for the Soul Series (Paper)), A Beautiful Mind: The Life of Mathematical Genius and Nobel Laureate John Nash, A Prayer for Owen Meany, A Bend in the Road, A Civil Action]</td>\n",
              "      <td>[The Fellowship of the Ring (The Lord of the Rings, Part 1), Life of Pi, To Kill a Mockingbird, The Hobbit : The Enchanting Prelude to The Lord of the Rings, The Return of the King (The Lord of the Rings, Part 3), The Two Towers (The Lord of the Rings, Part 2), The Catcher in the Rye, Jurassic Park, Fahrenheit 451, Silence of the Lambs, 1984, The Firm, Lord of the Flies, Ender's Game (Ender Wiggins Saga (Paperback)), Stupid White Men ...and Other Sorry Excuses for the State of the Nation!]</td>\n",
              "      <td>[Visions of Sugar Plums: A Stephanie Plum Holiday Novel, Good in Bed, Catflexing: The Catlover's Guide to Weightlifting, Aerobics &amp;amp; Stretching, The Jungle (Bantam Classics), Oona: Living in the Shadows : A Biography of Oona O'Neill Chaplin, Celebrity Murders, In the Meantime : Finding Yourself and the Love You Want, Teranesia, The City &amp;amp; the Stars, Who Moved My Cheese? An Amazing Way to Deal with Change in Your Work and in Your Life]</td>\n",
              "    </tr>\n",
              "    <tr>\n",
              "      <th>4</th>\n",
              "      <td>243</td>\n",
              "      <td>[Memoirs of a Geisha, The Bean Trees, The General's Daughter, Me Talk Pretty One Day, Unnatural Exposure, The Pilot's Wife : A Novel, A Map of the World, The God of Small Things, River, Cross My Heart, A Painted House]</td>\n",
              "      <td>[Where the Heart Is (Oprah's Book Club (Paperback)), The Red Tent (Bestselling Backlist), The Secret Life of Bees, A Painted House, Divine Secrets of the Ya-Ya Sisterhood: A Novel, The Pilot's Wife : A Novel, The Poisonwood Bible: A Novel, Snow Falling on Cedars, The Firm, Summer Sisters, House of Sand and Fog, Little Altars Everywhere: A Novel, The Bean Trees, The Reader, Girl with a Pearl Earring]</td>\n",
              "      <td>[Yak Butter &amp;amp; Black Tea: A Journey into Tibet, The Cat Who Robbed a Bank (Cat Who... (Paperback)), Earth, Air, Fire, and Water: More Techniques of Natural Magic (Llewellyn's Practical Magick Series), Black Beauty (Wordsworth Collection), The Little Friend, Songs of the Gorilla Nation : My Journey Through Autism, The Challenge, Aquamarine, YOU BELONG TO ME, The House of Seven Mabels : A Jane Jeffry Mystery (Jane Jeffry Mysteries (Paperback))]</td>\n",
              "    </tr>\n",
              "    <tr>\n",
              "      <th>...</th>\n",
              "      <td>...</td>\n",
              "      <td>...</td>\n",
              "      <td>...</td>\n",
              "      <td>...</td>\n",
              "    </tr>\n",
              "    <tr>\n",
              "      <th>13806</th>\n",
              "      <td>278773</td>\n",
              "      <td>[Mystic River, A New Song (Mitford Years (Paperback)), Sticks &amp;amp; Scones, A Child Called \\It\\\": One Child's Courage to Survive\", 3rd Degree, 4 Blondes, 84 Charing Cross Road, A 2nd Helping of Chicken Soup for the Soul (Chicken Soup for the Soul Series (Paper)), A Beautiful Mind: The Life of Mathematical Genius and Nobel Laureate John Nash, A Second Chicken Soup for the Woman's Soul (Chicken Soup for the Soul Series)]</td>\n",
              "      <td>[The Da Vinci Code, Angels &amp;amp; Demons, The Red Tent (Bestselling Backlist), 1st to Die: A Novel, A Painted House, 2nd Chance, The Summons, The Secret Life of Bees, Timeline, The Five People You Meet in Heaven, Digital Fortress : A Thriller, Four Blind Mice, The King of Torts, Violets Are Blue, Where the Heart Is (Oprah's Book Club (Paperback))]</td>\n",
              "      <td>[Angela's Ashes (MMP) : A Memoir, The Light Bearer, The Bingo Palace, The Dubliners (Penguin Popular Classics), Chosen Prey, ROAD LESS TRAVELED : A New Psychology of Love, Traditional Values, and Spritual Growth (Touchstone Books (Paperback)), Falling Free (Nebula Award Stories), The Year's Best Fantasy and Horror (11th Annual Collection) (Paper), Beatriz et les corps cÃ?Â©lestes, 40 Watts from Nowhere : A Journey into Pirate Radio]</td>\n",
              "    </tr>\n",
              "    <tr>\n",
              "      <th>13807</th>\n",
              "      <td>278832</td>\n",
              "      <td>[Chicken Soup for the Soul (Chicken Soup for the Soul), Chicken Soup for the Pet Lover's Soul (Chicken Soup for the Soul), 1st to Die: A Novel, A Prayer for Owen Meany, 2010: Odyssey Two, 2nd Chance, 3rd Degree, 4 Blondes, 84 Charing Cross Road, A 2nd Helping of Chicken Soup for the Soul (Chicken Soup for the Soul Series (Paper))]</td>\n",
              "      <td>[Where the Heart Is (Oprah's Book Club (Paperback)), The Notebook, A Walk to Remember, The Rescue, Insomnia, The Pilot's Wife : A Novel, Summer Sisters, Left Behind: A Novel of the Earth's Last Days (Left Behind No. 1), White Oleander : A Novel, Message in a Bottle, Tribulation Force: The Continuing Drama of Those Left Behind (Left Behind No. 2), A Bend in the Road, Harry Potter and the Chamber of Secrets (Book 2), Suzanne's Diary for Nicholas, Divine Secrets of the Ya-Ya Sisterhood: A Novel]</td>\n",
              "      <td>[German Step by Step, El Diario De Bridget Jones (Los Jet De Plaza &amp;amp; Janes, 397), LA Clan De L'Ours Des Cavernes, Nine for California, Wild Man's Journey: Reflections on Male Spirituality, The Dewey Decimal System of Love, Well-Schooled in Murder, Big Pictures: Wild Animals, Chicken Soup for the Christian Family Soul : Stories to Open the Heart and Rekindle the Spirit (Chicken Soup for the Soul Series), LADY BOSS]</td>\n",
              "    </tr>\n",
              "    <tr>\n",
              "      <th>13808</th>\n",
              "      <td>278843</td>\n",
              "      <td>[The Bonesetter's Daughter, Icy Sparks, Divine Secrets of the Ya-Ya Sisterhood : A Novel, Flowers for Algernon (Bantam Classic), Bridget Jones's Diary, Harry Potter and the Sorcerer's Stone (Harry Potter (Paperback)), Lasher, Don't Sweat the Small Stuff and It's All Small Stuff : Simple Ways to Keep the Little Things from Taking Over Your Life (Don't Sweat the Small Stuff Series), Little Altars Everywhere, Circle of Friends]</td>\n",
              "      <td>[Harry Potter and the Sorcerer's Stone (Harry Potter (Paperback)), The Nanny Diaries: A Novel, Harry Potter and the Chamber of Secrets (Book 2), Bridget Jones's Diary, Divine Secrets of the Ya-Ya Sisterhood: A Novel, Good in Bed, The Firm, The Joy Luck Club, She's Come Undone (Oprah's Book Club (Paperback)), Fahrenheit 451, A Time to Kill, The Client, Harry Potter and the Prisoner of Azkaban (Book 3), Confessions of a Shopaholic (Summer Display Opportunity), To Kill a Mockingbird]</td>\n",
              "      <td>[Lady Sophia's Lover, Love Me Tender, GURPS Discworld, Febre alta (El BalancÃ­), The View from Saturday (Jean Karl Books (Paperback)), RAISE YR KIDS RGHT, Lone Wolf &amp;amp; Cub, Volume 11: Talisman of Hades, Shelter for the Spirit: Create Your Own Haven in a Hectic World, Tuesdays with Morrie: An Old Man, a Young Man, and Life's Greatest Lesson, Lion'S Lady (The Sutherland Series) (Historical , No 411)]</td>\n",
              "    </tr>\n",
              "    <tr>\n",
              "      <th>13809</th>\n",
              "      <td>278851</td>\n",
              "      <td>[Life's Little Instruction Book (Life's Little Instruction Books (Paperback)), A Child Called \\It\\\": One Child's Courage to Survive\", 3rd Degree, 4 Blondes, 84 Charing Cross Road, A 2nd Helping of Chicken Soup for the Soul (Chicken Soup for the Soul Series (Paper)), A Beautiful Mind: The Life of Mathematical Genius and Nobel Laureate John Nash, A Prayer for Owen Meany, A Bend in the Road, A Civil Action]</td>\n",
              "      <td>[Harry Potter and the Sorcerer's Stone (Harry Potter (Paperback)), Snow Falling on Cedars, The God of Small Things, Fast Food Nation: The Dark Side of the All-American Meal, B Is for Burglar (Kinsey Millhone Mysteries (Paperback)), Cruel &amp;amp; Unusual (Kay Scarpetta Mysteries (Paperback)), A Prayer for Owen Meany, The Hot Zone, G Is for Gumshoe (Kinsey Millhone Mysteries (Paperback)), From Potter's Field, Unnatural Exposure, Night, J Is for Judgment, C Is for Corpse (Kinsey Millhone Mysteries (Paperback)), SHIPPING NEWS]</td>\n",
              "      <td>[The Lottery Winner : Alvirah And Willy Stories, In the Blood, Elementary Statistics, Die Insel des vorigen Tages., An Exchange of Gifts, Love That Dog, The General, Dreamcatcher, The Cultural Politics of Fur, Cooking With Friends]</td>\n",
              "    </tr>\n",
              "    <tr>\n",
              "      <th>13810</th>\n",
              "      <td>278854</td>\n",
              "      <td>[Ashes to Ashes, Hornet's Nest, A Virtuous Woman (Oprah's Book Club (Paperback)), How Stella Got Her Groove Back, A Child Called \\It\\\": One Child's Courage to Survive\", 3rd Degree, 4 Blondes, 84 Charing Cross Road, A 2nd Helping of Chicken Soup for the Soul (Chicken Soup for the Soul Series (Paper)), A Beautiful Mind: The Life of Mathematical Genius and Nobel Laureate John Nash]</td>\n",
              "      <td>[The Lovely Bones: A Novel, The Partner, Life of Pi, The Testament, 1st to Die: A Novel, The Firm, The Client, The Pelican Brief, A Painted House, The Street Lawyer, The Runaway Jury, The Chamber, Unnatural Exposure, The Rainmaker, The Summons]</td>\n",
              "      <td>[Final Arrangements, The Professor and the Madman, Noble House: A Novel of Contemporary Hong Kong, Writ of Execution, Exit to Eden, Duets 2 Romantic Comedies : Mr. Predictable / Too Many Cooks (Duets, 62), The Cherry Blossom Corpse, DK Eyewitness Travel Guides: Brussels: Bruges, Ghent and Antwerp (Eyewitness Travel Guides), The Alchemist: A Fable About Following Your Dream, The Rough Guide to California]</td>\n",
              "    </tr>\n",
              "  </tbody>\n",
              "</table>\n",
              "<p>13811 rows × 4 columns</p>\n",
              "</div>\n",
              "      <button class=\"colab-df-convert\" onclick=\"convertToInteractive('df-26f23c81-59ec-448c-a0dd-f4d9e7b032ea')\"\n",
              "              title=\"Convert this dataframe to an interactive table.\"\n",
              "              style=\"display:none;\">\n",
              "        \n",
              "  <svg xmlns=\"http://www.w3.org/2000/svg\" height=\"24px\"viewBox=\"0 0 24 24\"\n",
              "       width=\"24px\">\n",
              "    <path d=\"M0 0h24v24H0V0z\" fill=\"none\"/>\n",
              "    <path d=\"M18.56 5.44l.94 2.06.94-2.06 2.06-.94-2.06-.94-.94-2.06-.94 2.06-2.06.94zm-11 1L8.5 8.5l.94-2.06 2.06-.94-2.06-.94L8.5 2.5l-.94 2.06-2.06.94zm10 10l.94 2.06.94-2.06 2.06-.94-2.06-.94-.94-2.06-.94 2.06-2.06.94z\"/><path d=\"M17.41 7.96l-1.37-1.37c-.4-.4-.92-.59-1.43-.59-.52 0-1.04.2-1.43.59L10.3 9.45l-7.72 7.72c-.78.78-.78 2.05 0 2.83L4 21.41c.39.39.9.59 1.41.59.51 0 1.02-.2 1.41-.59l7.78-7.78 2.81-2.81c.8-.78.8-2.07 0-2.86zM5.41 20L4 18.59l7.72-7.72 1.47 1.35L5.41 20z\"/>\n",
              "  </svg>\n",
              "      </button>\n",
              "      \n",
              "  <style>\n",
              "    .colab-df-container {\n",
              "      display:flex;\n",
              "      flex-wrap:wrap;\n",
              "      gap: 12px;\n",
              "    }\n",
              "\n",
              "    .colab-df-convert {\n",
              "      background-color: #E8F0FE;\n",
              "      border: none;\n",
              "      border-radius: 50%;\n",
              "      cursor: pointer;\n",
              "      display: none;\n",
              "      fill: #1967D2;\n",
              "      height: 32px;\n",
              "      padding: 0 0 0 0;\n",
              "      width: 32px;\n",
              "    }\n",
              "\n",
              "    .colab-df-convert:hover {\n",
              "      background-color: #E2EBFA;\n",
              "      box-shadow: 0px 1px 2px rgba(60, 64, 67, 0.3), 0px 1px 3px 1px rgba(60, 64, 67, 0.15);\n",
              "      fill: #174EA6;\n",
              "    }\n",
              "\n",
              "    [theme=dark] .colab-df-convert {\n",
              "      background-color: #3B4455;\n",
              "      fill: #D2E3FC;\n",
              "    }\n",
              "\n",
              "    [theme=dark] .colab-df-convert:hover {\n",
              "      background-color: #434B5C;\n",
              "      box-shadow: 0px 1px 3px 1px rgba(0, 0, 0, 0.15);\n",
              "      filter: drop-shadow(0px 1px 2px rgba(0, 0, 0, 0.3));\n",
              "      fill: #FFFFFF;\n",
              "    }\n",
              "  </style>\n",
              "\n",
              "      <script>\n",
              "        const buttonEl =\n",
              "          document.querySelector('#df-26f23c81-59ec-448c-a0dd-f4d9e7b032ea button.colab-df-convert');\n",
              "        buttonEl.style.display =\n",
              "          google.colab.kernel.accessAllowed ? 'block' : 'none';\n",
              "\n",
              "        async function convertToInteractive(key) {\n",
              "          const element = document.querySelector('#df-26f23c81-59ec-448c-a0dd-f4d9e7b032ea');\n",
              "          const dataTable =\n",
              "            await google.colab.kernel.invokeFunction('convertToInteractive',\n",
              "                                                     [key], {});\n",
              "          if (!dataTable) return;\n",
              "\n",
              "          const docLinkHtml = 'Like what you see? Visit the ' +\n",
              "            '<a target=\"_blank\" href=https://colab.research.google.com/notebooks/data_table.ipynb>data table notebook</a>'\n",
              "            + ' to learn more about interactive tables.';\n",
              "          element.innerHTML = '';\n",
              "          dataTable['output_type'] = 'display_data';\n",
              "          await google.colab.output.renderOutput(dataTable, element);\n",
              "          const docLink = document.createElement('div');\n",
              "          docLink.innerHTML = docLinkHtml;\n",
              "          element.appendChild(docLink);\n",
              "        }\n",
              "      </script>\n",
              "    </div>\n",
              "  </div>\n",
              "  "
            ]
          },
          "metadata": {},
          "execution_count": 103
        }
      ]
    },
    {
      "cell_type": "markdown",
      "source": [
        "# **Model Evaluation using recall@k method**"
      ],
      "metadata": {
        "id": "YpQjlDZa-kyE"
      }
    },
    {
      "cell_type": "code",
      "source": [
        "#creating list of actual rated book, recommanded book by svd recommendar and recommanded book by random recommendar\n",
        "actual = result_from_svd.Actual_top_rated_book.values.tolist()\n",
        "cf_predictions = result_from_svd.svd_recomanded_book.values.tolist()\n",
        "random_predictions = result_from_svd.random_predictions.values.tolist()\n"
      ],
      "metadata": {
        "id": "Kc6v4_UP-8eg"
      },
      "execution_count": 89,
      "outputs": []
    },
    {
      "cell_type": "code",
      "source": [
        "#finding recall for svd recommendar\n",
        "pop_mark = []\n",
        "for K in np.arange(1, 11):\n",
        "    pop_mark.extend([recmetrics.mark(actual, cf_predictions, k=K)])\n",
        "pop_mark"
      ],
      "metadata": {
        "colab": {
          "base_uri": "https://localhost:8080/"
        },
        "id": "DhmHTx6C_A4B",
        "outputId": "1d7adfb3-3604-433c-d041-3945d5da94e6"
      },
      "execution_count": 90,
      "outputs": [
        {
          "output_type": "execute_result",
          "data": {
            "text/plain": [
              "[0.022663094634711462,\n",
              " 0.03068930562595033,\n",
              " 0.035615330774986124,\n",
              " 0.03940035720319552,\n",
              " 0.041914295368426134,\n",
              " 0.04378478507469891,\n",
              " 0.04545736490237251,\n",
              " 0.04684575097144788,\n",
              " 0.047991375634558596,\n",
              " 0.049127426608420025]"
            ]
          },
          "metadata": {},
          "execution_count": 90
        }
      ]
    },
    {
      "cell_type": "code",
      "source": [
        "#finding recall for Random recommendar\n",
        "random_mark = []\n",
        "for K in np.arange(1, 11):\n",
        "    random_mark.extend([recmetrics.mark(actual, random_predictions, k=K)])\n",
        "random_mark"
      ],
      "metadata": {
        "colab": {
          "base_uri": "https://localhost:8080/"
        },
        "id": "WEoZ2aqv_F3M",
        "outputId": "ed714016-7256-4e4d-dfe6-b4ba1af00b2a"
      },
      "execution_count": 91,
      "outputs": [
        {
          "output_type": "execute_result",
          "data": {
            "text/plain": [
              "[0.00026790239664035916,\n",
              " 0.0003982332923032365,\n",
              " 0.0004682258103444115,\n",
              " 0.0005116694422320372,\n",
              " 0.0005638018004971882,\n",
              " 0.0006132792701469842,\n",
              " 0.000659826018598012,\n",
              " 0.0006924087425137314,\n",
              " 0.0007253937222802621,\n",
              " 0.0007500117803499167]"
            ]
          },
          "metadata": {},
          "execution_count": 91
        }
      ]
    }
  ]
}